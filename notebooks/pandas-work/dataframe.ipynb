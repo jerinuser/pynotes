{
 "cells": [
  {
   "cell_type": "code",
   "execution_count": 1,
   "id": "2dbfe2e4-a849-47f6-874a-90726e465fc3",
   "metadata": {},
   "outputs": [
    {
     "data": {
      "text/plain": [
       "'conda env: py311; pyv: 3.11.9 (main, Apr 19 2024, 16:48:06) [GCC 11.2.0]'"
      ]
     },
     "execution_count": 1,
     "metadata": {},
     "output_type": "execute_result"
    }
   ],
   "source": [
    "import pyutil as pyu\n",
    "pyu.get_local_pyinfo()"
   ]
  },
  {
   "cell_type": "code",
   "execution_count": 2,
   "id": "e5153a23-adbb-4062-8f69-2f77a6b6b81f",
   "metadata": {},
   "outputs": [
    {
     "name": "stdout",
     "output_type": "stream",
     "text": [
      "pandas==2.2.3\n",
      "\n"
     ]
    }
   ],
   "source": [
    "print(pyu.ps2(\"pandas\"))"
   ]
  },
  {
   "cell_type": "code",
   "execution_count": 9,
   "id": "ff1bd7a7-14a3-4350-8636-b2df3cfb70e6",
   "metadata": {},
   "outputs": [],
   "source": [
    "import pandas as pd"
   ]
  },
  {
   "cell_type": "code",
   "execution_count": 10,
   "id": "3acd4c3e-8e5f-4298-83f8-b48bdb5b6632",
   "metadata": {},
   "outputs": [],
   "source": [
    "continents_and_medals = {};\n",
    "continent = 'asia';"
   ]
  },
  {
   "cell_type": "code",
   "execution_count": 11,
   "id": "c06210bd-230d-4454-b623-d7e871be76e8",
   "metadata": {},
   "outputs": [],
   "source": [
    "sports = {};\n",
    "sports['athletics'] = 1;\n",
    "\n",
    "continents_and_medals['asia'] = {};\n",
    "continents_and_medals['asia']['fencing'] = 1;\n"
   ]
  },
  {
   "cell_type": "code",
   "execution_count": 12,
   "id": "ba3f51a3-7787-4d95-9dba-e5540b375320",
   "metadata": {},
   "outputs": [
    {
     "name": "stdout",
     "output_type": "stream",
     "text": [
      "1\n"
     ]
    }
   ],
   "source": [
    "print(continents_and_medals[continent]['fencing']);\n"
   ]
  },
  {
   "cell_type": "code",
   "execution_count": null,
   "id": "61e7c14c-14ed-4bf0-90f1-006fa4ad6d13",
   "metadata": {},
   "outputs": [],
   "source": []
  }
 ],
 "metadata": {
  "kernelspec": {
   "display_name": "Python 3 (ipykernel)",
   "language": "python",
   "name": "python3"
  },
  "language_info": {
   "codemirror_mode": {
    "name": "ipython",
    "version": 3
   },
   "file_extension": ".py",
   "mimetype": "text/x-python",
   "name": "python",
   "nbconvert_exporter": "python",
   "pygments_lexer": "ipython3",
   "version": "3.11.9"
  }
 },
 "nbformat": 4,
 "nbformat_minor": 5
}
