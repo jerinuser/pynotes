{
 "cells": [
  {
   "cell_type": "code",
   "execution_count": 4,
   "id": "2dbfe2e4-a849-47f6-874a-90726e465fc3",
   "metadata": {},
   "outputs": [
    {
     "data": {
      "text/plain": [
       "'conda env: py311; pyv: 3.11.9 (main, Apr 19 2024, 16:48:06) [GCC 11.2.0]'"
      ]
     },
     "execution_count": 4,
     "metadata": {},
     "output_type": "execute_result"
    }
   ],
   "source": [
    "import pyutil as pyu\n",
    "pyu.get_local_pyinfo()"
   ]
  },
  {
   "cell_type": "code",
   "execution_count": 5,
   "id": "e5153a23-adbb-4062-8f69-2f77a6b6b81f",
   "metadata": {},
   "outputs": [
    {
     "name": "stdout",
     "output_type": "stream",
     "text": [
      "pandas==2.2.3\n",
      "\n"
     ]
    }
   ],
   "source": [
    "print(pyu.ps2(\"pandas\"))"
   ]
  },
  {
   "cell_type": "code",
   "execution_count": 6,
   "id": "ff1bd7a7-14a3-4350-8636-b2df3cfb70e6",
   "metadata": {},
   "outputs": [],
   "source": [
    "from enum import Enum\n",
    "from faker import Faker\n",
    "import random\n",
    "import pandas as pd"
   ]
  },
  {
   "cell_type": "code",
   "execution_count": 7,
   "id": "461f721b-f6a7-4a6e-b40b-cd80a7c256d5",
   "metadata": {},
   "outputs": [],
   "source": [
    "fake = Faker()"
   ]
  },
  {
   "cell_type": "code",
   "execution_count": 8,
   "id": "ae7ffea6-7334-4172-8a44-c7d039abf57b",
   "metadata": {},
   "outputs": [],
   "source": [
    "class JobRole(Enum):\n",
    "    ENGINEER = \"Engineer\"\n",
    "    MANAGER = \"Manager\"\n",
    "    ANALYST = \"Analyst\"\n",
    "    CONSULTANT = \"Consultant\"\n",
    "    DEVELOPER = \"Developer\""
   ]
  },
  {
   "cell_type": "code",
   "execution_count": 9,
   "id": "ae449189-dcd0-4b8d-9aa4-f65d41449408",
   "metadata": {},
   "outputs": [],
   "source": [
    "def generate_data(num_records):\n",
    "    data = []\n",
    "    for _ in range(num_records):\n",
    "        record = {\n",
    "            \"name\": fake.name(),\n",
    "            \"email\": fake.email(),\n",
    "            \"address\": fake.address(),\n",
    "            \"job_role\": random.choice(list(JobRole)).value,\n",
    "            \"company\": fake.company(),\n",
    "            \"phone_number\": fake.phone_number()\n",
    "        }\n",
    "        data.append(record)\n",
    "    return data"
   ]
  },
  {
   "cell_type": "code",
   "execution_count": 10,
   "id": "8de25c3a-3ebe-4b32-9003-af374b158a2a",
   "metadata": {},
   "outputs": [],
   "source": [
    "def generate_batch():\n",
    "    batch = []\n",
    "    for _ in range(5):\n",
    "        record = {\n",
    "            \"name\": fake.name(),\n",
    "            \"email\": fake.email(),\n",
    "            \"address\": fake.address(),\n",
    "            \"job_role\": random.choice(list(JobRole)).value,\n",
    "            \"company\": fake.company(),\n",
    "            \"phone_number\": fake.phone_number()\n",
    "        }\n",
    "        batch.append(record)\n",
    "    return batch"
   ]
  },
  {
   "cell_type": "code",
   "execution_count": 11,
   "id": "72646f71-2a2f-4258-92bb-18833fab3170",
   "metadata": {},
   "outputs": [],
   "source": [
    "\n",
    "def startpy():\n",
    "\n",
    "    # Initialize an empty CSV file and write headers first\n",
    "    csv_file_path_incremental = 'user1.csv'\n",
    "    df = pd.DataFrame(generate_batch())  # Generate initial 5 rows for headers\n",
    "    df.to_csv(csv_file_path_incremental, index=False, mode='w')  # Write headers with initial data\n",
    "\n",
    "    # Generate remaining 995 rows in increments of 5 and append to CSV\n",
    "    for _ in range(199):  # Remaining 199 batches of 5 rows each = 995 rows\n",
    "        batch_data = generate_batch()\n",
    "        batch_df = pd.DataFrame(batch_data)\n",
    "        batch_df.to_csv(csv_file_path_incremental, index=False, mode='a', header=False) "
   ]
  },
  {
   "cell_type": "code",
   "execution_count": 12,
   "id": "a5cf8718-5a13-42d5-8125-fcb23897ee42",
   "metadata": {},
   "outputs": [],
   "source": [
    "startpy()"
   ]
  },
  {
   "cell_type": "code",
   "execution_count": null,
   "id": "e3512785-1369-49dc-b5bf-28102bafaf5a",
   "metadata": {},
   "outputs": [],
   "source": []
  }
 ],
 "metadata": {
  "kernelspec": {
   "display_name": "Python 3 (ipykernel)",
   "language": "python",
   "name": "python3"
  },
  "language_info": {
   "codemirror_mode": {
    "name": "ipython",
    "version": 3
   },
   "file_extension": ".py",
   "mimetype": "text/x-python",
   "name": "python",
   "nbconvert_exporter": "python",
   "pygments_lexer": "ipython3",
   "version": "3.11.9"
  }
 },
 "nbformat": 4,
 "nbformat_minor": 5
}
