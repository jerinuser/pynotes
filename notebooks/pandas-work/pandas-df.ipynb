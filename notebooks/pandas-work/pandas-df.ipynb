{
 "cells": [
  {
   "cell_type": "code",
   "execution_count": 1,
   "id": "abd145d5-20d0-46f4-948b-8d5d959d0953",
   "metadata": {},
   "outputs": [
    {
     "data": {
      "text/plain": [
       "'conda env: py311; pyv: 3.11.9 (main, Apr 19 2024, 16:48:06) [GCC 11.2.0]'"
      ]
     },
     "execution_count": 1,
     "metadata": {},
     "output_type": "execute_result"
    }
   ],
   "source": [
    "import pyutil as pyu\n",
    "pyu.get_local_pyinfo()"
   ]
  },
  {
   "cell_type": "code",
   "execution_count": 2,
   "id": "9ea2ed51-7af6-4174-b35d-3e1d17f47ba9",
   "metadata": {},
   "outputs": [
    {
     "name": "stdout",
     "output_type": "stream",
     "text": [
      "pandas==2.2.3\n",
      "\n"
     ]
    }
   ],
   "source": [
    "print(pyu.ps2(\"pandas\"))"
   ]
  },
  {
   "cell_type": "code",
   "execution_count": 3,
   "id": "d51e5200-7f1e-4b53-b3a5-0ff477ed5ae8",
   "metadata": {},
   "outputs": [],
   "source": [
    "import pandas as pd\n"
   ]
  },
  {
   "cell_type": "code",
   "execution_count": 4,
   "id": "9aa23d2b-8db0-4fbd-af61-98455d6e183f",
   "metadata": {},
   "outputs": [],
   "source": [
    "data = {'name': ['Jason', 'Molly', 'Tina', 'Jake', 'Amy'], \n",
    "        'year': [2012, 2012, 2013, 2014, 2014], \n",
    "        'reports': [4, 24, 31, 2, 3],\n",
    "        'coverage': [25, 94, 57, 62, 70]}"
   ]
  },
  {
   "cell_type": "code",
   "execution_count": 5,
   "id": "bb3f58ed-7938-4b22-be9b-cc8621006a63",
   "metadata": {},
   "outputs": [],
   "source": [
    "df = pd.DataFrame(data, index = ['Cochice', 'Pima', 'Santa Cruz', 'Maricopa', 'Yuma'])"
   ]
  },
  {
   "cell_type": "code",
   "execution_count": 6,
   "id": "5a97a364-58c0-407d-a799-2915c79c054c",
   "metadata": {},
   "outputs": [],
   "source": [
    "capitalizer = lambda x: x.upper()"
   ]
  },
  {
   "cell_type": "code",
   "execution_count": 7,
   "id": "225373af-b9e5-4ccd-987a-256390e6201e",
   "metadata": {},
   "outputs": [],
   "source": [
    "above_20 = lambda x: 1 if(x > 20) else 0"
   ]
  },
  {
   "cell_type": "code",
   "execution_count": 8,
   "id": "c923ea79-dfe2-401e-a525-b85364b0efdd",
   "metadata": {},
   "outputs": [],
   "source": [
    "df['name'] = df['name'].apply(capitalizer)"
   ]
  },
  {
   "cell_type": "code",
   "execution_count": 9,
   "id": "400e34f1-f003-4a5f-8db5-0a7635f0518f",
   "metadata": {},
   "outputs": [
    {
     "name": "stdout",
     "output_type": "stream",
     "text": [
      "         year    reports   coverage\n",
      "count     5.0   5.000000   5.000000\n",
      "mean   2013.0  12.800000  61.600000\n",
      "std       1.0  13.663821  24.905823\n",
      "min    2012.0   2.000000  25.000000\n",
      "25%    2012.0   3.000000  57.000000\n",
      "50%    2013.0   4.000000  62.000000\n",
      "75%    2014.0  24.000000  70.000000\n",
      "max    2014.0  31.000000  94.000000\n"
     ]
    }
   ],
   "source": [
    "print(df.describe())"
   ]
  },
  {
   "cell_type": "code",
   "execution_count": null,
   "id": "11b71956-ab23-41c3-8858-9383486a6fef",
   "metadata": {},
   "outputs": [],
   "source": []
  }
 ],
 "metadata": {
  "kernelspec": {
   "display_name": "Python 3 (ipykernel)",
   "language": "python",
   "name": "python3"
  },
  "language_info": {
   "codemirror_mode": {
    "name": "ipython",
    "version": 3
   },
   "file_extension": ".py",
   "mimetype": "text/x-python",
   "name": "python",
   "nbconvert_exporter": "python",
   "pygments_lexer": "ipython3",
   "version": "3.11.9"
  }
 },
 "nbformat": 4,
 "nbformat_minor": 5
}
