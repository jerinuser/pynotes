{
 "cells": [
  {
   "cell_type": "code",
   "execution_count": 2,
   "id": "abd145d5-20d0-46f4-948b-8d5d959d0953",
   "metadata": {},
   "outputs": [
    {
     "data": {
      "text/plain": [
       "'conda env: py311; pyv: 3.11.9 (main, Apr 19 2024, 16:48:06) [GCC 11.2.0]'"
      ]
     },
     "execution_count": 2,
     "metadata": {},
     "output_type": "execute_result"
    }
   ],
   "source": [
    "import pyutil as pyu\n",
    "pyu.get_local_pyinfo()"
   ]
  },
  {
   "cell_type": "code",
   "execution_count": 3,
   "id": "9ea2ed51-7af6-4174-b35d-3e1d17f47ba9",
   "metadata": {},
   "outputs": [
    {
     "name": "stdout",
     "output_type": "stream",
     "text": [
      "pandas==2.2.3\n",
      "\n"
     ]
    }
   ],
   "source": [
    "print(pyu.ps2(\"pandas\"))"
   ]
  },
  {
   "cell_type": "code",
   "execution_count": null,
   "id": "d51e5200-7f1e-4b53-b3a5-0ff477ed5ae8",
   "metadata": {},
   "outputs": [],
   "source": []
  },
  {
   "cell_type": "code",
   "execution_count": null,
   "id": "9aa23d2b-8db0-4fbd-af61-98455d6e183f",
   "metadata": {},
   "outputs": [],
   "source": []
  }
 ],
 "metadata": {
  "kernelspec": {
   "display_name": "Python 3 (ipykernel)",
   "language": "python",
   "name": "python3"
  },
  "language_info": {
   "codemirror_mode": {
    "name": "ipython",
    "version": 3
   },
   "file_extension": ".py",
   "mimetype": "text/x-python",
   "name": "python",
   "nbconvert_exporter": "python",
   "pygments_lexer": "ipython3",
   "version": "3.11.9"
  }
 },
 "nbformat": 4,
 "nbformat_minor": 5
}
