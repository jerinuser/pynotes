{
 "cells": [
  {
   "cell_type": "code",
   "execution_count": 1,
   "id": "2339c8ae-bdab-4243-abe2-45360aaa5a70",
   "metadata": {},
   "outputs": [
    {
     "name": "stdout",
     "output_type": "stream",
     "text": [
      "hi jerin\n"
     ]
    }
   ],
   "source": [
    "print (\"hi jerin\")"
   ]
  },
  {
   "cell_type": "code",
   "execution_count": 4,
   "id": "73be9dd8-88ac-4eb8-9d46-5e2c769eebd4",
   "metadata": {},
   "outputs": [],
   "source": [
    "text = 'i am learning'"
   ]
  },
  {
   "cell_type": "code",
   "execution_count": 5,
   "id": "b519b4f8-f651-4dc9-9ade-6785ab6df4a7",
   "metadata": {},
   "outputs": [
    {
     "data": {
      "text/plain": [
       "'i am learning'"
      ]
     },
     "execution_count": 5,
     "metadata": {},
     "output_type": "execute_result"
    }
   ],
   "source": [
    "text"
   ]
  },
  {
   "cell_type": "code",
   "execution_count": 6,
   "id": "c4143e77-0881-4d64-a9a3-db4709c043c6",
   "metadata": {},
   "outputs": [],
   "source": [
    "def name():\n",
    "    return \"hi jeirn\""
   ]
  },
  {
   "cell_type": "code",
   "execution_count": 7,
   "id": "5509a606-77c3-42a2-a631-cc0f0157af9f",
   "metadata": {},
   "outputs": [
    {
     "data": {
      "text/plain": [
       "'hi jeirn'"
      ]
     },
     "execution_count": 7,
     "metadata": {},
     "output_type": "execute_result"
    }
   ],
   "source": [
    "name()"
   ]
  },
  {
   "cell_type": "code",
   "execution_count": null,
   "id": "bfd6d2f4-a9a0-40af-af22-1e710d2a9d8a",
   "metadata": {},
   "outputs": [],
   "source": []
  }
 ],
 "metadata": {
  "kernelspec": {
   "display_name": "Python 3 (ipykernel)",
   "language": "python",
   "name": "python3"
  },
  "language_info": {
   "codemirror_mode": {
    "name": "ipython",
    "version": 3
   },
   "file_extension": ".py",
   "mimetype": "text/x-python",
   "name": "python",
   "nbconvert_exporter": "python",
   "pygments_lexer": "ipython3",
   "version": "3.11.9"
  }
 },
 "nbformat": 4,
 "nbformat_minor": 5
}
