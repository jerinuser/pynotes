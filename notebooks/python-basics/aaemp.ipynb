{
 "cells": [
  {
   "cell_type": "code",
   "execution_count": 1,
   "id": "3842b0ff-7b54-41ea-9158-ac8b6a9fe724",
   "metadata": {},
   "outputs": [],
   "source": [
    "#  created : 20250316"
   ]
  },
  {
   "cell_type": "code",
   "execution_count": 2,
   "id": "5ac1dcb0-7fab-492a-a40e-02b2a30983d2",
   "metadata": {},
   "outputs": [],
   "source": [
    "#  "
   ]
  },
  {
   "cell_type": "code",
   "execution_count": null,
   "id": "57dc1caa-46e6-4156-a37f-9c2d2ef3ee3d",
   "metadata": {},
   "outputs": [],
   "source": []
  }
 ],
 "metadata": {
  "kernelspec": {
   "display_name": "Python 3 (ipykernel)",
   "language": "python",
   "name": "python3"
  },
  "language_info": {
   "codemirror_mode": {
    "name": "ipython",
    "version": 3
   },
   "file_extension": ".py",
   "mimetype": "text/x-python",
   "name": "python",
   "nbconvert_exporter": "python",
   "pygments_lexer": "ipython3",
   "version": "3.11.9"
  }
 },
 "nbformat": 4,
 "nbformat_minor": 5
}
