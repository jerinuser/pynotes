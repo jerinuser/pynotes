{
 "cells": [
  {
   "cell_type": "code",
   "execution_count": 9,
   "id": "2339c8ae-bdab-4243-abe2-45360aaa5a70",
   "metadata": {},
   "outputs": [],
   "source": [
    "\n"
   ]
  },
  {
   "cell_type": "code",
   "execution_count": 1,
   "id": "6c32a85a-9812-49b1-b112-c307d85dc057",
   "metadata": {},
   "outputs": [
    {
     "name": "stdout",
     "output_type": "stream",
     "text": [
      "Element: 2\n",
      "Error: Index out of range.\n",
      "Error: Invalid index type.\n"
     ]
    }
   ],
   "source": [
    "def access_list_element(lst, index):\n",
    "    try:\n",
    "        print(\"Element:\", lst[index])\n",
    "    except IndexError:\n",
    "        print(\"Error: Index out of range.\")\n",
    "    except TypeError:\n",
    "        print(\"Error: Invalid index type.\")\n",
    "\n",
    "# Example usage\n",
    "access_list_element([1, 2, 3], 1)\n",
    "access_list_element([1, 2, 3], 5)\n",
    "access_list_element([1, 2, 3], \"a\")\n"
   ]
  },
  {
   "cell_type": "code",
   "execution_count": null,
   "id": "641c04a6-0e57-4226-a40f-0fc4914c3dc5",
   "metadata": {},
   "outputs": [],
   "source": []
  }
 ],
 "metadata": {
  "kernelspec": {
   "display_name": "Python 3 (ipykernel)",
   "language": "python",
   "name": "python3"
  },
  "language_info": {
   "codemirror_mode": {
    "name": "ipython",
    "version": 3
   },
   "file_extension": ".py",
   "mimetype": "text/x-python",
   "name": "python",
   "nbconvert_exporter": "python",
   "pygments_lexer": "ipython3",
   "version": "3.11.9"
  }
 },
 "nbformat": 4,
 "nbformat_minor": 5
}
