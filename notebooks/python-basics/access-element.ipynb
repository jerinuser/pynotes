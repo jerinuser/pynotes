{
 "cells": [
  {
   "cell_type": "code",
   "execution_count": 9,
   "id": "2339c8ae-bdab-4243-abe2-45360aaa5a70",
   "metadata": {},
   "outputs": [],
   "source": [
    "\n"
   ]
  },
  {
   "cell_type": "code",
   "execution_count": null,
   "id": "a9f76787-f3f3-4bd2-9be7-4e42dcbce1c4",
   "metadata": {},
   "outputs": [],
   "source": []
  },
  {
   "cell_type": "code",
   "execution_count": 4,
   "id": "6c32a85a-9812-49b1-b112-c307d85dc057",
   "metadata": {},
   "outputs": [],
   "source": [
    "def access_list_element(lst, index):\n",
    "    try:\n",
    "        print(\"Element:\", lst[index])\n",
    "    except IndexError:\n",
    "        print(\"Error: Index out of range.\")\n",
    "    except TypeError:\n",
    "        print(\"Error: Invalid index type.\")\n",
    "\n",
    "\n"
   ]
  },
  {
   "cell_type": "code",
   "execution_count": 5,
   "id": "641c04a6-0e57-4226-a40f-0fc4914c3dc5",
   "metadata": {},
   "outputs": [
    {
     "name": "stdout",
     "output_type": "stream",
     "text": [
      "Element: 2\n"
     ]
    }
   ],
   "source": [
    "# Example usage\n",
    "access_list_element([1, 2, 3], 1)\n"
   ]
  },
  {
   "cell_type": "code",
   "execution_count": 6,
   "id": "19bb5c44-49a9-4e78-9228-26e91206b2c5",
   "metadata": {},
   "outputs": [
    {
     "name": "stdout",
     "output_type": "stream",
     "text": [
      "Error: Index out of range.\n"
     ]
    }
   ],
   "source": [
    "access_list_element([1, 2, 3], 5)\n"
   ]
  },
  {
   "cell_type": "code",
   "execution_count": 7,
   "id": "a1579098-bd65-44b9-875b-0df9345da210",
   "metadata": {
    "scrolled": true
   },
   "outputs": [
    {
     "name": "stdout",
     "output_type": "stream",
     "text": [
      "Error: Invalid index type.\n"
     ]
    }
   ],
   "source": [
    "access_list_element([1, 2, 3], \"a\")"
   ]
  },
  {
   "cell_type": "code",
   "execution_count": null,
   "id": "ce3ee922-aeab-4b2f-907a-71309c8918e2",
   "metadata": {},
   "outputs": [],
   "source": []
  }
 ],
 "metadata": {
  "kernelspec": {
   "display_name": "Python 3 (ipykernel)",
   "language": "python",
   "name": "python3"
  },
  "language_info": {
   "codemirror_mode": {
    "name": "ipython",
    "version": 3
   },
   "file_extension": ".py",
   "mimetype": "text/x-python",
   "name": "python",
   "nbconvert_exporter": "python",
   "pygments_lexer": "ipython3",
   "version": "3.11.9"
  }
 },
 "nbformat": 4,
 "nbformat_minor": 5
}
