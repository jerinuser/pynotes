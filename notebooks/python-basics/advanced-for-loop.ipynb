{
 "cells": [
  {
   "cell_type": "code",
   "execution_count": 1,
   "id": "3842b0ff-7b54-41ea-9158-ac8b6a9fe724",
   "metadata": {},
   "outputs": [],
   "source": [
    "#  created : 20250125"
   ]
  },
  {
   "cell_type": "code",
   "execution_count": 2,
   "id": "5ac1dcb0-7fab-492a-a40e-02b2a30983d2",
   "metadata": {},
   "outputs": [],
   "source": [
    "#  https://www.scientecheasy.com/2022/10/for-loop-in-python.html/"
   ]
  },
  {
   "cell_type": "code",
   "execution_count": 1,
   "id": "57dc1caa-46e6-4156-a37f-9c2d2ef3ee3d",
   "metadata": {},
   "outputs": [
    {
     "name": "stdin",
     "output_type": "stream",
     "text": [
      "Enter a number:  5\n"
     ]
    },
    {
     "name": "stdout",
     "output_type": "stream",
     "text": [
      "Sum of even numbers =  6\n",
      "Sum of odd numbers =  4\n"
     ]
    }
   ],
   "source": [
    "num = int(input('Enter a number: '))\n",
    "even = 0\n",
    "odd = 0\n",
    "for x in range(num):\n",
    "    if x % 2 == 0:\n",
    "        even = even + x\n",
    "    else:\n",
    "        odd = odd + x\n",
    "print('Sum of even numbers = ',even)\n",
    "print('Sum of odd numbers = ',odd)\n"
   ]
  },
  {
   "cell_type": "code",
   "execution_count": 2,
   "id": "1f961271-2cfb-4a2a-b20b-c772d2d79e31",
   "metadata": {},
   "outputs": [
    {
     "name": "stdin",
     "output_type": "stream",
     "text": [
      "Enter a number:  5\n"
     ]
    },
    {
     "name": "stdout",
     "output_type": "stream",
     "text": [
      "The factorial of number 5 = 120\n"
     ]
    }
   ],
   "source": [
    "# Python program to find the factorial of a number.\n",
    "num = int(input('Enter a number: '))\n",
    "fact = 1\n",
    "if num < 0:\n",
    "    print('Please enter a positive number because factorial does not exist for negative number.')\n",
    "elif num == 0:\n",
    "    print('The factorial of 0 is 1.')\n",
    "else:\n",
    "    for x in range(1, num + 1):\n",
    "        fact = fact * x\n",
    "print('The factorial of number', num,'=', fact)"
   ]
  },
  {
   "cell_type": "code",
   "execution_count": 3,
   "id": "67bfd765-14b2-4c8f-8322-724c694f7fa7",
   "metadata": {},
   "outputs": [
    {
     "name": "stdout",
     "output_type": "stream",
     "text": [
      "List of original numbers: \n",
      "2 4 6 8 10 12 \n",
      "List of numbers in reverse order: \n",
      "12 10 8 6 4 2 "
     ]
    }
   ],
   "source": [
    "# Python program to print a list of numbers in reverse order.\n",
    "nlist = [2, 4, 6, 8, 10, 12]\n",
    "print('List of original numbers: ')\n",
    "for x in nlist:\n",
    "    print(x, end= ' ')\n",
    "num = len(nlist) # Here, function len() returns the number of items in the container.\n",
    "i = 0\n",
    "j = -1\n",
    "print('\\nList of numbers in reverse order: ')\n",
    "while i <= num - 1:\n",
    "    print(nlist[j], end=' ')\n",
    "    j -= 1\n",
    "    i += 1"
   ]
  },
  {
   "cell_type": "code",
   "execution_count": null,
   "id": "d04aa4e2-173c-4db2-8587-dad8fcbea37c",
   "metadata": {},
   "outputs": [],
   "source": []
  }
 ],
 "metadata": {
  "kernelspec": {
   "display_name": "Python 3 (ipykernel)",
   "language": "python",
   "name": "python3"
  },
  "language_info": {
   "codemirror_mode": {
    "name": "ipython",
    "version": 3
   },
   "file_extension": ".py",
   "mimetype": "text/x-python",
   "name": "python",
   "nbconvert_exporter": "python",
   "pygments_lexer": "ipython3",
   "version": "3.11.9"
  }
 },
 "nbformat": 4,
 "nbformat_minor": 5
}
