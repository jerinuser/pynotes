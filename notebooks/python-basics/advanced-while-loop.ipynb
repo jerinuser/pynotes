{
 "cells": [
  {
   "cell_type": "code",
   "execution_count": 1,
   "id": "3842b0ff-7b54-41ea-9158-ac8b6a9fe724",
   "metadata": {},
   "outputs": [],
   "source": [
    "#  created : 20250125"
   ]
  },
  {
   "cell_type": "code",
   "execution_count": 2,
   "id": "5ac1dcb0-7fab-492a-a40e-02b2a30983d2",
   "metadata": {},
   "outputs": [],
   "source": [
    "#  https://www.scientecheasy.com/2022/10/while-loop-in-python.html/"
   ]
  },
  {
   "cell_type": "code",
   "execution_count": 8,
   "id": "57dc1caa-46e6-4156-a37f-9c2d2ef3ee3d",
   "metadata": {},
   "outputs": [
    {
     "name": "stdin",
     "output_type": "stream",
     "text": [
      "Enter a number:  5\n"
     ]
    },
    {
     "name": "stdout",
     "output_type": "stream",
     "text": [
      "Sum of all digits in number =  5\n"
     ]
    }
   ],
   "source": [
    "num = int(input('Enter a number: '))\n",
    "sum = 0\n",
    "remainder = 0\n",
    "while num != 0:\n",
    "    remainder = num % 10\n",
    "    sum = sum + remainder\n",
    "    num = int(num / 10)\n",
    "print('Sum of all digits in number = ', sum)"
   ]
  },
  {
   "cell_type": "code",
   "execution_count": 9,
   "id": "2e10e8d5-e9a2-4df2-8fb1-2a6bbb5fca61",
   "metadata": {},
   "outputs": [
    {
     "name": "stdin",
     "output_type": "stream",
     "text": [
      "Enter the first positive number:  5\n",
      "Enter the second positive number:  5\n"
     ]
    },
    {
     "name": "stdout",
     "output_type": "stream",
     "text": [
      "GCD of two numbers =  5\n"
     ]
    }
   ],
   "source": [
    "# Program to find the GCD of two +ve numbers.\n",
    "n1 = int(input('Enter the first positive number: '))\n",
    "n2 = int(input('Enter the second positive number: '))\n",
    "if(n1 == 0 and n2 == 0):\n",
    "    print('Invalid input')\n",
    "if(n1 == 0):\n",
    "    print('GCD = ',n2)\n",
    "if(n2 == 0):\n",
    "    print('GCD = ',n1)\n",
    "while(n1 != n2):\n",
    "    if(n1 > n2):\n",
    "        n1 = n1 - n2\n",
    "    if(n2 > n1):\n",
    "        n2 = n2 - n1\n",
    "print('GCD of two numbers = ',n1)"
   ]
  },
  {
   "cell_type": "code",
   "execution_count": 10,
   "id": "1dd9cc68-6740-4414-ba8d-7f4957e068f6",
   "metadata": {},
   "outputs": [
    {
     "name": "stdout",
     "output_type": "stream",
     "text": [
      "Fibonacci series of numbers till 30 are: \n",
      "0 1 1 2 3 5 8 13 21 "
     ]
    }
   ],
   "source": [
    "# Program to find the Fibonacci series of numbers till 30.\n",
    "num1 = 0\n",
    "num2 = 1\n",
    "print('Fibonacci series of numbers till 30 are: ')\n",
    "print(num1, num2, end = ' ')\n",
    "while num2 < 21:\n",
    "    num1, num2 = num2, num1 + num2\n",
    "    print(num2, end = ' ')"
   ]
  },
  {
   "cell_type": "code",
   "execution_count": 11,
   "id": "68098684-aa06-47ed-82c4-ad465aae76ae",
   "metadata": {
    "scrolled": true
   },
   "outputs": [
    {
     "name": "stdin",
     "output_type": "stream",
     "text": [
      "Enter the number of rows:  5\n"
     ]
    },
    {
     "name": "stdout",
     "output_type": "stream",
     "text": [
      "* * * * * \n",
      "* * * * \n",
      "* * * \n",
      "* * \n",
      "* \n",
      "\n"
     ]
    }
   ],
   "source": [
    "# Program to print pattern.\n",
    "nrows = int(input('Enter the number of rows: '))\n",
    "while nrows >= 0:\n",
    "    x = '* ' * nrows\n",
    "    print(x)\n",
    "    nrows = nrows - 1"
   ]
  },
  {
   "cell_type": "code",
   "execution_count": 12,
   "id": "ba0f2d15-7834-4c9d-88f7-5e026de9d2c0",
   "metadata": {},
   "outputs": [
    {
     "name": "stdin",
     "output_type": "stream",
     "text": [
      "Enter the number of rows:  5\n"
     ]
    },
    {
     "name": "stdout",
     "output_type": "stream",
     "text": [
      "* \n",
      "* * \n",
      "* * * \n",
      "* * * * \n",
      "* * * * * \n"
     ]
    }
   ],
   "source": [
    "# Program to print pattern.\n",
    "nrows = int(input('Enter the number of rows: '))\n",
    "n = 1\n",
    "while n <= nrows:\n",
    "    x = '* ' * n\n",
    "    print(x)\n",
    "    n = n + 1"
   ]
  },
  {
   "cell_type": "code",
   "execution_count": 13,
   "id": "4c678ded-bf80-4bb7-9639-4a0e505e26d6",
   "metadata": {},
   "outputs": [
    {
     "name": "stdin",
     "output_type": "stream",
     "text": [
      "Enter a number to find table:  5\n"
     ]
    },
    {
     "name": "stdout",
     "output_type": "stream",
     "text": [
      "5 * 1 = 5\n",
      "5 * 2 = 10\n",
      "5 * 3 = 15\n",
      "5 * 4 = 20\n",
      "5 * 5 = 25\n",
      "5 * 6 = 30\n",
      "5 * 7 = 35\n",
      "5 * 8 = 40\n",
      "5 * 9 = 45\n",
      "5 * 10 = 50\n"
     ]
    }
   ],
   "source": [
    "# Program to print table of an input number.\n",
    "num = int(input('Enter a number to find table: '))\n",
    "count = 1\n",
    "t = 1\n",
    "while count <= 10:\n",
    "    t = num * count\n",
    "    print(num,'*',count,'=',t)\n",
    "    count = count + 1"
   ]
  },
  {
   "cell_type": "code",
   "execution_count": null,
   "id": "48f4ae96-8fcb-4edb-a2f9-7c6a274e209c",
   "metadata": {},
   "outputs": [],
   "source": []
  }
 ],
 "metadata": {
  "kernelspec": {
   "display_name": "Python 3 (ipykernel)",
   "language": "python",
   "name": "python3"
  },
  "language_info": {
   "codemirror_mode": {
    "name": "ipython",
    "version": 3
   },
   "file_extension": ".py",
   "mimetype": "text/x-python",
   "name": "python",
   "nbconvert_exporter": "python",
   "pygments_lexer": "ipython3",
   "version": "3.11.9"
  }
 },
 "nbformat": 4,
 "nbformat_minor": 5
}
