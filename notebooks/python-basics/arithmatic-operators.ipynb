{
 "cells": [
  {
   "cell_type": "code",
   "execution_count": 1,
   "id": "3842b0ff-7b54-41ea-9158-ac8b6a9fe724",
   "metadata": {},
   "outputs": [],
   "source": [
    "#  created : 20250113"
   ]
  },
  {
   "cell_type": "code",
   "execution_count": 2,
   "id": "5ac1dcb0-7fab-492a-a40e-02b2a30983d2",
   "metadata": {},
   "outputs": [],
   "source": [
    "#  https://www.scientecheasy.com/2022/10/operators-in-python.html/"
   ]
  },
  {
   "cell_type": "code",
   "execution_count": 3,
   "id": "57dc1caa-46e6-4156-a37f-9c2d2ef3ee3d",
   "metadata": {},
   "outputs": [],
   "source": [
    "#  python operators "
   ]
  },
  {
   "cell_type": "code",
   "execution_count": 4,
   "id": "f783d4af-def4-4eb3-b464-49fe57efb297",
   "metadata": {},
   "outputs": [],
   "source": [
    "#  arithmetic operators"
   ]
  },
  {
   "cell_type": "code",
   "execution_count": 6,
   "id": "ac49c4ff-5863-46de-bacd-9dc1d5020c8a",
   "metadata": {},
   "outputs": [],
   "source": [
    "x = 20\n",
    "y = 30\n",
    "sum = x + y \n"
   ]
  },
  {
   "cell_type": "code",
   "execution_count": 7,
   "id": "7b9c1635-f3fc-4f11-b1fa-18b5df50f39f",
   "metadata": {},
   "outputs": [
    {
     "name": "stdout",
     "output_type": "stream",
     "text": [
      "Sum:  50\n"
     ]
    }
   ],
   "source": [
    "print(\"Sum: \", sum) "
   ]
  },
  {
   "cell_type": "code",
   "execution_count": 8,
   "id": "e41b2839-db9a-4f31-af43-3e387a39f05b",
   "metadata": {},
   "outputs": [],
   "source": [
    "#  Type Conversion in Addition Calculation"
   ]
  },
  {
   "cell_type": "code",
   "execution_count": 10,
   "id": "e58c50bc-d81f-48e4-880e-a82e9e512672",
   "metadata": {},
   "outputs": [],
   "source": [
    "x = 20 # an integer value.\n",
    "y = 30.60 # a float value.\n",
    "sum = x + y # Adding two numbers with + operator.\n"
   ]
  },
  {
   "cell_type": "code",
   "execution_count": 11,
   "id": "22eac851-7604-46da-b682-7d5052e8c060",
   "metadata": {},
   "outputs": [
    {
     "name": "stdout",
     "output_type": "stream",
     "text": [
      "Sum of two numbers:  50.6\n"
     ]
    }
   ],
   "source": [
    "print(\"Sum of two numbers: \", sum)"
   ]
  },
  {
   "cell_type": "code",
   "execution_count": 12,
   "id": "c009e05c-d1f6-4130-88ad-5a8dd8b231d7",
   "metadata": {},
   "outputs": [],
   "source": [
    "#  String Concatenation using (+) Operator"
   ]
  },
  {
   "cell_type": "code",
   "execution_count": 13,
   "id": "d56f864f-b419-4720-8ee2-f12a4b35ebb7",
   "metadata": {},
   "outputs": [],
   "source": [
    "firstName = \"John\"\n",
    "lastName = \"Michael\"\n",
    "fullName = firstName + lastName \n"
   ]
  },
  {
   "cell_type": "code",
   "execution_count": 14,
   "id": "193ab86e-68f4-47f8-b890-ed6cbf4c2c4a",
   "metadata": {},
   "outputs": [
    {
     "name": "stdout",
     "output_type": "stream",
     "text": [
      "Full name:  JohnMichael\n"
     ]
    }
   ],
   "source": [
    "print(\"Full name: \", fullName)"
   ]
  },
  {
   "cell_type": "code",
   "execution_count": 15,
   "id": "95417276-6c62-430c-8572-7b59292c3779",
   "metadata": {},
   "outputs": [],
   "source": [
    "# List Concatenation using (+) operator\n"
   ]
  },
  {
   "cell_type": "code",
   "execution_count": 16,
   "id": "b4e648a2-0286-4e30-a1fa-656dec2c3e62",
   "metadata": {},
   "outputs": [],
   "source": [
    "x = [1, 2, 3, 4]\n",
    "y = [5, 6, 7, 8]\n",
    "result = x + y"
   ]
  },
  {
   "cell_type": "code",
   "execution_count": 17,
   "id": "92621033-3ccd-4a3a-aa01-3fc28bd2ccc5",
   "metadata": {},
   "outputs": [
    {
     "name": "stdout",
     "output_type": "stream",
     "text": [
      "[1, 2, 3, 4, 5, 6, 7, 8]\n"
     ]
    }
   ],
   "source": [
    "print(result)"
   ]
  },
  {
   "cell_type": "code",
   "execution_count": 18,
   "id": "9895665e-ccef-448c-a76a-cbe15a0c3b28",
   "metadata": {},
   "outputs": [],
   "source": [
    "x = ('Hello', 20)\n",
    "y = (20.50, 'Hi')\n",
    "z = (20, 89)\n",
    "result = x + y + z"
   ]
  },
  {
   "cell_type": "code",
   "execution_count": 19,
   "id": "5c63a3a1-80b2-4131-bb22-29785a25150b",
   "metadata": {},
   "outputs": [
    {
     "name": "stdout",
     "output_type": "stream",
     "text": [
      "('Hello', 20, 20.5, 'Hi', 20, 89)\n"
     ]
    }
   ],
   "source": [
    "print(result)"
   ]
  },
  {
   "cell_type": "code",
   "execution_count": 20,
   "id": "05cc8c79-d4a4-4194-b18e-7d12d971ad29",
   "metadata": {},
   "outputs": [],
   "source": [
    "#  Subtraction Operator (-)"
   ]
  },
  {
   "cell_type": "code",
   "execution_count": 21,
   "id": "bdb83014-de95-4f6b-aa16-74fcf2fb0469",
   "metadata": {},
   "outputs": [],
   "source": [
    "x = 20\n",
    "y = 30.60\n",
    "sub = x - y"
   ]
  },
  {
   "cell_type": "code",
   "execution_count": 22,
   "id": "9abdedc9-fd90-4a5b-b478-212a8fa14f61",
   "metadata": {},
   "outputs": [
    {
     "name": "stdout",
     "output_type": "stream",
     "text": [
      "Subtraction:  -10.600000000000001\n"
     ]
    }
   ],
   "source": [
    "print(\"Subtraction: \", +sub)"
   ]
  },
  {
   "cell_type": "code",
   "execution_count": 23,
   "id": "54b149ce-914a-46fb-b64c-d17305256207",
   "metadata": {},
   "outputs": [],
   "source": [
    "# Multiplication Operator (*)"
   ]
  },
  {
   "cell_type": "code",
   "execution_count": 26,
   "id": "3952d9e0-db9d-4af2-a2b6-3827c07618db",
   "metadata": {},
   "outputs": [],
   "source": [
    "x = 20\n",
    "y = 20.20\n",
    "result = x * y \n"
   ]
  },
  {
   "cell_type": "code",
   "execution_count": 27,
   "id": "3811f015-c51c-40e0-bfd2-2df798198cd7",
   "metadata": {},
   "outputs": [
    {
     "name": "stdout",
     "output_type": "stream",
     "text": [
      "Multiplication:  404.0\n"
     ]
    }
   ],
   "source": [
    "print(\"Multiplication: \", result)"
   ]
  },
  {
   "cell_type": "code",
   "execution_count": 29,
   "id": "853ade57-a3b5-4b1b-bb70-406fb12268bf",
   "metadata": {},
   "outputs": [],
   "source": [
    "text = 'Hello'\n",
    "y = 2\n",
    "result = text * y"
   ]
  },
  {
   "cell_type": "code",
   "execution_count": 30,
   "id": "38daa05c-fb30-4a3f-9711-6f16252d98fc",
   "metadata": {},
   "outputs": [
    {
     "name": "stdout",
     "output_type": "stream",
     "text": [
      "Result:  HelloHello\n"
     ]
    }
   ],
   "source": [
    "print(\"Result: \", result)"
   ]
  },
  {
   "cell_type": "code",
   "execution_count": 31,
   "id": "b67aaca2-3661-4b23-82e5-06ed729f80d1",
   "metadata": {},
   "outputs": [],
   "source": [
    "#  Division Operator (/)"
   ]
  },
  {
   "cell_type": "code",
   "execution_count": 33,
   "id": "37e7acf1-dc92-465b-b453-ebdd42207275",
   "metadata": {},
   "outputs": [],
   "source": [
    "x = 5\n",
    "y = 5 \n",
    "z = x / y"
   ]
  },
  {
   "cell_type": "code",
   "execution_count": 34,
   "id": "7b96bdca-ee96-4d8a-a4bd-f845dbcbe8e4",
   "metadata": {},
   "outputs": [
    {
     "name": "stdout",
     "output_type": "stream",
     "text": [
      "Division:  1.0\n"
     ]
    }
   ],
   "source": [
    "print(\"Division: \", z)\n"
   ]
  },
  {
   "cell_type": "code",
   "execution_count": 35,
   "id": "f1460c40-5304-48e7-81d5-fcfdd2e2173c",
   "metadata": {},
   "outputs": [],
   "source": [
    "x = 2.4 \n",
    "y = 1.2 \n",
    "z = x / y"
   ]
  },
  {
   "cell_type": "code",
   "execution_count": 36,
   "id": "83686f40-f4d0-4869-808e-c38ff91da9e6",
   "metadata": {},
   "outputs": [
    {
     "name": "stdout",
     "output_type": "stream",
     "text": [
      "Division:  2.0\n"
     ]
    }
   ],
   "source": [
    "print(\"Division: \",z)"
   ]
  },
  {
   "cell_type": "code",
   "execution_count": 37,
   "id": "3bbed6ce-01d9-4f3d-9519-337e25579383",
   "metadata": {},
   "outputs": [],
   "source": [
    "# Modulus Operator (%)"
   ]
  },
  {
   "cell_type": "code",
   "execution_count": 38,
   "id": "e8c72e20-8dcf-4104-8186-9168dee71845",
   "metadata": {},
   "outputs": [],
   "source": [
    "num1 = 23\n",
    "num2 = 5\n",
    "num = num1 % num2"
   ]
  },
  {
   "cell_type": "code",
   "execution_count": 39,
   "id": "99b65b2e-07eb-4063-a078-a69e286d0348",
   "metadata": {},
   "outputs": [
    {
     "name": "stdout",
     "output_type": "stream",
     "text": [
      "Remainder after division:  3\n"
     ]
    }
   ],
   "source": [
    "print(\"Remainder after division: \", num)\n"
   ]
  },
  {
   "cell_type": "code",
   "execution_count": 40,
   "id": "ffe2b37f-ea76-49f5-8c36-8f0cf2b50b3c",
   "metadata": {},
   "outputs": [],
   "source": [
    "x = 2.6\n",
    "y = 1.2\n",
    "z = x % y"
   ]
  },
  {
   "cell_type": "code",
   "execution_count": 41,
   "id": "b7beaf1f-3c73-414c-a133-b540631bccdc",
   "metadata": {},
   "outputs": [
    {
     "name": "stdout",
     "output_type": "stream",
     "text": [
      "Remainder after division:  0.20000000000000018\n"
     ]
    }
   ],
   "source": [
    "print(\"Remainder after division: \", z)"
   ]
  },
  {
   "cell_type": "code",
   "execution_count": 42,
   "id": "039748b1-e812-4b42-b8f4-b0ad4cb1c95a",
   "metadata": {},
   "outputs": [],
   "source": [
    "# Exponential Operator (**)"
   ]
  },
  {
   "cell_type": "code",
   "execution_count": 43,
   "id": "f14131ff-7f20-4002-8370-b98c24e71040",
   "metadata": {},
   "outputs": [],
   "source": [
    "num1 = 2\n",
    "num2 = 4\n",
    "exp = num1 ** num2"
   ]
  },
  {
   "cell_type": "code",
   "execution_count": 44,
   "id": "7b87ac49-21ed-4152-8520-572adedc59cc",
   "metadata": {},
   "outputs": [
    {
     "name": "stdout",
     "output_type": "stream",
     "text": [
      "Result:  16\n"
     ]
    }
   ],
   "source": [
    "print(\"Result: \", exp)\n"
   ]
  },
  {
   "cell_type": "code",
   "execution_count": 45,
   "id": "98144085-0779-4f53-9bd2-d37a05181175",
   "metadata": {},
   "outputs": [],
   "source": [
    "x = 1.2\n",
    "y = 3\n",
    "exp = x ** y"
   ]
  },
  {
   "cell_type": "code",
   "execution_count": 46,
   "id": "6127f084-d591-45ee-a0d9-c0745c6b60d6",
   "metadata": {},
   "outputs": [
    {
     "name": "stdout",
     "output_type": "stream",
     "text": [
      "Result:  1.7279999999999998\n"
     ]
    }
   ],
   "source": [
    "print(\"Result: \", exp)"
   ]
  },
  {
   "cell_type": "code",
   "execution_count": 47,
   "id": "6f1ed8e4-54b0-4aba-8ca0-e98f5de07ff7",
   "metadata": {},
   "outputs": [],
   "source": [
    "# Floor Division (//)"
   ]
  },
  {
   "cell_type": "code",
   "execution_count": 48,
   "id": "96d52412-d054-4a71-b377-e1577fac47af",
   "metadata": {},
   "outputs": [],
   "source": [
    "num1 = 5\n",
    "num2 = 2\n",
    "num = num1 // num2"
   ]
  },
  {
   "cell_type": "code",
   "execution_count": 49,
   "id": "bb0c9113-6d4a-437e-99ff-3439bbc01764",
   "metadata": {},
   "outputs": [
    {
     "name": "stdout",
     "output_type": "stream",
     "text": [
      "Result:  2\n"
     ]
    }
   ],
   "source": [
    "print(\"Result: \", num)"
   ]
  },
  {
   "cell_type": "code",
   "execution_count": 50,
   "id": "81eb3ea6-7584-4bc0-9d94-8aadb994c403",
   "metadata": {},
   "outputs": [],
   "source": [
    "x = 12.2\n",
    "y = 3.1\n",
    "z = x // y"
   ]
  },
  {
   "cell_type": "code",
   "execution_count": 51,
   "id": "6d6c341a-0305-43c2-a5f9-a0644ca7b79e",
   "metadata": {},
   "outputs": [
    {
     "name": "stdout",
     "output_type": "stream",
     "text": [
      "Result:  3.0\n"
     ]
    }
   ],
   "source": [
    "print(\"Result: \", z)"
   ]
  },
  {
   "cell_type": "code",
   "execution_count": null,
   "id": "bbfbd9e0-de60-47ac-9549-4034a0a06eca",
   "metadata": {},
   "outputs": [],
   "source": []
  }
 ],
 "metadata": {
  "kernelspec": {
   "display_name": "Python 3 (ipykernel)",
   "language": "python",
   "name": "python3"
  },
  "language_info": {
   "codemirror_mode": {
    "name": "ipython",
    "version": 3
   },
   "file_extension": ".py",
   "mimetype": "text/x-python",
   "name": "python",
   "nbconvert_exporter": "python",
   "pygments_lexer": "ipython3",
   "version": "3.11.9"
  }
 },
 "nbformat": 4,
 "nbformat_minor": 5
}
