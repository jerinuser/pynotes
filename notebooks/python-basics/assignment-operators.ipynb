{
 "cells": [
  {
   "cell_type": "code",
   "execution_count": 1,
   "id": "3842b0ff-7b54-41ea-9158-ac8b6a9fe724",
   "metadata": {},
   "outputs": [],
   "source": [
    "#  created : 20250113"
   ]
  },
  {
   "cell_type": "code",
   "execution_count": 2,
   "id": "5ac1dcb0-7fab-492a-a40e-02b2a30983d2",
   "metadata": {},
   "outputs": [],
   "source": [
    "#  https://www.scientecheasy.com/2022/10/assignment-operators-in-python.html/"
   ]
  },
  {
   "cell_type": "code",
   "execution_count": 1,
   "id": "57dc1caa-46e6-4156-a37f-9c2d2ef3ee3d",
   "metadata": {},
   "outputs": [],
   "source": [
    "# Assignment Operators in Python"
   ]
  },
  {
   "cell_type": "code",
   "execution_count": 2,
   "id": "1c29f70c-5b1f-4dac-a996-c681e07d31aa",
   "metadata": {},
   "outputs": [],
   "source": [
    "# Simple Assignment"
   ]
  },
  {
   "cell_type": "code",
   "execution_count": 3,
   "id": "899ac2a9-ab06-4eca-b926-121f457e71e4",
   "metadata": {},
   "outputs": [],
   "source": [
    "x = 20\n",
    "y = 50\n",
    "z = x + y + 2"
   ]
  },
  {
   "cell_type": "code",
   "execution_count": 4,
   "id": "c8dc1ca5-4f03-45a2-9549-ed4f2ba886d0",
   "metadata": {},
   "outputs": [
    {
     "name": "stdout",
     "output_type": "stream",
     "text": [
      "Result =  72\n"
     ]
    }
   ],
   "source": [
    "print(\"Result = \", z)"
   ]
  },
  {
   "cell_type": "code",
   "execution_count": 5,
   "id": "30d9b926-d65a-4849-a6f5-15dd09cd3023",
   "metadata": {},
   "outputs": [],
   "source": [
    "# x += y  It is equivalent to x = x + y."
   ]
  },
  {
   "cell_type": "code",
   "execution_count": 6,
   "id": "0587adcb-529a-4eb3-8d57-dd192c7f2e82",
   "metadata": {},
   "outputs": [],
   "source": [
    "x = 20\n",
    "y = 5\n",
    "z = 10\n",
    "x += y"
   ]
  },
  {
   "cell_type": "code",
   "execution_count": 7,
   "id": "ccd0832a-cb4f-409e-a472-d188446b852b",
   "metadata": {},
   "outputs": [
    {
     "name": "stdout",
     "output_type": "stream",
     "text": [
      "Result of (x = x + y) =  25\n"
     ]
    }
   ],
   "source": [
    "print(\"Result of (x = x + y) = \", x)"
   ]
  },
  {
   "cell_type": "code",
   "execution_count": 8,
   "id": "599ddafc-8f1c-4364-baf5-50014cb21994",
   "metadata": {},
   "outputs": [
    {
     "name": "stdout",
     "output_type": "stream",
     "text": [
      "Result =  40\n"
     ]
    }
   ],
   "source": [
    "z += x + y\n",
    "print(\"Result = \", z)"
   ]
  },
  {
   "cell_type": "code",
   "execution_count": 9,
   "id": "f4690d4d-1124-4d1f-95eb-8195d3d9710b",
   "metadata": {},
   "outputs": [],
   "source": [
    "x -= y # It is equivalent to x = x - y."
   ]
  },
  {
   "cell_type": "code",
   "execution_count": 10,
   "id": "eff94867-3192-417e-8b56-621e62c8676f",
   "metadata": {},
   "outputs": [
    {
     "name": "stdout",
     "output_type": "stream",
     "text": [
      "Result of (x = x - y) =  15\n"
     ]
    }
   ],
   "source": [
    "x = 20\n",
    "y = 5\n",
    "z = 10\n",
    "x -= y\n",
    "print(\"Result of (x = x - y) = \", x)"
   ]
  },
  {
   "cell_type": "code",
   "execution_count": 11,
   "id": "abb56aa5-f695-4fa8-9644-235d39c83037",
   "metadata": {},
   "outputs": [
    {
     "name": "stdout",
     "output_type": "stream",
     "text": [
      "Result =  -10\n"
     ]
    }
   ],
   "source": [
    "z -= x + y # --> z = z - (x + y)\n",
    "print(\"Result = \", z)"
   ]
  },
  {
   "cell_type": "code",
   "execution_count": 12,
   "id": "c4d5d114-ddee-4a8d-b3e9-fdaf91a9dab0",
   "metadata": {},
   "outputs": [],
   "source": [
    "x *= y # It is equivalent to x = x * y."
   ]
  },
  {
   "cell_type": "code",
   "execution_count": 14,
   "id": "da107fde-cfc4-4b5a-9eda-f352273e053d",
   "metadata": {},
   "outputs": [],
   "source": [
    "x = 2\n",
    "y = 5\n",
    "z = 3\n",
    "x *= y\n"
   ]
  },
  {
   "cell_type": "code",
   "execution_count": 15,
   "id": "d874a904-22ec-4f82-a3f0-f3e375284e40",
   "metadata": {},
   "outputs": [
    {
     "name": "stdout",
     "output_type": "stream",
     "text": [
      "Result of (x = x * y) =  10\n"
     ]
    }
   ],
   "source": [
    "print(\"Result of (x = x * y) = \", x)"
   ]
  },
  {
   "cell_type": "code",
   "execution_count": 16,
   "id": "c3b9579c-e82b-4a06-9d3f-69890446d9f5",
   "metadata": {},
   "outputs": [],
   "source": [
    "z *= x * y"
   ]
  },
  {
   "cell_type": "code",
   "execution_count": 17,
   "id": "507d6ed8-0389-481c-82ee-e383312ac66a",
   "metadata": {},
   "outputs": [
    {
     "name": "stdout",
     "output_type": "stream",
     "text": [
      "Result of (z = z*(x * y) =  150\n"
     ]
    }
   ],
   "source": [
    "print(\"Result of (z = z*(x * y) = \", z)"
   ]
  },
  {
   "cell_type": "code",
   "execution_count": 18,
   "id": "91e0a52e-a486-415f-af8e-1914c18311b0",
   "metadata": {},
   "outputs": [],
   "source": [
    "x /= y # It is equivalent to x = x / y.\n"
   ]
  },
  {
   "cell_type": "code",
   "execution_count": 19,
   "id": "7c6798fe-94d5-438a-83e5-07bedaf65cb3",
   "metadata": {},
   "outputs": [],
   "source": [
    "x = 20\n",
    "y = 5\n",
    "z = 100\n",
    "x /= y"
   ]
  },
  {
   "cell_type": "code",
   "execution_count": 20,
   "id": "d21e65bb-4e88-499a-b265-aefcdb35d71e",
   "metadata": {},
   "outputs": [
    {
     "name": "stdout",
     "output_type": "stream",
     "text": [
      "Result of (x = x / y) =  4.0\n"
     ]
    }
   ],
   "source": [
    "print(\"Result of (x = x / y) = \", x)"
   ]
  },
  {
   "cell_type": "code",
   "execution_count": 21,
   "id": "0dbc5709-9a00-4ce1-b912-e759da8f0c26",
   "metadata": {},
   "outputs": [
    {
     "name": "stdout",
     "output_type": "stream",
     "text": [
      "Result =  5.0\n"
     ]
    }
   ],
   "source": [
    "z /= x * y\n",
    "print(\"Result = \", z)"
   ]
  },
  {
   "cell_type": "code",
   "execution_count": 22,
   "id": "764f956a-eaca-4eeb-ab4c-b311af84a4e7",
   "metadata": {},
   "outputs": [],
   "source": [
    "x %= y # It is equivalent to x = x % y."
   ]
  },
  {
   "cell_type": "code",
   "execution_count": 23,
   "id": "dfbc46c7-95fd-48eb-a2d3-ddf07c2ea046",
   "metadata": {},
   "outputs": [],
   "source": [
    "x = 211\n",
    "y = 5\n",
    "z = 100\n",
    "x %= y"
   ]
  },
  {
   "cell_type": "code",
   "execution_count": 24,
   "id": "dcb1e37f-fe2d-473f-9dcd-cdb6d768a262",
   "metadata": {},
   "outputs": [
    {
     "name": "stdout",
     "output_type": "stream",
     "text": [
      "Result of (x = x % y) =  1\n"
     ]
    }
   ],
   "source": [
    "print(\"Result of (x = x % y) = \", x)"
   ]
  },
  {
   "cell_type": "code",
   "execution_count": 26,
   "id": "f7619e57-bf4a-44bc-ac91-315c19389e9a",
   "metadata": {},
   "outputs": [],
   "source": [
    "z %= x + y"
   ]
  },
  {
   "cell_type": "code",
   "execution_count": 27,
   "id": "e04ce16f-4cb0-4b95-9440-886c6d20bd91",
   "metadata": {},
   "outputs": [
    {
     "name": "stdout",
     "output_type": "stream",
     "text": [
      "Result =  4\n"
     ]
    }
   ],
   "source": [
    "print(\"Result = \", z)"
   ]
  },
  {
   "cell_type": "code",
   "execution_count": 28,
   "id": "110035c1-dcf3-45dd-b98a-c7824177f436",
   "metadata": {},
   "outputs": [],
   "source": [
    "x //= y # It's equivalent to x = x // y."
   ]
  },
  {
   "cell_type": "code",
   "execution_count": 29,
   "id": "e9a3a12f-5c30-47ec-a093-54748a76e105",
   "metadata": {},
   "outputs": [
    {
     "name": "stdout",
     "output_type": "stream",
     "text": [
      "Result of (x = x // y) =  42\n"
     ]
    }
   ],
   "source": [
    "x = 211\n",
    "y = 5\n",
    "z = 100\n",
    "x //= y\n",
    "print(\"Result of (x = x // y) = \", x)"
   ]
  },
  {
   "cell_type": "code",
   "execution_count": 30,
   "id": "f8aa0239-abdc-473c-a057-c1b085078962",
   "metadata": {},
   "outputs": [
    {
     "name": "stdout",
     "output_type": "stream",
     "text": [
      "Result =  2\n"
     ]
    }
   ],
   "source": [
    "z //= x + y\n",
    "print(\"Result = \", z)"
   ]
  },
  {
   "cell_type": "code",
   "execution_count": 32,
   "id": "bb431f3f-aa36-4aa9-a3f8-b70fada7a27a",
   "metadata": {},
   "outputs": [
    {
     "name": "stdout",
     "output_type": "stream",
     "text": [
      "Result of (x = x // y) =  42\n",
      "Result =  2\n"
     ]
    }
   ],
   "source": [
    "x = 211\n",
    "y = 5\n",
    "z = 100\n",
    "x //= y\n",
    "\n",
    "print(\"Result of (x = x // y) = \", x)\n",
    "\n",
    "z //= x + y\n",
    "print(\"Result = \", z)\n"
   ]
  },
  {
   "cell_type": "code",
   "execution_count": 33,
   "id": "92f6376b-e413-42d1-bd23-d11fa14f675e",
   "metadata": {},
   "outputs": [],
   "source": [
    "#  Exponent and Assignment Operator (**=)"
   ]
  },
  {
   "cell_type": "code",
   "execution_count": 34,
   "id": "7798c4e8-93a9-458e-a0f6-a5c3d2d56a41",
   "metadata": {},
   "outputs": [],
   "source": [
    "x **= y # It's equivalent to x = x ** y."
   ]
  },
  {
   "cell_type": "code",
   "execution_count": 35,
   "id": "39011f7a-60b0-4539-8f59-efdd8724b584",
   "metadata": {},
   "outputs": [
    {
     "name": "stdout",
     "output_type": "stream",
     "text": [
      "Result of (x = x ** y) =  32\n",
      "Result =  128\n"
     ]
    }
   ],
   "source": [
    "x = 2\n",
    "y = 5\n",
    "z = 2\n",
    "x **= y\n",
    "\n",
    "print(\"Result of (x = x ** y) = \", x)\n",
    "\n",
    "z **= x + y - 30\n",
    "print(\"Result = \", z)"
   ]
  },
  {
   "cell_type": "code",
   "execution_count": 37,
   "id": "c30df255-27f2-4623-8bf8-dadbc175b2e3",
   "metadata": {},
   "outputs": [],
   "source": [
    "# Bitwise AND and Assignment Operator (&=)"
   ]
  },
  {
   "cell_type": "code",
   "execution_count": 38,
   "id": "583edd69-e7b8-4be5-96c2-d37e7623c65b",
   "metadata": {},
   "outputs": [],
   "source": [
    "x &= y # It's equivalent to x = x & y."
   ]
  },
  {
   "cell_type": "code",
   "execution_count": 39,
   "id": "925c54c9-bedc-4912-a2f6-af8127990953",
   "metadata": {},
   "outputs": [
    {
     "name": "stdout",
     "output_type": "stream",
     "text": [
      "Result of (x = x & y) =  4\n"
     ]
    }
   ],
   "source": [
    "x = 20\n",
    "y = 5\n",
    "x &= y\n",
    "print(\"Result of (x = x & y) = \", x)"
   ]
  },
  {
   "cell_type": "code",
   "execution_count": 40,
   "id": "439fbbaa-7508-46e3-a087-af268967d20a",
   "metadata": {},
   "outputs": [],
   "source": [
    "#  Bitwise OR and Assignment Operator (|=)"
   ]
  },
  {
   "cell_type": "code",
   "execution_count": 41,
   "id": "2d0eb98c-1531-4825-a28a-be356d269076",
   "metadata": {},
   "outputs": [],
   "source": [
    "x |= y # It's equivalent to x = x | y."
   ]
  },
  {
   "cell_type": "code",
   "execution_count": 42,
   "id": "d451b315-89da-4f67-826c-ff5bad0a93a5",
   "metadata": {},
   "outputs": [
    {
     "name": "stdout",
     "output_type": "stream",
     "text": [
      "Result of (x = x | y) =  15\n"
     ]
    }
   ],
   "source": [
    "x = 10\n",
    "y = 5\n",
    "x |= y\n",
    "print(\"Result of (x = x | y) = \", x)"
   ]
  },
  {
   "cell_type": "code",
   "execution_count": 43,
   "id": "25bc9fbf-0133-46cb-910c-155cee95d459",
   "metadata": {},
   "outputs": [],
   "source": [
    "# Bitwise XOR and Assignment Operator (^=)"
   ]
  },
  {
   "cell_type": "code",
   "execution_count": 44,
   "id": "9dac0520-f961-48b2-8035-8b0bbcf34832",
   "metadata": {},
   "outputs": [],
   "source": [
    "x ^= y # It's equivalent to x = x ^ y."
   ]
  },
  {
   "cell_type": "code",
   "execution_count": 45,
   "id": "bab41cf0-9674-423c-8d57-71edb90a51e0",
   "metadata": {},
   "outputs": [
    {
     "name": "stdout",
     "output_type": "stream",
     "text": [
      "Result of (x = x ^ y) =  30\n"
     ]
    }
   ],
   "source": [
    "x = 20\n",
    "y = 10\n",
    "x ^= y\n",
    "print(\"Result of (x = x ^ y) = \", x)"
   ]
  },
  {
   "cell_type": "code",
   "execution_count": null,
   "id": "984185b7-5ef0-4036-bd6d-6ccae841d9d2",
   "metadata": {},
   "outputs": [],
   "source": []
  }
 ],
 "metadata": {
  "kernelspec": {
   "display_name": "Python 3 (ipykernel)",
   "language": "python",
   "name": "python3"
  },
  "language_info": {
   "codemirror_mode": {
    "name": "ipython",
    "version": 3
   },
   "file_extension": ".py",
   "mimetype": "text/x-python",
   "name": "python",
   "nbconvert_exporter": "python",
   "pygments_lexer": "ipython3",
   "version": "3.11.9"
  }
 },
 "nbformat": 4,
 "nbformat_minor": 5
}
