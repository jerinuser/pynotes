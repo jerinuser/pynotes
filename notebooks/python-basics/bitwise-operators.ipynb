{
 "cells": [
  {
   "cell_type": "code",
   "execution_count": 1,
   "id": "3842b0ff-7b54-41ea-9158-ac8b6a9fe724",
   "metadata": {},
   "outputs": [],
   "source": [
    "#  created : 20250113"
   ]
  },
  {
   "cell_type": "code",
   "execution_count": 2,
   "id": "5ac1dcb0-7fab-492a-a40e-02b2a30983d2",
   "metadata": {},
   "outputs": [],
   "source": [
    "#  https://www.scientecheasy.com/2022/10/bitwise-operators-in-python.html/\n",
    "#  https://chatgpt.com/share/678524a9-cd24-8012-a475-2b7098cd8750"
   ]
  },
  {
   "cell_type": "code",
   "execution_count": 3,
   "id": "57dc1caa-46e6-4156-a37f-9c2d2ef3ee3d",
   "metadata": {},
   "outputs": [],
   "source": [
    "# Bitwise Operators in Python"
   ]
  },
  {
   "cell_type": "code",
   "execution_count": 4,
   "id": "2a1b6fa6-0026-4598-a898-b72f2b899407",
   "metadata": {},
   "outputs": [],
   "source": [
    "# &\t    Bitwise AND\t                Binary\n",
    "# |\t    Bitwise OR\t                Binary\n",
    "# ^\t    Bitwise XOR (Exclusive OR)\tBinary\n",
    "# ~\t    Bitwise NOT\t                Unary\n",
    "# <<\tBitwise Left Shift\t        Binary\n",
    "# >>\tBitwise Right Shift      \tBinary"
   ]
  },
  {
   "cell_type": "code",
   "execution_count": null,
   "id": "9d9cc098-2866-4b42-8e8e-9bb997951b3b",
   "metadata": {},
   "outputs": [],
   "source": [
    "# Bitwise AND operator (&)"
   ]
  },
  {
   "cell_type": "code",
   "execution_count": 5,
   "id": "4681a864-a2f2-4e1f-bdcf-8d4867f7fff9",
   "metadata": {},
   "outputs": [],
   "source": [
    "A = 2\n",
    "B = 6\n",
    "result = A & B"
   ]
  },
  {
   "cell_type": "code",
   "execution_count": 6,
   "id": "67a4996f-bd5b-4e24-b90c-3c75ad61f2cc",
   "metadata": {},
   "outputs": [
    {
     "name": "stdout",
     "output_type": "stream",
     "text": [
      "Result of (2 & 6):  2\n"
     ]
    }
   ],
   "source": [
    "print(\"Result of (2 & 6): \", result)"
   ]
  },
  {
   "cell_type": "code",
   "execution_count": 7,
   "id": "b0a796c6-1c2e-45e0-840f-e2bf45f9a19e",
   "metadata": {},
   "outputs": [],
   "source": [
    "A = 25\n",
    "B = 45\n",
    "result = A & B"
   ]
  },
  {
   "cell_type": "code",
   "execution_count": 8,
   "id": "e55c6b96-e29e-4612-a335-4e2064bc0965",
   "metadata": {},
   "outputs": [
    {
     "name": "stdout",
     "output_type": "stream",
     "text": [
      "Result of (25 & 45):  9\n"
     ]
    }
   ],
   "source": [
    "print(\"Result of (25 & 45): \", result)"
   ]
  },
  {
   "cell_type": "code",
   "execution_count": 9,
   "id": "13dacced-2d7a-4920-8189-5461696568e4",
   "metadata": {},
   "outputs": [],
   "source": [
    "A = -25\n",
    "B = 45\n",
    "result = A & B"
   ]
  },
  {
   "cell_type": "code",
   "execution_count": 10,
   "id": "61829fb4-f6ac-438c-976c-832f313d28ce",
   "metadata": {},
   "outputs": [
    {
     "name": "stdout",
     "output_type": "stream",
     "text": [
      "Result of (-25 & 45):  37\n"
     ]
    }
   ],
   "source": [
    "print(\"Result of (-25 & 45): \", result)\n"
   ]
  },
  {
   "cell_type": "code",
   "execution_count": 11,
   "id": "84a2a270-3f3f-4caf-a2c5-f99276f7189d",
   "metadata": {},
   "outputs": [],
   "source": [
    "X = True\n",
    "Y = 45\n",
    "result = X & Y"
   ]
  },
  {
   "cell_type": "code",
   "execution_count": 12,
   "id": "757bb8e0-f347-416b-806e-92c487f334cf",
   "metadata": {},
   "outputs": [
    {
     "name": "stdout",
     "output_type": "stream",
     "text": [
      "Result of (True & 10):  1\n"
     ]
    }
   ],
   "source": [
    "print(\"Result of (True & 10): \", result)"
   ]
  },
  {
   "cell_type": "code",
   "execution_count": 13,
   "id": "e2ffb442-b5ec-4dc1-9a04-cc11689a3b6e",
   "metadata": {},
   "outputs": [],
   "source": [
    "P = False\n",
    "Q = 15\n",
    "result = P & Q"
   ]
  },
  {
   "cell_type": "code",
   "execution_count": 14,
   "id": "767d58dd-0a64-49d3-b9c8-934474b3b1d0",
   "metadata": {},
   "outputs": [
    {
     "name": "stdout",
     "output_type": "stream",
     "text": [
      "Result of (False & 20):  0\n"
     ]
    }
   ],
   "source": [
    "print(\"Result of (False & 20): \", result)"
   ]
  },
  {
   "cell_type": "code",
   "execution_count": 15,
   "id": "a7ab320c-6bd5-4eb9-9d0a-5575485daff7",
   "metadata": {},
   "outputs": [],
   "source": [
    "# Bitwise OR operator (|)\n"
   ]
  },
  {
   "cell_type": "code",
   "execution_count": 16,
   "id": "1e79b927-b67c-41f0-ab30-2207d799b730",
   "metadata": {},
   "outputs": [],
   "source": [
    "A = 2\n",
    "B = 6\n",
    "result = A | B"
   ]
  },
  {
   "cell_type": "code",
   "execution_count": 17,
   "id": "938438e0-be6b-4737-b59f-ae0288c02c33",
   "metadata": {},
   "outputs": [
    {
     "name": "stdout",
     "output_type": "stream",
     "text": [
      "Result of (2 | 6):  6\n"
     ]
    }
   ],
   "source": [
    "print(\"Result of (2 | 6): \", result)"
   ]
  },
  {
   "cell_type": "code",
   "execution_count": 18,
   "id": "c088577e-b241-4491-9485-cb5189254229",
   "metadata": {},
   "outputs": [],
   "source": [
    "A = 25\n",
    "B = 45\n",
    "result = A | B"
   ]
  },
  {
   "cell_type": "code",
   "execution_count": 19,
   "id": "85c4e555-2ee8-4705-ba2c-d3fd53ad81b3",
   "metadata": {},
   "outputs": [
    {
     "name": "stdout",
     "output_type": "stream",
     "text": [
      "Result of (25 | 45):  61\n"
     ]
    }
   ],
   "source": [
    "print(\"Result of (25 | 45): \", result)"
   ]
  },
  {
   "cell_type": "code",
   "execution_count": 20,
   "id": "cf96693d-67ad-4d09-a9a2-0f63728b8076",
   "metadata": {},
   "outputs": [],
   "source": [
    "A = -25\n",
    "B = 45\n",
    "result = A | B"
   ]
  },
  {
   "cell_type": "code",
   "execution_count": 21,
   "id": "c8210244-318c-40e4-ae72-89d6f13f89e3",
   "metadata": {},
   "outputs": [
    {
     "name": "stdout",
     "output_type": "stream",
     "text": [
      "Result of (-25 | 45):  -17\n"
     ]
    }
   ],
   "source": [
    "print(\"Result of (-25 | 45): \", result)\n"
   ]
  },
  {
   "cell_type": "code",
   "execution_count": 22,
   "id": "a5925af6-2921-46be-807f-62c16c984912",
   "metadata": {},
   "outputs": [],
   "source": [
    "X = True\n",
    "Y = 45\n",
    "result = X | Y"
   ]
  },
  {
   "cell_type": "code",
   "execution_count": 23,
   "id": "5627e279-1134-4a76-8f04-a1585b6c2ef6",
   "metadata": {},
   "outputs": [
    {
     "name": "stdout",
     "output_type": "stream",
     "text": [
      "Result of (True | 10):  45\n"
     ]
    }
   ],
   "source": [
    "print(\"Result of (True | 10): \", result)"
   ]
  },
  {
   "cell_type": "code",
   "execution_count": 24,
   "id": "dca50e04-6f61-43c7-b596-44644f3d6a00",
   "metadata": {},
   "outputs": [],
   "source": [
    "P = False\n",
    "Q = 15\n",
    "result = P | Q"
   ]
  },
  {
   "cell_type": "code",
   "execution_count": 25,
   "id": "a22049c1-3305-489e-88f8-597cf6b73b97",
   "metadata": {},
   "outputs": [
    {
     "name": "stdout",
     "output_type": "stream",
     "text": [
      "Result of (False | 20):  15\n"
     ]
    }
   ],
   "source": [
    "print(\"Result of (False | 20): \", result)"
   ]
  },
  {
   "cell_type": "code",
   "execution_count": 27,
   "id": "4ad36bb4-7595-4402-ab88-84bdd9440eec",
   "metadata": {},
   "outputs": [],
   "source": [
    "# Bitwise XOR operator (^)\n"
   ]
  },
  {
   "cell_type": "code",
   "execution_count": 28,
   "id": "9ab31bd5-1674-42e3-a6c6-777eb66bc8c6",
   "metadata": {},
   "outputs": [],
   "source": [
    "A = 2\n",
    "B = 6\n",
    "result = A ^ B"
   ]
  },
  {
   "cell_type": "code",
   "execution_count": 29,
   "id": "4dd75c3d-1434-413d-832f-6c8a72c92998",
   "metadata": {},
   "outputs": [
    {
     "name": "stdout",
     "output_type": "stream",
     "text": [
      "Result of (A ^ B):  4\n"
     ]
    }
   ],
   "source": [
    "print(\"Result of (A ^ B): \", result)"
   ]
  },
  {
   "cell_type": "code",
   "execution_count": 31,
   "id": "62e31e02-34ce-46ec-819b-e0992b4bacd7",
   "metadata": {},
   "outputs": [],
   "source": [
    "A = 25\n",
    "B = 45\n",
    "result = A ^ B\n"
   ]
  },
  {
   "cell_type": "code",
   "execution_count": 32,
   "id": "7093e809-c8c1-43f0-a5c2-43b4359194ca",
   "metadata": {},
   "outputs": [
    {
     "name": "stdout",
     "output_type": "stream",
     "text": [
      "Result of (25 ^ 45):  52\n"
     ]
    }
   ],
   "source": [
    "print(\"Result of (25 ^ 45): \", result)"
   ]
  },
  {
   "cell_type": "code",
   "execution_count": 33,
   "id": "7178cb3e-95aa-4c0d-ae21-a9479b72b70e",
   "metadata": {},
   "outputs": [],
   "source": [
    "X = True\n",
    "Y = 45\n",
    "result = X ^ Y"
   ]
  },
  {
   "cell_type": "code",
   "execution_count": 34,
   "id": "53a0e89d-9776-42f9-b9e7-d619787d9ecb",
   "metadata": {},
   "outputs": [
    {
     "name": "stdout",
     "output_type": "stream",
     "text": [
      "Result of (True ^ 10):  44\n"
     ]
    }
   ],
   "source": [
    "print(\"Result of (True ^ 10): \", result)\n"
   ]
  },
  {
   "cell_type": "code",
   "execution_count": 35,
   "id": "a9a4b2e8-bcfa-4333-902f-c7fbb77aa420",
   "metadata": {},
   "outputs": [],
   "source": [
    "P = False\n",
    "Q = 15\n",
    "result = P ^ Q"
   ]
  },
  {
   "cell_type": "code",
   "execution_count": 36,
   "id": "a060ef29-f5da-4a52-a8ce-1752e4afeb7a",
   "metadata": {},
   "outputs": [
    {
     "name": "stdout",
     "output_type": "stream",
     "text": [
      "Result of (False ^ 20):  15\n"
     ]
    }
   ],
   "source": [
    "print(\"Result of (False ^ 20): \", result)"
   ]
  },
  {
   "cell_type": "code",
   "execution_count": 38,
   "id": "21f8c25a-ba30-47fd-bed8-11dbbe404b18",
   "metadata": {},
   "outputs": [],
   "source": [
    "# Bitwise NOT operator (~)\n"
   ]
  },
  {
   "cell_type": "code",
   "execution_count": 39,
   "id": "aef04c17-d6f3-48ff-857e-70e1c0821438",
   "metadata": {},
   "outputs": [],
   "source": [
    "A = 3\n",
    "B = 1\n",
    "result = A << B"
   ]
  },
  {
   "cell_type": "code",
   "execution_count": 40,
   "id": "68523837-76c4-49ca-bd11-38ff6988a097",
   "metadata": {},
   "outputs": [
    {
     "name": "stdout",
     "output_type": "stream",
     "text": [
      "Result of (A << B):  6\n"
     ]
    }
   ],
   "source": [
    "print(\"Result of (A << B): \", result)\n"
   ]
  },
  {
   "cell_type": "code",
   "execution_count": 41,
   "id": "ee3c3e7e-1cd5-4994-8e6a-0cf180517f18",
   "metadata": {},
   "outputs": [],
   "source": [
    "X = 3\n",
    "Y = 2\n",
    "result = X << Y"
   ]
  },
  {
   "cell_type": "code",
   "execution_count": 42,
   "id": "e1e1f38e-98da-45aa-b115-4b128e1eeb52",
   "metadata": {},
   "outputs": [
    {
     "name": "stdout",
     "output_type": "stream",
     "text": [
      "Result of (X << Y):  12\n"
     ]
    }
   ],
   "source": [
    "print(\"Result of (X << Y): \", result)"
   ]
  },
  {
   "cell_type": "code",
   "execution_count": 43,
   "id": "0639cc16-412b-408b-9664-1434fc24124d",
   "metadata": {},
   "outputs": [],
   "source": [
    "X = 25\n",
    "Y = 2\n",
    "result = X << Y"
   ]
  },
  {
   "cell_type": "code",
   "execution_count": 44,
   "id": "95e8b08a-fa5e-492c-bfae-35604acd88c5",
   "metadata": {},
   "outputs": [
    {
     "name": "stdout",
     "output_type": "stream",
     "text": [
      "Result of (A << B):  100\n"
     ]
    }
   ],
   "source": [
    "print(\"Result of (A << B): \", result)"
   ]
  },
  {
   "cell_type": "code",
   "execution_count": 45,
   "id": "3b2cfa33-f41b-4489-995e-30e16d806259",
   "metadata": {},
   "outputs": [],
   "source": [
    "# Bitwise Right Shift Operator (>>)\n"
   ]
  },
  {
   "cell_type": "code",
   "execution_count": 46,
   "id": "c44c9550-1041-46a8-b3d2-fbcf2fb2e40f",
   "metadata": {},
   "outputs": [],
   "source": [
    "A = 6\n",
    "B = 1\n",
    "result = A >> B"
   ]
  },
  {
   "cell_type": "code",
   "execution_count": 47,
   "id": "6f06d2a4-aa27-42f6-bcca-dada1a39b402",
   "metadata": {},
   "outputs": [
    {
     "name": "stdout",
     "output_type": "stream",
     "text": [
      "Result of (A >> B):  3\n"
     ]
    }
   ],
   "source": [
    "print(\"Result of (A >> B): \", result)"
   ]
  },
  {
   "cell_type": "code",
   "execution_count": 48,
   "id": "7f06a750-c87d-492d-af0d-f1a59b8fdb9e",
   "metadata": {},
   "outputs": [],
   "source": [
    "X = 6\n",
    "Y = 2\n",
    "result = X >> Y"
   ]
  },
  {
   "cell_type": "code",
   "execution_count": 49,
   "id": "9cc27994-7521-4fbc-b47a-25ef75768ea6",
   "metadata": {},
   "outputs": [
    {
     "name": "stdout",
     "output_type": "stream",
     "text": [
      "Result of (X >> Y):  1\n"
     ]
    }
   ],
   "source": [
    "print(\"Result of (X >> Y): \", result)"
   ]
  },
  {
   "cell_type": "code",
   "execution_count": 52,
   "id": "5b8b36e6-b35c-4b2b-9593-2f34a7046b4d",
   "metadata": {},
   "outputs": [
    {
     "name": "stdin",
     "output_type": "stream",
     "text": [
      "Enter your first number:  1\n",
      "Enter your second number:  2\n",
      "Enter the number of bits to be shifted towards left and right:  3\n"
     ]
    },
    {
     "name": "stdout",
     "output_type": "stream",
     "text": [
      "Outcome of bitwise &:  0\n",
      "Outcome of bitwise |:  3\n",
      "Outcome of bitwise ^:  3\n",
      "Outcome of bitwise ~:  -2\n",
      "Outcome of bitwise ~:  -3\n",
      "Outcome of bitwise <<:  8\n",
      "Outcome of bitwise >>:  0\n"
     ]
    }
   ],
   "source": [
    "p = int(input('Enter your first number: '))\n",
    "q = int(input('Enter your second number: '))\n",
    "r = int(input('Enter the number of bits to be shifted towards left and right: '))\n",
    "\n",
    "print('Outcome of bitwise &: ', p & q)\n",
    "print('Outcome of bitwise |: ', p | q)\n",
    "\n",
    "print('Outcome of bitwise ^: ', p ^ q)\n",
    "print('Outcome of bitwise ~: ', ~p)\n",
    "\n",
    "print('Outcome of bitwise ~: ', ~q)\n",
    "print('Outcome of bitwise <<: ', p << r) ;print('Outcome of bitwise >>: ', p >> r)\n"
   ]
  },
  {
   "cell_type": "code",
   "execution_count": null,
   "id": "62a965c6-d159-4e47-9e4c-388549c370f0",
   "metadata": {},
   "outputs": [],
   "source": []
  }
 ],
 "metadata": {
  "kernelspec": {
   "display_name": "Python 3 (ipykernel)",
   "language": "python",
   "name": "python3"
  },
  "language_info": {
   "codemirror_mode": {
    "name": "ipython",
    "version": 3
   },
   "file_extension": ".py",
   "mimetype": "text/x-python",
   "name": "python",
   "nbconvert_exporter": "python",
   "pygments_lexer": "ipython3",
   "version": "3.11.9"
  }
 },
 "nbformat": 4,
 "nbformat_minor": 5
}
