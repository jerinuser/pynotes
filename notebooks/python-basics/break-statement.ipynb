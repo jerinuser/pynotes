{
 "cells": [
  {
   "cell_type": "code",
   "execution_count": 1,
   "id": "3842b0ff-7b54-41ea-9158-ac8b6a9fe724",
   "metadata": {},
   "outputs": [],
   "source": [
    "#  created : 20250316"
   ]
  },
  {
   "cell_type": "code",
   "execution_count": 1,
   "id": "5ac1dcb0-7fab-492a-a40e-02b2a30983d2",
   "metadata": {},
   "outputs": [],
   "source": [
    "#  https://www.scientecheasy.com/2022/11/break-statement-in-python.html/"
   ]
  },
  {
   "cell_type": "code",
   "execution_count": 2,
   "id": "57dc1caa-46e6-4156-a37f-9c2d2ef3ee3d",
   "metadata": {},
   "outputs": [],
   "source": [
    "# Example Program based on Break"
   ]
  },
  {
   "cell_type": "code",
   "execution_count": 3,
   "id": "a9ee3ee1-c03e-437e-8b03-1abfbddff150",
   "metadata": {},
   "outputs": [
    {
     "name": "stdout",
     "output_type": "stream",
     "text": [
      "X =  1\n",
      "X =  2\n",
      "X =  3\n",
      "X =  4\n"
     ]
    }
   ],
   "source": [
    "# Use of break statement inside the for loop.\n",
    "for x in range(1, 11):\n",
    "    if x == 5:\n",
    "        break # Breaking a loop.\n",
    "    print(\"X = \",x)"
   ]
  },
  {
   "cell_type": "code",
   "execution_count": 4,
   "id": "cf9fd14e-0e1d-4a7d-a4df-05e294745ace",
   "metadata": {},
   "outputs": [
    {
     "name": "stdout",
     "output_type": "stream",
     "text": [
      "I =  1\n",
      "I =  2\n",
      "I =  3\n",
      "I =  4\n"
     ]
    }
   ],
   "source": [
    "# Use of break statement inside the while loop.\n",
    "i = 1\n",
    "while i <= 10:\n",
    "    if i == 5:\n",
    "        break # Breaking a loop.\n",
    "    print(\"I = \",i)\n",
    "    i = i + 1"
   ]
  },
  {
   "cell_type": "code",
   "execution_count": 5,
   "id": "cef9e255-ec8b-44d1-b501-35d61bc00f34",
   "metadata": {},
   "outputs": [
    {
     "name": "stdout",
     "output_type": "stream",
     "text": [
      "Current letter is  P\n",
      "Current letter is  y\n"
     ]
    }
   ],
   "source": [
    "for letter in 'Python':\n",
    "    if letter == 't':\n",
    "        break\n",
    "    print('Current letter is ',letter)"
   ]
  },
  {
   "cell_type": "code",
   "execution_count": 8,
   "id": "26b4c6e5-a9a9-496e-9f05-bbd739946854",
   "metadata": {},
   "outputs": [
    {
     "name": "stdout",
     "output_type": "stream",
     "text": [
      "1 0\n",
      "1 1\n",
      "1 2\n",
      "1 3\n",
      "2 0\n",
      "2 1\n",
      "3 0\n",
      "3 1\n",
      "3 2\n",
      "3 3\n"
     ]
    }
   ],
   "source": [
    "# Use of break inside the inner for loop.\n",
    "# Outer for loop.\n",
    "for x in range(1,4):\n",
    "    for y in 0, 1, 2, 3: # Inner for loop.\n",
    "        if(x == 2 and y == 2):\n",
    "            break # Using break statement inside inner for loop.\n",
    "        print(x,y)"
   ]
  },
  {
   "cell_type": "code",
   "execution_count": 10,
   "id": "a6d8dcca-5b68-4e85-a6cc-0f34f9922342",
   "metadata": {},
   "outputs": [
    {
     "name": "stdin",
     "output_type": "stream",
     "text": [
      "Enter a number:  62\n"
     ]
    },
    {
     "name": "stdout",
     "output_type": "stream",
     "text": [
      "Entered number not found in the list.\n"
     ]
    }
   ],
   "source": [
    "num = int(input('Enter a number: '))\n",
    "num_list = [20, 40, 60, 80, 100, 120]\n",
    "for n in num_list:\n",
    "    if n == num:\n",
    "        print('Entered number found in the list.')\n",
    "        break\n",
    "else:\n",
    "    print('Entered number not found in the list.')"
   ]
  },
  {
   "cell_type": "code",
   "execution_count": null,
   "id": "7413632c-a966-4ef0-bfc3-684b096703f5",
   "metadata": {},
   "outputs": [],
   "source": []
  }
 ],
 "metadata": {
  "kernelspec": {
   "display_name": "Python 3 (ipykernel)",
   "language": "python",
   "name": "python3"
  },
  "language_info": {
   "codemirror_mode": {
    "name": "ipython",
    "version": 3
   },
   "file_extension": ".py",
   "mimetype": "text/x-python",
   "name": "python",
   "nbconvert_exporter": "python",
   "pygments_lexer": "ipython3",
   "version": "3.11.9"
  }
 },
 "nbformat": 4,
 "nbformat_minor": 5
}
