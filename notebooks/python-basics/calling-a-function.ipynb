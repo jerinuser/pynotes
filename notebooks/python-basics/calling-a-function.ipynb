{
 "cells": [
  {
   "cell_type": "code",
   "execution_count": 1,
   "id": "3842b0ff-7b54-41ea-9158-ac8b6a9fe724",
   "metadata": {},
   "outputs": [],
   "source": [
    "#  created : 20250321"
   ]
  },
  {
   "cell_type": "code",
   "execution_count": 2,
   "id": "5ac1dcb0-7fab-492a-a40e-02b2a30983d2",
   "metadata": {},
   "outputs": [],
   "source": [
    "#  https://www.scientecheasy.com/2022/12/calling-a-function-in-python.html/"
   ]
  },
  {
   "cell_type": "code",
   "execution_count": 3,
   "id": "57dc1caa-46e6-4156-a37f-9c2d2ef3ee3d",
   "metadata": {},
   "outputs": [],
   "source": [
    "# Execution Style of Calling a Function in Python"
   ]
  },
  {
   "cell_type": "code",
   "execution_count": 4,
   "id": "4871d1d9-7903-4b4d-8552-3ba92f01ae58",
   "metadata": {},
   "outputs": [
    {
     "name": "stdout",
     "output_type": "stream",
     "text": [
      "This function does not contain any parameter.\n"
     ]
    }
   ],
   "source": [
    "# Function definition.\n",
    "def funct_name(): # function header.\n",
    "    print('This function does not contain any parameter.')\n",
    "# Main program execution started from here.\n",
    "funct_name() # function calling.\n"
   ]
  },
  {
   "cell_type": "code",
   "execution_count": 5,
   "id": "dc562867-05d3-4f61-8907-2ee4aca575d3",
   "metadata": {},
   "outputs": [
    {
     "name": "stdout",
     "output_type": "stream",
     "text": [
      "Sum of two numbers =  50\n"
     ]
    }
   ],
   "source": [
    "# Function definition.\n",
    "def calcSum(x, y): # Here, x and y are local variables.\n",
    "    z = x + y # Here, z is a local variable.\n",
    "    print(\"Sum of two numbers = \",z)\n",
    "# Main program.\n",
    "# Calling a function by passing two argument values.\n",
    "calcSum(20, 30)\n"
   ]
  },
  {
   "cell_type": "code",
   "execution_count": 6,
   "id": "3d8d2aac-8964-4716-b617-6479c3435ec6",
   "metadata": {},
   "outputs": [],
   "source": [
    "# Calling a Function from Another Function in Python"
   ]
  },
  {
   "cell_type": "code",
   "execution_count": 13,
   "id": "7e1275cc-ff0d-4269-8bcf-f60f732d404d",
   "metadata": {},
   "outputs": [],
   "source": [
    "# Function1 to take inputs from the user.\n",
    "def funct_in():\n",
    "    num1 = int(input('Enter your first number: '))\n",
    "    num2 = int(input('Enter your second number: '))\n",
    "    calcSum(num1, num2) # Calling function2 from function1."
   ]
  },
  {
   "cell_type": "code",
   "execution_count": 14,
   "id": "f2a0b29e-cba7-40d0-8f7d-35c1636d0c3c",
   "metadata": {},
   "outputs": [],
   "source": [
    "# Function2 to calculate the sum of two numbers.\n",
    "def calcSum(num1, num2):\n",
    "    sum = num1 + num2\n",
    "    print(\"Sum of two numbers = \",sum)"
   ]
  },
  {
   "cell_type": "code",
   "execution_count": 15,
   "id": "23f92f86-601d-4de6-b920-5befb4deadd4",
   "metadata": {},
   "outputs": [
    {
     "name": "stdin",
     "output_type": "stream",
     "text": [
      "Enter your first number:  20\n",
      "Enter your second number:  34\n"
     ]
    },
    {
     "name": "stdout",
     "output_type": "stream",
     "text": [
      "Sum of two numbers =  54\n"
     ]
    }
   ],
   "source": [
    "# Main part of the program.\n",
    "funct_in() # calling function1."
   ]
  },
  {
   "cell_type": "code",
   "execution_count": 17,
   "id": "99520364-d803-4865-8a8c-d6561cd4b5e5",
   "metadata": {},
   "outputs": [],
   "source": [
    "# Examples based on Function Call\n",
    "# "
   ]
  },
  {
   "cell_type": "code",
   "execution_count": 18,
   "id": "ef4498c7-e89d-4cdd-926d-5ce6ce6bc7e0",
   "metadata": {},
   "outputs": [],
   "source": [
    "# Function1 to take the input from the user.\n",
    "def funct_in():\n",
    "    length = int(input('Enter the length of rectangle: '))\n",
    "    breadth = int(input('Enter the breadth of rectangle: '))\n",
    "    calcPer(length, breadth) # Calling function2 from function1.\n",
    "    calcArea(length, breadth) # Calling function3 from the function1."
   ]
  },
  {
   "cell_type": "code",
   "execution_count": 19,
   "id": "68c88f51-c10c-4ade-9e04-aed4ceefd33c",
   "metadata": {},
   "outputs": [],
   "source": [
    "# Function2 to calculate the perimeter of rectangle.\n",
    "def calcPer(l, b):\n",
    "    per = 2 * (l + b)\n",
    "    print(\"Perimeter of the rectangle = \",per)"
   ]
  },
  {
   "cell_type": "code",
   "execution_count": 20,
   "id": "99907ad5-0f92-420d-832c-e21229d3426f",
   "metadata": {},
   "outputs": [],
   "source": [
    "# Function3 to calculate the area of the rectangle.\n",
    "def calcArea(l, b):\n",
    "    area = l * b\n",
    "    print('Area of the rectangle =',area)"
   ]
  },
  {
   "cell_type": "code",
   "execution_count": 21,
   "id": "e8d1d09a-55bb-4b29-bda0-ea1ea73084e8",
   "metadata": {},
   "outputs": [
    {
     "name": "stdin",
     "output_type": "stream",
     "text": [
      "Enter the length of rectangle:  4\n",
      "Enter the breadth of rectangle:  4\n"
     ]
    },
    {
     "name": "stdout",
     "output_type": "stream",
     "text": [
      "Perimeter of the rectangle =  16\n",
      "Area of the rectangle = 16\n"
     ]
    }
   ],
   "source": [
    "# Main part of the program.\n",
    "funct_in() # calling function1."
   ]
  },
  {
   "cell_type": "code",
   "execution_count": 22,
   "id": "6ceaecd1-2958-4c0e-9031-83a77c8b78af",
   "metadata": {},
   "outputs": [],
   "source": [
    "# Example 2:"
   ]
  },
  {
   "cell_type": "code",
   "execution_count": 24,
   "id": "41c91a73-ae68-4f16-a7cc-81e7f122ac62",
   "metadata": {},
   "outputs": [],
   "source": [
    "# Function1 to calculate addition of two numbers.\n",
    "def add(x, y):\n",
    "    z = x + y\n",
    "    print(\"Addition:\",z)"
   ]
  },
  {
   "cell_type": "code",
   "execution_count": 25,
   "id": "49046881-0e22-44ca-9ca3-61195f4891f9",
   "metadata": {},
   "outputs": [],
   "source": [
    "# Function2 to calculate the subtraction.\n",
    "def sub(p, q):\n",
    "    r = p - q\n",
    "    print(\"Subtraction:\",r)\n"
   ]
  },
  {
   "cell_type": "code",
   "execution_count": 26,
   "id": "f45db815-8a61-4cff-983a-ab1373e5c207",
   "metadata": {},
   "outputs": [],
   "source": [
    "# Function3 to calculate the multiplication.\n",
    "def multiply(a, b):\n",
    "    c = a * b\n",
    "    print('Multiplication:',c)"
   ]
  },
  {
   "cell_type": "code",
   "execution_count": 27,
   "id": "e06311e3-23bf-4a1f-91d1-21d12fc1fe02",
   "metadata": {},
   "outputs": [],
   "source": [
    "# Function4 to calculate the division.\n",
    "def div(n, m):\n",
    "    d = n / m\n",
    "    print('Division:',d)"
   ]
  },
  {
   "cell_type": "code",
   "execution_count": 28,
   "id": "68bea360-5e94-47ee-8777-bb52321e750a",
   "metadata": {},
   "outputs": [],
   "source": [
    "# Function5 to take inputs from the user and calling.\n",
    "def main_funct():\n",
    "    n1 = int(input('Enter your first number: '))\n",
    "    n2 = int(input('Enter your second number: '))\n",
    "    add(n1, n2)\n",
    "    sub(n1, n2)\n",
    "    multiply(n1, n2)\n",
    "    div(n1, n2)"
   ]
  },
  {
   "cell_type": "code",
   "execution_count": 29,
   "id": "a406d957-e155-40f0-a2a1-2717f1aaa7d3",
   "metadata": {},
   "outputs": [
    {
     "name": "stdin",
     "output_type": "stream",
     "text": [
      "Enter your first number:  10\n",
      "Enter your second number:  20\n"
     ]
    },
    {
     "name": "stdout",
     "output_type": "stream",
     "text": [
      "Addition: 30\n",
      "Subtraction: -10\n",
      "Multiplication: 200\n",
      "Division: 0.5\n"
     ]
    }
   ],
   "source": [
    "# Main program.\n",
    "main_funct() # calling function5."
   ]
  },
  {
   "cell_type": "code",
   "execution_count": 30,
   "id": "28ce19f2-b672-470c-a1c4-200405f37939",
   "metadata": {},
   "outputs": [],
   "source": [
    "# Example 3:"
   ]
  },
  {
   "cell_type": "code",
   "execution_count": 31,
   "id": "514e3e81-aa02-47b4-83b3-f5f8b0af77c2",
   "metadata": {},
   "outputs": [
    {
     "name": "stdout",
     "output_type": "stream",
     "text": [
      "Square of 5 = 25\n"
     ]
    }
   ],
   "source": [
    "def square(num):\n",
    "    result = num * num\n",
    "    print(\"Square of\",num,\"=\",result)\n",
    "square(5)"
   ]
  },
  {
   "cell_type": "code",
   "execution_count": 32,
   "id": "7eb4a6e5-e395-4fae-aa1c-e18974720e5c",
   "metadata": {},
   "outputs": [],
   "source": [
    "# Example 4:"
   ]
  },
  {
   "cell_type": "code",
   "execution_count": 33,
   "id": "abf536e6-f266-44ae-8a7e-d2754a1c09e2",
   "metadata": {},
   "outputs": [],
   "source": [
    "# Python program to swap two numbers.\n",
    "def swap(x, y):\n",
    "    print('Before swapping: ')\n",
    "    print('x:',x)\n",
    "    print('y:',y)\n",
    "    temp = x\n",
    "    x = y\n",
    "    y = temp\n",
    "    print('After swapping: ')\n",
    "    print('x:',x)\n",
    "    print('y:',y)"
   ]
  },
  {
   "cell_type": "code",
   "execution_count": 34,
   "id": "a59e5802-07e7-41f4-bc97-4f2ec9269438",
   "metadata": {},
   "outputs": [
    {
     "name": "stdout",
     "output_type": "stream",
     "text": [
      "Before swapping: \n",
      "x: 20\n",
      "y: 10\n",
      "After swapping: \n",
      "x: 10\n",
      "y: 20\n"
     ]
    }
   ],
   "source": [
    "# Calling function with passing two arguments.\n",
    "swap(20, 10)"
   ]
  },
  {
   "cell_type": "code",
   "execution_count": 35,
   "id": "64773eb2-879b-4a83-a7c0-8bfc9ee1eadc",
   "metadata": {},
   "outputs": [],
   "source": [
    "# Example 5:"
   ]
  },
  {
   "cell_type": "code",
   "execution_count": 38,
   "id": "a5b496ae-c394-4a8e-8fd2-cc4fd8355ff6",
   "metadata": {},
   "outputs": [
    {
     "name": "stdin",
     "output_type": "stream",
     "text": [
      "Enter your number to check even or odd:  2\n"
     ]
    },
    {
     "name": "stdout",
     "output_type": "stream",
     "text": [
      "2 is an even number.\n"
     ]
    }
   ],
   "source": [
    "# Python program to check a number is even or odd.\n",
    "num = int(input('Enter your number to check even or odd: '))\n",
    "# Create a function.\n",
    "def evenorodd():\n",
    "    if num % 2 == 0:\n",
    "        print(num,'is an even number.')\n",
    "    else:\n",
    "        print(num,'is an odd number.')\n",
    "# Calling function.\n",
    "evenorodd()"
   ]
  },
  {
   "cell_type": "code",
   "execution_count": 45,
   "id": "79262891-5579-4093-819a-ff5090abcc97",
   "metadata": {},
   "outputs": [
    {
     "name": "stdin",
     "output_type": "stream",
     "text": [
      "Enter a year:  2025\n"
     ]
    },
    {
     "name": "stdout",
     "output_type": "stream",
     "text": [
      "2025 is not a leap year.\n"
     ]
    }
   ],
   "source": [
    "# Python program to check a year is leap or not.\n",
    "year = int(input('Enter a year: '))\n",
    "def leap():\n",
    "    if year % 4 == 0 and year % 100 != 0 or year % 400 == 0:\n",
    "        print(year,'is a leap year.')\n",
    "    else:\n",
    "        print(year,'is not a leap year.')\n",
    "# Calling function.\n",
    "leap()"
   ]
  },
  {
   "cell_type": "code",
   "execution_count": 46,
   "id": "d6a3b5c2-2310-48ee-97f5-9b4ec3df6917",
   "metadata": {},
   "outputs": [],
   "source": [
    "# Some More Example Program for Practice"
   ]
  },
  {
   "cell_type": "code",
   "execution_count": 47,
   "id": "635bc3ac-4912-4a96-b771-5070ba4985b3",
   "metadata": {},
   "outputs": [
    {
     "name": "stdin",
     "output_type": "stream",
     "text": [
      "Enter a number to check prime or not:  90\n"
     ]
    },
    {
     "name": "stdout",
     "output_type": "stream",
     "text": [
      "90 is not a prime number.\n"
     ]
    }
   ],
   "source": [
    "# Python program to check a number is prime or not.\n",
    "# Create a function to check conditions for the prime.\n",
    "def primeChecker(n):\n",
    "    # Using if-else statement for checking the number is greater than 1.\n",
    "    if n > 1:\n",
    "        # Iterating over the number using for loop.\n",
    "        for x in range(2, int(n/2) + 1):\n",
    "            # Check the number is divisible or not.\n",
    "            if (n % x) == 0:\n",
    "                print(n, \"is not a prime number.\")\n",
    "                break\n",
    "           # Else part if it is a prime number.\n",
    "            else:\n",
    "                print(n, \"is a prime number.\")\n",
    "    # Else part if the number is not greater than 1.\n",
    "    else:\n",
    "        print(x, \"is not a prime number\")\n",
    "\n",
    "# Main part of the program.\n",
    "# Take a number as input from the user.\n",
    "n = int(input(\"Enter a number to check prime or not: \"))\n",
    "# Calling function with passing input number.\n",
    "primeChecker(n)"
   ]
  },
  {
   "cell_type": "code",
   "execution_count": 48,
   "id": "d8496889-9053-4801-a297-856e3d8c8cc1",
   "metadata": {},
   "outputs": [
    {
     "name": "stdout",
     "output_type": "stream",
     "text": [
      "[1, 4, 9, 16, 25, 36, 49, 64, 81, 100]\n"
     ]
    }
   ],
   "source": [
    "def sqList():\n",
    "  # Creating an empty list that will hold values.\n",
    "    l = list()\n",
    "    for x in range(1, 11):\n",
    "        l.append(x ** 2)\n",
    "    print(l)\n",
    "# Function call.\n",
    "sqList()\n"
   ]
  },
  {
   "cell_type": "code",
   "execution_count": 49,
   "id": "287a68b0-3f83-47c1-a42c-abf417c5de96",
   "metadata": {},
   "outputs": [
    {
     "name": "stdout",
     "output_type": "stream",
     "text": [
      "Total marks obtained: 418\n",
      "Percentage: 83.6\n"
     ]
    }
   ],
   "source": [
    "def totalMarks():\n",
    "  # Marks of five subjects for a student.\n",
    "    marks = [68, 98, 78, 88, 86]\n",
    "  # Transferring individual marks into independent variable.\n",
    "    m1 = marks[0]\n",
    "    m2 = marks[1]\n",
    "    m3 = marks[2]\n",
    "    m4 = marks[3]\n",
    "    m5 = marks[4]\n",
    "  # Total marks.\n",
    "    totMarks = m1 + m2 + m3 + m4 + m5\n",
    "    print('Total marks obtained:',totMarks)\n",
    "  # Percentage.\n",
    "    per = totMarks / 5\n",
    "    print('Percentage:',per)\n",
    "# Function call.\n",
    "totalMarks()\n"
   ]
  },
  {
   "cell_type": "code",
   "execution_count": null,
   "id": "a913813d-591b-4ff4-84b9-a402e10fab80",
   "metadata": {},
   "outputs": [],
   "source": []
  }
 ],
 "metadata": {
  "kernelspec": {
   "display_name": "Python 3 (ipykernel)",
   "language": "python",
   "name": "python3"
  },
  "language_info": {
   "codemirror_mode": {
    "name": "ipython",
    "version": 3
   },
   "file_extension": ".py",
   "mimetype": "text/x-python",
   "name": "python",
   "nbconvert_exporter": "python",
   "pygments_lexer": "ipython3",
   "version": "3.11.9"
  }
 },
 "nbformat": 4,
 "nbformat_minor": 5
}
