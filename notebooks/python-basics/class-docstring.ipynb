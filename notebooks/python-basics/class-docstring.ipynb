{
 "cells": [
  {
   "cell_type": "code",
   "execution_count": 1,
   "id": "3842b0ff-7b54-41ea-9158-ac8b6a9fe724",
   "metadata": {},
   "outputs": [],
   "source": [
    "#  created : 20250113"
   ]
  },
  {
   "cell_type": "code",
   "execution_count": 1,
   "id": "5ac1dcb0-7fab-492a-a40e-02b2a30983d2",
   "metadata": {},
   "outputs": [],
   "source": [
    "#  https://www.scientecheasy.com/2022/09/docstring-in-python.html/"
   ]
  },
  {
   "cell_type": "code",
   "execution_count": 2,
   "id": "57dc1caa-46e6-4156-a37f-9c2d2ef3ee3d",
   "metadata": {},
   "outputs": [],
   "source": [
    "#  class docstring"
   ]
  },
  {
   "cell_type": "code",
   "execution_count": 3,
   "id": "ddcce955-24a0-4fc4-9419-c0ecd45bf70e",
   "metadata": {},
   "outputs": [
    {
     "name": "stdout",
     "output_type": "stream",
     "text": [
      "\n",
      "    This is a class for calculating the area of a rectangle.\n",
      "\n",
      "        Parameters:\n",
      "        l (int) : The length of rectangle.\n",
      "        b (int) : The breadth of rectangle.\n",
      "    \n"
     ]
    }
   ],
   "source": [
    "class Rectangle:\n",
    "    \"\"\"\n",
    "    This is a class for calculating the area of a rectangle.\n",
    "\n",
    "        Parameters:\n",
    "        l (int) : The length of rectangle.\n",
    "        b (int) : The breadth of rectangle.\n",
    "    \"\"\"\n",
    "print(Rectangle.__doc__)"
   ]
  },
  {
   "cell_type": "code",
   "execution_count": 4,
   "id": "6c312ba6-39bb-4648-bf74-c81db39d5c2b",
   "metadata": {},
   "outputs": [],
   "source": [
    "# We can also read docstring using the syntax help()"
   ]
  },
  {
   "cell_type": "code",
   "execution_count": 5,
   "id": "16c621b8-ab7a-453f-a53d-b4054fd6fafd",
   "metadata": {},
   "outputs": [
    {
     "name": "stdout",
     "output_type": "stream",
     "text": [
      "Help on function get_square in module __main__:\n",
      "\n",
      "get_square(x)\n",
      "    This is a method for calculating the square of a number.\n",
      "\n"
     ]
    }
   ],
   "source": [
    "def get_square(x):\n",
    "    \"This is a method for calculating the square of a number.\"\n",
    "    return x * x # It will calculate the square of a number and return the output.\n",
    "help(get_square)"
   ]
  },
  {
   "cell_type": "code",
   "execution_count": 7,
   "id": "fcfffa74-51e3-4b0f-9b19-635afc3988be",
   "metadata": {},
   "outputs": [
    {
     "data": {
      "text/plain": [
       "25"
      ]
     },
     "execution_count": 7,
     "metadata": {},
     "output_type": "execute_result"
    }
   ],
   "source": [
    "get_square(5)"
   ]
  },
  {
   "cell_type": "code",
   "execution_count": 8,
   "id": "705e1a7f-7b41-4867-9635-96f694839b58",
   "metadata": {},
   "outputs": [],
   "source": [
    "def num(a,b):\n",
    "    return a*b\n"
   ]
  },
  {
   "cell_type": "code",
   "execution_count": 9,
   "id": "e49d2fcc-3945-44eb-b5fe-0fe4709d2845",
   "metadata": {},
   "outputs": [
    {
     "data": {
      "text/plain": [
       "900"
      ]
     },
     "execution_count": 9,
     "metadata": {},
     "output_type": "execute_result"
    }
   ],
   "source": [
    "num(10,90)"
   ]
  },
  {
   "cell_type": "code",
   "execution_count": 10,
   "id": "6e948d93-5ad6-4620-a42f-0d3846ee5f72",
   "metadata": {},
   "outputs": [
    {
     "name": "stdout",
     "output_type": "stream",
     "text": [
      "Help on function num in module __main__:\n",
      "\n",
      "num(a, b)\n",
      "\n"
     ]
    }
   ],
   "source": [
    "help(num)"
   ]
  },
  {
   "cell_type": "code",
   "execution_count": null,
   "id": "3720c1d2-6116-4beb-acbe-09c39e585507",
   "metadata": {},
   "outputs": [],
   "source": []
  }
 ],
 "metadata": {
  "kernelspec": {
   "display_name": "Python 3 (ipykernel)",
   "language": "python",
   "name": "python3"
  },
  "language_info": {
   "codemirror_mode": {
    "name": "ipython",
    "version": 3
   },
   "file_extension": ".py",
   "mimetype": "text/x-python",
   "name": "python",
   "nbconvert_exporter": "python",
   "pygments_lexer": "ipython3",
   "version": "3.11.9"
  }
 },
 "nbformat": 4,
 "nbformat_minor": 5
}
