{
 "cells": [
  {
   "cell_type": "code",
   "execution_count": 1,
   "id": "3842b0ff-7b54-41ea-9158-ac8b6a9fe724",
   "metadata": {},
   "outputs": [],
   "source": [
    "#  created : 20250111"
   ]
  },
  {
   "cell_type": "code",
   "execution_count": 2,
   "id": "5ac1dcb0-7fab-492a-a40e-02b2a30983d2",
   "metadata": {},
   "outputs": [],
   "source": [
    "#  https://www.scientecheasy.com/2022/09/reserved-keywords-in-python.html/"
   ]
  },
  {
   "cell_type": "code",
   "execution_count": 1,
   "id": "57dc1caa-46e6-4156-a37f-9c2d2ef3ee3d",
   "metadata": {},
   "outputs": [],
   "source": [
    "#  class Keyword\n"
   ]
  },
  {
   "cell_type": "code",
   "execution_count": 2,
   "id": "e4469aa6-44f7-4fcf-9e4b-bb68728d3c36",
   "metadata": {},
   "outputs": [],
   "source": [
    "#  example for a class declarstion \n"
   ]
  },
  {
   "cell_type": "code",
   "execution_count": 4,
   "id": "4e928ee5-71f0-438d-b5e6-85e3b7e6825c",
   "metadata": {},
   "outputs": [],
   "source": [
    "class ClassExample:\n",
    "    def func1(parameters):\n",
    "        . . . .\n",
    "    def func2(parameters):\n",
    "        . . . ."
   ]
  },
  {
   "cell_type": "code",
   "execution_count": 6,
   "id": "72bf7bcf-8dd7-4711-a848-fc92d0d38c01",
   "metadata": {},
   "outputs": [],
   "source": [
    "with open('myfile.txt', 'w') as file:\n",
    "    file.write('Hi jerin!')"
   ]
  },
  {
   "cell_type": "code",
   "execution_count": 7,
   "id": "3b50f685-2159-4998-a266-548cef800448",
   "metadata": {},
   "outputs": [],
   "source": [
    "#  as Keyword\n"
   ]
  },
  {
   "cell_type": "code",
   "execution_count": 8,
   "id": "08f1fe0e-d7cc-4024-905a-7ed397c06a9a",
   "metadata": {},
   "outputs": [],
   "source": [
    "import math as x"
   ]
  },
  {
   "cell_type": "code",
   "execution_count": 9,
   "id": "b2cfa0bb-13b7-4e1d-8d01-9b91ebca1f78",
   "metadata": {},
   "outputs": [
    {
     "name": "stdout",
     "output_type": "stream",
     "text": [
      "1.0\n"
     ]
    }
   ],
   "source": [
    "print(x.cos(0))"
   ]
  },
  {
   "cell_type": "code",
   "execution_count": 10,
   "id": "08cff237-0359-40e6-b26a-ba615bef791f",
   "metadata": {},
   "outputs": [],
   "source": [
    "#  pass keyword\n"
   ]
  },
  {
   "cell_type": "code",
   "execution_count": 11,
   "id": "b1a64d26-2448-4743-b782-1ac8cc514669",
   "metadata": {},
   "outputs": [],
   "source": [
    "def func():\n",
    "    pass\n",
    "class A:\n",
    "    pass"
   ]
  },
  {
   "cell_type": "code",
   "execution_count": 12,
   "id": "fa35f6a1-7638-468d-827f-ed42a0c698bd",
   "metadata": {},
   "outputs": [],
   "source": [
    "#  lambda Keyword"
   ]
  },
  {
   "cell_type": "code",
   "execution_count": 13,
   "id": "cc3658e7-533c-4175-a413-7b141a25b8cb",
   "metadata": {},
   "outputs": [
    {
     "name": "stdout",
     "output_type": "stream",
     "text": [
      "343\n"
     ]
    }
   ],
   "source": [
    "cube = lambda x: x * x * x\n",
    "print(cube(7))"
   ]
  },
  {
   "cell_type": "code",
   "execution_count": 14,
   "id": "66731d84-abff-4bb3-a55a-ab39003cc24e",
   "metadata": {},
   "outputs": [],
   "source": [
    "#  import Keyword\n"
   ]
  },
  {
   "cell_type": "code",
   "execution_count": 16,
   "id": "e987615d-e3cb-48fd-97aa-4d5871625320",
   "metadata": {},
   "outputs": [],
   "source": [
    "import math"
   ]
  },
  {
   "cell_type": "code",
   "execution_count": 17,
   "id": "c7111b12-ce56-4ba0-8094-b8ff48bc22d1",
   "metadata": {},
   "outputs": [
    {
     "name": "stdout",
     "output_type": "stream",
     "text": [
      "5.0\n"
     ]
    }
   ],
   "source": [
    "\n",
    "print(math.sqrt(25))"
   ]
  },
  {
   "cell_type": "code",
   "execution_count": 18,
   "id": "bcf96cf8-a063-46a3-9744-dd102580ce85",
   "metadata": {},
   "outputs": [],
   "source": [
    "#  from Keyword\n"
   ]
  },
  {
   "cell_type": "code",
   "execution_count": 19,
   "id": "795f1131-9a42-480a-b559-fe97d3639638",
   "metadata": {},
   "outputs": [],
   "source": [
    "from math import sqrt"
   ]
  },
  {
   "cell_type": "code",
   "execution_count": 20,
   "id": "acb2f023-7920-482c-bd36-ed3acb9cdaf4",
   "metadata": {},
   "outputs": [
    {
     "name": "stdout",
     "output_type": "stream",
     "text": [
      "25.0\n"
     ]
    }
   ],
   "source": [
    "print(sqrt(625))"
   ]
  },
  {
   "cell_type": "code",
   "execution_count": 21,
   "id": "fb4c90c6-bbee-4787-b229-49e6818da7e2",
   "metadata": {},
   "outputs": [],
   "source": [
    "#  del Keyword\n"
   ]
  },
  {
   "cell_type": "code",
   "execution_count": 22,
   "id": "ee5173bb-a6db-407f-8add-ee37330346f9",
   "metadata": {},
   "outputs": [],
   "source": [
    "my_var1 = 200\n",
    "my_var2 = \"Scientech Easy\""
   ]
  },
  {
   "cell_type": "code",
   "execution_count": 23,
   "id": "3d8e7250-0dcc-4783-81d0-a0617d0f5208",
   "metadata": {},
   "outputs": [
    {
     "name": "stdout",
     "output_type": "stream",
     "text": [
      "200\n",
      "Scientech Easy\n"
     ]
    }
   ],
   "source": [
    "print(my_var1)\n",
    "print(my_var2)"
   ]
  },
  {
   "cell_type": "code",
   "execution_count": 24,
   "id": "5735f8a6-0e8f-4789-859c-c44fbf0cc4bc",
   "metadata": {},
   "outputs": [],
   "source": [
    "del my_var1\n",
    "del my_var2"
   ]
  },
  {
   "cell_type": "code",
   "execution_count": 25,
   "id": "e123840f-3df0-4fc6-9d3d-d3eeab546e04",
   "metadata": {},
   "outputs": [
    {
     "ename": "NameError",
     "evalue": "name 'my_var1' is not defined",
     "output_type": "error",
     "traceback": [
      "\u001b[0;31m---------------------------------------------------------------------------\u001b[0m",
      "\u001b[0;31mNameError\u001b[0m                                 Traceback (most recent call last)",
      "Cell \u001b[0;32mIn[25], line 1\u001b[0m\n\u001b[0;32m----> 1\u001b[0m \u001b[38;5;28mprint\u001b[39m(\u001b[43mmy_var1\u001b[49m)\n\u001b[1;32m      2\u001b[0m \u001b[38;5;28mprint\u001b[39m(my_var2)\n",
      "\u001b[0;31mNameError\u001b[0m: name 'my_var1' is not defined"
     ]
    }
   ],
   "source": [
    "print(my_var1)\n",
    "print(my_var2)"
   ]
  },
  {
   "cell_type": "code",
   "execution_count": 26,
   "id": "c5da3c59-e7e9-4692-ad80-6cb178359310",
   "metadata": {},
   "outputs": [],
   "source": [
    "# global Keyword\n"
   ]
  },
  {
   "cell_type": "code",
   "execution_count": 40,
   "id": "00989230-c27b-4f78-b82e-adca0e749255",
   "metadata": {},
   "outputs": [],
   "source": [
    "g_var = 50\n",
    "def func_read():\n",
    "    print(g_var)\n",
    "def func_write():\n",
    "    global g_var\n",
    "    g_var = 100"
   ]
  },
  {
   "cell_type": "code",
   "execution_count": 41,
   "id": "5b1f4e37-994b-410c-ab4f-d40e94349f15",
   "metadata": {},
   "outputs": [
    {
     "name": "stdout",
     "output_type": "stream",
     "text": [
      "50\n",
      "100\n"
     ]
    }
   ],
   "source": [
    "func_read()\n",
    "func_write()\n",
    "func_read()"
   ]
  },
  {
   "cell_type": "code",
   "execution_count": 42,
   "id": "3860b595-868c-4f7b-bf9d-85e197b7e2be",
   "metadata": {},
   "outputs": [],
   "source": [
    "#  nonlocal Keyword\n"
   ]
  },
  {
   "cell_type": "code",
   "execution_count": 43,
   "id": "f8f8909d-9973-446e-9b2e-a95430c07839",
   "metadata": {},
   "outputs": [],
   "source": [
    "def outer_func():\n",
    "    x = 50\n",
    "    def inner_func():\n",
    "        nonlocal x\n",
    "        x = 100\n",
    "        print(\"Inner function: \",x)\n",
    "    inner_func()\n",
    "    print(\"Outer function: \",x)\n"
   ]
  },
  {
   "cell_type": "code",
   "execution_count": 44,
   "id": "4e47dbee-0a7e-40a1-ba35-60b8896248dc",
   "metadata": {},
   "outputs": [
    {
     "name": "stdout",
     "output_type": "stream",
     "text": [
      "Inner function:  100\n",
      "Outer function:  100\n"
     ]
    }
   ],
   "source": [
    "outer_func()"
   ]
  },
  {
   "cell_type": "code",
   "execution_count": 51,
   "id": "3b95a8dc-7a5b-43c3-a317-8b69458a0311",
   "metadata": {},
   "outputs": [],
   "source": [
    "def outer_func():\n",
    "    x = 50\n",
    "    def inner_func():\n",
    "        x = 100\n",
    "        print(\"Inner function: \",x)\n",
    "    inner_func()\n",
    "    print(\"Outer function: \",x)"
   ]
  },
  {
   "cell_type": "code",
   "execution_count": 52,
   "id": "f21cefa2-7ba3-4e1f-aba8-676990ae50ab",
   "metadata": {},
   "outputs": [
    {
     "name": "stdout",
     "output_type": "stream",
     "text": [
      "Inner function:  100\n",
      "Outer function:  50\n"
     ]
    }
   ],
   "source": [
    "outer_func()"
   ]
  },
  {
   "cell_type": "code",
   "execution_count": null,
   "id": "8193be55-aaa7-4d48-b0c1-45661a4d4f56",
   "metadata": {},
   "outputs": [],
   "source": []
  }
 ],
 "metadata": {
  "kernelspec": {
   "display_name": "Python 3 (ipykernel)",
   "language": "python",
   "name": "python3"
  },
  "language_info": {
   "codemirror_mode": {
    "name": "ipython",
    "version": 3
   },
   "file_extension": ".py",
   "mimetype": "text/x-python",
   "name": "python",
   "nbconvert_exporter": "python",
   "pygments_lexer": "ipython3",
   "version": "3.11.9"
  }
 },
 "nbformat": 4,
 "nbformat_minor": 5
}
