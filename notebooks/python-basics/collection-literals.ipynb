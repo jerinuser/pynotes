{
 "cells": [
  {
   "cell_type": "code",
   "execution_count": 1,
   "id": "3842b0ff-7b54-41ea-9158-ac8b6a9fe724",
   "metadata": {},
   "outputs": [],
   "source": [
    "#  created : 20250112"
   ]
  },
  {
   "cell_type": "code",
   "execution_count": 2,
   "id": "5ac1dcb0-7fab-492a-a40e-02b2a30983d2",
   "metadata": {},
   "outputs": [],
   "source": [
    "#  https://www.scientecheasy.com/2022/09/reserved-keywords-in-python.html/"
   ]
  },
  {
   "cell_type": "code",
   "execution_count": 3,
   "id": "57dc1caa-46e6-4156-a37f-9c2d2ef3ee3d",
   "metadata": {},
   "outputs": [],
   "source": [
    "#  Collection literals in Python"
   ]
  },
  {
   "cell_type": "code",
   "execution_count": null,
   "id": "a90f616e-6d4e-43fe-9ec4-148b444655b6",
   "metadata": {},
   "outputs": [],
   "source": []
  },
  {
   "cell_type": "code",
   "execution_count": 4,
   "id": "4e28b9f6-7f5c-4453-8cea-a989c389118f",
   "metadata": {},
   "outputs": [],
   "source": [
    "#  List literals\n"
   ]
  },
  {
   "cell_type": "code",
   "execution_count": 7,
   "id": "a77997f5-1177-4814-9d2f-1203269b9283",
   "metadata": {},
   "outputs": [],
   "source": [
    "address = ['Scientech Easy', 'Joraphatak Road', 'Dhanbad']\n"
   ]
  },
  {
   "cell_type": "code",
   "execution_count": 6,
   "id": "2d825f48-f5f7-42f9-9902-eb123fe617bc",
   "metadata": {},
   "outputs": [
    {
     "name": "stdout",
     "output_type": "stream",
     "text": [
      "['Scientech Easy', 'Joraphatak Road', 'Dhanbad']\n"
     ]
    }
   ],
   "source": [
    "print(address)"
   ]
  },
  {
   "cell_type": "code",
   "execution_count": 8,
   "id": "078b736b-25a8-486e-b05f-4341af173d87",
   "metadata": {},
   "outputs": [],
   "source": [
    "num = [1, 2, 3, 4, 5, 6, 7, 8, 9, 10]"
   ]
  },
  {
   "cell_type": "code",
   "execution_count": 9,
   "id": "aa570025-f645-44a6-bfb6-6d03e2d3e965",
   "metadata": {},
   "outputs": [
    {
     "name": "stdout",
     "output_type": "stream",
     "text": [
      "[1, 2, 3, 4, 5, 6, 7, 8, 9, 10]\n"
     ]
    }
   ],
   "source": [
    "print(num)"
   ]
  },
  {
   "cell_type": "code",
   "execution_count": 10,
   "id": "68c05b34-984d-4274-b5eb-03681481355e",
   "metadata": {},
   "outputs": [],
   "source": [
    "mix=[1,1,2,3,'jerin',0.8,-1]"
   ]
  },
  {
   "cell_type": "code",
   "execution_count": 11,
   "id": "a610f47a-48e6-43e4-93bb-f2da50a566b1",
   "metadata": {},
   "outputs": [
    {
     "name": "stdout",
     "output_type": "stream",
     "text": [
      "[1, 1, 2, 3, 'jerin', 0.8, -1]\n"
     ]
    }
   ],
   "source": [
    "print(mix)"
   ]
  },
  {
   "cell_type": "code",
   "execution_count": 12,
   "id": "ffb04880-3c44-405f-a577-e8dc87000f6b",
   "metadata": {},
   "outputs": [],
   "source": [
    "#  Dictionary Literals"
   ]
  },
  {
   "cell_type": "code",
   "execution_count": 13,
   "id": "119945d2-82c3-46a4-8a61-9cf73f3f6245",
   "metadata": {},
   "outputs": [],
   "source": [
    "fruits_dict = {\n",
    "    'a': 'apple',\n",
    "    'o': 'orange',\n",
    "    'b': 'banana'\n",
    "}"
   ]
  },
  {
   "cell_type": "code",
   "execution_count": 14,
   "id": "89e3357c-4712-40b8-ac3d-84a46083d216",
   "metadata": {},
   "outputs": [
    {
     "name": "stdout",
     "output_type": "stream",
     "text": [
      "{'a': 'apple', 'o': 'orange', 'b': 'banana'}\n"
     ]
    }
   ],
   "source": [
    "print(fruits_dict)"
   ]
  },
  {
   "cell_type": "code",
   "execution_count": 15,
   "id": "43d93d3e-e633-49e5-b594-c6245754ba1c",
   "metadata": {},
   "outputs": [],
   "source": [
    "info_dict = {\n",
    "    \"name\":\"jerin\",\n",
    "    \"age\":23,\n",
    "    \"studies\":\"python\"\n",
    "}"
   ]
  },
  {
   "cell_type": "code",
   "execution_count": 17,
   "id": "a39d53df-6d31-4623-9c45-7fcde8b38860",
   "metadata": {},
   "outputs": [
    {
     "name": "stdout",
     "output_type": "stream",
     "text": [
      "{'name': 'jerin', 'age': 23, 'studies': 'python'}\n"
     ]
    }
   ],
   "source": [
    "print(info_dict)"
   ]
  },
  {
   "cell_type": "code",
   "execution_count": 18,
   "id": "aa286eeb-8b37-430e-9baa-6ab955d0c654",
   "metadata": {},
   "outputs": [],
   "source": [
    "#  Tuple Literals\n"
   ]
  },
  {
   "cell_type": "code",
   "execution_count": 19,
   "id": "ec5ebed2-8215-4dea-a759-e9f4cac8cf38",
   "metadata": {},
   "outputs": [],
   "source": [
    "even_numbers = (2, 4, 6, 8, 10, 12)\n",
    "vowels = ('a','e','i','o','u')\n",
    "direction = ('North', 'South', 'East', 'West')\n"
   ]
  },
  {
   "cell_type": "code",
   "execution_count": 20,
   "id": "80b5b3c5-ab04-46af-b358-a5515fa7c612",
   "metadata": {},
   "outputs": [
    {
     "name": "stdout",
     "output_type": "stream",
     "text": [
      "(2, 4, 6, 8, 10, 12)\n",
      "('a', 'e', 'i', 'o', 'u')\n",
      "('North', 'South', 'East', 'West')\n"
     ]
    }
   ],
   "source": [
    "print(even_numbers)\n",
    "print(vowels)\n",
    "print(direction)"
   ]
  },
  {
   "cell_type": "code",
   "execution_count": 22,
   "id": "2a4fd6b2-984c-47fe-9870-08af72ca2403",
   "metadata": {},
   "outputs": [
    {
     "name": "stdout",
     "output_type": "stream",
     "text": [
      "<class 'tuple'>\n",
      "<class 'tuple'>\n",
      "<class 'tuple'>\n"
     ]
    }
   ],
   "source": [
    "print(type(even_numbers))\n",
    "print(type(vowels))\n",
    "print(type(direction))"
   ]
  },
  {
   "cell_type": "code",
   "execution_count": 23,
   "id": "22f2cfbc-4cd3-46bb-8157-0577eb957c8f",
   "metadata": {},
   "outputs": [],
   "source": [
    "# Set Literals"
   ]
  },
  {
   "cell_type": "code",
   "execution_count": 24,
   "id": "0de6eddf-ff9a-45f5-b7b3-ec31e38bcf64",
   "metadata": {},
   "outputs": [],
   "source": [
    "fruits = {'Apple', 'Mango', 'Banana', 'Orange', 'Grape'}\n"
   ]
  },
  {
   "cell_type": "code",
   "execution_count": 25,
   "id": "a83f2747-0c27-49aa-95a2-4e38af81cd2f",
   "metadata": {},
   "outputs": [
    {
     "name": "stdout",
     "output_type": "stream",
     "text": [
      "{'Banana', 'Mango', 'Grape', 'Orange', 'Apple'}\n"
     ]
    }
   ],
   "source": [
    "print(fruits)"
   ]
  },
  {
   "cell_type": "code",
   "execution_count": 26,
   "id": "47357bda-0480-48cb-997a-57e70d4c73d6",
   "metadata": {},
   "outputs": [],
   "source": [
    "name = {\"jerin\",\"jerin\",\"anbu\",\"jeno\",\"ram\"}"
   ]
  },
  {
   "cell_type": "code",
   "execution_count": 27,
   "id": "22bab179-5800-4622-92d0-20909ae83592",
   "metadata": {},
   "outputs": [
    {
     "name": "stdout",
     "output_type": "stream",
     "text": [
      "{'ram', 'jerin', 'jeno', 'anbu'}\n"
     ]
    }
   ],
   "source": [
    "print(name)"
   ]
  },
  {
   "cell_type": "code",
   "execution_count": null,
   "id": "f701638d-f71a-4ca8-8619-0a6542f80f9c",
   "metadata": {},
   "outputs": [],
   "source": []
  }
 ],
 "metadata": {
  "kernelspec": {
   "display_name": "Python 3 (ipykernel)",
   "language": "python",
   "name": "python3"
  },
  "language_info": {
   "codemirror_mode": {
    "name": "ipython",
    "version": 3
   },
   "file_extension": ".py",
   "mimetype": "text/x-python",
   "name": "python",
   "nbconvert_exporter": "python",
   "pygments_lexer": "ipython3",
   "version": "3.11.9"
  }
 },
 "nbformat": 4,
 "nbformat_minor": 5
}
