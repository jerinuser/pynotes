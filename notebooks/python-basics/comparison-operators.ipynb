{
 "cells": [
  {
   "cell_type": "code",
   "execution_count": 1,
   "id": "3842b0ff-7b54-41ea-9158-ac8b6a9fe724",
   "metadata": {},
   "outputs": [],
   "source": [
    "#  created : 20250113"
   ]
  },
  {
   "cell_type": "code",
   "execution_count": 1,
   "id": "5ac1dcb0-7fab-492a-a40e-02b2a30983d2",
   "metadata": {},
   "outputs": [],
   "source": [
    "#  https://www.scientecheasy.com/2022/10/comparison-operators-in-python.html/"
   ]
  },
  {
   "cell_type": "code",
   "execution_count": 2,
   "id": "57dc1caa-46e6-4156-a37f-9c2d2ef3ee3d",
   "metadata": {},
   "outputs": [],
   "source": [
    "#  Comparison  Operators"
   ]
  },
  {
   "cell_type": "code",
   "execution_count": 4,
   "id": "08d2053c-fe61-40d6-a2a0-309fac3d76e8",
   "metadata": {},
   "outputs": [],
   "source": [
    "# Equal to (==)\n"
   ]
  },
  {
   "cell_type": "code",
   "execution_count": 15,
   "id": "63c224b7-d1ea-4295-b4bb-72695773f0b0",
   "metadata": {},
   "outputs": [
    {
     "name": "stdout",
     "output_type": "stream",
     "text": [
      "True\n"
     ]
    }
   ],
   "source": [
    "x = 20\n",
    "y = 20\n",
    "print( x == y)"
   ]
  },
  {
   "cell_type": "code",
   "execution_count": 14,
   "id": "d63f12cc-ee98-4bc5-b9ae-ce0a71fcaf0b",
   "metadata": {},
   "outputs": [
    {
     "name": "stdout",
     "output_type": "stream",
     "text": [
      "True\n"
     ]
    }
   ],
   "source": [
    "p = 'My name is John'\n",
    "q = 'My name is John'\n",
    "print( p == q)"
   ]
  },
  {
   "cell_type": "code",
   "execution_count": 12,
   "id": "3d2a3f6d-6046-47f4-91f1-0b3a3ffab71a",
   "metadata": {},
   "outputs": [
    {
     "name": "stdout",
     "output_type": "stream",
     "text": [
      "False\n"
     ]
    }
   ],
   "source": [
    "r = 'Text'\n",
    "s = 'text'\n",
    "print( r == s)"
   ]
  },
  {
   "cell_type": "code",
   "execution_count": 9,
   "id": "c6d26758-17f5-4a3a-b1a5-f8a71923c7b2",
   "metadata": {},
   "outputs": [
    {
     "name": "stdout",
     "output_type": "stream",
     "text": [
      "False\n"
     ]
    }
   ],
   "source": [
    "t = [1, 2, 3, 4]\n",
    "u = [1, 2, 3]\n",
    "print( t == u)"
   ]
  },
  {
   "cell_type": "code",
   "execution_count": 16,
   "id": "e30bf8b1-2584-4d26-950d-96d2775b564d",
   "metadata": {},
   "outputs": [
    {
     "name": "stdout",
     "output_type": "stream",
     "text": [
      "True\n"
     ]
    }
   ],
   "source": [
    "List1 = [10, 20, 30, 40, 50]\n",
    "List2 = List1\n",
    "print( List1 == List2)"
   ]
  },
  {
   "cell_type": "code",
   "execution_count": 17,
   "id": "cff3ccca-8d7b-44e5-ac4e-dac216f887ba",
   "metadata": {},
   "outputs": [
    {
     "name": "stdout",
     "output_type": "stream",
     "text": [
      "True\n"
     ]
    }
   ],
   "source": [
    "x = 50.0\n",
    "y = 50\n",
    "print(x == y)"
   ]
  },
  {
   "cell_type": "code",
   "execution_count": 18,
   "id": "b746d5c5-ac2b-44b3-a16c-4a0efd465e1a",
   "metadata": {},
   "outputs": [
    {
     "name": "stdout",
     "output_type": "stream",
     "text": [
      "True\n"
     ]
    }
   ],
   "source": [
    "str1 = 'My name is John'\n",
    "str2 = str1\n",
    "print(str1 == str2)\n"
   ]
  },
  {
   "cell_type": "code",
   "execution_count": 19,
   "id": "ac8bad8b-3dc4-4975-80ea-d92c8c236c02",
   "metadata": {},
   "outputs": [
    {
     "name": "stdout",
     "output_type": "stream",
     "text": [
      "True\n"
     ]
    }
   ],
   "source": [
    "a = True\n",
    "b = 1\n",
    "print(a == b)"
   ]
  },
  {
   "cell_type": "code",
   "execution_count": 20,
   "id": "0217c32f-82f9-468b-ae18-3a717866bc4f",
   "metadata": {},
   "outputs": [],
   "source": [
    "#   Not equal to (!=)"
   ]
  },
  {
   "cell_type": "code",
   "execution_count": 21,
   "id": "6fc82e54-f58c-429f-9560-52c0e12bc08c",
   "metadata": {},
   "outputs": [
    {
     "name": "stdout",
     "output_type": "stream",
     "text": [
      "True\n"
     ]
    }
   ],
   "source": [
    "x = 50\n",
    "y = 90\n",
    "print( x != y)"
   ]
  },
  {
   "cell_type": "code",
   "execution_count": 22,
   "id": "5a78aa75-de92-405c-bfe4-3eae65e1209d",
   "metadata": {},
   "outputs": [
    {
     "name": "stdout",
     "output_type": "stream",
     "text": [
      "False\n"
     ]
    }
   ],
   "source": [
    "str1 = 'My name is John'\n",
    "str2 = str1\n",
    "print( str1 != str2)"
   ]
  },
  {
   "cell_type": "code",
   "execution_count": 24,
   "id": "e462aa2d-f7b6-4a5c-bf42-466cef969088",
   "metadata": {},
   "outputs": [
    {
     "name": "stdout",
     "output_type": "stream",
     "text": [
      "False\n"
     ]
    }
   ],
   "source": [
    "a = True\n",
    "b = 1\n",
    "print( a != b)\n"
   ]
  },
  {
   "cell_type": "code",
   "execution_count": 25,
   "id": "86c195d9-560f-4dca-a906-925f0f336a13",
   "metadata": {},
   "outputs": [
    {
     "name": "stdout",
     "output_type": "stream",
     "text": [
      "False\n"
     ]
    }
   ],
   "source": [
    "p = False\n",
    "q = 0\n",
    "print( p != q)\n"
   ]
  },
  {
   "cell_type": "code",
   "execution_count": 26,
   "id": "f9f6416c-91c0-4c4a-b004-ba63f3938832",
   "metadata": {},
   "outputs": [
    {
     "name": "stdout",
     "output_type": "stream",
     "text": [
      "True\n"
     ]
    }
   ],
   "source": [
    "r = '50'\n",
    "s = 50\n",
    "print( r != s)"
   ]
  },
  {
   "cell_type": "code",
   "execution_count": 27,
   "id": "8e98ceb0-c3fc-4616-b31f-04c90e2ce873",
   "metadata": {},
   "outputs": [],
   "source": [
    "List1 = [10, 20, 'Python', '30']\n",
    "List2 = [10, 20, 'Python', 30]"
   ]
  },
  {
   "cell_type": "code",
   "execution_count": 28,
   "id": "e8cde3bf-8f88-422a-bc62-74e793e32239",
   "metadata": {},
   "outputs": [
    {
     "name": "stdout",
     "output_type": "stream",
     "text": [
      "True\n"
     ]
    }
   ],
   "source": [
    "print(List1 != List2)"
   ]
  },
  {
   "cell_type": "code",
   "execution_count": 29,
   "id": "96fdaa8d-4d69-4af8-892d-6c5ff9f91fee",
   "metadata": {},
   "outputs": [],
   "source": [
    "Dict1 = {\n",
    "     1: 'a',\n",
    "     2: '20'\n",
    "}\n",
    "Dict2 = {\n",
    "    1: 'a',\n",
    "    2: '20'\n",
    "}"
   ]
  },
  {
   "cell_type": "code",
   "execution_count": 30,
   "id": "40dfe620-5365-4a47-969d-6b60305b58ce",
   "metadata": {},
   "outputs": [
    {
     "name": "stdout",
     "output_type": "stream",
     "text": [
      "False\n"
     ]
    }
   ],
   "source": [
    "print(Dict1 != Dict2)"
   ]
  },
  {
   "cell_type": "code",
   "execution_count": 31,
   "id": "4fa2d213-55cd-407c-8c7e-b65c3cde14e5",
   "metadata": {},
   "outputs": [],
   "source": [
    "#  Greater than (>)\n"
   ]
  },
  {
   "cell_type": "code",
   "execution_count": 32,
   "id": "d380c89a-83f8-4225-b2ec-d4185aec33f3",
   "metadata": {},
   "outputs": [
    {
     "name": "stdout",
     "output_type": "stream",
     "text": [
      "True\n",
      "False\n"
     ]
    }
   ],
   "source": [
    "num1 = 60\n",
    "num2 = 50\n",
    "\n",
    "\n",
    "print(num1 > num2)\n",
    "print(num1 + 20 - 20 > num2 + 20)"
   ]
  },
  {
   "cell_type": "code",
   "execution_count": 33,
   "id": "4b4fdc53-3231-47e9-9239-9837bdb11cc2",
   "metadata": {},
   "outputs": [
    {
     "name": "stdout",
     "output_type": "stream",
     "text": [
      "False\n"
     ]
    }
   ],
   "source": [
    "n1 = 20\n",
    "n2 = n1\n",
    "\n",
    "\n",
    "print(n1 > n2)"
   ]
  },
  {
   "cell_type": "code",
   "execution_count": 35,
   "id": "d56b655d-568e-454f-9aab-c7221b5b3cb6",
   "metadata": {},
   "outputs": [
    {
     "name": "stdout",
     "output_type": "stream",
     "text": [
      "True\n"
     ]
    }
   ],
   "source": [
    "str1 = 'Python' # --> considered by len\n",
    "str2 = 'Pythe'\n",
    "\n",
    "\n",
    "print(str1 > str2)"
   ]
  },
  {
   "cell_type": "code",
   "execution_count": 37,
   "id": "eb701f2b-4b3d-4212-bdff-ce59bd3254fa",
   "metadata": {},
   "outputs": [
    {
     "ename": "TypeError",
     "evalue": "'>' not supported between instances of 'str' and 'int'",
     "output_type": "error",
     "traceback": [
      "\u001b[0;31m---------------------------------------------------------------------------\u001b[0m",
      "\u001b[0;31mTypeError\u001b[0m                                 Traceback (most recent call last)",
      "Cell \u001b[0;32mIn[37], line 3\u001b[0m\n\u001b[1;32m      1\u001b[0m str1 \u001b[38;5;241m=\u001b[39m \u001b[38;5;124m'\u001b[39m\u001b[38;5;124mPython\u001b[39m\u001b[38;5;124m'\u001b[39m \u001b[38;5;66;03m#--> different data type will raise a error \u001b[39;00m\n\u001b[1;32m      2\u001b[0m str2 \u001b[38;5;241m=\u001b[39m \u001b[38;5;241m20\u001b[39m\n\u001b[0;32m----> 3\u001b[0m \u001b[38;5;28mprint\u001b[39m(\u001b[43mstr1\u001b[49m\u001b[43m \u001b[49m\u001b[38;5;241;43m>\u001b[39;49m\u001b[43m \u001b[49m\u001b[43mstr2\u001b[49m)\n",
      "\u001b[0;31mTypeError\u001b[0m: '>' not supported between instances of 'str' and 'int'"
     ]
    }
   ],
   "source": [
    "str1 = 'Python' #--> different data type will raise a error \n",
    "str2 = 20\n",
    "print(str1 > str2)"
   ]
  },
  {
   "cell_type": "code",
   "execution_count": 38,
   "id": "51c8c66b-98ae-4c59-b636-2e9c4d9d2cf9",
   "metadata": {},
   "outputs": [
    {
     "name": "stdout",
     "output_type": "stream",
     "text": [
      "True\n"
     ]
    }
   ],
   "source": [
    "str1 = 'Python'\n",
    "str2 = '20'\n",
    "print(str1 > str2)\n"
   ]
  },
  {
   "cell_type": "code",
   "execution_count": 39,
   "id": "3fa29c58-7d3c-4f47-a14d-0a2953e345ab",
   "metadata": {},
   "outputs": [
    {
     "name": "stdout",
     "output_type": "stream",
     "text": [
      "True\n"
     ]
    }
   ],
   "source": [
    "p = True\n",
    "q = 2\n",
    "print(q > p)"
   ]
  },
  {
   "cell_type": "code",
   "execution_count": 40,
   "id": "4d9397ca-7e20-4885-b5f1-f2230b7d0102",
   "metadata": {},
   "outputs": [
    {
     "name": "stdout",
     "output_type": "stream",
     "text": [
      "True\n"
     ]
    }
   ],
   "source": [
    "r = False\n",
    "s = -1\n",
    "print(r > s)"
   ]
  },
  {
   "cell_type": "code",
   "execution_count": 41,
   "id": "b97a9a57-2c55-4828-9b5f-4b10f99dbe2f",
   "metadata": {},
   "outputs": [
    {
     "name": "stdout",
     "output_type": "stream",
     "text": [
      "False\n"
     ]
    }
   ],
   "source": [
    "List1 = [10, 20, 30]\n",
    "List2 = [10, 20, 40]\n",
    "print(List1 > List2)"
   ]
  },
  {
   "cell_type": "code",
   "execution_count": 42,
   "id": "0e1cdcc3-d8fa-4ddb-8efc-0c781a6baf27",
   "metadata": {},
   "outputs": [],
   "source": [
    "#  Less than (<)"
   ]
  },
  {
   "cell_type": "code",
   "execution_count": 43,
   "id": "0b931d84-d594-4a06-abc1-823470174bf2",
   "metadata": {},
   "outputs": [
    {
     "name": "stdout",
     "output_type": "stream",
     "text": [
      "True\n"
     ]
    }
   ],
   "source": [
    "num1 = 20\n",
    "num2 = 20.05\n",
    "print(num1 < num2)"
   ]
  },
  {
   "cell_type": "code",
   "execution_count": 44,
   "id": "4257b8a9-3b07-4aa5-b338-e8e1e660372c",
   "metadata": {},
   "outputs": [
    {
     "name": "stdout",
     "output_type": "stream",
     "text": [
      "False\n"
     ]
    }
   ],
   "source": [
    "exp1 = 20 * 20 % 20\n",
    "exp2 = 20 + 20 / 20\n",
    "print(exp2 < exp1)"
   ]
  },
  {
   "cell_type": "code",
   "execution_count": 45,
   "id": "e0ffb376-ddff-40a3-aebb-981e659c88a4",
   "metadata": {},
   "outputs": [
    {
     "name": "stdout",
     "output_type": "stream",
     "text": [
      "True\n"
     ]
    }
   ],
   "source": [
    "str1 = 'Python'\n",
    "str2 = 'Text'\n",
    "print(str1 < str2)"
   ]
  },
  {
   "cell_type": "code",
   "execution_count": 46,
   "id": "b81190a5-aa77-4867-942a-2431a1ba454b",
   "metadata": {},
   "outputs": [
    {
     "name": "stdout",
     "output_type": "stream",
     "text": [
      "True\n"
     ]
    }
   ],
   "source": [
    "p = True\n",
    "q = 0\n",
    "print(q < p)"
   ]
  },
  {
   "cell_type": "code",
   "execution_count": 47,
   "id": "322299fb-6ead-4cb1-89b5-a5113272922e",
   "metadata": {},
   "outputs": [
    {
     "name": "stdout",
     "output_type": "stream",
     "text": [
      "False\n"
     ]
    }
   ],
   "source": [
    "r = False\n",
    "s = -2\n",
    "print(r < s)"
   ]
  },
  {
   "cell_type": "code",
   "execution_count": 48,
   "id": "f360b304-dee0-4a54-b7bc-7a7e056e6c79",
   "metadata": {},
   "outputs": [
    {
     "name": "stdout",
     "output_type": "stream",
     "text": [
      "True\n"
     ]
    }
   ],
   "source": [
    "List1 = [1, 2, 3]\n",
    "List2 = [1, 2, 4]\n",
    "print(List1 < List2)"
   ]
  },
  {
   "cell_type": "code",
   "execution_count": 49,
   "id": "4feaa956-c084-4b66-a66c-292e8934d603",
   "metadata": {},
   "outputs": [],
   "source": [
    "# Greater than or equal to (>=)\n"
   ]
  },
  {
   "cell_type": "code",
   "execution_count": 50,
   "id": "a8f0feb3-c303-47fa-a0e9-e608a447e076",
   "metadata": {},
   "outputs": [
    {
     "name": "stdout",
     "output_type": "stream",
     "text": [
      "True\n"
     ]
    }
   ],
   "source": [
    "num1 = 20.20\n",
    "num2 = 20.0200\n",
    "print(num1 >= num2)"
   ]
  },
  {
   "cell_type": "code",
   "execution_count": 51,
   "id": "22a6fcea-3f02-4670-a9c4-71c32e2bafcb",
   "metadata": {},
   "outputs": [
    {
     "name": "stdout",
     "output_type": "stream",
     "text": [
      "True\n"
     ]
    }
   ],
   "source": [
    "\n",
    "x = True + 2\n",
    "y = False + False + False\n",
    "\n",
    "print(x >= y)"
   ]
  },
  {
   "cell_type": "code",
   "execution_count": 53,
   "id": "e688fe61-9be0-404c-9162-76906f766b7c",
   "metadata": {},
   "outputs": [
    {
     "name": "stdout",
     "output_type": "stream",
     "text": [
      "False\n"
     ]
    }
   ],
   "source": [
    "p = 'abcd'\n",
    "q = 'abcde'\n",
    "\n",
    "print(p >= q)"
   ]
  },
  {
   "cell_type": "code",
   "execution_count": 54,
   "id": "f65fab5c-a9aa-4c16-b612-e9e1b4605762",
   "metadata": {},
   "outputs": [],
   "source": [
    "#  Less than or equal to (<=)\n"
   ]
  },
  {
   "cell_type": "code",
   "execution_count": 55,
   "id": "977d0d8a-4e26-44b8-a1c0-5ad2ac719b99",
   "metadata": {},
   "outputs": [
    {
     "name": "stdout",
     "output_type": "stream",
     "text": [
      "True\n"
     ]
    }
   ],
   "source": [
    "num1 = 40.40\n",
    "num2 = 40.400\n",
    "print(num1 <= num2)\n"
   ]
  },
  {
   "cell_type": "code",
   "execution_count": 56,
   "id": "fbcde9a1-8950-4c8c-9882-a793a817bc61",
   "metadata": {},
   "outputs": [
    {
     "name": "stdout",
     "output_type": "stream",
     "text": [
      "False\n"
     ]
    }
   ],
   "source": [
    "x = True + 2\n",
    "y = False + False + False\n",
    "print(x <= y)"
   ]
  },
  {
   "cell_type": "code",
   "execution_count": 57,
   "id": "d02366fb-1bdf-4bef-868a-aa08b9124445",
   "metadata": {},
   "outputs": [
    {
     "name": "stdout",
     "output_type": "stream",
     "text": [
      "True\n"
     ]
    }
   ],
   "source": [
    "p = 'A'\n",
    "q = 'B'\n",
    "print(p <= q)"
   ]
  },
  {
   "cell_type": "code",
   "execution_count": 58,
   "id": "84534e28-6c5c-42f5-8b90-9a9109040ab0",
   "metadata": {},
   "outputs": [],
   "source": [
    "# Use of Comparison Operators in Decision Making Statement\n"
   ]
  },
  {
   "cell_type": "code",
   "execution_count": 60,
   "id": "ec02baf8-ed53-4828-b075-ca53712bdce6",
   "metadata": {},
   "outputs": [
    {
     "name": "stdout",
     "output_type": "stream",
     "text": [
      "p is not equal to q\n",
      "p is not equal to q\n",
      "p is not greater than q\n",
      "p is less than q\n",
      "p is not greater than or equal to q\n",
      "p is less than or equal to q\n"
     ]
    }
   ],
   "source": [
    "# Program to illustrate the use of comparison or relational operators. \n",
    "p = 50\n",
    "q = 60\n",
    "if(p == q):\n",
    "    print(\"p is equal to q\")\n",
    "else:\n",
    "    print(\"p is not equal to q\")\n",
    "if(p != q):\n",
    "    print(\"p is not equal to q\")\n",
    "else:\n",
    "    print(\"p is equal to q\")\n",
    "if(p > q):\n",
    "    print(\"p is greater than q\")\n",
    "else:\n",
    "    print(\"p is not greater than q\")\n",
    "if(p < q): print(\"p is less than q\") \n",
    "else: \n",
    "    print(\"p is not less than q\")\n",
    "if(p >= q):\n",
    "    print(\"p is greater than or equal to q\")\n",
    "else:\n",
    "    print(\"p is not greater than or equal to q\")\n",
    "if(p <= q):\n",
    "    print(\"p is less than or equal to q\")\n",
    "else:\n",
    "    print(\"p is not less than or equal to q\")\n"
   ]
  },
  {
   "cell_type": "code",
   "execution_count": 61,
   "id": "46260306-a1b4-48a2-99d2-c88914e3b943",
   "metadata": {},
   "outputs": [
    {
     "name": "stdin",
     "output_type": "stream",
     "text": [
      "Enter your age:  23\n"
     ]
    },
    {
     "name": "stdout",
     "output_type": "stream",
     "text": [
      "You are eligible for voting.\n"
     ]
    }
   ],
   "source": [
    "age = int(input(\"Enter your age: \"))\n",
    "if(age >= 18):\n",
    "    print(\"You are eligible for voting.\")\n",
    "else:\n",
    "    print(\"You are not eligible for voting.\")"
   ]
  },
  {
   "cell_type": "code",
   "execution_count": null,
   "id": "0a5604c1-77a1-4a14-a5f0-ca68bcf78304",
   "metadata": {},
   "outputs": [],
   "source": []
  }
 ],
 "metadata": {
  "kernelspec": {
   "display_name": "Python 3 (ipykernel)",
   "language": "python",
   "name": "python3"
  },
  "language_info": {
   "codemirror_mode": {
    "name": "ipython",
    "version": 3
   },
   "file_extension": ".py",
   "mimetype": "text/x-python",
   "name": "python",
   "nbconvert_exporter": "python",
   "pygments_lexer": "ipython3",
   "version": "3.11.9"
  }
 },
 "nbformat": 4,
 "nbformat_minor": 5
}
