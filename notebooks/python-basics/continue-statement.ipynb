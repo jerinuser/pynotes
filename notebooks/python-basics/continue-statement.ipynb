{
 "cells": [
  {
   "cell_type": "code",
   "execution_count": 2,
   "id": "3842b0ff-7b54-41ea-9158-ac8b6a9fe724",
   "metadata": {},
   "outputs": [],
   "source": [
    "#  created : 20250316"
   ]
  },
  {
   "cell_type": "code",
   "execution_count": 3,
   "id": "5ac1dcb0-7fab-492a-a40e-02b2a30983d2",
   "metadata": {},
   "outputs": [],
   "source": [
    "#  https://www.scientecheasy.com/2022/11/python-continue.html/"
   ]
  },
  {
   "cell_type": "code",
   "execution_count": 4,
   "id": "57dc1caa-46e6-4156-a37f-9c2d2ef3ee3d",
   "metadata": {},
   "outputs": [],
   "source": [
    "# Syntax of Continue Statement in Python\n"
   ]
  },
  {
   "cell_type": "code",
   "execution_count": 5,
   "id": "025fea08-0f76-42b6-9add-4f0a77356f3a",
   "metadata": {},
   "outputs": [
    {
     "name": "stdout",
     "output_type": "stream",
     "text": [
      "T\n",
      "e\n",
      "c\n",
      "h\n",
      "Skipping the loop at n\n",
      "o\n",
      "l\n",
      "o\n",
      "g\n",
      "y\n"
     ]
    }
   ],
   "source": [
    "for letter in 'Technology':\n",
    "    if letter == 'n':\n",
    "        print('Skipping the loop at', letter)\n",
    "        continue\n",
    "    print(letter)\n"
   ]
  },
  {
   "cell_type": "code",
   "execution_count": 6,
   "id": "80e4e645-86b3-42ff-9251-ab2dcdee2016",
   "metadata": {},
   "outputs": [
    {
     "name": "stdout",
     "output_type": "stream",
     "text": [
      "1\n",
      "2\n",
      "Continue without 3\n",
      "4\n",
      "5\n"
     ]
    }
   ],
   "source": [
    "for x in range(1, 6):\n",
    "    if x == 3:\n",
    "        print('Continue without 3')\n",
    "        continue # It will skip the rest iteration and go back in the for loop with the next iteration.\n",
    "    print(x)\n"
   ]
  },
  {
   "cell_type": "code",
   "execution_count": 7,
   "id": "ed2b882d-15ab-481f-9775-f4775a17f4a6",
   "metadata": {},
   "outputs": [
    {
     "name": "stdout",
     "output_type": "stream",
     "text": [
      "1\n",
      "2\n",
      "4\n",
      "5\n",
      "6\n"
     ]
    }
   ],
   "source": [
    "# Displaying numbers using continue statement.\n",
    "# while loop.\n",
    "x = 1 # Initialization.\n",
    "while x <= 6:\n",
    "    if x == 3:\n",
    "        x = x + 1\n",
    "        continue\n",
    "    print(x)\n",
    "    x = x + 1\n"
   ]
  },
  {
   "cell_type": "code",
   "execution_count": 8,
   "id": "4d70819b-d0e8-47f7-93e9-129758b54513",
   "metadata": {},
   "outputs": [
    {
     "name": "stdout",
     "output_type": "stream",
     "text": [
      "1 1\n",
      "1 2\n",
      "1 3\n",
      "2 1\n",
      "2 2\n",
      "3 1\n",
      "3 2\n",
      "3 3\n"
     ]
    }
   ],
   "source": [
    "# Outer loop.\n",
    "for x in range(1, 4):\n",
    "   # Inner loop.\n",
    "     for y in range(1, 4):\n",
    "       if x == 2 and y == 3:\n",
    "           continue # continue statement inside the inner for loop.\n",
    "       print(x,y)\n"
   ]
  },
  {
   "cell_type": "code",
   "execution_count": 9,
   "id": "04b5a82f-86c2-4266-b0f3-e31174b4d015",
   "metadata": {},
   "outputs": [
    {
     "name": "stdout",
     "output_type": "stream",
     "text": [
      "2\n",
      "3\n",
      "4\n",
      "40\n",
      "5\n",
      "50\n",
      "6\n",
      "60\n"
     ]
    }
   ],
   "source": [
    "for x in range(1, 7):\n",
    "    if x < 2:\n",
    "        continue\n",
    "    print(x)\n",
    "    if x < 4:\n",
    "        continue\n",
    "    print(10 * x)\n"
   ]
  },
  {
   "cell_type": "code",
   "execution_count": null,
   "id": "11d57284-175b-48b7-8d9e-dd9fc7c9dc29",
   "metadata": {},
   "outputs": [],
   "source": []
  }
 ],
 "metadata": {
  "kernelspec": {
   "display_name": "Python 3 (ipykernel)",
   "language": "python",
   "name": "python3"
  },
  "language_info": {
   "codemirror_mode": {
    "name": "ipython",
    "version": 3
   },
   "file_extension": ".py",
   "mimetype": "text/x-python",
   "name": "python",
   "nbconvert_exporter": "python",
   "pygments_lexer": "ipython3",
   "version": "3.11.9"
  }
 },
 "nbformat": 4,
 "nbformat_minor": 5
}
