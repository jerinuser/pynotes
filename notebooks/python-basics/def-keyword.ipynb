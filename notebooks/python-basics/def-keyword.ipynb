{
 "cells": [
  {
   "cell_type": "code",
   "execution_count": 1,
   "id": "3842b0ff-7b54-41ea-9158-ac8b6a9fe724",
   "metadata": {},
   "outputs": [],
   "source": [
    "#  created : 20250111"
   ]
  },
  {
   "cell_type": "code",
   "execution_count": 2,
   "id": "5ac1dcb0-7fab-492a-a40e-02b2a30983d2",
   "metadata": {},
   "outputs": [],
   "source": [
    "#  https://www.scientecheasy.com/2022/09/reserved-keywords-in-python.html/"
   ]
  },
  {
   "cell_type": "code",
   "execution_count": 1,
   "id": "57dc1caa-46e6-4156-a37f-9c2d2ef3ee3d",
   "metadata": {},
   "outputs": [],
   "source": [
    "#  def keyword\n"
   ]
  },
  {
   "cell_type": "code",
   "execution_count": 5,
   "id": "cbfd7226-c10d-4149-a7a6-23cb9c2dd4d9",
   "metadata": {},
   "outputs": [],
   "source": [
    "def func():\n",
    "    print(\"Inside Function\")\n"
   ]
  },
  {
   "cell_type": "code",
   "execution_count": 4,
   "id": "de6e1f12-fefa-4ed1-9a3b-633af3006fec",
   "metadata": {},
   "outputs": [
    {
     "name": "stdout",
     "output_type": "stream",
     "text": [
      "Inside Function\n"
     ]
    }
   ],
   "source": [
    "func()"
   ]
  },
  {
   "cell_type": "code",
   "execution_count": null,
   "id": "716e5d5a-5a4d-4081-8f9b-b61f7c838228",
   "metadata": {},
   "outputs": [],
   "source": [
    "#  return keyword"
   ]
  },
  {
   "cell_type": "code",
   "execution_count": 9,
   "id": "ec4a30d6-f721-4b6d-ba53-40c62ca77e47",
   "metadata": {},
   "outputs": [],
   "source": [
    "def func_return():\n",
    "    x = 20\n",
    "    return x\n",
    "\n",
    "def func_no_return():\n",
    "    y = 50\n",
    "\n",
    "    return y"
   ]
  },
  {
   "cell_type": "code",
   "execution_count": 10,
   "id": "3c42ed3d-bc87-4891-b760-e931c4660b38",
   "metadata": {},
   "outputs": [
    {
     "name": "stdout",
     "output_type": "stream",
     "text": [
      "20\n"
     ]
    }
   ],
   "source": [
    "print(func_return())"
   ]
  },
  {
   "cell_type": "code",
   "execution_count": 11,
   "id": "bb53efa8-e72e-4fb4-a56b-f6d8519d916c",
   "metadata": {},
   "outputs": [
    {
     "name": "stdout",
     "output_type": "stream",
     "text": [
      "50\n"
     ]
    }
   ],
   "source": [
    "print(func_no_return())"
   ]
  },
  {
   "cell_type": "code",
   "execution_count": 14,
   "id": "df826c1c-60b1-4a9a-9231-da19fc3cb712",
   "metadata": {},
   "outputs": [],
   "source": [
    "def func():\n",
    "    x = 0\n",
    "    for i in range(5):\n",
    "        x += i\n",
    "        yield x"
   ]
  },
  {
   "cell_type": "code",
   "execution_count": 15,
   "id": "6f81cd04-524a-42dc-b76f-1ca4803ff428",
   "metadata": {},
   "outputs": [
    {
     "name": "stdout",
     "output_type": "stream",
     "text": [
      "0\n",
      "1\n",
      "3\n",
      "6\n",
      "10\n"
     ]
    }
   ],
   "source": [
    "for i in func():\n",
    "    print(i)"
   ]
  },
  {
   "cell_type": "code",
   "execution_count": null,
   "id": "2f6f658e-06fb-4e42-a54e-4499632a0902",
   "metadata": {},
   "outputs": [],
   "source": []
  }
 ],
 "metadata": {
  "kernelspec": {
   "display_name": "Python 3 (ipykernel)",
   "language": "python",
   "name": "python3"
  },
  "language_info": {
   "codemirror_mode": {
    "name": "ipython",
    "version": 3
   },
   "file_extension": ".py",
   "mimetype": "text/x-python",
   "name": "python",
   "nbconvert_exporter": "python",
   "pygments_lexer": "ipython3",
   "version": "3.11.9"
  }
 },
 "nbformat": 4,
 "nbformat_minor": 5
}
