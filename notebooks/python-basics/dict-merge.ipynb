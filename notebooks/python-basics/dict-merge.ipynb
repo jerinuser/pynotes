{
 "cells": [
  {
   "cell_type": "code",
   "execution_count": 3,
   "id": "2339c8ae-bdab-4243-abe2-45360aaa5a70",
   "metadata": {},
   "outputs": [],
   "source": [
    "def merge_dicts():\n",
    "    # Define the two dictionaries inside the function\n",
    "    my_dict1 = {'a': 1, 'b': 2, 'c': 3}\n",
    "    my_dict2 = {'d': 4, 'e': 5, 'f': 6}\n",
    "    \n",
    "    # Method 1: Using dictionary unpacking\n",
    "    result1 = {**my_dict1, **my_dict2}\n",
    "    print(\"Method 1:\", result1)\n",
    "    \n",
    "    # Method 2: Using copy and update\n",
    "    result2 = my_dict1.copy()\n",
    "    result2.update(my_dict2)\n",
    "    print(\"Method 2:\", result2)\n"
   ]
  },
  {
   "cell_type": "code",
   "execution_count": 4,
   "id": "5ff61550-c632-4eb0-af27-86fdb730c09d",
   "metadata": {},
   "outputs": [
    {
     "name": "stdout",
     "output_type": "stream",
     "text": [
      "Method 1: {'a': 1, 'b': 2, 'c': 3, 'd': 4, 'e': 5, 'f': 6}\n",
      "Method 2: {'a': 1, 'b': 2, 'c': 3, 'd': 4, 'e': 5, 'f': 6}\n"
     ]
    }
   ],
   "source": [
    "# Call the function\n",
    "merge_dicts()"
   ]
  },
  {
   "cell_type": "code",
   "execution_count": null,
   "id": "b31d1d28-564e-45fd-b089-964cdb407db9",
   "metadata": {},
   "outputs": [],
   "source": []
  }
 ],
 "metadata": {
  "kernelspec": {
   "display_name": "Python 3 (ipykernel)",
   "language": "python",
   "name": "python3"
  },
  "language_info": {
   "codemirror_mode": {
    "name": "ipython",
    "version": 3
   },
   "file_extension": ".py",
   "mimetype": "text/x-python",
   "name": "python",
   "nbconvert_exporter": "python",
   "pygments_lexer": "ipython3",
   "version": "3.11.9"
  }
 },
 "nbformat": 4,
 "nbformat_minor": 5
}
