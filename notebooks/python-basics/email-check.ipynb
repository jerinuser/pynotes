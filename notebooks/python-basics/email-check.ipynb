{
 "cells": [
  {
   "cell_type": "code",
   "execution_count": 1,
   "id": "2339c8ae-bdab-4243-abe2-45360aaa5a70",
   "metadata": {},
   "outputs": [],
   "source": [
    "# program to check a valid email "
   ]
  },
  {
   "cell_type": "code",
   "execution_count": 11,
   "id": "a0eb8a33-6db8-4be5-b3af-a9f6ab5fab1c",
   "metadata": {},
   "outputs": [],
   "source": [
    "import re"
   ]
  },
  {
   "cell_type": "code",
   "execution_count": 16,
   "id": "3558ab0c-91b5-4b3c-9c2e-ab78a3119136",
   "metadata": {},
   "outputs": [
    {
     "name": "stdin",
     "output_type": "stream",
     "text": [
      "Enter your email:  jrrin@.com\n"
     ]
    },
    {
     "name": "stdout",
     "output_type": "stream",
     "text": [
      "Valid\n"
     ]
    }
   ],
   "source": [
    "def email_check():\n",
    "    email = input(\"Enter your email: \")\n",
    "\n",
    "    if not email.endswith(\".com\"):\n",
    "        print(\"Invalid: Email must end with '.com'\")\n",
    "        return\n",
    "\n",
    "    if \"@\" not in email:\n",
    "        print(\"Invalid: Email must contain '@'\")\n",
    "        return\n",
    "\n",
    "    if email[0].isdigit():\n",
    "        print(\"Invalid: Email should not start with a digit\")\n",
    "        return\n",
    "\n",
    "    print(\"Valid\")\n",
    "\n",
    "# Example usage\n",
    "email_check()\n"
   ]
  },
  {
   "cell_type": "code",
   "execution_count": 15,
   "id": "f3c4eaf7-48b1-4263-9a28-4623eb2ff526",
   "metadata": {},
   "outputs": [
    {
     "name": "stdin",
     "output_type": "stream",
     "text": [
      "Enter your email:  jerin29@gmail.com\n"
     ]
    },
    {
     "name": "stdout",
     "output_type": "stream",
     "text": [
      "Valid\n"
     ]
    }
   ],
   "source": [
    "email_check()"
   ]
  },
  {
   "cell_type": "code",
   "execution_count": null,
   "id": "18f57fc1-e833-4bd4-8909-eb290bfdfb41",
   "metadata": {},
   "outputs": [],
   "source": []
  }
 ],
 "metadata": {
  "kernelspec": {
   "display_name": "Python 3 (ipykernel)",
   "language": "python",
   "name": "python3"
  },
  "language_info": {
   "codemirror_mode": {
    "name": "ipython",
    "version": 3
   },
   "file_extension": ".py",
   "mimetype": "text/x-python",
   "name": "python",
   "nbconvert_exporter": "python",
   "pygments_lexer": "ipython3",
   "version": "3.11.9"
  }
 },
 "nbformat": 4,
 "nbformat_minor": 5
}
