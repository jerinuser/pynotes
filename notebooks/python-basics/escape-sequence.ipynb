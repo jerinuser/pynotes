{
 "cells": [
  {
   "cell_type": "code",
   "execution_count": 1,
   "id": "3842b0ff-7b54-41ea-9158-ac8b6a9fe724",
   "metadata": {},
   "outputs": [],
   "source": [
    "#  created : 20250112"
   ]
  },
  {
   "cell_type": "code",
   "execution_count": 2,
   "id": "5ac1dcb0-7fab-492a-a40e-02b2a30983d2",
   "metadata": {},
   "outputs": [],
   "source": [
    "#  https://www.scientecheasy.com/2022/09/escape-sequence-in-python.html/"
   ]
  },
  {
   "cell_type": "code",
   "execution_count": 1,
   "id": "57dc1caa-46e6-4156-a37f-9c2d2ef3ee3d",
   "metadata": {},
   "outputs": [],
   "source": [
    "#  Escape Sequence in Python"
   ]
  },
  {
   "cell_type": "code",
   "execution_count": 2,
   "id": "4bea0215-3baa-489e-bf48-e526481a356f",
   "metadata": {},
   "outputs": [],
   "source": [
    "#  error code for escape sequence \n"
   ]
  },
  {
   "cell_type": "code",
   "execution_count": 3,
   "id": "e947ffe2-c1fc-4068-910c-055323455aa3",
   "metadata": {},
   "outputs": [
    {
     "ename": "SyntaxError",
     "evalue": "invalid syntax. Perhaps you forgot a comma? (3226782426.py, line 1)",
     "output_type": "error",
     "traceback": [
      "\u001b[0;36m  Cell \u001b[0;32mIn[3], line 1\u001b[0;36m\u001b[0m\n\u001b[0;31m    print ('He said 'python is fun ultimated'')\u001b[0m\n\u001b[0m           ^\u001b[0m\n\u001b[0;31mSyntaxError\u001b[0m\u001b[0;31m:\u001b[0m invalid syntax. Perhaps you forgot a comma?\n"
     ]
    }
   ],
   "source": [
    "print ('He said 'python is fun ultimated'')"
   ]
  },
  {
   "cell_type": "code",
   "execution_count": 5,
   "id": "257ad19d-c5f1-4892-b002-a77d70a5e354",
   "metadata": {},
   "outputs": [
    {
     "name": "stdout",
     "output_type": "stream",
     "text": [
      "he said 'python is fun ultimated'\n"
     ]
    }
   ],
   "source": [
    "print(\"he said 'python is fun ultimated'\")"
   ]
  },
  {
   "cell_type": "code",
   "execution_count": 6,
   "id": "826016f6-29d7-43ff-a31b-c380c24c0426",
   "metadata": {},
   "outputs": [
    {
     "name": "stdout",
     "output_type": "stream",
     "text": [
      "He said \"Python is fun unlimited\"\n"
     ]
    }
   ],
   "source": [
    "print('He said \"Python is fun unlimited\"')"
   ]
  },
  {
   "cell_type": "code",
   "execution_count": 8,
   "id": "3902c0b4-04f9-4b4c-a282-57da77f6f602",
   "metadata": {},
   "outputs": [
    {
     "name": "stdout",
     "output_type": "stream",
     "text": [
      "He said 'Python is fun unlimited'\n"
     ]
    }
   ],
   "source": [
    "print('He said \\'Python is fun unlimited\\'')"
   ]
  },
  {
   "cell_type": "code",
   "execution_count": 9,
   "id": "8c10baad-6a48-4489-92b9-5c2f5dc3d5a6",
   "metadata": {},
   "outputs": [
    {
     "name": "stdout",
     "output_type": "stream",
     "text": [
      "Welcome to\tScientech Easy\n"
     ]
    }
   ],
   "source": [
    "print(\"Welcome to\\tScientech Easy\") # --> gives a tab between words\n"
   ]
  },
  {
   "cell_type": "code",
   "execution_count": 10,
   "id": "a53d982b-3d8f-4eda-8c2c-5decb18f7f69",
   "metadata": {},
   "outputs": [
    {
     "name": "stdout",
     "output_type": "stream",
     "text": [
      "Good Morning \n",
      "Scientech Easy\n",
      "*\n",
      "**\n",
      "***\n",
      "\n"
     ]
    }
   ],
   "source": [
    "print(\"Good Morning \\nScientech Easy\")  #--> breaks one line into two lines \n",
    "print(\"*\\n**\\n***\\n\")"
   ]
  },
  {
   "cell_type": "code",
   "execution_count": 11,
   "id": "6c7deaee-151e-469a-9744-aa1fe697a8e2",
   "metadata": {},
   "outputs": [
    {
     "name": "stdout",
     "output_type": "stream",
     "text": [
      "Good Evening \\Scientech Easy\\\n"
     ]
    }
   ],
   "source": [
    "print('Good Evening \\\\Scientech Easy\\\\') #--> prints the text with backslash"
   ]
  },
  {
   "cell_type": "code",
   "execution_count": 13,
   "id": "9a1d2792-c3d8-45ef-952b-feeb4e2b8eb8",
   "metadata": {},
   "outputs": [
    {
     "name": "stdout",
     "output_type": "stream",
     "text": [
      "Scientech Easy\n"
     ]
    }
   ],
   "source": [
    "print('Good Morning \\rScientech Easy') # --> moves the output means it will not print the string before \\r"
   ]
  },
  {
   "cell_type": "code",
   "execution_count": 14,
   "id": "fabe4dc4-803f-4d5f-94a7-ea327fbb083e",
   "metadata": {},
   "outputs": [],
   "source": [
    "emp_code = \"IT-35264\"\n",
    "name = \"Jerin\"\n",
    "desig = \"Jr. Python Developer\"\n",
    "comp = \"tact\"\n",
    "salary = \"USD 40000\""
   ]
  },
  {
   "cell_type": "code",
   "execution_count": 17,
   "id": "edde7ccc-6ff7-49b5-b30b-7b4627902933",
   "metadata": {},
   "outputs": [
    {
     "name": "stdout",
     "output_type": "stream",
     "text": [
      "Employee code:  IT-35264 \n",
      "Name:  Jerin\n",
      "Designation:  Jr. Python Developer \tCompany:  tact\n",
      "Annual Salary:  USD 40000\n"
     ]
    }
   ],
   "source": [
    "print(\"Employee code: \", emp_code, \"\\nName: \", name)\n",
    "print(\"Designation: \",desig, \"\\tCompany: \", comp)\n",
    "print(\"Annual Salary: \", salary)"
   ]
  },
  {
   "cell_type": "code",
   "execution_count": null,
   "id": "47c965eb-e224-4dc4-ab8b-e3f96239c6f0",
   "metadata": {},
   "outputs": [],
   "source": []
  }
 ],
 "metadata": {
  "kernelspec": {
   "display_name": "Python 3 (ipykernel)",
   "language": "python",
   "name": "python3"
  },
  "language_info": {
   "codemirror_mode": {
    "name": "ipython",
    "version": 3
   },
   "file_extension": ".py",
   "mimetype": "text/x-python",
   "name": "python",
   "nbconvert_exporter": "python",
   "pygments_lexer": "ipython3",
   "version": "3.11.9"
  }
 },
 "nbformat": 4,
 "nbformat_minor": 5
}
