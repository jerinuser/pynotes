{
 "cells": [
  {
   "cell_type": "code",
   "execution_count": 7,
   "id": "2339c8ae-bdab-4243-abe2-45360aaa5a70",
   "metadata": {},
   "outputs": [
    {
     "name": "stdout",
     "output_type": "stream",
     "text": [
      "After Append: ['apple', 'banana', 'cherry', 'orange']\n",
      "After Remove: ['apple', 'cherry', 'orange']\n",
      "Popped Element: orange\n",
      "After Pop: ['apple', 'cherry']\n"
     ]
    }
   ],
   "source": [
    "def manipulate_fruits():\n",
    "    \n",
    "    fruits = [\"apple\", \"banana\", \"cherry\"]\n",
    "    \n",
    "  \n",
    "    fruits.append(\"orange\")\n",
    "    print(\"After Append:\", fruits)\n",
    "    \n",
    "    \n",
    "    fruits.remove(\"banana\")\n",
    "    print(\"After Remove:\", fruits)\n",
    "    \n",
    "    \n",
    "    popped = fruits.pop()\n",
    "    print(\"Popped Element:\", popped)\n",
    "    print(\"After Pop:\", fruits)\n",
    "\n",
    "\n",
    "manipulate_fruits()\n"
   ]
  },
  {
   "cell_type": "code",
   "execution_count": null,
   "id": "ab28d0af-456b-45d5-bdd5-59deb502e78f",
   "metadata": {},
   "outputs": [],
   "source": []
  }
 ],
 "metadata": {
  "kernelspec": {
   "display_name": "Python 3 (ipykernel)",
   "language": "python",
   "name": "python3"
  },
  "language_info": {
   "codemirror_mode": {
    "name": "ipython",
    "version": 3
   },
   "file_extension": ".py",
   "mimetype": "text/x-python",
   "name": "python",
   "nbconvert_exporter": "python",
   "pygments_lexer": "ipython3",
   "version": "3.11.9"
  }
 },
 "nbformat": 4,
 "nbformat_minor": 5
}
