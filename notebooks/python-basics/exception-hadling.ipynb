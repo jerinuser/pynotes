{
 "cells": [
  {
   "cell_type": "code",
   "execution_count": 1,
   "id": "3842b0ff-7b54-41ea-9158-ac8b6a9fe724",
   "metadata": {},
   "outputs": [],
   "source": [
    "#  created : 20250111"
   ]
  },
  {
   "cell_type": "code",
   "execution_count": 2,
   "id": "5ac1dcb0-7fab-492a-a40e-02b2a30983d2",
   "metadata": {},
   "outputs": [],
   "source": [
    "#  https://www.scientecheasy.com/2022/09/reserved-keywords-in-python.html/"
   ]
  },
  {
   "cell_type": "code",
   "execution_count": 1,
   "id": "57dc1caa-46e6-4156-a37f-9c2d2ef3ee3d",
   "metadata": {},
   "outputs": [],
   "source": [
    "# Python Exception Handling Keywords\n"
   ]
  },
  {
   "cell_type": "code",
   "execution_count": 6,
   "id": "96896297-68b2-4b38-9274-78d6b0812ff6",
   "metadata": {},
   "outputs": [
    {
     "name": "stdout",
     "output_type": "stream",
     "text": [
      "Cannot divide by zero\n",
      "finally block always gets executed\n"
     ]
    }
   ],
   "source": [
    "x = 10\n",
    "y = 0\n",
    "\n",
    "try:\n",
    "    z = x // y \n",
    "    print(z)\n",
    "\n",
    "except ZeroDivisionError:\n",
    "    print(\"Cannot divide by zero\")\n",
    "\n",
    "finally:\n",
    "    print(\"finally block always gets executed\")"
   ]
  },
  {
   "cell_type": "code",
   "execution_count": 7,
   "id": "a999df95-3a05-4946-89d7-b9c55a11eb6c",
   "metadata": {},
   "outputs": [],
   "source": [
    "#  assert Keyword\n"
   ]
  },
  {
   "cell_type": "code",
   "execution_count": 10,
   "id": "65657430-389c-476c-9bbe-29904261bac4",
   "metadata": {},
   "outputs": [
    {
     "ename": "AssertionError",
     "evalue": "",
     "output_type": "error",
     "traceback": [
      "\u001b[0;31m---------------------------------------------------------------------------\u001b[0m",
      "\u001b[0;31mAssertionError\u001b[0m                            Traceback (most recent call last)",
      "Cell \u001b[0;32mIn[10], line 4\u001b[0m\n\u001b[1;32m      1\u001b[0m x \u001b[38;5;241m=\u001b[39m \u001b[38;5;241m10\u001b[39m \n\u001b[1;32m      3\u001b[0m \u001b[38;5;28;01massert\u001b[39;00m x \u001b[38;5;241m>\u001b[39m\u001b[38;5;241m=\u001b[39m \u001b[38;5;241m10\u001b[39m \n\u001b[0;32m----> 4\u001b[0m \u001b[38;5;28;01massert\u001b[39;00m x \u001b[38;5;241m<\u001b[39m \u001b[38;5;241m10\u001b[39m\n",
      "\u001b[0;31mAssertionError\u001b[0m: "
     ]
    }
   ],
   "source": [
    "x = 10 \n",
    "\n",
    "assert x >= 10 \n",
    "assert x < 10"
   ]
  },
  {
   "cell_type": "code",
   "execution_count": 13,
   "id": "9cd6f5e7-420f-409b-a85a-e9bb8ef3e049",
   "metadata": {},
   "outputs": [
    {
     "ename": "AssertionError",
     "evalue": "x is not less than 10",
     "output_type": "error",
     "traceback": [
      "\u001b[0;31m---------------------------------------------------------------------------\u001b[0m",
      "\u001b[0;31mAssertionError\u001b[0m                            Traceback (most recent call last)",
      "Cell \u001b[0;32mIn[13], line 2\u001b[0m\n\u001b[1;32m      1\u001b[0m x \u001b[38;5;241m=\u001b[39m \u001b[38;5;241m10\u001b[39m\n\u001b[0;32m----> 2\u001b[0m \u001b[38;5;28;01massert\u001b[39;00m x \u001b[38;5;241m<\u001b[39m \u001b[38;5;241m10\u001b[39m,\u001b[38;5;124m\"\u001b[39m\u001b[38;5;124mx is not less than 10\u001b[39m\u001b[38;5;124m\"\u001b[39m\n",
      "\u001b[0;31mAssertionError\u001b[0m: x is not less than 10"
     ]
    }
   ],
   "source": [
    "x = 10\n",
    "assert x < 10,\"x is not less than 10\""
   ]
  },
  {
   "cell_type": "code",
   "execution_count": null,
   "id": "f79ce2a4-53b3-46ae-b784-d9cebf6ae807",
   "metadata": {},
   "outputs": [],
   "source": []
  }
 ],
 "metadata": {
  "kernelspec": {
   "display_name": "Python 3 (ipykernel)",
   "language": "python",
   "name": "python3"
  },
  "language_info": {
   "codemirror_mode": {
    "name": "ipython",
    "version": 3
   },
   "file_extension": ".py",
   "mimetype": "text/x-python",
   "name": "python",
   "nbconvert_exporter": "python",
   "pygments_lexer": "ipython3",
   "version": "3.11.9"
  }
 },
 "nbformat": 4,
 "nbformat_minor": 5
}
