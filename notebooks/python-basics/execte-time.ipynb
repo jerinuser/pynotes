{
 "cells": [
  {
   "cell_type": "code",
   "execution_count": 2,
   "id": "2339c8ae-bdab-4243-abe2-45360aaa5a70",
   "metadata": {},
   "outputs": [],
   "source": [
    "import time"
   ]
  },
  {
   "cell_type": "code",
   "execution_count": 7,
   "id": "4619fc3c-4f15-44e5-ad14-a54033eee0e4",
   "metadata": {},
   "outputs": [
    {
     "name": "stdout",
     "output_type": "stream",
     "text": [
      "0 2 4 6 8 10 12 14 16 18 \n",
      "Time: 0.0001862049102783203\n"
     ]
    }
   ],
   "source": [
    "def print_even_numbers():\n",
    "    start_time = time.time()\n",
    "    \n",
    "    for i in range(20):\n",
    "        if i % 2 == 0:\n",
    "            print(i, end=\" \")\n",
    "    \n",
    "    end_time = time.time()\n",
    "    time_taken = end_time - start_time\n",
    "    print(\"\\nTime:\", time_taken)\n",
    "\n",
    "# Call the function\n",
    "print_even_numbers()"
   ]
  },
  {
   "cell_type": "code",
   "execution_count": null,
   "id": "1c5136d9-09e0-4c64-9f8e-40e5cae69009",
   "metadata": {},
   "outputs": [],
   "source": []
  }
 ],
 "metadata": {
  "kernelspec": {
   "display_name": "Python 3 (ipykernel)",
   "language": "python",
   "name": "python3"
  },
  "language_info": {
   "codemirror_mode": {
    "name": "ipython",
    "version": 3
   },
   "file_extension": ".py",
   "mimetype": "text/x-python",
   "name": "python",
   "nbconvert_exporter": "python",
   "pygments_lexer": "ipython3",
   "version": "3.11.9"
  }
 },
 "nbformat": 4,
 "nbformat_minor": 5
}
