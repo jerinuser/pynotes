{
 "cells": [
  {
   "cell_type": "code",
   "execution_count": 1,
   "id": "3842b0ff-7b54-41ea-9158-ac8b6a9fe724",
   "metadata": {},
   "outputs": [],
   "source": [
    "#  created : 20250113"
   ]
  },
  {
   "cell_type": "code",
   "execution_count": 1,
   "id": "5ac1dcb0-7fab-492a-a40e-02b2a30983d2",
   "metadata": {},
   "outputs": [],
   "source": [
    "#  https://www.scientecheasy.com/2022/10/expression-in-python.html/"
   ]
  },
  {
   "cell_type": "code",
   "execution_count": 2,
   "id": "57dc1caa-46e6-4156-a37f-9c2d2ef3ee3d",
   "metadata": {},
   "outputs": [],
   "source": [
    "#  Arithmetic Expression"
   ]
  },
  {
   "cell_type": "code",
   "execution_count": 3,
   "id": "10282266-c6b0-4d10-8e22-1be3ba211f6a",
   "metadata": {},
   "outputs": [
    {
     "name": "stdout",
     "output_type": "stream",
     "text": [
      "Sum of two numbers is  60\n"
     ]
    }
   ],
   "source": [
    "num1 = 20\n",
    "num2 = 40\n",
    "sum = num1 + num2 # An arithmetic expression.\n",
    "print(\"Sum of two numbers is \", sum)"
   ]
  },
  {
   "cell_type": "code",
   "execution_count": 4,
   "id": "b69f3689-66e2-456e-a623-7b9296547b35",
   "metadata": {},
   "outputs": [],
   "source": [
    "# Relational/Conditional Expression"
   ]
  },
  {
   "cell_type": "code",
   "execution_count": 5,
   "id": "15d11db1-4ecf-4cf5-848a-86bd4b8d0ce4",
   "metadata": {},
   "outputs": [
    {
     "name": "stdin",
     "output_type": "stream",
     "text": [
      "Enter the first number:  32\n",
      "Enter the second number:  23\n",
      "Enter the third number:  12\n"
     ]
    },
    {
     "name": "stdout",
     "output_type": "stream",
     "text": [
      "32 is a greater number among the three numbers.\n"
     ]
    }
   ],
   "source": [
    "num1 = int(input(\"Enter the first number: \"))\n",
    "num2 = int(input(\"Enter the second number: \"))\n",
    "num3 = int(input(\"Enter the third number: \"))\n",
    "\n",
    "if num1 > num2 and num1 > num3:\n",
    "    print(num1, 'is a greater number among the three numbers.')\n",
    "elif num2 > num1 and num2 > num3:\n",
    "    print(num2, 'is a greater number among the three numbers.')\n",
    "else:\n",
    "    print(num3, 'is a greater number among the three numbers.')\n"
   ]
  },
  {
   "cell_type": "code",
   "execution_count": 6,
   "id": "ed62f817-974a-49a0-8d88-c46a597765e5",
   "metadata": {},
   "outputs": [
    {
     "name": "stdin",
     "output_type": "stream",
     "text": [
      "Enter your age:  32\n"
     ]
    },
    {
     "name": "stdout",
     "output_type": "stream",
     "text": [
      "You can cast vote.\n"
     ]
    }
   ],
   "source": [
    "Age = int(input(\"Enter your age: \"))\n",
    "if Age >= 18:\n",
    "    print('You can cast vote.')\n",
    "else:\n",
    "    print('You cannot cast vote.')"
   ]
  },
  {
   "cell_type": "code",
   "execution_count": 7,
   "id": "5de0041f-8991-4049-b4bc-e88a1f022ade",
   "metadata": {},
   "outputs": [],
   "source": [
    "# Logical Expression"
   ]
  },
  {
   "cell_type": "code",
   "execution_count": 8,
   "id": "c9f60e8e-7f96-4fff-ab9c-a349ea31cb13",
   "metadata": {},
   "outputs": [
    {
     "name": "stdout",
     "output_type": "stream",
     "text": [
      "Logical expression (p > q and r > s) returns  False\n"
     ]
    }
   ],
   "source": [
    "p = 10\n",
    "q = 15\n",
    "r = 5\n",
    "s = 20\n",
    "result = p > q and r > s\n",
    "print(\"Logical expression (p > q and r > s) returns \", result)"
   ]
  },
  {
   "cell_type": "code",
   "execution_count": null,
   "id": "d6302a6d-e5af-45c0-a3ff-3ff9311a68fd",
   "metadata": {},
   "outputs": [],
   "source": []
  }
 ],
 "metadata": {
  "kernelspec": {
   "display_name": "Python 3 (ipykernel)",
   "language": "python",
   "name": "python3"
  },
  "language_info": {
   "codemirror_mode": {
    "name": "ipython",
    "version": 3
   },
   "file_extension": ".py",
   "mimetype": "text/x-python",
   "name": "python",
   "nbconvert_exporter": "python",
   "pygments_lexer": "ipython3",
   "version": "3.11.9"
  }
 },
 "nbformat": 4,
 "nbformat_minor": 5
}
