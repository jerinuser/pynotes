{
 "cells": [
  {
   "cell_type": "code",
   "execution_count": 2,
   "id": "2339c8ae-bdab-4243-abe2-45360aaa5a70",
   "metadata": {},
   "outputs": [
    {
     "name": "stdout",
     "output_type": "stream",
     "text": [
      "Second Largest Number: 5\n",
      "Second Largest Number: 5\n"
     ]
    }
   ],
   "source": [
    "def second_largest(lst):\n",
    "    if len(lst) < 2:\n",
    "        print(\"List must have at least two elements.\")\n",
    "    else:\n",
    "        unique_list = list(set(lst))  # Remove duplicates\n",
    "        unique_list.sort(reverse=True)  # Sort in descending order\n",
    "        print(\"Second Largest Number:\", unique_list[0])\n",
    "\n",
    "# Example usage\n",
    "second_largest([1, 2, 3, 4, 5])\n",
    "second_largest([5, 5, 5])"
   ]
  },
  {
   "cell_type": "code",
   "execution_count": null,
   "id": "ab28d0af-456b-45d5-bdd5-59deb502e78f",
   "metadata": {},
   "outputs": [],
   "source": []
  }
 ],
 "metadata": {
  "kernelspec": {
   "display_name": "Python 3 (ipykernel)",
   "language": "python",
   "name": "python3"
  },
  "language_info": {
   "codemirror_mode": {
    "name": "ipython",
    "version": 3
   },
   "file_extension": ".py",
   "mimetype": "text/x-python",
   "name": "python",
   "nbconvert_exporter": "python",
   "pygments_lexer": "ipython3",
   "version": "3.11.9"
  }
 },
 "nbformat": 4,
 "nbformat_minor": 5
}
