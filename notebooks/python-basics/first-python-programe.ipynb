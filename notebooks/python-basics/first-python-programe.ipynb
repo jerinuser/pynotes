{
 "cells": [
  {
   "cell_type": "code",
   "execution_count": 1,
   "id": "3842b0ff-7b54-41ea-9158-ac8b6a9fe724",
   "metadata": {},
   "outputs": [],
   "source": [
    "#  created : 20250112"
   ]
  },
  {
   "cell_type": "code",
   "execution_count": 2,
   "id": "5ac1dcb0-7fab-492a-a40e-02b2a30983d2",
   "metadata": {},
   "outputs": [],
   "source": [
    "#  https://www.scientecheasy.com/2022/09/first-python-program.html/"
   ]
  },
  {
   "cell_type": "code",
   "execution_count": 3,
   "id": "57dc1caa-46e6-4156-a37f-9c2d2ef3ee3d",
   "metadata": {},
   "outputs": [],
   "source": [
    "#  frist python programe in python \n"
   ]
  },
  {
   "cell_type": "code",
   "execution_count": 4,
   "id": "6f5c3a1e-06a9-43f3-8856-426415de990a",
   "metadata": {},
   "outputs": [
    {
     "name": "stdout",
     "output_type": "stream",
     "text": [
      "Hi Jerin\n"
     ]
    }
   ],
   "source": [
    "print(\"Hi Jerin\")"
   ]
  },
  {
   "cell_type": "code",
   "execution_count": 9,
   "id": "e2de0468-6584-4e3f-af94-86df9301ad37",
   "metadata": {},
   "outputs": [
    {
     "name": "stdout",
     "output_type": "stream",
     "text": [
      "Hello World\n"
     ]
    },
    {
     "name": "stdin",
     "output_type": "stream",
     "text": [
      "enter your name Jerin\n"
     ]
    },
    {
     "name": "stdout",
     "output_type": "stream",
     "text": [
      "Hello Jerin\n"
     ]
    }
   ],
   "source": [
    "print(\"Hello World\")\n",
    "person = input(\"enter your name\")\n",
    "print(\"Hello\",person)"
   ]
  },
  {
   "cell_type": "code",
   "execution_count": 10,
   "id": "c4e388d8-7266-4b38-a5d7-c0678777a122",
   "metadata": {},
   "outputs": [],
   "source": [
    "num1 = 10 \n",
    "\n",
    "num2 = 20 \n"
   ]
  },
  {
   "cell_type": "code",
   "execution_count": 11,
   "id": "e109052e-5b50-400b-baf2-8be0ea5a72e6",
   "metadata": {},
   "outputs": [
    {
     "name": "stdout",
     "output_type": "stream",
     "text": [
      "30\n"
     ]
    }
   ],
   "source": [
    "print(num1+num2)"
   ]
  },
  {
   "cell_type": "code",
   "execution_count": null,
   "id": "83b606b3-d205-476c-8c21-7fd50300033e",
   "metadata": {},
   "outputs": [],
   "source": [
    "number1 = int(input(\"enter the number :\"))\n",
    "number2 = int(input(\"enter another number :\"))\n",
    "print(number1+number2)"
   ]
  },
  {
   "cell_type": "code",
   "execution_count": null,
   "id": "24bba7cd-3f04-451c-823a-476243e59626",
   "metadata": {},
   "outputs": [],
   "source": []
  },
  {
   "cell_type": "code",
   "execution_count": null,
   "id": "fecc6188-23c0-4ab9-a8fe-158c08d54d8e",
   "metadata": {},
   "outputs": [],
   "source": []
  }
 ],
 "metadata": {
  "kernelspec": {
   "display_name": "Python 3 (ipykernel)",
   "language": "python",
   "name": "python3"
  },
  "language_info": {
   "codemirror_mode": {
    "name": "ipython",
    "version": 3
   },
   "file_extension": ".py",
   "mimetype": "text/x-python",
   "name": "python",
   "nbconvert_exporter": "python",
   "pygments_lexer": "ipython3",
   "version": "3.11.9"
  }
 },
 "nbformat": 4,
 "nbformat_minor": 5
}
