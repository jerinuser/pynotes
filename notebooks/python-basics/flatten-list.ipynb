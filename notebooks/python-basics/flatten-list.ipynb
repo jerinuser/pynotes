{
 "cells": [
  {
   "cell_type": "code",
   "execution_count": 9,
   "id": "2339c8ae-bdab-4243-abe2-45360aaa5a70",
   "metadata": {},
   "outputs": [],
   "source": []
  },
  {
   "cell_type": "code",
   "execution_count": 1,
   "id": "6c32a85a-9812-49b1-b112-c307d85dc057",
   "metadata": {},
   "outputs": [
    {
     "name": "stdout",
     "output_type": "stream",
     "text": [
      "[1, 2, 3, 4, 5, 6]\n"
     ]
    }
   ],
   "source": [
    "def flatten(nested_list):\n",
    "    flat_list = []\n",
    "    for item in nested_list:\n",
    "        if isinstance(item, list):\n",
    "            flat_list.extend(flatten(item))\n",
    "        else:\n",
    "            flat_list.append(item)\n",
    "    return flat_list\n",
    "\n",
    "# Example usage\n",
    "print(flatten([1, [2, 3], [4, [5, 6]]]))  # [1, 2, 3, 4, 5, 6]\n"
   ]
  },
  {
   "cell_type": "code",
   "execution_count": 3,
   "id": "641c04a6-0e57-4226-a40f-0fc4914c3dc5",
   "metadata": {},
   "outputs": [],
   "source": [
    "# Check if a List is Sorted"
   ]
  },
  {
   "cell_type": "code",
   "execution_count": 4,
   "id": "826e6f2b-b10a-40ac-822a-6e41cf8601a3",
   "metadata": {},
   "outputs": [
    {
     "name": "stdout",
     "output_type": "stream",
     "text": [
      "True\n",
      "False\n"
     ]
    }
   ],
   "source": [
    "def is_sorted(lst):\n",
    "    return lst == sorted(lst)\n",
    "\n",
    "# Example usage\n",
    "print(is_sorted([1, 2, 3, 4]))  # True\n",
    "print(is_sorted([4, 3, 2, 1]))  # False\n"
   ]
  },
  {
   "cell_type": "code",
   "execution_count": null,
   "id": "c04bf622-8f50-43cc-a2f5-218bf8a636c1",
   "metadata": {},
   "outputs": [],
   "source": []
  }
 ],
 "metadata": {
  "kernelspec": {
   "display_name": "Python 3 (ipykernel)",
   "language": "python",
   "name": "python3"
  },
  "language_info": {
   "codemirror_mode": {
    "name": "ipython",
    "version": 3
   },
   "file_extension": ".py",
   "mimetype": "text/x-python",
   "name": "python",
   "nbconvert_exporter": "python",
   "pygments_lexer": "ipython3",
   "version": "3.11.9"
  }
 },
 "nbformat": 4,
 "nbformat_minor": 5
}
