{
 "cells": [
  {
   "cell_type": "code",
   "execution_count": 1,
   "id": "3842b0ff-7b54-41ea-9158-ac8b6a9fe724",
   "metadata": {},
   "outputs": [],
   "source": [
    "#  created : 20250125"
   ]
  },
  {
   "cell_type": "code",
   "execution_count": 2,
   "id": "5ac1dcb0-7fab-492a-a40e-02b2a30983d2",
   "metadata": {},
   "outputs": [],
   "source": [
    "#  https://www.scientecheasy.com/2022/10/for-loop-in-python.html/"
   ]
  },
  {
   "cell_type": "code",
   "execution_count": 3,
   "id": "57dc1caa-46e6-4156-a37f-9c2d2ef3ee3d",
   "metadata": {},
   "outputs": [
    {
     "name": "stdout",
     "output_type": "stream",
     "text": [
      "You are the high scorer!\n",
      "You are the high scorer!\n",
      "You are the high scorer!\n",
      "You are the high scorer!\n",
      "You are the high scorer!\n"
     ]
    }
   ],
   "source": [
    "for count in range(0, 5):\n",
    "    print('You are the high scorer!')"
   ]
  },
  {
   "cell_type": "code",
   "execution_count": 4,
   "id": "26d6344b-74f2-4d65-9f6a-1ae372d07001",
   "metadata": {},
   "outputs": [
    {
     "name": "stdout",
     "output_type": "stream",
     "text": [
      "count =  1\n",
      "count =  2\n",
      "count =  3\n",
      "count =  4\n"
     ]
    }
   ],
   "source": [
    "# Program to print the sequence.\n",
    "for count in 1, 2, 3, 4:\n",
    "    print('count = ',count)"
   ]
  },
  {
   "cell_type": "code",
   "execution_count": 5,
   "id": "63bad210-bfb9-4050-ac7c-9dd88cb7c91b",
   "metadata": {},
   "outputs": [],
   "source": [
    "# For Loop with range() Function in Python\n"
   ]
  },
  {
   "cell_type": "code",
   "execution_count": 6,
   "id": "c90360fd-130c-45d5-b7d9-9a18ac6d0852",
   "metadata": {},
   "outputs": [
    {
     "name": "stdout",
     "output_type": "stream",
     "text": [
      "Only stop argument values specified in the range function: \n",
      "0\n",
      "1\n",
      "2\n",
      "Start and stop argument values specified in the range function: \n",
      "2\n",
      "3\n",
      "4\n",
      "Start, stop, and step argument values specified in the range function: \n",
      "1\n",
      "4\n",
      "7\n"
     ]
    }
   ],
   "source": [
    "print('Only stop argument values specified in the range function: ')\n",
    "for x in range(3):\n",
    "    print(x)\n",
    "print('Start and stop argument values specified in the range function: ')\n",
    "for x in range(2, 5):\n",
    "    print(x)\n",
    "print('Start, stop, and step argument values specified in the range function: ')\n",
    "for x in range(1, 9, 3):\n",
    "    print(x)"
   ]
  },
  {
   "cell_type": "code",
   "execution_count": 7,
   "id": "128c20a6-8476-4d14-8283-558db99828b2",
   "metadata": {},
   "outputs": [
    {
     "name": "stdout",
     "output_type": "stream",
     "text": [
      "Sum of numbers between 1 to 10 =  55\n"
     ]
    }
   ],
   "source": [
    "sum = 0\n",
    "for num in range(1, 11):\n",
    "    sum = sum + num\n",
    "print('Sum of numbers between 1 to 10 = ',sum)"
   ]
  },
  {
   "cell_type": "code",
   "execution_count": 8,
   "id": "e97314d3-a4f0-47e7-861a-55ebfcfec4e5",
   "metadata": {},
   "outputs": [],
   "source": [
    "# For loop with String in Python\n"
   ]
  },
  {
   "cell_type": "code",
   "execution_count": 9,
   "id": "5c48e912-35d5-4741-b091-d3237564f36a",
   "metadata": {},
   "outputs": [
    {
     "name": "stdout",
     "output_type": "stream",
     "text": [
      "Current character is  P\n",
      "Current character is  y\n",
      "Current character is  t\n",
      "Current character is  h\n",
      "Current character is  o\n",
      "Current character is  n\n"
     ]
    }
   ],
   "source": [
    "for ch in 'Python':\n",
    "    print('Current character is ',ch)\n"
   ]
  },
  {
   "cell_type": "code",
   "execution_count": 10,
   "id": "a7c6112e-fdd7-4c80-94a1-499aeee2d73d",
   "metadata": {},
   "outputs": [],
   "source": [
    "# For loop with List in Python\n"
   ]
  },
  {
   "cell_type": "code",
   "execution_count": 11,
   "id": "79f1e485-602f-46be-97a2-ec898146eff2",
   "metadata": {},
   "outputs": [
    {
     "name": "stdout",
     "output_type": "stream",
     "text": [
      "Apple\n",
      "Banana\n",
      "Orange\n",
      "Mango\n",
      "Loop finished...\n"
     ]
    }
   ],
   "source": [
    "fruits = ['Apple', 'Banana', 'Orange', 'Mango']\n",
    "for item in fruits:\n",
    "    print(item)\n",
    "print('Loop finished...')"
   ]
  },
  {
   "cell_type": "code",
   "execution_count": 12,
   "id": "ebbcfa1e-c670-473c-a4e7-cd8424a6e1ae",
   "metadata": {},
   "outputs": [],
   "source": [
    "# For loop with a Tuple\n"
   ]
  },
  {
   "cell_type": "code",
   "execution_count": 13,
   "id": "28dcbb97-93ef-49e6-a837-de8a2869f6ba",
   "metadata": {},
   "outputs": [
    {
     "name": "stdout",
     "output_type": "stream",
     "text": [
      "Red\n",
      "Green\n",
      "Blue\n",
      "Orange\n",
      "Loop finished...\n"
     ]
    }
   ],
   "source": [
    "color = ('Red', 'Green', 'Blue', 'Orange')\n",
    "for item in color:\n",
    "    print(item)\n",
    "print('Loop finished...')"
   ]
  },
  {
   "cell_type": "code",
   "execution_count": 14,
   "id": "9a79f50b-eda5-4643-8908-0995eb8dcd65",
   "metadata": {},
   "outputs": [],
   "source": [
    "# Else Statement with For loop in Python\n"
   ]
  },
  {
   "cell_type": "code",
   "execution_count": 15,
   "id": "82049570-905f-40ec-98ae-343d34fbc3f9",
   "metadata": {},
   "outputs": [
    {
     "name": "stdout",
     "output_type": "stream",
     "text": [
      "List does not contain any even number.\n"
     ]
    }
   ],
   "source": [
    "num = [3, 5, 7, 9, 11]\n",
    "for n in num:\n",
    "    if n % 2 == 0:\n",
    "        print('List contains an even number.')\n",
    "else:\n",
    "    print('List does not contain any even number.')\n"
   ]
  },
  {
   "cell_type": "code",
   "execution_count": null,
   "id": "19650963-9c7c-46ca-ab87-97b374cee509",
   "metadata": {},
   "outputs": [],
   "source": []
  }
 ],
 "metadata": {
  "kernelspec": {
   "display_name": "Python 3 (ipykernel)",
   "language": "python",
   "name": "python3"
  },
  "language_info": {
   "codemirror_mode": {
    "name": "ipython",
    "version": 3
   },
   "file_extension": ".py",
   "mimetype": "text/x-python",
   "name": "python",
   "nbconvert_exporter": "python",
   "pygments_lexer": "ipython3",
   "version": "3.11.9"
  }
 },
 "nbformat": 4,
 "nbformat_minor": 5
}
