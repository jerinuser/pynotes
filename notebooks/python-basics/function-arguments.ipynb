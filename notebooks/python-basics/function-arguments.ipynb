{
 "cells": [
  {
   "cell_type": "code",
   "execution_count": 1,
   "id": "3842b0ff-7b54-41ea-9158-ac8b6a9fe724",
   "metadata": {},
   "outputs": [],
   "source": [
    "#  created : 20250321"
   ]
  },
  {
   "cell_type": "code",
   "execution_count": 2,
   "id": "5ac1dcb0-7fab-492a-a40e-02b2a30983d2",
   "metadata": {},
   "outputs": [],
   "source": [
    "#  https://www.scientecheasy.com/2022/12/arguments-in-python.html/"
   ]
  },
  {
   "cell_type": "code",
   "execution_count": 3,
   "id": "57dc1caa-46e6-4156-a37f-9c2d2ef3ee3d",
   "metadata": {},
   "outputs": [],
   "source": [
    "# Default Arguments in Python"
   ]
  },
  {
   "cell_type": "code",
   "execution_count": 4,
   "id": "f7cd08c3-e0a4-49fd-a04a-76f7fb664be4",
   "metadata": {},
   "outputs": [],
   "source": [
    "def studentInfo(name, gender = 'Male'):\n",
    "# This function displays the student's info passed in the function parameters.\n",
    "    print('Name:',name)\n",
    "    print('Gender:',gender)"
   ]
  },
  {
   "cell_type": "code",
   "execution_count": 5,
   "id": "122e0d6e-05c0-4edb-adff-2dd31af129cb",
   "metadata": {},
   "outputs": [
    {
     "name": "stdout",
     "output_type": "stream",
     "text": [
      "Name: Deepak\n",
      "Gender: Male\n",
      "Name: Tripti\n",
      "Gender: Female\n"
     ]
    }
   ],
   "source": [
    "# Main program.\n",
    "# Function call 1.\n",
    "studentInfo('Deepak')\n",
    "# Function call 2.\n",
    "studentInfo('Tripti', gender = 'Female')"
   ]
  },
  {
   "cell_type": "code",
   "execution_count": 6,
   "id": "2f8f8dc9-4e6d-4bb2-9c76-633c26b49f3b",
   "metadata": {},
   "outputs": [],
   "source": [
    "def studentInfo(name, rollNo = 20, branch = 'Electrical'):\n",
    "    print('Name:',name,'Roll no:',rollNo,'Branch:',branch)"
   ]
  },
  {
   "cell_type": "code",
   "execution_count": 7,
   "id": "b5ee5995-7e5c-4e1d-b1f2-4d9a0fa8a8a4",
   "metadata": {},
   "outputs": [
    {
     "name": "stdout",
     "output_type": "stream",
     "text": [
      "Name: John Roll no: 20 Branch: Electrical\n",
      "Name: Bob Roll no: 10 Branch: Electrical\n",
      "Name: Jenny Roll no: 5 Branch: Computer Science\n"
     ]
    }
   ],
   "source": [
    "# Main program.\n",
    "# Function call 1.\n",
    "studentInfo(name = 'John')\n",
    "# Function call 2.\n",
    "studentInfo(name = 'Bob', rollNo = 10)\n",
    "# Function call 3.\n",
    "studentInfo(name = 'Jenny', rollNo = 5, branch = 'Computer Science')"
   ]
  },
  {
   "cell_type": "code",
   "execution_count": 13,
   "id": "c54d1060-ee6c-462a-a039-8a0085082916",
   "metadata": {},
   "outputs": [],
   "source": [
    "# Required Arguments in Python\n",
    "\n",
    "# example error code"
   ]
  },
  {
   "cell_type": "code",
   "execution_count": 14,
   "id": "a967b473-cc1e-46e0-aed4-75d3afd7cfdb",
   "metadata": {},
   "outputs": [],
   "source": [
    "# Program to find the area and perimeter of rectangle using function required arguments.\n",
    "def rectangle(length, breadth):\n",
    "    areaRec = length * breadth # Area of rectangle.\n",
    "    perRec = 2 * (length + breadth) # Perimeter of rectangle.\n",
    "    print(\"Area of rectangle = \",areaRec)\n",
    "    print(\"Perimeter of rectangle = \",perRec)"
   ]
  },
  {
   "cell_type": "code",
   "execution_count": 15,
   "id": "2adc436d-60e3-4c66-be0a-77ee1d173f72",
   "metadata": {},
   "outputs": [],
   "source": [
    "# Main program.\n",
    "def main():\n",
    "    ln = int(input(\"Enter the length of rectangle: \"))\n",
    "    br = int(input(\"Enter the breadth of rectangle: \"))\n",
    "    rectangle(ln) # Intentionaly missing one argument value."
   ]
  },
  {
   "cell_type": "code",
   "execution_count": 16,
   "id": "3b19d8bf-9b32-4503-b4b6-1bd838e2b375",
   "metadata": {},
   "outputs": [
    {
     "name": "stdin",
     "output_type": "stream",
     "text": [
      "Enter the length of rectangle:  20\n",
      "Enter the breadth of rectangle:  20\n"
     ]
    },
    {
     "ename": "TypeError",
     "evalue": "rectangle() missing 1 required positional argument: 'breadth'",
     "output_type": "error",
     "traceback": [
      "\u001b[0;31m---------------------------------------------------------------------------\u001b[0m",
      "\u001b[0;31mTypeError\u001b[0m                                 Traceback (most recent call last)",
      "Cell \u001b[0;32mIn[16], line 1\u001b[0m\n\u001b[0;32m----> 1\u001b[0m \u001b[43mmain\u001b[49m\u001b[43m(\u001b[49m\u001b[43m)\u001b[49m \u001b[38;5;66;03m# function calling.\u001b[39;00m\n",
      "Cell \u001b[0;32mIn[15], line 5\u001b[0m, in \u001b[0;36mmain\u001b[0;34m()\u001b[0m\n\u001b[1;32m      3\u001b[0m ln \u001b[38;5;241m=\u001b[39m \u001b[38;5;28mint\u001b[39m(\u001b[38;5;28minput\u001b[39m(\u001b[38;5;124m\"\u001b[39m\u001b[38;5;124mEnter the length of rectangle: \u001b[39m\u001b[38;5;124m\"\u001b[39m))\n\u001b[1;32m      4\u001b[0m br \u001b[38;5;241m=\u001b[39m \u001b[38;5;28mint\u001b[39m(\u001b[38;5;28minput\u001b[39m(\u001b[38;5;124m\"\u001b[39m\u001b[38;5;124mEnter the breadth of rectangle: \u001b[39m\u001b[38;5;124m\"\u001b[39m))\n\u001b[0;32m----> 5\u001b[0m \u001b[43mrectangle\u001b[49m\u001b[43m(\u001b[49m\u001b[43mln\u001b[49m\u001b[43m)\u001b[49m\n",
      "\u001b[0;31mTypeError\u001b[0m: rectangle() missing 1 required positional argument: 'breadth'"
     ]
    }
   ],
   "source": [
    "main() # function calling."
   ]
  },
  {
   "cell_type": "code",
   "execution_count": 17,
   "id": "88f41f42-be14-4d48-b1f1-1aa35b949523",
   "metadata": {},
   "outputs": [],
   "source": [
    "# Keyword Arguments in Python"
   ]
  },
  {
   "cell_type": "code",
   "execution_count": 18,
   "id": "9d465531-b363-41b0-b41d-b314cf316f8b",
   "metadata": {},
   "outputs": [],
   "source": [
    "# Displaying persons info.\n",
    "def display(name, age, gender):\n",
    "    print('Name:',name)\n",
    "    print('Age:',age)\n",
    "    print('Gender:',gender)"
   ]
  },
  {
   "cell_type": "code",
   "execution_count": 19,
   "id": "1eb73334-e890-4aad-beeb-37c8a66716a2",
   "metadata": {},
   "outputs": [],
   "source": [
    "def main():\n",
    " # First function call.\n",
    "    display('John', 20, 'M') # function calling from another function.\n",
    " # Second function call.\n",
    "    display('Jenny', 18, 'F')"
   ]
  },
  {
   "cell_type": "code",
   "execution_count": 20,
   "id": "edde6910-90c6-4aa5-b057-c0154ab29be1",
   "metadata": {},
   "outputs": [
    {
     "name": "stdout",
     "output_type": "stream",
     "text": [
      "Name: John\n",
      "Age: 20\n",
      "Gender: M\n",
      "Name: Jenny\n",
      "Age: 18\n",
      "Gender: F\n"
     ]
    }
   ],
   "source": [
    "main() # function calling."
   ]
  },
  {
   "cell_type": "code",
   "execution_count": 21,
   "id": "f5ecf0e4-a124-427e-a25d-92cf990dbe38",
   "metadata": {},
   "outputs": [
    {
     "name": "stdout",
     "output_type": "stream",
     "text": [
      "Name: Herry\n",
      "Age: 20\n",
      "Gender: M\n",
      "Name: Jimmy\n",
      "Age: 18\n",
      "Gender: F\n"
     ]
    }
   ],
   "source": [
    "# Displaying persons info.\n",
    "def display(name, age, gender):\n",
    "    print('Name:',name)\n",
    "    print('Age:',age)\n",
    "    print('Gender:',gender)\n",
    "def main():\n",
    "  # First function call.\n",
    "    display('Herry', age = 20, gender = 'M') # function calling from another function.\n",
    "  # Second function call.\n",
    "    display(age = 18, gender = 'F', name = 'Jimmy')\n",
    "main() # function calling."
   ]
  },
  {
   "cell_type": "code",
   "execution_count": 22,
   "id": "fdf8ba4c-2a35-4a7a-a549-4978fb5262de",
   "metadata": {},
   "outputs": [],
   "source": [
    "# Variable length Arguments"
   ]
  },
  {
   "cell_type": "code",
   "execution_count": 24,
   "id": "d8338c4a-7037-4d0f-b5ae-c60b017a09b9",
   "metadata": {},
   "outputs": [],
   "source": [
    "def my_function(*args): # args is the name of variable length parameters.\n",
    "    \"function docstring\"\n",
    "    # body of the function\n",
    "    return [expression]\n"
   ]
  },
  {
   "cell_type": "code",
   "execution_count": 25,
   "id": "ecd70ab7-fd7f-49b0-8a4a-0b7ff4f7b730",
   "metadata": {},
   "outputs": [],
   "source": [
    "# Example 1:"
   ]
  },
  {
   "cell_type": "code",
   "execution_count": 26,
   "id": "8d7b6135-6d0d-45bf-91f5-16c6b92bc5a4",
   "metadata": {},
   "outputs": [
    {
     "name": "stdout",
     "output_type": "stream",
     "text": [
      "Calling function with two arguments\n",
      "(10, 20)\n",
      "Calling function with three arguments\n",
      "(10, 20, 30)\n",
      "Calling function with four arguments\n",
      "(20, 30, 40, 50)\n"
     ]
    }
   ],
   "source": [
    "# Function definition with variable length parameters. \n",
    "def my_function(*args): # Here, args is name of formal parameter.\n",
    "    print(args)\n",
    "print('Calling function with two arguments')\n",
    "my_function(10, 20)\n",
    "\n",
    "print('Calling function with three arguments')\n",
    "my_function(10, 20, 30)\n",
    "print('Calling function with four arguments')\n",
    "my_function(20, 30, 40, 50)\n"
   ]
  },
  {
   "cell_type": "code",
   "execution_count": 27,
   "id": "b5b830b2-8048-46df-be17-255fde1a45e0",
   "metadata": {},
   "outputs": [
    {
     "name": "stdout",
     "output_type": "stream",
     "text": [
      "Name of days are:('Sunday', 'Monday', 'Tuesday', 'Wednesday', 'Thursday', 'Friday', 'Saturday')\n"
     ]
    }
   ],
   "source": [
    "# Function definition with one formal parameter and variable length parameters.\n",
    "def listDay(arg1, *arg2):\n",
    "    print(arg1, arg2, sep=\"\")\n",
    "def main():\n",
    "    listDay('Name of days are:', 'Sunday', 'Monday', 'Tuesday', 'Wednesday', 'Thursday', 'Friday', 'Saturday')\n",
    "main() # function calling.\n"
   ]
  },
  {
   "cell_type": "code",
   "execution_count": 28,
   "id": "71e63f9e-5a7d-415a-97fd-f447328f05f5",
   "metadata": {},
   "outputs": [],
   "source": []
  },
  {
   "cell_type": "code",
   "execution_count": null,
   "id": "f43021f8-496e-48fa-8863-39fa10c37f0e",
   "metadata": {},
   "outputs": [],
   "source": []
  }
 ],
 "metadata": {
  "kernelspec": {
   "display_name": "Python 3 (ipykernel)",
   "language": "python",
   "name": "python3"
  },
  "language_info": {
   "codemirror_mode": {
    "name": "ipython",
    "version": 3
   },
   "file_extension": ".py",
   "mimetype": "text/x-python",
   "name": "python",
   "nbconvert_exporter": "python",
   "pygments_lexer": "ipython3",
   "version": "3.11.9"
  }
 },
 "nbformat": 4,
 "nbformat_minor": 5
}
