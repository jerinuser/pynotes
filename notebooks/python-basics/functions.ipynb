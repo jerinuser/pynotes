{
 "cells": [
  {
   "cell_type": "code",
   "execution_count": 10,
   "id": "2339c8ae-bdab-4243-abe2-45360aaa5a70",
   "metadata": {},
   "outputs": [
    {
     "name": "stdout",
     "output_type": "stream",
     "text": [
      "hi jerin\n"
     ]
    }
   ],
   "source": [
    "print (\"hi jerin\")"
   ]
  },
  {
   "cell_type": "code",
   "execution_count": 11,
   "id": "73be9dd8-88ac-4eb8-9d46-5e2c769eebd4",
   "metadata": {},
   "outputs": [],
   "source": [
    "text = 'i am learning'"
   ]
  },
  {
   "cell_type": "code",
   "execution_count": 12,
   "id": "b519b4f8-f651-4dc9-9ade-6785ab6df4a7",
   "metadata": {},
   "outputs": [
    {
     "data": {
      "text/plain": [
       "'i am learning'"
      ]
     },
     "execution_count": 12,
     "metadata": {},
     "output_type": "execute_result"
    }
   ],
   "source": [
    "text"
   ]
  },
  {
   "cell_type": "code",
   "execution_count": 24,
   "id": "c4143e77-0881-4d64-a9a3-db4709c043c6",
   "metadata": {},
   "outputs": [],
   "source": [
    "def add_num():\n",
    "    one = int(input(\"enter the nummber\"))\n",
    "    two = int(input(\"enter another number\"))\n",
    "    total = one + two\n",
    "    return (f\"the total of the number is {total}\")"
   ]
  },
  {
   "cell_type": "code",
   "execution_count": 25,
   "id": "5509a606-77c3-42a2-a631-cc0f0157af9f",
   "metadata": {},
   "outputs": [
    {
     "name": "stdin",
     "output_type": "stream",
     "text": [
      "enter the nummber 3\n",
      "enter another number 3\n"
     ]
    },
    {
     "data": {
      "text/plain": [
       "'the total of the number is 6'"
      ]
     },
     "execution_count": 25,
     "metadata": {},
     "output_type": "execute_result"
    }
   ],
   "source": [
    "add_num()"
   ]
  },
  {
   "cell_type": "code",
   "execution_count": null,
   "id": "bfd6d2f4-a9a0-40af-af22-1e710d2a9d8a",
   "metadata": {},
   "outputs": [],
   "source": []
  },
  {
   "cell_type": "code",
   "execution_count": null,
   "id": "df5d50b3-d512-4aab-a9b0-19e6764e72dc",
   "metadata": {},
   "outputs": [],
   "source": []
  }
 ],
 "metadata": {
  "kernelspec": {
   "display_name": "Python 3 (ipykernel)",
   "language": "python",
   "name": "python3"
  },
  "language_info": {
   "codemirror_mode": {
    "name": "ipython",
    "version": 3
   },
   "file_extension": ".py",
   "mimetype": "text/x-python",
   "name": "python",
   "nbconvert_exporter": "python",
   "pygments_lexer": "ipython3",
   "version": "3.11.9"
  }
 },
 "nbformat": 4,
 "nbformat_minor": 5
}
