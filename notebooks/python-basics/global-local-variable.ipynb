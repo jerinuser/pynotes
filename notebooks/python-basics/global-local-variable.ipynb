{
 "cells": [
  {
   "cell_type": "code",
   "execution_count": 1,
   "id": "3842b0ff-7b54-41ea-9158-ac8b6a9fe724",
   "metadata": {},
   "outputs": [],
   "source": [
    "#  created : 20250113"
   ]
  },
  {
   "cell_type": "code",
   "execution_count": 2,
   "id": "5ac1dcb0-7fab-492a-a40e-02b2a30983d2",
   "metadata": {},
   "outputs": [],
   "source": [
    "#  https://www.scientecheasy.com/2022/09/global-and-local-variables-in-python.html/"
   ]
  },
  {
   "cell_type": "code",
   "execution_count": 3,
   "id": "57dc1caa-46e6-4156-a37f-9c2d2ef3ee3d",
   "metadata": {},
   "outputs": [],
   "source": [
    "#  Global and Local Variables"
   ]
  },
  {
   "cell_type": "code",
   "execution_count": 9,
   "id": "8e5d86ab-3641-499c-a986-cbadcbe64203",
   "metadata": {},
   "outputs": [],
   "source": [
    "x = 10 # --> global variable\n",
    "def numm():\n",
    "    print(\"Inside function: \",x)\n",
    "    "
   ]
  },
  {
   "cell_type": "code",
   "execution_count": 10,
   "id": "29cec65e-acd5-4166-9fb2-c31241e45815",
   "metadata": {},
   "outputs": [
    {
     "name": "stdout",
     "output_type": "stream",
     "text": [
      "Inside function:  10\n",
      "outside function:  10\n"
     ]
    }
   ],
   "source": [
    "numm()\n",
    "print(\"outside function: \",x)"
   ]
  },
  {
   "cell_type": "code",
   "execution_count": 14,
   "id": "3cc8d96d-8483-49bd-b9a2-d895a24afd44",
   "metadata": {},
   "outputs": [],
   "source": [
    "x = 20 # a global variable.\n",
    "def my_function():\n",
    "\n",
    "    x = 20 * 30 # Here, interpreter will treat as a local variable.\n",
    "    print(\"Inside function: \", x)"
   ]
  },
  {
   "cell_type": "code",
   "execution_count": 15,
   "id": "577c9829-7d49-4853-ad6e-9e0d53042ae5",
   "metadata": {},
   "outputs": [
    {
     "name": "stdout",
     "output_type": "stream",
     "text": [
      "Inside function:  600\n",
      "Outside function:  20\n"
     ]
    }
   ],
   "source": [
    "my_function()\n",
    "print(\"Outside function: \", x)"
   ]
  },
  {
   "cell_type": "code",
   "execution_count": 16,
   "id": "4a68a82e-b914-4598-a655-705b5dda5ab3",
   "metadata": {},
   "outputs": [],
   "source": [
    "name = 'John' # a global variable.\n",
    "def my_function1():\n",
    "    global name\n",
    "    name = 'Bob' # Here, changing the value of global variable inside the\n",
    "\n",
    "    print(\"Inside function: \",name)"
   ]
  },
  {
   "cell_type": "code",
   "execution_count": 17,
   "id": "238aa08b-8c4d-44a4-96b2-e8ff00a21341",
   "metadata": {},
   "outputs": [],
   "source": [
    "def my_function2():\n",
    "    print(\"Inside another function: \",name)"
   ]
  },
  {
   "cell_type": "code",
   "execution_count": 19,
   "id": "3c382865-7743-4bf5-8285-5d07ad46bb03",
   "metadata": {},
   "outputs": [
    {
     "name": "stdout",
     "output_type": "stream",
     "text": [
      "Inside function:  Bob\n",
      "Inside another function:  Bob\n",
      "Outside function:  Bob\n"
     ]
    }
   ],
   "source": [
    "my_function1()\n",
    "my_function2()\n",
    "print(\"Outside function: \",name)"
   ]
  },
  {
   "cell_type": "code",
   "execution_count": 29,
   "id": "1ef6dd91-f779-4a5e-8f89-190825b2964c",
   "metadata": {},
   "outputs": [],
   "source": [
    "city = 'New York' # a global variable.\n",
    "def my_function1():\n",
    "    global city # -->assigned a new value to a variable\n",
    "    city = 'Dhanbad'\n",
    "    print(\"Inside my_function1: \", city)\n",
    "def my_function2():\n",
    "    global city  # --> assigend a new value to a variable\n",
    "    city = 'Sydney'\n",
    "    print(\"Inside my_function2: \",city)"
   ]
  },
  {
   "cell_type": "code",
   "execution_count": 30,
   "id": "9c4417f6-a872-40d7-9cb2-00370e367558",
   "metadata": {},
   "outputs": [
    {
     "name": "stdout",
     "output_type": "stream",
     "text": [
      "Inside my_function1:  Dhanbad\n",
      "Inside my_function2:  Sydney\n",
      "Outside function:  Sydney\n"
     ]
    }
   ],
   "source": [
    "my_function1()\n",
    "my_function2()\n",
    "print(\"Outside function: \", city)"
   ]
  },
  {
   "cell_type": "code",
   "execution_count": 31,
   "id": "aa15bfa6-8dbf-4e7c-b086-766b341b1f6b",
   "metadata": {},
   "outputs": [],
   "source": [
    "#  Local Variable"
   ]
  },
  {
   "cell_type": "code",
   "execution_count": 32,
   "id": "ce52f9c0-12cc-4f12-83d8-22930268d2c7",
   "metadata": {},
   "outputs": [],
   "source": [
    "def my_func():\n",
    "    city = 'Dhanbad'\n",
    "    print(city)\n"
   ]
  },
  {
   "cell_type": "code",
   "execution_count": 33,
   "id": "7329f9d3-5493-4356-8538-208be817d6f5",
   "metadata": {},
   "outputs": [
    {
     "name": "stdout",
     "output_type": "stream",
     "text": [
      "Dhanbad\n",
      "Sydney\n"
     ]
    }
   ],
   "source": [
    "my_func()\n",
    "print(city)"
   ]
  },
  {
   "cell_type": "code",
   "execution_count": 34,
   "id": "95fc13e5-b0af-405a-af03-46d83ac545c0",
   "metadata": {},
   "outputs": [],
   "source": [
    "message1 = \"This is a global variable, and we can access it anywhere in the program.\""
   ]
  },
  {
   "cell_type": "code",
   "execution_count": 35,
   "id": "1ef17bda-531d-446c-ae5e-3fb1e995eaa9",
   "metadata": {},
   "outputs": [
    {
     "name": "stdout",
     "output_type": "stream",
     "text": [
      "This is a global variable, and we can access it anywhere in the program.\n",
      "This is a local variable, and we can access it only inside the function body.\n"
     ]
    }
   ],
   "source": [
    "def display():\n",
    "# Declare a local variable and assign it a value.\n",
    "    message2 = \"This is a local variable, and we can access it only inside the function body.\"\n",
    "    print(message2) # Accessing local variable from inside the function.\n",
    "\n",
    "print(message1); # Accessing the global variable.\n",
    "display() "
   ]
  },
  {
   "cell_type": "code",
   "execution_count": 40,
   "id": "84cf6a17-e28b-44e1-ba7d-952d37e9712a",
   "metadata": {},
   "outputs": [
    {
     "name": "stdout",
     "output_type": "stream",
     "text": [
      "Harry   Deep\n",
      "John   Larry\n"
     ]
    }
   ],
   "source": [
    "# Declare global variables.\n",
    "student1 = \"John\"\n",
    "student2 = \"Larry\"\n",
    "\n",
    "def showMe():\n",
    "    student2 = \"Harry\" # Here, local variable is sharing the same name as global variable.\n",
    "    student3 = \"Deep\"\n",
    "    print(student2, \" \",student3)\n",
    "\n",
    "showMe()\n",
    "print(student1, \" \", student2)"
   ]
  },
  {
   "cell_type": "code",
   "execution_count": null,
   "id": "572c802d-2093-46b7-a7ea-e9f6d22f8c7d",
   "metadata": {},
   "outputs": [],
   "source": []
  }
 ],
 "metadata": {
  "kernelspec": {
   "display_name": "Python 3 (ipykernel)",
   "language": "python",
   "name": "python3"
  },
  "language_info": {
   "codemirror_mode": {
    "name": "ipython",
    "version": 3
   },
   "file_extension": ".py",
   "mimetype": "text/x-python",
   "name": "python",
   "nbconvert_exporter": "python",
   "pygments_lexer": "ipython3",
   "version": "3.11.9"
  }
 },
 "nbformat": 4,
 "nbformat_minor": 5
}
