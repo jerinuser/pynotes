{
 "cells": [
  {
   "cell_type": "code",
   "execution_count": 17,
   "id": "3842b0ff-7b54-41ea-9158-ac8b6a9fe724",
   "metadata": {},
   "outputs": [],
   "source": [
    "#  created : 20250112"
   ]
  },
  {
   "cell_type": "code",
   "execution_count": 2,
   "id": "5ac1dcb0-7fab-492a-a40e-02b2a30983d2",
   "metadata": {},
   "outputs": [],
   "source": [
    "#  https://www.scientecheasy.com/2022/09/identifiers-in-python.html/"
   ]
  },
  {
   "cell_type": "code",
   "execution_count": 4,
   "id": "57dc1caa-46e6-4156-a37f-9c2d2ef3ee3d",
   "metadata": {},
   "outputs": [],
   "source": [
    "#  Identifiers in Python\n"
   ]
  },
  {
   "cell_type": "code",
   "execution_count": 2,
   "id": "38360b85-4f3f-4366-901d-541c724ccfc9",
   "metadata": {},
   "outputs": [
    {
     "ename": "SyntaxError",
     "evalue": "invalid syntax (1551882446.py, line 1)",
     "output_type": "error",
     "traceback": [
      "\u001b[0;36m  Cell \u001b[0;32mIn[2], line 1\u001b[0;36m\u001b[0m\n\u001b[0;31m    class = 10\u001b[0m\n\u001b[0m          ^\u001b[0m\n\u001b[0;31mSyntaxError\u001b[0m\u001b[0;31m:\u001b[0m invalid syntax\n"
     ]
    }
   ],
   "source": [
    "class = 10\n",
    "print(class)"
   ]
  },
  {
   "cell_type": "code",
   "execution_count": 3,
   "id": "97e1edf0-84be-4cda-b502-0347eff5f55b",
   "metadata": {},
   "outputs": [
    {
     "name": "stdout",
     "output_type": "stream",
     "text": [
      "RSVM\n"
     ]
    }
   ],
   "source": [
    "class_ = \"RSVM\"\n",
    "print(class_)"
   ]
  },
  {
   "cell_type": "code",
   "execution_count": 4,
   "id": "e9caec20-07c3-4946-99c4-bad99792bd25",
   "metadata": {},
   "outputs": [],
   "source": [
    "#  identifiers should not include special characters \n"
   ]
  },
  {
   "cell_type": "code",
   "execution_count": 5,
   "id": "791242ab-a3c3-45d3-8815-93012e6df4b9",
   "metadata": {},
   "outputs": [
    {
     "ename": "SyntaxError",
     "evalue": "invalid syntax (2569067318.py, line 1)",
     "output_type": "error",
     "traceback": [
      "\u001b[0;36m  Cell \u001b[0;32mIn[5], line 1\u001b[0;36m\u001b[0m\n\u001b[0;31m    school@ = \"RSVM\"\u001b[0m\n\u001b[0m            ^\u001b[0m\n\u001b[0;31mSyntaxError\u001b[0m\u001b[0;31m:\u001b[0m invalid syntax\n"
     ]
    }
   ],
   "source": [
    "school@ = \"RSVM\"\n",
    "print(school@)"
   ]
  },
  {
   "cell_type": "code",
   "execution_count": 6,
   "id": "cb43d1cd-f600-41f3-89af-eccaede63db8",
   "metadata": {},
   "outputs": [],
   "source": [
    "#  valid class identifiers \n"
   ]
  },
  {
   "cell_type": "code",
   "execution_count": 7,
   "id": "6bc08d6d-b7d1-41a7-bebe-6f6ac88984ea",
   "metadata": {},
   "outputs": [],
   "source": [
    "class SchoolName:\n",
    "    def __init__(self,name,location):\n",
    "        self.name = name \n",
    "        self.location = location\n",
    "\n",
    "    def display_info(self):\n",
    "        print(f\"School Name: {self.name}\")\n",
    "        print(f\"Location : {self.location}\")\n",
    "\n",
    "        "
   ]
  },
  {
   "cell_type": "code",
   "execution_count": 8,
   "id": "cf8c8383-52ef-4ee0-b261-123d88024b74",
   "metadata": {},
   "outputs": [],
   "source": [
    "school = SchoolName(\"Jerin\",\"Chennai\")"
   ]
  },
  {
   "cell_type": "code",
   "execution_count": 9,
   "id": "eed201f1-f0ef-4ef6-b05a-ca59c0272ca2",
   "metadata": {},
   "outputs": [
    {
     "name": "stdout",
     "output_type": "stream",
     "text": [
      "School Name: Jerin\n",
      "Location : Chennai\n"
     ]
    }
   ],
   "source": [
    "school.display_info()"
   ]
  },
  {
   "cell_type": "code",
   "execution_count": 10,
   "id": "b7c3d9d4-9ba3-47d7-a52f-5f26ae8a0ab1",
   "metadata": {},
   "outputs": [],
   "source": [
    "class MyFamousCollection:\n",
    "    def __init__(self):\n",
    "        self.items = []\n",
    "        \n",
    "    def add_item(self,item):\n",
    "        self.items.append(item)\n",
    "\n",
    "    def show_collection(self):\n",
    "        print(\"Famous Collection Item\")\n",
    "\n",
    "        for item in self.items:\n",
    "            print(item)\n",
    "            "
   ]
  },
  {
   "cell_type": "code",
   "execution_count": 16,
   "id": "069ca41b-3948-4771-822a-403fc88be20f",
   "metadata": {},
   "outputs": [
    {
     "name": "stdout",
     "output_type": "stream",
     "text": [
      "Famous Collection Item\n",
      "mona lisa painting\n",
      "hi jerin\n"
     ]
    }
   ],
   "source": [
    "my_collection=MyFamousCollection()\n",
    "my_collection.add_item(\"mona lisa painting\")\n",
    "my_collection.add_item(\"hi jerin\")\n",
    "my_collection.show_collection()"
   ]
  },
  {
   "cell_type": "code",
   "execution_count": null,
   "id": "8e4ff627-02bc-4ad5-ba63-c57fcc9e1ec7",
   "metadata": {},
   "outputs": [],
   "source": []
  }
 ],
 "metadata": {
  "kernelspec": {
   "display_name": "Python 3 (ipykernel)",
   "language": "python",
   "name": "python3"
  },
  "language_info": {
   "codemirror_mode": {
    "name": "ipython",
    "version": 3
   },
   "file_extension": ".py",
   "mimetype": "text/x-python",
   "name": "python",
   "nbconvert_exporter": "python",
   "pygments_lexer": "ipython3",
   "version": "3.11.9"
  }
 },
 "nbformat": 4,
 "nbformat_minor": 5
}
