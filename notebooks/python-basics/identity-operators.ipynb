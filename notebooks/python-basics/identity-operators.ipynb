{
 "cells": [
  {
   "cell_type": "code",
   "execution_count": 1,
   "id": "3842b0ff-7b54-41ea-9158-ac8b6a9fe724",
   "metadata": {},
   "outputs": [],
   "source": [
    "#  created : 20250113"
   ]
  },
  {
   "cell_type": "code",
   "execution_count": 1,
   "id": "5ac1dcb0-7fab-492a-a40e-02b2a30983d2",
   "metadata": {},
   "outputs": [],
   "source": [
    "#  https://www.scientecheasy.com/2022/10/identity-operators-in-python.html/"
   ]
  },
  {
   "cell_type": "code",
   "execution_count": 2,
   "id": "57dc1caa-46e6-4156-a37f-9c2d2ef3ee3d",
   "metadata": {},
   "outputs": [],
   "source": [
    "#  Identity Is operator (is)"
   ]
  },
  {
   "cell_type": "code",
   "execution_count": 3,
   "id": "d4e01056-c4ad-4546-b538-d4a824e531b8",
   "metadata": {},
   "outputs": [],
   "source": [
    "x = 20\n",
    "y = 20\n",
    "result = x is y"
   ]
  },
  {
   "cell_type": "code",
   "execution_count": 4,
   "id": "0c456878-cca3-4b44-9408-d5ef9c6d7f91",
   "metadata": {},
   "outputs": [
    {
     "name": "stdout",
     "output_type": "stream",
     "text": [
      "True\n"
     ]
    }
   ],
   "source": [
    "print(result)"
   ]
  },
  {
   "cell_type": "code",
   "execution_count": 5,
   "id": "206b4ab7-4817-477d-841e-40818dfbac69",
   "metadata": {},
   "outputs": [],
   "source": [
    "str1 = \"Python\"\n",
    "str2 = \"Python\"\n",
    "result = str1 is str2"
   ]
  },
  {
   "cell_type": "code",
   "execution_count": 6,
   "id": "020c1a18-a55b-425d-abeb-01adab5869be",
   "metadata": {},
   "outputs": [
    {
     "name": "stdout",
     "output_type": "stream",
     "text": [
      "True\n"
     ]
    }
   ],
   "source": [
    "print(result)"
   ]
  },
  {
   "cell_type": "code",
   "execution_count": 7,
   "id": "e3d3776f-4428-4519-8529-d565a824c87c",
   "metadata": {},
   "outputs": [],
   "source": [
    "name1 = \"John\"\n",
    "name2 = \"Jack\"\n",
    "result = name1 is name2"
   ]
  },
  {
   "cell_type": "code",
   "execution_count": 8,
   "id": "53ca138f-f839-4eb6-87a9-beacca939265",
   "metadata": {},
   "outputs": [
    {
     "name": "stdout",
     "output_type": "stream",
     "text": [
      "False\n"
     ]
    }
   ],
   "source": [
    "print(result)"
   ]
  },
  {
   "cell_type": "code",
   "execution_count": 9,
   "id": "00f79bdf-7902-46cf-95f4-106b4e23d0c2",
   "metadata": {},
   "outputs": [],
   "source": [
    "a = True\n",
    "b = 1\n",
    "result = a is b\n"
   ]
  },
  {
   "cell_type": "code",
   "execution_count": 10,
   "id": "1d0bf6d2-4142-4983-a652-e82cf01fdb47",
   "metadata": {},
   "outputs": [
    {
     "name": "stdout",
     "output_type": "stream",
     "text": [
      "False\n"
     ]
    }
   ],
   "source": [
    "print(result)"
   ]
  },
  {
   "cell_type": "code",
   "execution_count": 11,
   "id": "29b6b4a6-1887-4558-9ed1-21a45c8d9d16",
   "metadata": {},
   "outputs": [],
   "source": [
    "p = \"20\"\n",
    "q = 20\n",
    "result = p is q"
   ]
  },
  {
   "cell_type": "code",
   "execution_count": 12,
   "id": "31bb534d-e68a-4f93-9f99-44542d18651a",
   "metadata": {},
   "outputs": [
    {
     "name": "stdout",
     "output_type": "stream",
     "text": [
      "False\n"
     ]
    }
   ],
   "source": [
    "print(result)"
   ]
  },
  {
   "cell_type": "code",
   "execution_count": 13,
   "id": "04ad2f27-87ae-4b33-a332-6ab573065516",
   "metadata": {},
   "outputs": [],
   "source": [
    "list1 = [10, 20.5, 30, 'text']\n",
    "list2 = [10, 20.5, 30, 'text']\n",
    "result = list1 is list2"
   ]
  },
  {
   "cell_type": "code",
   "execution_count": 14,
   "id": "36d63b90-9bce-4576-a958-6d63c887ba82",
   "metadata": {},
   "outputs": [
    {
     "name": "stdout",
     "output_type": "stream",
     "text": [
      "False\n"
     ]
    }
   ],
   "source": [
    "print(result)\n"
   ]
  },
  {
   "cell_type": "code",
   "execution_count": 15,
   "id": "47bfb25d-50ab-443c-9245-19b4a4656a75",
   "metadata": {},
   "outputs": [],
   "source": [
    "dict1 = {\n",
    "    'name': 'Jack',\n",
    "    'age': 22,\n",
    "}\n",
    "dict2 = {\n",
    "    'name': 'Jack',\n",
    "    'age': 22,\n",
    "}\n",
    "result = dict1 is dict2"
   ]
  },
  {
   "cell_type": "code",
   "execution_count": 16,
   "id": "1e76397e-d483-44da-a281-1b58300ba745",
   "metadata": {},
   "outputs": [
    {
     "name": "stdout",
     "output_type": "stream",
     "text": [
      "False\n"
     ]
    }
   ],
   "source": [
    "print(result)\n"
   ]
  },
  {
   "cell_type": "code",
   "execution_count": 17,
   "id": "ae77e1eb-e4f8-4496-9961-9b763d21e959",
   "metadata": {},
   "outputs": [],
   "source": [
    "tuple1 = (1, 2.5, 3, 'Technology')\n",
    "tuple2 = (1, 2.5, 3, 'Technology')\n",
    "result = tuple1 is tuple2"
   ]
  },
  {
   "cell_type": "code",
   "execution_count": 18,
   "id": "fb341209-6a0b-4096-b64d-cd156696001b",
   "metadata": {},
   "outputs": [
    {
     "name": "stdout",
     "output_type": "stream",
     "text": [
      "False\n"
     ]
    }
   ],
   "source": [
    "print(result)"
   ]
  },
  {
   "cell_type": "code",
   "execution_count": 19,
   "id": "f74001db-da37-4530-a11e-e0831a2423ff",
   "metadata": {},
   "outputs": [],
   "source": [
    "# Identity Is not operator (is not)"
   ]
  },
  {
   "cell_type": "code",
   "execution_count": 20,
   "id": "ed9afcaa-3ab2-49e8-b847-6979ddfabe4e",
   "metadata": {},
   "outputs": [
    {
     "name": "stdout",
     "output_type": "stream",
     "text": [
      "True\n"
     ]
    }
   ],
   "source": [
    "num1 = 30\n",
    "num2 = 40\n",
    "print(num1 is not num2)"
   ]
  },
  {
   "cell_type": "code",
   "execution_count": 21,
   "id": "124c9e0b-b9d5-44ee-b8af-e8b1825079ea",
   "metadata": {},
   "outputs": [
    {
     "name": "stdout",
     "output_type": "stream",
     "text": [
      "False\n"
     ]
    }
   ],
   "source": [
    "num2 = 30\n",
    "print(num1 is not num2)"
   ]
  },
  {
   "cell_type": "code",
   "execution_count": 22,
   "id": "5dae2e7c-50c1-413a-b88b-7b85cea48563",
   "metadata": {},
   "outputs": [
    {
     "name": "stdout",
     "output_type": "stream",
     "text": [
      "True\n"
     ]
    }
   ],
   "source": [
    "str1 = 'Python'\n",
    "str2 = 'Language'\n",
    "print(str1 is not str2)"
   ]
  },
  {
   "cell_type": "code",
   "execution_count": 23,
   "id": "6e6fc519-e984-4304-a786-9d2b61b7073a",
   "metadata": {},
   "outputs": [
    {
     "name": "stdout",
     "output_type": "stream",
     "text": [
      "True\n"
     ]
    }
   ],
   "source": [
    "list1 = [2, 4, 6, 8, 10]\n",
    "list2 = [12, 14, 16]\n",
    "print(list1 is not list2)"
   ]
  },
  {
   "cell_type": "code",
   "execution_count": 24,
   "id": "e8f30f8c-1ca1-4e0b-8a31-c7b5eb646e37",
   "metadata": {},
   "outputs": [
    {
     "name": "stdout",
     "output_type": "stream",
     "text": [
      "num1 =  20   id(num1):  8910408\n",
      "num2 =  20   id(num2):  8910408\n"
     ]
    }
   ],
   "source": [
    "num1 = 20\n",
    "num2 = 20\n",
    "\n",
    "print(\"num1 = \", num1, \" \", \"id(num1): \", id(num1))\n",
    "print(\"num2 = \", num2, \" \", \"id(num2): \", id(num2))"
   ]
  },
  {
   "cell_type": "code",
   "execution_count": 25,
   "id": "a1f459d2-baec-4658-8d42-5dda63e1a91c",
   "metadata": {},
   "outputs": [
    {
     "name": "stdout",
     "output_type": "stream",
     "text": [
      "num1 and num2 have the same identity\n",
      "num1 and num2 have the same identity\n"
     ]
    }
   ],
   "source": [
    "if(num1 is num2):\n",
    "    print('num1 and num2 have the same identity')\n",
    "else:\n",
    "    print('num1 and num2 do not have the same identity')\n",
    "\n",
    "if(id(num1) == id(num2)):\n",
    "    print('num1 and num2 have the same identity')\n",
    "else:\n",
    "    print('num1 and num2 do not have the same identity')\n"
   ]
  },
  {
   "cell_type": "code",
   "execution_count": 26,
   "id": "6cfae731-bc22-4e5a-8b8e-ea6fb2a410a7",
   "metadata": {},
   "outputs": [
    {
     "name": "stdout",
     "output_type": "stream",
     "text": [
      "num1 =  20   id(num1):  8910408\n",
      "num2 =  40   id(num2):  8911048\n",
      "num1 and num2 do not have the same identity\n"
     ]
    }
   ],
   "source": [
    "num2 = 40\n",
    "print(\"num1 = \", num1, \" \", \"id(num1): \", id(num1))\n",
    "print(\"num2 = \", num2, \" \", \"id(num2): \", id(num2))\n",
    "\n",
    "if(num1 is not num2):\n",
    "    print('num1 and num2 do not have the same identity')\n",
    "else:\n",
    "    print('num1 and num2 have the same identity')"
   ]
  },
  {
   "cell_type": "code",
   "execution_count": null,
   "id": "e16df29f-1b09-4ccb-8472-4cc06f97807e",
   "metadata": {},
   "outputs": [],
   "source": []
  }
 ],
 "metadata": {
  "kernelspec": {
   "display_name": "Python 3 (ipykernel)",
   "language": "python",
   "name": "python3"
  },
  "language_info": {
   "codemirror_mode": {
    "name": "ipython",
    "version": 3
   },
   "file_extension": ".py",
   "mimetype": "text/x-python",
   "name": "python",
   "nbconvert_exporter": "python",
   "pygments_lexer": "ipython3",
   "version": "3.11.9"
  }
 },
 "nbformat": 4,
 "nbformat_minor": 5
}
