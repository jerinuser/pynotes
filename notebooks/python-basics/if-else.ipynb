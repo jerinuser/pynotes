{
 "cells": [
  {
   "cell_type": "code",
   "execution_count": 1,
   "id": "3842b0ff-7b54-41ea-9158-ac8b6a9fe724",
   "metadata": {},
   "outputs": [],
   "source": [
    "#  created : 20250125"
   ]
  },
  {
   "cell_type": "code",
   "execution_count": 1,
   "id": "5ac1dcb0-7fab-492a-a40e-02b2a30983d2",
   "metadata": {},
   "outputs": [],
   "source": [
    "#  https://www.scientecheasy.com/2022/10/if-else-in-python.html/"
   ]
  },
  {
   "cell_type": "code",
   "execution_count": 2,
   "id": "57dc1caa-46e6-4156-a37f-9c2d2ef3ee3d",
   "metadata": {},
   "outputs": [],
   "source": [
    "def num():\n",
    "    num = int(input(\"enter the num:\"))\n",
    "    if num % 2 == 0:\n",
    "        print(num, \"is divisible by 2.\")\n",
    "    else:\n",
    "        print(num, \"is not divisible by 2.\")"
   ]
  },
  {
   "cell_type": "code",
   "execution_count": 3,
   "id": "eded121c-da86-45b9-9e2f-34577911d82f",
   "metadata": {},
   "outputs": [
    {
     "name": "stdin",
     "output_type": "stream",
     "text": [
      "enter the num: 8\n"
     ]
    },
    {
     "name": "stdout",
     "output_type": "stream",
     "text": [
      "8 is divisible by 2.\n"
     ]
    }
   ],
   "source": [
    "num()"
   ]
  },
  {
   "cell_type": "code",
   "execution_count": 6,
   "id": "7d6c037f-3dba-4071-ac49-c18be0c4db56",
   "metadata": {},
   "outputs": [],
   "source": [
    "def marks():\n",
    "    passMarks = int(input(\"enter your mark:\"))\n",
    "    if passMarks >= 40:\n",
    "        print(\"Passed\")\n",
    "    else:\n",
    "        print(\"Failed\")"
   ]
  },
  {
   "cell_type": "code",
   "execution_count": 7,
   "id": "41c3cefb-4424-465c-8cd6-fa7e3eada11b",
   "metadata": {},
   "outputs": [
    {
     "name": "stdin",
     "output_type": "stream",
     "text": [
      "enter your mark: 65\n"
     ]
    },
    {
     "name": "stdout",
     "output_type": "stream",
     "text": [
      "Passed\n"
     ]
    }
   ],
   "source": [
    "marks()"
   ]
  },
  {
   "cell_type": "code",
   "execution_count": 10,
   "id": "1c4c61c0-6455-4a74-b6a9-6a3c71f215d9",
   "metadata": {},
   "outputs": [
    {
     "name": "stdin",
     "output_type": "stream",
     "text": [
      "enter your mark: 39\n"
     ]
    },
    {
     "name": "stdout",
     "output_type": "stream",
     "text": [
      "Failed\n"
     ]
    }
   ],
   "source": [
    "marks()"
   ]
  },
  {
   "cell_type": "code",
   "execution_count": 11,
   "id": "e90cf213-1579-456f-9feb-76694c0f2dbc",
   "metadata": {},
   "outputs": [],
   "source": [
    "def example():\n",
    "    x, y = 20, 40\n",
    "    if x > y:\n",
    "        print(x, \"is greater than \",y)\n",
    "    else:\n",
    "        print(y, \"is greater than \", x)"
   ]
  },
  {
   "cell_type": "code",
   "execution_count": 12,
   "id": "c0404e95-eb1c-4f5a-b7a9-c84c2b59527d",
   "metadata": {},
   "outputs": [
    {
     "name": "stdout",
     "output_type": "stream",
     "text": [
      "40 is greater than  20\n"
     ]
    }
   ],
   "source": [
    "example()"
   ]
  },
  {
   "cell_type": "code",
   "execution_count": 15,
   "id": "3937f16d-105a-414d-a674-7db22b98b2b0",
   "metadata": {},
   "outputs": [],
   "source": [
    "def gender():\n",
    "    gender = 'M'\n",
    "    if((gender == 'M') or (gender == 'm')):\n",
    "        print(\"You are a male\")\n",
    "    else:\n",
    "        print(\"You are a female\")"
   ]
  },
  {
   "cell_type": "code",
   "execution_count": 16,
   "id": "70307d7e-3d16-4f6c-9e18-7cd31ff6feb4",
   "metadata": {},
   "outputs": [
    {
     "name": "stdout",
     "output_type": "stream",
     "text": [
      "You are a male\n"
     ]
    }
   ],
   "source": [
    "gender()"
   ]
  },
  {
   "cell_type": "code",
   "execution_count": 17,
   "id": "1f97c680-dded-4a7b-8ad9-40ee08e9341d",
   "metadata": {},
   "outputs": [],
   "source": [
    "def number():\n",
    "    \n",
    "    number = int(input('Enter a number: '))\n",
    "    if number % 2 == 0:\n",
    "        print(number, \"is an even number.\")\n",
    "    else:\n",
    "        print(number, \"is an odd number.\")"
   ]
  },
  {
   "cell_type": "code",
   "execution_count": 18,
   "id": "5fbbdf8f-3da9-4a2e-82dd-c91ef777a683",
   "metadata": {},
   "outputs": [
    {
     "name": "stdin",
     "output_type": "stream",
     "text": [
      "Enter a number:  90\n"
     ]
    },
    {
     "name": "stdout",
     "output_type": "stream",
     "text": [
      "90 is an even number.\n"
     ]
    }
   ],
   "source": [
    "number()"
   ]
  },
  {
   "cell_type": "code",
   "execution_count": 19,
   "id": "4958278c-f0cb-489f-be50-06c1c1c6ec92",
   "metadata": {},
   "outputs": [],
   "source": [
    "def marks():\n",
    "    \n",
    "    chem = int(input('Enter your chemistry marks: '))\n",
    "    phy = int(input('Enter your physics marks: '))\n",
    "    maths = int(input('Enter your maths marks: '))\n",
    "    \n",
    "    total = chem + phy + maths\n",
    "    per = total / 3\n",
    "    print(\"Total marks obtained: \", total)\n",
    "    print(\"Percentage: \", per)\n",
    "    \n",
    "    if per >= 85:\n",
    "        print(\"Grade A\")\n",
    "    else:\n",
    "        print(\"Grade B\")"
   ]
  },
  {
   "cell_type": "code",
   "execution_count": 20,
   "id": "f268c74a-16a4-4ec5-9e10-42a3237a152c",
   "metadata": {},
   "outputs": [
    {
     "name": "stdin",
     "output_type": "stream",
     "text": [
      "Enter your chemistry marks:  40\n",
      "Enter your physics marks:  90\n",
      "Enter your maths marks:  100\n"
     ]
    },
    {
     "name": "stdout",
     "output_type": "stream",
     "text": [
      "Total marks obtained:  230\n",
      "Percentage:  76.66666666666667\n",
      "Grade B\n"
     ]
    }
   ],
   "source": [
    "marks()"
   ]
  },
  {
   "cell_type": "code",
   "execution_count": 27,
   "id": "e1030cc8-391f-4eaa-9c76-664e6754d08a",
   "metadata": {},
   "outputs": [],
   "source": [
    "# A number is a buzz number when it ends with 7 or is divisible by 7.\n"
   ]
  },
  {
   "cell_type": "code",
   "execution_count": 21,
   "id": "ef39f5ad-3a37-4180-83ab-1ebc47b51bb4",
   "metadata": {},
   "outputs": [],
   "source": [
    "def buzz():\n",
    "        \n",
    "    num = int(input('Enter an integer number to check buzz: '))\n",
    "    if (num % 10 == 0) or (num % 7 == 0):\n",
    "        print(num, \"is a Buzz number\")\n",
    "    else:\n",
    "        print(num, \"is not a Buzz number\")"
   ]
  },
  {
   "cell_type": "code",
   "execution_count": 26,
   "id": "a6cfa076-e869-4d59-a3a0-ccd994cd3df3",
   "metadata": {},
   "outputs": [
    {
     "name": "stdin",
     "output_type": "stream",
     "text": [
      "Enter an integer number to check buzz:  776\n"
     ]
    },
    {
     "name": "stdout",
     "output_type": "stream",
     "text": [
      "776 is not a Buzz number\n"
     ]
    }
   ],
   "source": [
    "buzz()"
   ]
  },
  {
   "cell_type": "code",
   "execution_count": 28,
   "id": "b822c36b-4e90-49ef-a14a-6d07fc9fc28e",
   "metadata": {},
   "outputs": [],
   "source": [
    "def salary():\n",
    "        \n",
    "    salary = 7500\n",
    "    if salary >= 8000:\n",
    "        salary = salary + (salary * 0.1)\n",
    "        print(\"Employee salary: \", salary)\n",
    "    else:\n",
    "        salary = salary + (salary * 0.15)\n",
    "        print(\"Employee salary: \", salary)"
   ]
  },
  {
   "cell_type": "code",
   "execution_count": 29,
   "id": "d2e896d0-80c9-4785-8d60-cabcbc379fc0",
   "metadata": {},
   "outputs": [
    {
     "name": "stdout",
     "output_type": "stream",
     "text": [
      "Employee salary:  8625.0\n"
     ]
    }
   ],
   "source": [
    "salary()"
   ]
  },
  {
   "cell_type": "code",
   "execution_count": null,
   "id": "3403dd8d-edf8-44b4-a21f-bde24b9b6184",
   "metadata": {},
   "outputs": [],
   "source": []
  }
 ],
 "metadata": {
  "kernelspec": {
   "display_name": "Python 3 (ipykernel)",
   "language": "python",
   "name": "python3"
  },
  "language_info": {
   "codemirror_mode": {
    "name": "ipython",
    "version": 3
   },
   "file_extension": ".py",
   "mimetype": "text/x-python",
   "name": "python",
   "nbconvert_exporter": "python",
   "pygments_lexer": "ipython3",
   "version": "3.11.9"
  }
 },
 "nbformat": 4,
 "nbformat_minor": 5
}
