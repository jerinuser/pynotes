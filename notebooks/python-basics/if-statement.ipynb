{
 "cells": [
  {
   "cell_type": "code",
   "execution_count": 1,
   "id": "3842b0ff-7b54-41ea-9158-ac8b6a9fe724",
   "metadata": {},
   "outputs": [],
   "source": [
    "#  created : 20250125"
   ]
  },
  {
   "cell_type": "code",
   "execution_count": 3,
   "id": "5ac1dcb0-7fab-492a-a40e-02b2a30983d2",
   "metadata": {},
   "outputs": [],
   "source": [
    "#  https://www.scientecheasy.com/2022/10/if-statement-in-python.html/"
   ]
  },
  {
   "cell_type": "code",
   "execution_count": 4,
   "id": "57dc1caa-46e6-4156-a37f-9c2d2ef3ee3d",
   "metadata": {},
   "outputs": [],
   "source": [
    "# Syntax of if Statement in Python\n"
   ]
  },
  {
   "cell_type": "code",
   "execution_count": 6,
   "id": "7260a499-b5f1-4e86-a34e-dad60324fdbf",
   "metadata": {},
   "outputs": [],
   "source": [
    "# if test_condition:\n",
    "#     Python statement(s) to be executed if condition is true.\n",
    "# or,\n",
    "# if(test_condition):\n",
    "#     statement(s)"
   ]
  },
  {
   "cell_type": "code",
   "execution_count": 7,
   "id": "823ebf0d-6646-4a9f-9c6c-26ac82e3ab6f",
   "metadata": {},
   "outputs": [],
   "source": [
    "def per():\n",
    "    myPer = 92\n",
    "    if myPer >= 80:\n",
    "        print(\"Grade A\")"
   ]
  },
  {
   "cell_type": "code",
   "execution_count": 8,
   "id": "cbb8f26b-ed12-42cc-b69a-42bc388b500c",
   "metadata": {},
   "outputs": [
    {
     "name": "stdout",
     "output_type": "stream",
     "text": [
      "Grade A\n"
     ]
    }
   ],
   "source": [
    "per()"
   ]
  },
  {
   "cell_type": "code",
   "execution_count": 9,
   "id": "a6e5c439-7c6b-4fe3-9374-8c92f3b090a4",
   "metadata": {},
   "outputs": [],
   "source": [
    "def check():\n",
    "    if(True): # Here, we have used a boolean value True to check whether the condition is true or not.\n",
    "        print(\"Code to be executed\") # It will print statement. \n",
    "    \n",
    "    if(False): \n",
    "        print(\"Code not to be executed\") # It will not print statement."
   ]
  },
  {
   "cell_type": "code",
   "execution_count": 10,
   "id": "b15c85da-6577-47a3-9ae2-51185b639d4e",
   "metadata": {},
   "outputs": [
    {
     "name": "stdout",
     "output_type": "stream",
     "text": [
      "Code to be executed\n"
     ]
    }
   ],
   "source": [
    "check()"
   ]
  },
  {
   "cell_type": "code",
   "execution_count": 13,
   "id": "3035c14e-9de3-4cdf-8909-4f50e09a285e",
   "metadata": {},
   "outputs": [],
   "source": [
    "def valid():\n",
    "    x = 1\n",
    "    if x > 0:\n",
    "        return(x, \" is a positive number\")\n",
    "    \n",
    "    y = 10\n",
    "    if(y): # same as: if(x != 0)\n",
    "        return(y, \" is a nonzero number\");\n",
    "    \n",
    "    a, b = 10, 10\n",
    "    if(a == b):\n",
    "        return(\"x and y are equal number\")\n",
    "    \n",
    "    c, d = 5, 10\n",
    "    if c < d:\n",
    "        return(\"x is less than y\")\n",
    "    \n",
    "    f = True\n",
    "    if(f): # Here, we have used a boolean value to check whether the condition is true or not.\n",
    "        return(\"You are eligible to cast vote\")"
   ]
  },
  {
   "cell_type": "code",
   "execution_count": 14,
   "id": "f798d702-1f22-4010-8c38-9447894e24f2",
   "metadata": {},
   "outputs": [
    {
     "data": {
      "text/plain": [
       "(1, ' is a positive number')"
      ]
     },
     "execution_count": 14,
     "metadata": {},
     "output_type": "execute_result"
    }
   ],
   "source": [
    "valid()"
   ]
  },
  {
   "cell_type": "code",
   "execution_count": 15,
   "id": "a2c22408-7339-4bc2-9018-17499b6a8cf7",
   "metadata": {},
   "outputs": [],
   "source": [
    "def example():\n",
    "    radius = 2.5\n",
    "    pi = 3.14\n",
    "    if radius >= 0:\n",
    "        area = radius * radius * pi\n",
    "        print(\"Area of circle: \", area)"
   ]
  },
  {
   "cell_type": "code",
   "execution_count": 16,
   "id": "8815f7ba-28e2-4c0c-9ff1-3aec5ddcbf68",
   "metadata": {},
   "outputs": [
    {
     "name": "stdout",
     "output_type": "stream",
     "text": [
      "Area of circle:  19.625\n"
     ]
    }
   ],
   "source": [
    "example()"
   ]
  },
  {
   "cell_type": "code",
   "execution_count": 18,
   "id": "17f98eee-dd4f-4fbb-870b-87ea42005c7e",
   "metadata": {},
   "outputs": [],
   "source": [
    "def example2():\n",
    "    num=int(input(\"enter a number to check if a number is divisible by 2 or not: \"))\n",
    "\n",
    "    if num % 2 == 0:\n",
    "        print(f\"yes the number: {num} is divisible by 2\")\n",
    "    else:\n",
    "        print(f\"no the number: {num} is not divisible by 2\")"
   ]
  },
  {
   "cell_type": "code",
   "execution_count": 19,
   "id": "46a347d1-17ab-4284-a763-9ab0fe186518",
   "metadata": {},
   "outputs": [
    {
     "name": "stdin",
     "output_type": "stream",
     "text": [
      "enter a number to check if a number is divisible by 2 or not:  4\n"
     ]
    },
    {
     "name": "stdout",
     "output_type": "stream",
     "text": [
      "yes the number: 4 is divisible by 2\n"
     ]
    }
   ],
   "source": [
    "example2()"
   ]
  },
  {
   "cell_type": "code",
   "execution_count": 20,
   "id": "96712482-5e8d-44ba-bfca-934d4ff24a14",
   "metadata": {},
   "outputs": [],
   "source": [
    "def vote():\n",
    "    age = int(input(\"Enter your age to check you are eligible to cast a vote or not: \"))\n",
    "    if age >= 18:\n",
    "        print(\"You are eligible to cast a vote.\")\n",
    "    \n",
    "    if age < 18:\n",
    "        print(\"You are not eligible to cast a vote\")"
   ]
  },
  {
   "cell_type": "code",
   "execution_count": 21,
   "id": "b02848e0-e976-4b10-af88-cfbd804c6b81",
   "metadata": {},
   "outputs": [
    {
     "name": "stdin",
     "output_type": "stream",
     "text": [
      "Enter your age to check you are eligible to cast a vote or not:  23\n"
     ]
    },
    {
     "name": "stdout",
     "output_type": "stream",
     "text": [
      "You are eligible to cast a vote.\n"
     ]
    }
   ],
   "source": [
    "vote()"
   ]
  },
  {
   "cell_type": "code",
   "execution_count": 22,
   "id": "a00818cb-8b41-472d-99af-92e5aa91ecc8",
   "metadata": {},
   "outputs": [],
   "source": [
    "def marks():\n",
    "    # Prompt the user to enter marks of three subjects.\n",
    "    phy = int(input(\"Enter your physics marks: \"))\n",
    "    chem = int(input(\"Enter your chemistry marks: \"))\n",
    "    maths = int(input(\"Enter your math marks: \"))\n",
    "    totalMarks = phy + chem + maths\n",
    "    \n",
    "    myPer = totalMarks / 3\n",
    "    print(\"Total marks obtained: \", totalMarks)\n",
    "    print(\"Your percentage: \", myPer)\n",
    "    \n",
    "    if(myPer >= 90.0): # if the condition is true, then the statement will be displayed.\n",
    "        print(\"Grade A\")\n",
    "    if(myPer < 90.0): # if the condition is true, then the statement will be displayed.\n",
    "        print(\"Grade B\")"
   ]
  },
  {
   "cell_type": "code",
   "execution_count": 23,
   "id": "2c1676bc-ab02-4af6-b216-c7afee48cc40",
   "metadata": {},
   "outputs": [
    {
     "name": "stdin",
     "output_type": "stream",
     "text": [
      "Enter your physics marks:  35\n",
      "Enter your chemistry marks:  35\n",
      "Enter your math marks:  35\n"
     ]
    },
    {
     "name": "stdout",
     "output_type": "stream",
     "text": [
      "Total marks obtained:  105\n",
      "Your percentage:  35.0\n",
      "Grade B\n"
     ]
    }
   ],
   "source": [
    "marks()"
   ]
  },
  {
   "cell_type": "code",
   "execution_count": 24,
   "id": "3e7481c0-cf0d-482f-860f-6684542e4eba",
   "metadata": {},
   "outputs": [],
   "source": [
    "def even_or_odd():\n",
    "    # Read the number from the user to check even or odd.\n",
    "    num = int(input(\"Enter a number: \"))\n",
    "    if num % 2 == 0:\n",
    "        print(num, 'is an even number')\n",
    "    if num % 2 != 0:\n",
    "        print(num, 'is a odd number')"
   ]
  },
  {
   "cell_type": "code",
   "execution_count": 25,
   "id": "f71c2ea3-72c8-4994-af12-4aecc23d3266",
   "metadata": {},
   "outputs": [
    {
     "name": "stdin",
     "output_type": "stream",
     "text": [
      "Enter a number:  5\n"
     ]
    },
    {
     "name": "stdout",
     "output_type": "stream",
     "text": [
      "5 is a odd number\n"
     ]
    }
   ],
   "source": [
    "even_or_odd()"
   ]
  },
  {
   "cell_type": "code",
   "execution_count": null,
   "id": "4af65822-983e-4aa2-ac4c-0b3c84f0f5af",
   "metadata": {},
   "outputs": [],
   "source": []
  }
 ],
 "metadata": {
  "kernelspec": {
   "display_name": "Python 3 (ipykernel)",
   "language": "python",
   "name": "python3"
  },
  "language_info": {
   "codemirror_mode": {
    "name": "ipython",
    "version": 3
   },
   "file_extension": ".py",
   "mimetype": "text/x-python",
   "name": "python",
   "nbconvert_exporter": "python",
   "pygments_lexer": "ipython3",
   "version": "3.11.9"
  }
 },
 "nbformat": 4,
 "nbformat_minor": 5
}
