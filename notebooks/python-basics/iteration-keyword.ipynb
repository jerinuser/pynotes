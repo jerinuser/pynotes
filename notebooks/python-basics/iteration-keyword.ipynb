{
 "cells": [
  {
   "cell_type": "code",
   "execution_count": 1,
   "id": "3842b0ff-7b54-41ea-9158-ac8b6a9fe724",
   "metadata": {},
   "outputs": [],
   "source": [
    "#  created : 20250111"
   ]
  },
  {
   "cell_type": "code",
   "execution_count": 2,
   "id": "5ac1dcb0-7fab-492a-a40e-02b2a30983d2",
   "metadata": {},
   "outputs": [],
   "source": [
    "#  https://www.scientecheasy.com/2022/09/reserved-keywords-in-python.html/"
   ]
  },
  {
   "cell_type": "code",
   "execution_count": 1,
   "id": "57dc1caa-46e6-4156-a37f-9c2d2ef3ee3d",
   "metadata": {},
   "outputs": [],
   "source": [
    "#  python iteration keyword\n"
   ]
  },
  {
   "cell_type": "code",
   "execution_count": 2,
   "id": "7157f8a0-eaca-40f6-a3a6-0450e813af1f",
   "metadata": {},
   "outputs": [
    {
     "name": "stdout",
     "output_type": "stream",
     "text": [
      "Scientech Easy, Dhanbad\n",
      "Scientech Easy, Dhanbad\n",
      "Scientech Easy, Dhanbad\n"
     ]
    }
   ],
   "source": [
    "for count in range(1, 4):\n",
    "  print(\"Scientech Easy, Dhanbad\")"
   ]
  },
  {
   "cell_type": "code",
   "execution_count": 3,
   "id": "3f4c22f7-384c-409b-a4e7-1410519f90bb",
   "metadata": {},
   "outputs": [
    {
     "name": "stdout",
     "output_type": "stream",
     "text": [
      "The current count is:  0\n",
      "The current count is:  1\n",
      "The current count is:  2\n",
      "While loop ended!\n"
     ]
    }
   ],
   "source": [
    "count = 0\n",
    "while(count < 3):\n",
    "    print(\"The current count is: \", count)\n",
    "    count = count + 1\n",
    "print(\"While loop ended!\")"
   ]
  },
  {
   "cell_type": "code",
   "execution_count": 4,
   "id": "d0069bc0-4744-47d6-a8ff-8c431c6a7103",
   "metadata": {},
   "outputs": [
    {
     "name": "stdout",
     "output_type": "stream",
     "text": [
      "1\n",
      "2\n"
     ]
    }
   ],
   "source": [
    "for i in range(1, 5):\n",
    "    if i == 3:\n",
    "        break\n",
    "    print(i)"
   ]
  },
  {
   "cell_type": "code",
   "execution_count": 5,
   "id": "5afce322-f172-4086-9e5a-49f1bf5390cb",
   "metadata": {},
   "outputs": [
    {
     "name": "stdout",
     "output_type": "stream",
     "text": [
      "1\n",
      "2\n",
      "3\n",
      "5\n"
     ]
    }
   ],
   "source": [
    "for i in range(1, 6):\n",
    "    if i == 4:\n",
    "       continue\n",
    "    print(i)"
   ]
  },
  {
   "cell_type": "code",
   "execution_count": 6,
   "id": "74865a58-b704-4adb-9194-6cfb4348c8eb",
   "metadata": {},
   "outputs": [
    {
     "name": "stdout",
     "output_type": "stream",
     "text": [
      "Python keywords\n"
     ]
    }
   ],
   "source": [
    "i = 10\n",
    "if i == 5:\n",
    "    print (\"Hello\")\n",
    "elif i == 10:\n",
    "    print (\"Python keywords\")\n",
    "else:\n",
    "    print (\"Hello Python\")"
   ]
  },
  {
   "cell_type": "code",
   "execution_count": null,
   "id": "1d93f979-54cc-4731-8de8-422d3ebe24ac",
   "metadata": {},
   "outputs": [],
   "source": []
  }
 ],
 "metadata": {
  "kernelspec": {
   "display_name": "Python 3 (ipykernel)",
   "language": "python",
   "name": "python3"
  },
  "language_info": {
   "codemirror_mode": {
    "name": "ipython",
    "version": 3
   },
   "file_extension": ".py",
   "mimetype": "text/x-python",
   "name": "python",
   "nbconvert_exporter": "python",
   "pygments_lexer": "ipython3",
   "version": "3.11.9"
  }
 },
 "nbformat": 4,
 "nbformat_minor": 5
}
