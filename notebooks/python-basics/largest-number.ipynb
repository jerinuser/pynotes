{
 "cells": [
  {
   "cell_type": "code",
   "execution_count": 1,
   "id": "2339c8ae-bdab-4243-abe2-45360aaa5a70",
   "metadata": {},
   "outputs": [
    {
     "name": "stdout",
     "output_type": "stream",
     "text": [
      "Second largest number: 40\n"
     ]
    }
   ],
   "source": [
    "def second_largest(nums):\n",
    "    nums.remove(max(nums))\n",
    "    return max(nums)\n",
    "\n",
    "# Test the function\n",
    "nums = [10, 20, 30, 40, 50]\n",
    "print(\"Second largest number:\", second_largest(nums))\n"
   ]
  },
  {
   "cell_type": "code",
   "execution_count": null,
   "id": "740a31ef-6bc8-4c35-a292-b1bd57b4eb70",
   "metadata": {},
   "outputs": [],
   "source": []
  }
 ],
 "metadata": {
  "kernelspec": {
   "display_name": "Python 3 (ipykernel)",
   "language": "python",
   "name": "python3"
  },
  "language_info": {
   "codemirror_mode": {
    "name": "ipython",
    "version": 3
   },
   "file_extension": ".py",
   "mimetype": "text/x-python",
   "name": "python",
   "nbconvert_exporter": "python",
   "pygments_lexer": "ipython3",
   "version": "3.11.9"
  }
 },
 "nbformat": 4,
 "nbformat_minor": 5
}
