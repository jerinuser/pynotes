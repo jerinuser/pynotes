{
 "cells": [
  {
   "cell_type": "code",
   "execution_count": 1,
   "id": "2339c8ae-bdab-4243-abe2-45360aaa5a70",
   "metadata": {},
   "outputs": [],
   "source": [
    "from collections import Counter"
   ]
  },
  {
   "cell_type": "code",
   "execution_count": 8,
   "id": "4709d5b3-262f-4c70-9ad8-bf26b00f1192",
   "metadata": {},
   "outputs": [],
   "source": [
    "def frequency():\n",
    "    nums = list(map(int, input(\"Enter the numbers (separated by spaces): \").split(',')))\n",
    "    frequency = Counter(nums)\n",
    "    print(\"Element frequencies:\", frequency)\n",
    "    "
   ]
  },
  {
   "cell_type": "code",
   "execution_count": 9,
   "id": "bec94474-d8e5-4fb4-ba72-db81b8e29428",
   "metadata": {},
   "outputs": [
    {
     "name": "stdin",
     "output_type": "stream",
     "text": [
      "Enter the numbers (separated by spaces):  1,23,4,5,64,4,3,2\n"
     ]
    },
    {
     "name": "stdout",
     "output_type": "stream",
     "text": [
      "Element frequencies: Counter({4: 2, 1: 1, 23: 1, 5: 1, 64: 1, 3: 1, 2: 1})\n"
     ]
    }
   ],
   "source": [
    "frequency()"
   ]
  },
  {
   "cell_type": "code",
   "execution_count": null,
   "id": "7626197f-0f78-4111-af41-ee368815519b",
   "metadata": {},
   "outputs": [],
   "source": []
  }
 ],
 "metadata": {
  "kernelspec": {
   "display_name": "Python 3 (ipykernel)",
   "language": "python",
   "name": "python3"
  },
  "language_info": {
   "codemirror_mode": {
    "name": "ipython",
    "version": 3
   },
   "file_extension": ".py",
   "mimetype": "text/x-python",
   "name": "python",
   "nbconvert_exporter": "python",
   "pygments_lexer": "ipython3",
   "version": "3.11.9"
  }
 },
 "nbformat": 4,
 "nbformat_minor": 5
}
