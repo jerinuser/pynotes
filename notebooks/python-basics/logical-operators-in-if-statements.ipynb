{
 "cells": [
  {
   "cell_type": "code",
   "execution_count": 1,
   "id": "3842b0ff-7b54-41ea-9158-ac8b6a9fe724",
   "metadata": {},
   "outputs": [],
   "source": [
    "#  created : 20250125"
   ]
  },
  {
   "cell_type": "code",
   "execution_count": 1,
   "id": "5ac1dcb0-7fab-492a-a40e-02b2a30983d2",
   "metadata": {},
   "outputs": [],
   "source": [
    "#  https://www.scientecheasy.com/2022/10/if-statement-in-python.html/"
   ]
  },
  {
   "cell_type": "code",
   "execution_count": 2,
   "id": "57dc1caa-46e6-4156-a37f-9c2d2ef3ee3d",
   "metadata": {},
   "outputs": [],
   "source": [
    "def logical():\n",
    "    x, y, z = 20, 40, 50\n",
    "    if((y > x) and (y < z)): # True \n",
    "         print(\"y is greater than x but smaller than z\") \n",
    "    if((x > y) and (y < z)): # False\n",
    "         print(\"z is greater than x, y\")\n",
    "    if(y % x == 0 and x != 0): # True\n",
    "         print(\"y is divisible by x\")"
   ]
  },
  {
   "cell_type": "code",
   "execution_count": 3,
   "id": "e8c3af9b-db1d-4415-8518-dc46bf7a0f51",
   "metadata": {},
   "outputs": [
    {
     "name": "stdout",
     "output_type": "stream",
     "text": [
      "y is greater than x but smaller than z\n",
      "y is divisible by x\n"
     ]
    }
   ],
   "source": [
    "logical()"
   ]
  },
  {
   "cell_type": "code",
   "execution_count": 4,
   "id": "0fef5f88-6c57-4254-9fe0-1a0dc2389407",
   "metadata": {},
   "outputs": [],
   "source": [
    "def logical1():\n",
    "    x, y, z = 2, 1, 4\n",
    "    if(value := x > y or y < z): \n",
    "        print(value) \n",
    "    if(value := x > y or y > z):\n",
    "        print(value)\n",
    "    \n",
    "    if(value := x < y or y < z):\n",
    "        print(value)\n",
    "    if(value := x < y or y > z):\n",
    "        print(value)"
   ]
  },
  {
   "cell_type": "code",
   "execution_count": 5,
   "id": "1ba7a6fc-6d6b-4ff6-a663-469a78894447",
   "metadata": {},
   "outputs": [
    {
     "name": "stdout",
     "output_type": "stream",
     "text": [
      "True\n",
      "True\n",
      "True\n"
     ]
    }
   ],
   "source": [
    "logical1()"
   ]
  },
  {
   "cell_type": "code",
   "execution_count": 9,
   "id": "f5c5ecc4-f8a5-4336-bd57-3f318b961365",
   "metadata": {},
   "outputs": [],
   "source": [
    "def logical2():\n",
    "    age = 25\n",
    "    income =int(input(\"enter your amount: \"))\n",
    "\n",
    "    if age > 18 and income > 30000:\n",
    "        print(\"Eligible for a credit card\")\n",
    "    else:\n",
    "        print(\"Not eligible\")"
   ]
  },
  {
   "cell_type": "code",
   "execution_count": 10,
   "id": "b5381190-33d6-49c0-9799-080478f05d8e",
   "metadata": {},
   "outputs": [
    {
     "name": "stdin",
     "output_type": "stream",
     "text": [
      "enter your amount:  40000\n"
     ]
    },
    {
     "name": "stdout",
     "output_type": "stream",
     "text": [
      "Eligible for a credit card\n"
     ]
    }
   ],
   "source": [
    "logical2()"
   ]
  },
  {
   "cell_type": "code",
   "execution_count": 11,
   "id": "eb311b1c-6544-4c10-8c0a-add84fbdb5fb",
   "metadata": {},
   "outputs": [],
   "source": [
    "def logical3():\n",
    "    age = int(input(\"enter your age:\"))\n",
    "    has_membership = True\n",
    "    is_guest = False\n",
    "    \n",
    "    if (age > 18 and has_membership) or (age > 18 and is_guest):\n",
    "        print(\"Access granted\")\n",
    "    else:\n",
    "        print(\"Access denied\")"
   ]
  },
  {
   "cell_type": "code",
   "execution_count": 12,
   "id": "6b75898c-8c1b-41dc-bf1f-8be855198936",
   "metadata": {},
   "outputs": [
    {
     "name": "stdin",
     "output_type": "stream",
     "text": [
      "enter your age: 23\n"
     ]
    },
    {
     "name": "stdout",
     "output_type": "stream",
     "text": [
      "Access granted\n"
     ]
    }
   ],
   "source": [
    "logical3()"
   ]
  },
  {
   "cell_type": "code",
   "execution_count": null,
   "id": "360e8f93-39de-4415-9cd2-bdc7fa636857",
   "metadata": {},
   "outputs": [],
   "source": []
  }
 ],
 "metadata": {
  "kernelspec": {
   "display_name": "Python 3 (ipykernel)",
   "language": "python",
   "name": "python3"
  },
  "language_info": {
   "codemirror_mode": {
    "name": "ipython",
    "version": 3
   },
   "file_extension": ".py",
   "mimetype": "text/x-python",
   "name": "python",
   "nbconvert_exporter": "python",
   "pygments_lexer": "ipython3",
   "version": "3.11.9"
  }
 },
 "nbformat": 4,
 "nbformat_minor": 5
}
