{
 "cells": [
  {
   "cell_type": "code",
   "execution_count": 1,
   "id": "3842b0ff-7b54-41ea-9158-ac8b6a9fe724",
   "metadata": {},
   "outputs": [],
   "source": [
    "#  created : 20250113"
   ]
  },
  {
   "cell_type": "code",
   "execution_count": 1,
   "id": "5ac1dcb0-7fab-492a-a40e-02b2a30983d2",
   "metadata": {},
   "outputs": [],
   "source": [
    "#  https://www.scientecheasy.com/2022/10/logical-operators-in-python.html/"
   ]
  },
  {
   "cell_type": "code",
   "execution_count": 2,
   "id": "57dc1caa-46e6-4156-a37f-9c2d2ef3ee3d",
   "metadata": {},
   "outputs": [],
   "source": [
    "#  x > y and y > z # Two relational expressions combined by a logical and operator."
   ]
  },
  {
   "cell_type": "code",
   "execution_count": 3,
   "id": "9c75da58-d6dc-4e89-8a9f-2db5c90e5201",
   "metadata": {},
   "outputs": [],
   "source": [
    "#  Types of Logical or Boolean Operators in Python\n",
    "# and\n",
    "#  or \n",
    "#  not"
   ]
  },
  {
   "cell_type": "code",
   "execution_count": 5,
   "id": "47e0c475-db95-4a7e-9867-f8221288c19e",
   "metadata": {},
   "outputs": [],
   "source": [
    "# Logical AND Operator"
   ]
  },
  {
   "cell_type": "code",
   "execution_count": 6,
   "id": "3a2c2142-4adc-4a95-a710-f1220158ca0d",
   "metadata": {},
   "outputs": [],
   "source": [
    "x, y = 10, 5\n",
    "result = (x == 10 and y == 5) "
   ]
  },
  {
   "cell_type": "code",
   "execution_count": 7,
   "id": "a5c677f5-ebc2-4b03-a811-f0717e04b92a",
   "metadata": {},
   "outputs": [
    {
     "name": "stdout",
     "output_type": "stream",
     "text": [
      "True\n"
     ]
    }
   ],
   "source": [
    "print(result)\n"
   ]
  },
  {
   "cell_type": "code",
   "execution_count": 8,
   "id": "80c4899b-3fc9-4c14-9549-13c02f17d271",
   "metadata": {},
   "outputs": [
    {
     "name": "stdout",
     "output_type": "stream",
     "text": [
      "False\n"
     ]
    }
   ],
   "source": [
    "result = (x == 10 and y > x)\n",
    "print(result)"
   ]
  },
  {
   "cell_type": "code",
   "execution_count": 9,
   "id": "794f3ab0-5562-4c90-8a25-837c89a433c5",
   "metadata": {},
   "outputs": [
    {
     "name": "stdout",
     "output_type": "stream",
     "text": [
      "False\n"
     ]
    }
   ],
   "source": [
    "result = (x < y and y > x)\n",
    "print(result)"
   ]
  },
  {
   "cell_type": "code",
   "execution_count": 10,
   "id": "96a0b243-2c08-4f32-b369-9e9613741003",
   "metadata": {},
   "outputs": [],
   "source": [
    "x, y, z = 20, 10, 25"
   ]
  },
  {
   "cell_type": "code",
   "execution_count": null,
   "id": "85e3688c-c19f-4e11-ace0-bb78d8dfb6f0",
   "metadata": {},
   "outputs": [],
   "source": []
  },
  {
   "cell_type": "code",
   "execution_count": 14,
   "id": "63593822-330b-4774-929b-9aaa35702ee7",
   "metadata": {},
   "outputs": [
    {
     "name": "stdout",
     "output_type": "stream",
     "text": [
      "Python\n"
     ]
    }
   ],
   "source": [
    "if(x > y and y > z):\n",
    "    print(\"Hello\")\n",
    "if(z > y and y < x):\n",
    "    print(\"Python\")\n",
    "if((y+200) < x and (y+150) < z):\n",
    "    print(\"Hello Python\")"
   ]
  },
  {
   "cell_type": "code",
   "execution_count": 15,
   "id": "b7daa1c2-37ba-446e-a9e6-c4509e419147",
   "metadata": {},
   "outputs": [
    {
     "name": "stdout",
     "output_type": "stream",
     "text": [
      "x:  True\n",
      "y:  False\n",
      "z:  False\n"
     ]
    }
   ],
   "source": [
    "x = (15 < 20) and (\"pen\" < \"pencil\")\n",
    "y = (\"Big\" < \"bigger\") and (True != 1)\n",
    "z = (\"A\" <= \"A\") and (\"a\" != \"a\")\n",
    "print(\"x: \", x)\n",
    "print(\"y: \", y)\n",
    "print(\"z: \", z)\n"
   ]
  },
  {
   "cell_type": "code",
   "execution_count": 16,
   "id": "c57a1e62-7ca4-4197-aaeb-e7cba10ca10d",
   "metadata": {},
   "outputs": [],
   "source": [
    "p = True and True\n",
    "q = False and True\n",
    "r = 'a' and 'b'\n",
    "s = False and 'a'\n",
    "t = 'a' and True"
   ]
  },
  {
   "cell_type": "code",
   "execution_count": 17,
   "id": "e048f3f1-d7fc-4d28-8c76-9a53a6a6b4dd",
   "metadata": {},
   "outputs": [
    {
     "name": "stdout",
     "output_type": "stream",
     "text": [
      "p:  True\n",
      "q:  False\n",
      "r:  b\n",
      "s:  False\n",
      "t:  True\n"
     ]
    }
   ],
   "source": [
    "print(\"p: \", p)\n",
    "print(\"q: \", q)\n",
    "print(\"r: \", r)\n",
    "print(\"s: \", s)\n",
    "print(\"t: \", t)"
   ]
  },
  {
   "cell_type": "code",
   "execution_count": 18,
   "id": "f1502da5-15a0-4296-9239-106ba1a17c15",
   "metadata": {},
   "outputs": [],
   "source": [
    "p = (True == 1) and (False == 0)\n",
    "q = (\"2\" != 2) and (2 == 2)\n",
    "r = (\"5+5\" == 5+5) and True\n",
    "s = (False == 0) and (5 > 2)\n",
    "t = (10 + True >= 10) and False"
   ]
  },
  {
   "cell_type": "code",
   "execution_count": 19,
   "id": "540ba618-e3fb-47d5-bb70-632a4b704d5f",
   "metadata": {},
   "outputs": [
    {
     "name": "stdout",
     "output_type": "stream",
     "text": [
      "p:  True\n",
      "q:  True\n",
      "r:  False\n",
      "s:  True\n",
      "t:  False\n"
     ]
    }
   ],
   "source": [
    "print(\"p: \", p)\n",
    "print(\"q: \", q)\n",
    "print(\"r: \", r)\n",
    "print(\"s: \", s)\n",
    "print(\"t: \", t)"
   ]
  },
  {
   "cell_type": "code",
   "execution_count": 20,
   "id": "2224990f-97b3-4cff-8c30-04b43f40bc87",
   "metadata": {},
   "outputs": [],
   "source": [
    "#  Logical OR Operator"
   ]
  },
  {
   "cell_type": "code",
   "execution_count": 21,
   "id": "3af85883-1ae2-4513-b8c3-8e5d9fd36234",
   "metadata": {},
   "outputs": [
    {
     "name": "stdout",
     "output_type": "stream",
     "text": [
      "True\n"
     ]
    }
   ],
   "source": [
    "print((2 == 2) or (3 > 5))"
   ]
  },
  {
   "cell_type": "code",
   "execution_count": 22,
   "id": "5d0ecbf4-57dc-4e96-8577-1444525807d2",
   "metadata": {},
   "outputs": [
    {
     "name": "stdout",
     "output_type": "stream",
     "text": [
      "True\n"
     ]
    }
   ],
   "source": [
    "print((5 > 18) or (3 != 9))"
   ]
  },
  {
   "cell_type": "code",
   "execution_count": 23,
   "id": "24712792-8090-4238-834f-09e0485c2c5f",
   "metadata": {},
   "outputs": [
    {
     "name": "stdout",
     "output_type": "stream",
     "text": [
      "True\n"
     ]
    }
   ],
   "source": [
    "print((4 == 4) or (5 < 9))"
   ]
  },
  {
   "cell_type": "code",
   "execution_count": 24,
   "id": "ca05d271-58e9-4233-b304-9784dc900e2f",
   "metadata": {},
   "outputs": [
    {
     "name": "stdout",
     "output_type": "stream",
     "text": [
      "False\n"
     ]
    }
   ],
   "source": [
    "print((4 < 2) or (2 == 1))"
   ]
  },
  {
   "cell_type": "code",
   "execution_count": 25,
   "id": "0572cf40-6001-4332-925b-3050a9ef5901",
   "metadata": {},
   "outputs": [
    {
     "name": "stdout",
     "output_type": "stream",
     "text": [
      "False\n"
     ]
    }
   ],
   "source": [
    "print((3 != 3) or (3 >= 9))"
   ]
  },
  {
   "cell_type": "code",
   "execution_count": 26,
   "id": "63549559-c7b8-4656-b549-c9c7bc59b2d5",
   "metadata": {},
   "outputs": [],
   "source": [
    "x, y, z = 20, 10, 5"
   ]
  },
  {
   "cell_type": "code",
   "execution_count": 27,
   "id": "aa59f64d-2609-4221-aa3d-1fe9f72d748a",
   "metadata": {},
   "outputs": [
    {
     "name": "stdout",
     "output_type": "stream",
     "text": [
      "Python\n"
     ]
    }
   ],
   "source": [
    "if(x > y or y > z):\n",
    "    print(\"Python\")"
   ]
  },
  {
   "cell_type": "code",
   "execution_count": 28,
   "id": "ded05811-c57d-41b3-a2cc-bf8324e71d72",
   "metadata": {},
   "outputs": [
    {
     "name": "stdout",
     "output_type": "stream",
     "text": [
      "JavaScript\n"
     ]
    }
   ],
   "source": [
    "if(z > y or y < x):\n",
    "    print(\"JavaScript\")"
   ]
  },
  {
   "cell_type": "code",
   "execution_count": 31,
   "id": "c83d1706-423e-4a56-8492-0fbcb0b34ff7",
   "metadata": {},
   "outputs": [
    {
     "name": "stdout",
     "output_type": "stream",
     "text": [
      "No java\n"
     ]
    }
   ],
   "source": [
    "if((y+20) < x or (z+15) < y):\n",
    "    print(\"Java\")\n",
    "else: \n",
    "    print(\"No java\")"
   ]
  },
  {
   "cell_type": "code",
   "execution_count": 32,
   "id": "321261e5-e98d-4a6b-84c6-01a0cf0a57c4",
   "metadata": {},
   "outputs": [],
   "source": [
    "x, y, z = 10, 5, 20"
   ]
  },
  {
   "cell_type": "code",
   "execution_count": 33,
   "id": "0d204352-cfc5-4dbb-9ad2-67254c314182",
   "metadata": {},
   "outputs": [
    {
     "name": "stdout",
     "output_type": "stream",
     "text": [
      "One\n"
     ]
    }
   ],
   "source": [
    "if((x > y) or ( y == z)):\n",
    "    print(\"One\")"
   ]
  },
  {
   "cell_type": "code",
   "execution_count": 34,
   "id": "ed90b034-5ef8-4178-85c5-392784da78ac",
   "metadata": {},
   "outputs": [
    {
     "name": "stdout",
     "output_type": "stream",
     "text": [
      "Two\n"
     ]
    }
   ],
   "source": [
    "if((x == y) or (y < z )):\n",
    "    print(\"Two\")"
   ]
  },
  {
   "cell_type": "code",
   "execution_count": 35,
   "id": "fbc697dc-62e4-486f-ac91-71df3f40be89",
   "metadata": {},
   "outputs": [
    {
     "name": "stdout",
     "output_type": "stream",
     "text": [
      "Three\n"
     ]
    }
   ],
   "source": [
    "if((x != y) or (y != z)):\n",
    "    print(\"Three\")"
   ]
  },
  {
   "cell_type": "code",
   "execution_count": 37,
   "id": "9e36c230-064f-429d-8b01-06407c546bda",
   "metadata": {},
   "outputs": [],
   "source": [
    "if((x < y) or (y > z)):\n",
    "    print(\"Four\")"
   ]
  },
  {
   "cell_type": "code",
   "execution_count": 38,
   "id": "30ebcf08-7e77-4a30-81e7-e723c74211fd",
   "metadata": {},
   "outputs": [
    {
     "name": "stdout",
     "output_type": "stream",
     "text": [
      "a:  True\n"
     ]
    }
   ],
   "source": [
    "a = (\"big \" != \"bigger\") or False\n",
    "print(\"a: \", a)"
   ]
  },
  {
   "cell_type": "code",
   "execution_count": 39,
   "id": "993d31fa-0629-4b75-bb7b-17ec50935347",
   "metadata": {},
   "outputs": [
    {
     "name": "stdout",
     "output_type": "stream",
     "text": [
      "b:  True\n"
     ]
    }
   ],
   "source": [
    "b = True or False\n",
    "print(\"b: \", b)\n"
   ]
  },
  {
   "cell_type": "code",
   "execution_count": 40,
   "id": "f952d2c3-039b-42ac-97d9-7bb9bec58694",
   "metadata": {},
   "outputs": [
    {
     "name": "stdout",
     "output_type": "stream",
     "text": [
      "c:  a\n"
     ]
    }
   ],
   "source": [
    "c = \"a\" or D\n",
    "print(\"c: \", c)"
   ]
  },
  {
   "cell_type": "code",
   "execution_count": 41,
   "id": "a521377e-7e9c-4f1b-ac1d-bd8689b03d06",
   "metadata": {},
   "outputs": [
    {
     "name": "stdout",
     "output_type": "stream",
     "text": [
      "d:  False\n"
     ]
    }
   ],
   "source": [
    "d = (\"ABc\" > \"abC\") or False\n",
    "print(\"d: \", d)"
   ]
  },
  {
   "cell_type": "code",
   "execution_count": 42,
   "id": "d8499edf-4f4b-4c35-b030-8b52a2a40a51",
   "metadata": {},
   "outputs": [],
   "source": [
    "p = (True == 1) or (False == 0)\n",
    "q = (\"2\" != 2) or (2 == 2)\n",
    "r = (\"5+5\" == 5+5) or False\n",
    "s = (False == 0) or (5 > 2)\n",
    "t = (10 >= True) or False"
   ]
  },
  {
   "cell_type": "code",
   "execution_count": 43,
   "id": "73af2846-8bb5-4b36-a3d8-d1ae08fcb634",
   "metadata": {},
   "outputs": [
    {
     "name": "stdout",
     "output_type": "stream",
     "text": [
      "p:  True\n",
      "q:  True\n",
      "r:  False\n",
      "s:  True\n",
      "t:  True\n"
     ]
    }
   ],
   "source": [
    "print(\"p: \", p)\n",
    "print(\"q: \", q)\n",
    "print(\"r: \", r)\n",
    "print(\"s: \", s)\n",
    "print(\"t: \", t)"
   ]
  },
  {
   "cell_type": "code",
   "execution_count": 44,
   "id": "51cc5a55-dd5e-4820-8c57-158f8d546ef6",
   "metadata": {},
   "outputs": [],
   "source": [
    "#  Logical NOT Operator"
   ]
  },
  {
   "cell_type": "code",
   "execution_count": 45,
   "id": "72a87a89-7756-4f12-b783-6d6e4d0e6a85",
   "metadata": {},
   "outputs": [
    {
     "name": "stdout",
     "output_type": "stream",
     "text": [
      "I love Python Programming\n"
     ]
    }
   ],
   "source": [
    "if(not(2 > 5)):\n",
    "    print(\"I love Python Programming\")"
   ]
  },
  {
   "cell_type": "code",
   "execution_count": 46,
   "id": "062703c8-375f-4761-9c05-65c3b69d5d7d",
   "metadata": {},
   "outputs": [
    {
     "name": "stdout",
     "output_type": "stream",
     "text": [
      "False\n"
     ]
    }
   ],
   "source": [
    "print(not(5 == 5))"
   ]
  },
  {
   "cell_type": "code",
   "execution_count": 47,
   "id": "de038ef6-5097-4f94-933f-5a1cf5dd08f6",
   "metadata": {},
   "outputs": [
    {
     "name": "stdout",
     "output_type": "stream",
     "text": [
      "True\n"
     ]
    }
   ],
   "source": [
    "print(not(False)) "
   ]
  },
  {
   "cell_type": "code",
   "execution_count": 48,
   "id": "ac3396ab-0c5c-4261-bf13-9b29dd3f166a",
   "metadata": {},
   "outputs": [
    {
     "name": "stdout",
     "output_type": "stream",
     "text": [
      "False\n"
     ]
    }
   ],
   "source": [
    "print(not(True)) "
   ]
  },
  {
   "cell_type": "code",
   "execution_count": 49,
   "id": "6419a472-a728-4033-9978-699a3ca99245",
   "metadata": {},
   "outputs": [],
   "source": [
    "#  Example Program based on Logical NOT Operator\n"
   ]
  },
  {
   "cell_type": "code",
   "execution_count": 50,
   "id": "714a6063-377c-45e4-abc2-d72f4528a0ef",
   "metadata": {},
   "outputs": [
    {
     "name": "stdout",
     "output_type": "stream",
     "text": [
      "a:  False\n"
     ]
    }
   ],
   "source": [
    "a = not(\"ABc\" > \"ABC\") or False\n",
    "print(\"a: \", a)"
   ]
  },
  {
   "cell_type": "code",
   "execution_count": 51,
   "id": "6e74e3e7-99c3-408c-b7b7-bf30be9b1f38",
   "metadata": {},
   "outputs": [
    {
     "name": "stdout",
     "output_type": "stream",
     "text": [
      "b:  True\n"
     ]
    }
   ],
   "source": [
    "b = not(True) or not(False)\n",
    "print(\"b: \", b)"
   ]
  },
  {
   "cell_type": "code",
   "execution_count": 52,
   "id": "64b55682-fb70-44d9-9352-7058557c0742",
   "metadata": {},
   "outputs": [
    {
     "name": "stdout",
     "output_type": "stream",
     "text": [
      "c:  True\n"
     ]
    }
   ],
   "source": [
    "c = (True >= 0) or not(20 == 20)\n",
    "print(\"c: \", c)"
   ]
  },
  {
   "cell_type": "code",
   "execution_count": 53,
   "id": "5ab42c92-917d-4c06-8d16-c54a9d2ac4c2",
   "metadata": {},
   "outputs": [
    {
     "name": "stdout",
     "output_type": "stream",
     "text": [
      "d:  True\n"
     ]
    }
   ],
   "source": [
    "d = not(\"5\" == 10) and not(False and (10 != 20))\n",
    "print(\"d: \", d)"
   ]
  },
  {
   "cell_type": "code",
   "execution_count": 54,
   "id": "f81c0352-be69-4f82-b483-b5da407e5672",
   "metadata": {},
   "outputs": [
    {
     "name": "stdout",
     "output_type": "stream",
     "text": [
      "a:  True\n"
     ]
    }
   ],
   "source": [
    "a = not(\"abc\" < \"ABCD\") and not(False)\n",
    "print(\"a: \", a)\n"
   ]
  },
  {
   "cell_type": "code",
   "execution_count": 55,
   "id": "1bcd50c5-da06-467b-a145-de8149ddaf74",
   "metadata": {},
   "outputs": [
    {
     "name": "stdout",
     "output_type": "stream",
     "text": [
      "b:  False\n"
     ]
    }
   ],
   "source": [
    "b = not True and not False\n",
    "print(\"b: \", b)\n"
   ]
  },
  {
   "cell_type": "code",
   "execution_count": 56,
   "id": "bc8c8430-db2f-4899-b3da-52e465237fca",
   "metadata": {},
   "outputs": [
    {
     "name": "stdout",
     "output_type": "stream",
     "text": [
      "c:  True\n"
     ]
    }
   ],
   "source": [
    "c = not(\"20\" == 20) and not(True == False)\n",
    "print(\"c: \", c)"
   ]
  },
  {
   "cell_type": "code",
   "execution_count": null,
   "id": "0c23ada5-3145-4c86-b2f0-ae059d255822",
   "metadata": {},
   "outputs": [],
   "source": []
  }
 ],
 "metadata": {
  "kernelspec": {
   "display_name": "Python 3 (ipykernel)",
   "language": "python",
   "name": "python3"
  },
  "language_info": {
   "codemirror_mode": {
    "name": "ipython",
    "version": 3
   },
   "file_extension": ".py",
   "mimetype": "text/x-python",
   "name": "python",
   "nbconvert_exporter": "python",
   "pygments_lexer": "ipython3",
   "version": "3.11.9"
  }
 },
 "nbformat": 4,
 "nbformat_minor": 5
}
