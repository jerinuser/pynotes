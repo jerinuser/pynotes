{
 "cells": [
  {
   "cell_type": "code",
   "execution_count": 1,
   "id": "3842b0ff-7b54-41ea-9158-ac8b6a9fe724",
   "metadata": {},
   "outputs": [],
   "source": [
    "#  created : 20250113"
   ]
  },
  {
   "cell_type": "code",
   "execution_count": 1,
   "id": "5ac1dcb0-7fab-492a-a40e-02b2a30983d2",
   "metadata": {},
   "outputs": [],
   "source": [
    "#  https://www.scientecheasy.com/2022/10/membership-operators-in-python.html/"
   ]
  },
  {
   "cell_type": "code",
   "execution_count": 2,
   "id": "57dc1caa-46e6-4156-a37f-9c2d2ef3ee3d",
   "metadata": {},
   "outputs": [],
   "source": [
    "#  Membership In operator\n",
    "# in \n",
    "# not in"
   ]
  },
  {
   "cell_type": "code",
   "execution_count": 3,
   "id": "8416a253-8d67-4ec6-a7df-f944d47bb395",
   "metadata": {},
   "outputs": [
    {
     "name": "stdout",
     "output_type": "stream",
     "text": [
      "True\n",
      "True\n",
      "False\n",
      "True\n"
     ]
    }
   ],
   "source": [
    "my_string = 'Every person loves his country in the world.'\n",
    "print('E' in my_string)\n",
    "print('country' in my_string)\n",
    "print('like' in my_string)\n",
    "print('lo' in my_string)"
   ]
  },
  {
   "cell_type": "code",
   "execution_count": 4,
   "id": "7347b142-e2a0-422d-855d-aa7905cdfe4f",
   "metadata": {},
   "outputs": [
    {
     "name": "stdout",
     "output_type": "stream",
     "text": [
      "True\n",
      "False\n"
     ]
    }
   ],
   "source": [
    "my_list = [2, 4, 6, 8, 10, 12]\n",
    "print(6 in my_list)\n",
    "print(5 in my_list)"
   ]
  },
  {
   "cell_type": "code",
   "execution_count": 5,
   "id": "40ba8b4d-8ed8-4bd0-b8ef-a6fd1cb00b2b",
   "metadata": {},
   "outputs": [],
   "source": [
    "my_dict = {\n",
    "    1: 'Orange',\n",
    "    2: 'Banana',\n",
    "    3: 'Apple'\n",
    "}"
   ]
  },
  {
   "cell_type": "code",
   "execution_count": 6,
   "id": "ecd3e245-9991-43fa-85b5-2540f37e4af0",
   "metadata": {},
   "outputs": [
    {
     "name": "stdout",
     "output_type": "stream",
     "text": [
      "True\n",
      "True\n",
      "False\n"
     ]
    }
   ],
   "source": [
    "print(1 in my_dict)\n",
    "print(3 in my_dict)\n",
    "print('Banana' in my_dict)"
   ]
  },
  {
   "cell_type": "code",
   "execution_count": 7,
   "id": "232d4c26-0bb0-4ab4-8302-8fac08d56273",
   "metadata": {},
   "outputs": [],
   "source": [
    "# Membership Not in operator\n"
   ]
  },
  {
   "cell_type": "code",
   "execution_count": 8,
   "id": "fcea6af4-adea-4401-82fc-cfad364adff9",
   "metadata": {},
   "outputs": [
    {
     "name": "stdout",
     "output_type": "stream",
     "text": [
      "False\n",
      "True\n",
      "False\n"
     ]
    }
   ],
   "source": [
    "my_string = 'I love Python programming'\n",
    "print('love' not in my_string)\n",
    "print('like' not in my_string)\n",
    "print('pro' not in my_string)"
   ]
  },
  {
   "cell_type": "code",
   "execution_count": 9,
   "id": "63cb2340-30eb-42ce-bd39-65e788cedf6d",
   "metadata": {},
   "outputs": [
    {
     "name": "stdout",
     "output_type": "stream",
     "text": [
      "True\n",
      "False\n"
     ]
    }
   ],
   "source": [
    "my_list = [10, 20, 30, 40, 50]\n",
    "print(15 not in my_list)\n",
    "print(20 not in my_list)"
   ]
  },
  {
   "cell_type": "code",
   "execution_count": 11,
   "id": "f667331c-9936-4d1c-a0fe-6e8b97efa6a3",
   "metadata": {},
   "outputs": [
    {
     "name": "stdout",
     "output_type": "stream",
     "text": [
      "10 is present in the given list.\n",
      "30 is not present in the given list.\n"
     ]
    }
   ],
   "source": [
    "num1  = 10\n",
    "num2 = 30\n",
    "my_list = [10, 20, 40, 50, 60 ]\n",
    "\n",
    "if(num1 in my_list):\n",
    "    print(num1, 'is present in the given list.')\n",
    "else:\n",
    "    print(num1, 'is not present in the given list.')\n",
    "\n",
    "if(num2 not in my_list):\n",
    "    print(num2, 'is not present in the given list.')\n",
    "else:\n",
    "    print(num2, 'is present in the given list.')"
   ]
  },
  {
   "cell_type": "code",
   "execution_count": null,
   "id": "9dc22fa4-399e-4a5c-9769-021d56ebb35b",
   "metadata": {},
   "outputs": [],
   "source": []
  }
 ],
 "metadata": {
  "kernelspec": {
   "display_name": "Python 3 (ipykernel)",
   "language": "python",
   "name": "python3"
  },
  "language_info": {
   "codemirror_mode": {
    "name": "ipython",
    "version": 3
   },
   "file_extension": ".py",
   "mimetype": "text/x-python",
   "name": "python",
   "nbconvert_exporter": "python",
   "pygments_lexer": "ipython3",
   "version": "3.11.9"
  }
 },
 "nbformat": 4,
 "nbformat_minor": 5
}
