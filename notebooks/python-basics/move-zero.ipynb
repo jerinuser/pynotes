{
 "cells": [
  {
   "cell_type": "code",
   "execution_count": null,
   "id": "2339c8ae-bdab-4243-abe2-45360aaa5a70",
   "metadata": {},
   "outputs": [],
   "source": [
    "\n"
   ]
  },
  {
   "cell_type": "code",
   "execution_count": 1,
   "id": "6c32a85a-9812-49b1-b112-c307d85dc057",
   "metadata": {},
   "outputs": [
    {
     "name": "stdout",
     "output_type": "stream",
     "text": [
      "List after moving zeroes: [1, 3, 12, 0, 0]\n",
      "List after moving zeroes: [0, 0, 0]\n"
     ]
    }
   ],
   "source": [
    "def move_zeroes(lst):\n",
    "    non_zero = [x for x in lst if x != 0]\n",
    "    zeroes = [0] * lst.count(0)\n",
    "    result = non_zero + zeroes\n",
    "    print(\"List after moving zeroes:\", result)\n",
    "\n",
    "# Example usage\n",
    "move_zeroes([0, 1, 0, 3, 12])\n",
    "move_zeroes([0, 0, 0])"
   ]
  },
  {
   "cell_type": "code",
   "execution_count": 4,
   "id": "641c04a6-0e57-4226-a40f-0fc4914c3dc5",
   "metadata": {},
   "outputs": [],
   "source": [
    "# Split a List into Two Based on a Condition"
   ]
  },
  {
   "cell_type": "code",
   "execution_count": 5,
   "id": "d6d22b48-c440-45cf-b787-ca1fc381cd57",
   "metadata": {},
   "outputs": [
    {
     "name": "stdout",
     "output_type": "stream",
     "text": [
      "Condition True: [10, 20, 30]\n",
      "Condition False: [25]\n"
     ]
    }
   ],
   "source": [
    "def split_list(lst, condition):\n",
    "    true_list = [x for x in lst if condition(x)]\n",
    "    false_list = [x for x in lst if not condition(x)]\n",
    "    print(\"Condition True:\", true_list)\n",
    "    print(\"Condition False:\", false_list)\n",
    "\n",
    "# Example usage\n",
    "split_list([10, 20, 25, 30], lambda x: x % 2 == 0)"
   ]
  },
  {
   "cell_type": "code",
   "execution_count": null,
   "id": "7b1e2fef-54e2-437f-b940-d7fa909b6b14",
   "metadata": {},
   "outputs": [],
   "source": []
  }
 ],
 "metadata": {
  "kernelspec": {
   "display_name": "Python 3 (ipykernel)",
   "language": "python",
   "name": "python3"
  },
  "language_info": {
   "codemirror_mode": {
    "name": "ipython",
    "version": 3
   },
   "file_extension": ".py",
   "mimetype": "text/x-python",
   "name": "python",
   "nbconvert_exporter": "python",
   "pygments_lexer": "ipython3",
   "version": "3.11.9"
  }
 },
 "nbformat": 4,
 "nbformat_minor": 5
}
