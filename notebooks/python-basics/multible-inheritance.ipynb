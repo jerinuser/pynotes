{
 "cells": [
  {
   "cell_type": "code",
   "execution_count": 1,
   "id": "2339c8ae-bdab-4243-abe2-45360aaa5a70",
   "metadata": {},
   "outputs": [
    {
     "name": "stdout",
     "output_type": "stream",
     "text": [
      "Driving\n"
     ]
    }
   ],
   "source": [
    "class Father:\n",
    "    def skill(self):\n",
    "        print(\"Driving\")\n",
    "\n",
    "class Mother:\n",
    "    def skill(self):\n",
    "        print(\"Cooking\")\n",
    "\n",
    "class Child(Father, Mother):\n",
    "    pass\n",
    "\n",
    "child = Child()\n",
    "child.skill()"
   ]
  },
  {
   "cell_type": "code",
   "execution_count": 2,
   "id": "a72cd023-72d4-44e9-bb09-cad470355935",
   "metadata": {},
   "outputs": [
    {
     "name": "stdout",
     "output_type": "stream",
     "text": [
      "GrandParent Display\n"
     ]
    }
   ],
   "source": [
    "class GrandParent:\n",
    "    def display(self):\n",
    "        print(\"GrandParent Display\")\n",
    "\n",
    "class Parent(GrandParent):\n",
    "    pass\n",
    "\n",
    "class Child(Parent):\n",
    "    pass\n",
    "\n",
    "child = Child()\n",
    "child.display()"
   ]
  },
  {
   "cell_type": "code",
   "execution_count": null,
   "id": "88661033-e185-4ee8-b36a-59091f624e51",
   "metadata": {},
   "outputs": [],
   "source": []
  }
 ],
 "metadata": {
  "kernelspec": {
   "display_name": "Python 3 (ipykernel)",
   "language": "python",
   "name": "python3"
  },
  "language_info": {
   "codemirror_mode": {
    "name": "ipython",
    "version": 3
   },
   "file_extension": ".py",
   "mimetype": "text/x-python",
   "name": "python",
   "nbconvert_exporter": "python",
   "pygments_lexer": "ipython3",
   "version": "3.11.9"
  }
 },
 "nbformat": 4,
 "nbformat_minor": 5
}
