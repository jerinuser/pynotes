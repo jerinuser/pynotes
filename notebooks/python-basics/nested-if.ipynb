{
 "cells": [
  {
   "cell_type": "code",
   "execution_count": 1,
   "id": "3842b0ff-7b54-41ea-9158-ac8b6a9fe724",
   "metadata": {},
   "outputs": [],
   "source": [
    "#  created : 20250125"
   ]
  },
  {
   "cell_type": "code",
   "execution_count": 2,
   "id": "5ac1dcb0-7fab-492a-a40e-02b2a30983d2",
   "metadata": {},
   "outputs": [],
   "source": [
    "#  https://www.scientecheasy.com/2022/10/python-nested-if.html/"
   ]
  },
  {
   "cell_type": "code",
   "execution_count": null,
   "id": "57dc1caa-46e6-4156-a37f-9c2d2ef3ee3d",
   "metadata": {},
   "outputs": [],
   "source": []
  },
  {
   "cell_type": "code",
   "execution_count": 3,
   "id": "1f4cb98a-8f96-4005-bfc2-0ac7970d070d",
   "metadata": {},
   "outputs": [
    {
     "name": "stdout",
     "output_type": "stream",
     "text": [
      "Hello\n"
     ]
    }
   ],
   "source": [
    "x = 20\n",
    "y = 10\n",
    "z = 5\n",
    "# Outer if statement.\n",
    "if x > y:\n",
    "    if y > z: # Nested inner if statement.\n",
    "        print('Hello')"
   ]
  },
  {
   "cell_type": "code",
   "execution_count": 4,
   "id": "38b22e53-c237-47d6-9b56-d1d48c551b23",
   "metadata": {},
   "outputs": [
    {
     "name": "stdout",
     "output_type": "stream",
     "text": [
      "Hi\n"
     ]
    }
   ],
   "source": [
    "x = 20\n",
    "y = 10\n",
    "z = 5\n",
    "# Outer if statement.\n",
    "if x > y:\n",
    "    if y < z: # Nested inner if statement.\n",
    "        print('Hello')\n",
    "    print('Hi')"
   ]
  },
  {
   "cell_type": "code",
   "execution_count": 6,
   "id": "7fcb6d53-5269-49ff-be63-3ecb2d7830a0",
   "metadata": {},
   "outputs": [],
   "source": [
    "x = 20\n",
    "y = 10\n",
    "z = 5\n",
    "# Outer if statement.\n",
    "if x < y: \n",
    "    if y > z: # Nested inner if statement.\n",
    "        print('Hello')\n",
    "    print('Hi')"
   ]
  },
  {
   "cell_type": "code",
   "execution_count": 7,
   "id": "8acefb34-9939-4a38-ad6c-1ea30acd98a4",
   "metadata": {},
   "outputs": [],
   "source": [
    "# Nested If else Statement in Python\n"
   ]
  },
  {
   "cell_type": "code",
   "execution_count": 9,
   "id": "31c6cd03-4f84-49ed-9a4c-a6c28c7e715e",
   "metadata": {},
   "outputs": [
    {
     "name": "stdout",
     "output_type": "stream",
     "text": [
      "Outer if block\n",
      "Inner else block\n"
     ]
    }
   ],
   "source": [
    "x = 20\n",
    "y = 10\n",
    "z = 5\n",
    "# Outer if else statement.\n",
    "if x > y:\n",
    "    print('Outer if block')\n",
    "    if y < z: # Nested inner if else statement.\n",
    "        print('Inner if block')\n",
    "    else:\n",
    "        print('Inner else block')\n",
    "else:\n",
    "    print('Outer else block')"
   ]
  },
  {
   "cell_type": "code",
   "execution_count": 10,
   "id": "436cdb80-c613-43aa-ad87-7500e63a805f",
   "metadata": {},
   "outputs": [
    {
     "name": "stdin",
     "output_type": "stream",
     "text": [
      "Enter a number that you want to check divisible:  34\n"
     ]
    },
    {
     "name": "stdout",
     "output_type": "stream",
     "text": [
      "The number is divisible by 2, but not divisible by 3.\n"
     ]
    }
   ],
   "source": [
    "# Take a number as input from the user.\n",
    "num = int(input('Enter a number that you want to check divisible: '))\n",
    "# Outer if else statement.\n",
    "if num % 2 == 0:\n",
    "    if num % 3 == 0: # Nested inner if else statement.\n",
    "        print('The number is divisible by 2 and 3.')\n",
    "    else:\n",
    "        print('The number is divisible by 2, but not divisible by 3.')\n",
    "else:\n",
    "    if num % 3 == 0:\n",
    "        print('The number is divisible by 3, but not divisible by 2')\n",
    "    else:\n",
    "        print('The number is not divisible 2 and 3.')"
   ]
  },
  {
   "cell_type": "code",
   "execution_count": 11,
   "id": "22d91fef-e726-4f6d-9e5c-773df6b6034d",
   "metadata": {},
   "outputs": [
    {
     "name": "stdin",
     "output_type": "stream",
     "text": [
      "Enter a number that you want to check:  23\n"
     ]
    },
    {
     "name": "stdout",
     "output_type": "stream",
     "text": [
      "Number is positive.\n"
     ]
    }
   ],
   "source": [
    "num = int(input('Enter a number that you want to check: '))\n",
    "# Outer if else statement.\n",
    "if num >= 0:\n",
    "    if num == 0: # Nested inner if else statement.\n",
    "        print('Number is zero.')\n",
    "    else:\n",
    "        print('Number is positive.')\n",
    "else:\n",
    "    print('Number is negative.')"
   ]
  },
  {
   "cell_type": "code",
   "execution_count": 12,
   "id": "a66d90d9-b3bb-44c4-8b1a-34c287a96f4b",
   "metadata": {},
   "outputs": [
    {
     "name": "stdin",
     "output_type": "stream",
     "text": [
      "Please enter your age:  22\n"
     ]
    },
    {
     "name": "stdout",
     "output_type": "stream",
     "text": [
      "You are young and eligible to cast vote\n"
     ]
    }
   ],
   "source": [
    "age = int(input('Please enter your age: '))\n",
    "# Outer if else statement.\n",
    "if age < 18:\n",
    "    print('You are minor and not eligible to cast vote.') \n",
    "else: \n",
    "    if age >= 18 and age < 60:\n",
    "        print('You are young and eligible to cast vote')\n",
    "    else:\n",
    "        print('You are a senior citizen person and will be given special care to cast vote.')"
   ]
  },
  {
   "cell_type": "code",
   "execution_count": 13,
   "id": "01b41b5d-364d-4a95-be6a-33be7328fbdd",
   "metadata": {},
   "outputs": [
    {
     "name": "stdin",
     "output_type": "stream",
     "text": [
      "Please enter a year:  2025\n"
     ]
    },
    {
     "name": "stdout",
     "output_type": "stream",
     "text": [
      "2025 is not a leap year.\n"
     ]
    }
   ],
   "source": [
    "# Program to check a year is leap year or not.\n",
    "year = int(input('Please enter a year: '))\n",
    "if year % 4 == 0:\n",
    "    if year % 100 == 0:\n",
    "        if year % 400 == 0:\n",
    "            print(year,'is a leap year.')\n",
    "        else:\n",
    "            print(year,'is not a leap year.')\n",
    "    else:\n",
    "        print(year,'is a leap year.')\n",
    "else:\n",
    "    print(year, 'is not a leap year.')"
   ]
  },
  {
   "cell_type": "code",
   "execution_count": 14,
   "id": "45fe3a48-73aa-4b7a-998b-3fd320fe641d",
   "metadata": {},
   "outputs": [],
   "source": [
    "# Nested If-elif-else Statement in Python\n"
   ]
  },
  {
   "cell_type": "code",
   "execution_count": 15,
   "id": "dca053a4-a344-438a-b208-4156e1b87c82",
   "metadata": {},
   "outputs": [
    {
     "name": "stdin",
     "output_type": "stream",
     "text": [
      "Please enter an operator [+, -, *, or /]:  -\n",
      "Please enter your first number:  2\n",
      "Please enter your second number:  3\n"
     ]
    },
    {
     "name": "stdout",
     "output_type": "stream",
     "text": [
      "Difference between 2 and 3 = 1\n"
     ]
    }
   ],
   "source": [
    "# Program to make a simple mathematical calculator.\n",
    "opr = input('Please enter an operator [+, -, *, or /]: ')\n",
    "if(opr == '+' or opr == '-' or opr == '*' or opr == '/'):\n",
    "    n1 = int(input('Please enter your first number: '))\n",
    "    n2 = int(input('Please enter your second number: '))\n",
    "    if(opr == '+'):\n",
    "        sum = n1 + n2\n",
    "        print(\"Sum of\",n1,'and', n2,'=', sum)\n",
    "    elif(opr == '-'):\n",
    "        if(n1 > n2):\n",
    "            diff = n1 - n2\n",
    "        else:\n",
    "            diff = n2 - n1\n",
    "        print('Difference between',n1,'and',n2,'=', diff)\n",
    "    elif(opr == '*'):\n",
    "        multiply = n1 * n2\n",
    "        print('Multiplication of',n1,'and',n2,'=', multiply)\n",
    "    elif(opr == '/'):\n",
    "        if(n1 == 0 or n2 == 0):\n",
    "            print('Numbers must be positive.')\n",
    "        else:\n",
    "            div = n1 / n2\n",
    "            print('Division of',n1,'by',n2,'=', div)\n",
    "else:\n",
    "    print('Sorry, you have entered an invalid operator. Please choose any of these +, -, *, or /.')"
   ]
  },
  {
   "cell_type": "code",
   "execution_count": null,
   "id": "b5f7c2e6-3c28-4c4f-850a-fb30dfb36a83",
   "metadata": {},
   "outputs": [],
   "source": []
  }
 ],
 "metadata": {
  "kernelspec": {
   "display_name": "Python 3 (ipykernel)",
   "language": "python",
   "name": "python3"
  },
  "language_info": {
   "codemirror_mode": {
    "name": "ipython",
    "version": 3
   },
   "file_extension": ".py",
   "mimetype": "text/x-python",
   "name": "python",
   "nbconvert_exporter": "python",
   "pygments_lexer": "ipython3",
   "version": "3.11.9"
  }
 },
 "nbformat": 4,
 "nbformat_minor": 5
}
