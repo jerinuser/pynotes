{
 "cells": [
  {
   "cell_type": "code",
   "execution_count": 1,
   "id": "3842b0ff-7b54-41ea-9158-ac8b6a9fe724",
   "metadata": {},
   "outputs": [],
   "source": [
    "#  created : 20250125"
   ]
  },
  {
   "cell_type": "code",
   "execution_count": 1,
   "id": "5ac1dcb0-7fab-492a-a40e-02b2a30983d2",
   "metadata": {},
   "outputs": [],
   "source": [
    "#  https://www.scientecheasy.com/2022/11/nested-loops-in-python.html/"
   ]
  },
  {
   "cell_type": "code",
   "execution_count": null,
   "id": "57dc1caa-46e6-4156-a37f-9c2d2ef3ee3d",
   "metadata": {},
   "outputs": [],
   "source": []
  },
  {
   "cell_type": "code",
   "execution_count": 2,
   "id": "e952331a-65e4-4796-b6be-bad81510916b",
   "metadata": {},
   "outputs": [
    {
     "name": "stdout",
     "output_type": "stream",
     "text": [
      "Value of x =  1\n",
      "Value of y =  1\n",
      "Value of y =  2\n",
      "Value of x =  2\n",
      "Value of y =  1\n",
      "Value of y =  2\n",
      "Nested loops ends here...\n"
     ]
    }
   ],
   "source": [
    "# Outer for loop.\n",
    "for x in 1, 2:\n",
    "    print('Value of x = ',x) # It will execute two times.\n",
    "  # Inner for loop.\n",
    "    for y in 1, 2:\n",
    "        print('Value of y = ',y) # It will execute four times.\n",
    "print('Nested loops ends here...')"
   ]
  },
  {
   "cell_type": "code",
   "execution_count": 3,
   "id": "5c54de12-905d-44cb-86f6-2fd126bb8ab5",
   "metadata": {},
   "outputs": [],
   "source": [
    "# Nested While loops in Python\n"
   ]
  },
  {
   "cell_type": "code",
   "execution_count": 4,
   "id": "370209e9-8411-4474-91d0-daf61eae9bf1",
   "metadata": {},
   "outputs": [
    {
     "name": "stdout",
     "output_type": "stream",
     "text": [
      "Outer while loop\n",
      "Inner while loop\n",
      "Inner while loop\n",
      "Outer while loop\n",
      "Nested while loops end here...\n"
     ]
    }
   ],
   "source": [
    "x = 1 # Initialization for outer while loop.\n",
    "y = 1 # Intialization for the inner while loop.\n",
    "# Outer while loop.\n",
    "while x < 3:\n",
    "    print('Outer while loop') # This statement will execute two times.\n",
    "  # Inner while loop.\n",
    "    while y < 3:\n",
    "        print('Inner while loop') # This statement will execute two times for the first outer loop.\n",
    "        y = y + 1\n",
    "    x = x + 1\n",
    "print('Nested while loops end here...')"
   ]
  },
  {
   "cell_type": "code",
   "execution_count": 5,
   "id": "08343d50-212a-4bbd-9602-26730542101e",
   "metadata": {},
   "outputs": [
    {
     "name": "stdout",
     "output_type": "stream",
     "text": [
      "Math table of 2: \n",
      "2 * 1 = 2\n",
      "2 * 2 = 4\n",
      "2 * 3 = 6\n",
      "2 * 4 = 8\n",
      "2 * 5 = 10\n",
      "2 * 6 = 12\n",
      "2 * 7 = 14\n",
      "2 * 8 = 16\n",
      "2 * 9 = 18\n",
      "2 * 10 = 20\n",
      "\n",
      "Nested for loops ends here...\n"
     ]
    }
   ],
   "source": [
    "# Outer for loop.\n",
    "print('Math table of 2: ')\n",
    "for x in range(2, 3): # This loop will only repeat 1 time.\n",
    "    for y in range(1, 11): # Inner for loop will repeat 10 times.\n",
    "        t = x * y\n",
    "        print(x,'*',y,'=',t)\n",
    "    print()\n",
    "print('Nested for loops ends here...')"
   ]
  },
  {
   "cell_type": "code",
   "execution_count": 6,
   "id": "493f11d3-1d63-41c0-9311-0f8c5378321a",
   "metadata": {
    "scrolled": true
   },
   "outputs": [
    {
     "name": "stdout",
     "output_type": "stream",
     "text": [
      "\n",
      "Math table for 1 :\n",
      "1 * 1 = 1\n",
      "1 * 2 = 2\n",
      "1 * 3 = 3\n",
      "1 * 4 = 4\n",
      "1 * 5 = 5\n",
      "1 * 6 = 6\n",
      "1 * 7 = 7\n",
      "1 * 8 = 8\n",
      "1 * 9 = 9\n",
      "1 * 10 = 10\n",
      "\n",
      "Math table for 2 :\n",
      "2 * 1 = 2\n",
      "2 * 2 = 4\n",
      "2 * 3 = 6\n",
      "2 * 4 = 8\n",
      "2 * 5 = 10\n",
      "2 * 6 = 12\n",
      "2 * 7 = 14\n",
      "2 * 8 = 16\n",
      "2 * 9 = 18\n",
      "2 * 10 = 20\n",
      "\n",
      "Math table for 3 :\n",
      "3 * 1 = 3\n",
      "3 * 2 = 6\n",
      "3 * 3 = 9\n",
      "3 * 4 = 12\n",
      "3 * 5 = 15\n",
      "3 * 6 = 18\n",
      "3 * 7 = 21\n",
      "3 * 8 = 24\n",
      "3 * 9 = 27\n",
      "3 * 10 = 30\n",
      "\n",
      "Math table for 4 :\n",
      "4 * 1 = 4\n",
      "4 * 2 = 8\n",
      "4 * 3 = 12\n",
      "4 * 4 = 16\n",
      "4 * 5 = 20\n",
      "4 * 6 = 24\n",
      "4 * 7 = 28\n",
      "4 * 8 = 32\n",
      "4 * 9 = 36\n",
      "4 * 10 = 40\n",
      "\n",
      "Math table for 5 :\n",
      "5 * 1 = 5\n",
      "5 * 2 = 10\n",
      "5 * 3 = 15\n",
      "5 * 4 = 20\n",
      "5 * 5 = 25\n",
      "5 * 6 = 30\n",
      "5 * 7 = 35\n",
      "5 * 8 = 40\n",
      "5 * 9 = 45\n",
      "5 * 10 = 50\n",
      "Nested while loops ends here...\n"
     ]
    }
   ],
   "source": [
    "x = 1\n",
    "while x <= 5: # Outer while loop.\n",
    "    t, y = 1, 1\n",
    "    print()\n",
    "    print('Math table for',x,':')\n",
    "    while y <= 10: # Inner while loop.\n",
    "        t = x * y\n",
    "        print(x,'*',y,'=',t)\n",
    "        y = y + 1\n",
    "    x = x + 1\n",
    "print('Nested while loops ends here...')"
   ]
  },
  {
   "cell_type": "code",
   "execution_count": 7,
   "id": "51bf70bb-a243-44bb-b4de-d4d33c5fc7d2",
   "metadata": {},
   "outputs": [
    {
     "name": "stdout",
     "output_type": "stream",
     "text": [
      "Multiplication tables from 1 to 5: \n",
      "1 2 3 4 5 6 7 8 9 10 \n",
      "2 4 6 8 10 12 14 16 18 20 \n",
      "3 6 9 12 15 18 21 24 27 30 \n",
      "4 8 12 16 20 24 28 32 36 40 \n",
      "5 10 15 20 25 30 35 40 45 50 \n",
      "Nested for loops ends here...\n"
     ]
    }
   ],
   "source": [
    "# Outer for loop.\n",
    "print('Multiplication tables from 1 to 5: ')\n",
    "for x in range(1, 6):\n",
    "    for y in range(1, 11): # Inner for loop.\n",
    "        t = x * y\n",
    "        print(t, end=' ')\n",
    "    print()\n",
    "print('Nested for loops ends here...')"
   ]
  },
  {
   "cell_type": "code",
   "execution_count": 8,
   "id": "31c2b4ea-b9ea-4246-9831-36641d5eca79",
   "metadata": {},
   "outputs": [
    {
     "name": "stdout",
     "output_type": "stream",
     "text": [
      "Displaying a triangle of *: \n",
      "* \n",
      "* * \n",
      "* * * \n",
      "* * * * \n",
      "* * * * * \n",
      "Loops end here...\n"
     ]
    }
   ],
   "source": [
    "# Outer for loop.\n",
    "print('Displaying a triangle of *: ')\n",
    "for x in range(1, 6):\n",
    "    for y in range(1, x + 1): # Inner for loop.\n",
    "        print('* ',end='')\n",
    "    print()\n",
    "print('Loops end here...')"
   ]
  },
  {
   "cell_type": "code",
   "execution_count": 9,
   "id": "04274417-20da-42a0-84e3-6160035fc66d",
   "metadata": {},
   "outputs": [
    {
     "name": "stdout",
     "output_type": "stream",
     "text": [
      "Displaying a triangle of numbers: \n",
      "1  \n",
      "1  2  \n",
      "1  2  3  \n",
      "1  2  3  4  \n",
      "1  2  3  4  5  \n",
      "Loops end here...\n"
     ]
    }
   ],
   "source": [
    "# Outer for loop.\n",
    "print('Displaying a triangle of numbers: ')\n",
    "for x in range(1, 6):\n",
    "    for y in range(1, x + 1): # Inner for loop.\n",
    "        print(y,' ',end='')\n",
    "    print()\n",
    "print('Loops end here...')"
   ]
  },
  {
   "cell_type": "code",
   "execution_count": 10,
   "id": "c6b6e07f-3b1a-49cf-b3a4-c992bbb98725",
   "metadata": {},
   "outputs": [
    {
     "name": "stdout",
     "output_type": "stream",
     "text": [
      "Displaying a right triangle pattern of numbers: \n",
      "1  \n",
      "2  2  \n",
      "3  3  3  \n",
      "4  4  4  4  \n",
      "5  5  5  5  5  \n",
      "Loops end here...\n"
     ]
    }
   ],
   "source": [
    "print('Displaying a right triangle pattern of numbers: ')\n",
    "z = 1\n",
    "for x in range(1, 6):\n",
    "    for y in range(1, x + 1): # Inner for loop.\n",
    "        print(z,' ',end='')\n",
    "    z += 1\n",
    "    print()\n",
    "print('Loops end here...')"
   ]
  },
  {
   "cell_type": "code",
   "execution_count": 11,
   "id": "0748cba7-82bd-4541-906f-6e53035d2122",
   "metadata": {},
   "outputs": [
    {
     "name": "stdout",
     "output_type": "stream",
     "text": [
      "1  2  3  4  5  \n",
      "1  2  3  4  \n",
      "1  2  3  \n",
      "1  2  \n",
      "1  \n",
      "Loops end here...\n"
     ]
    }
   ],
   "source": [
    "# Outer for loop.\n",
    "for x in range(6, 1, -1):\n",
    "    for y in range(1, x): # Inner for loop.\n",
    "        print(y,' ',end='')\n",
    "    print()\n",
    "print('Loops end here...')"
   ]
  },
  {
   "cell_type": "code",
   "execution_count": 12,
   "id": "ca3e5300-3569-4f0c-b58a-72a149292984",
   "metadata": {},
   "outputs": [
    {
     "name": "stdout",
     "output_type": "stream",
     "text": [
      "Displaying a right triangle of characters \n",
      "A  \n",
      "A  B  \n",
      "A  B  C  \n",
      "A  B  C  D  \n",
      "A  B  C  D  E  \n",
      "Loops end here...\n"
     ]
    }
   ],
   "source": [
    "print(\"Displaying a right triangle of characters \")\n",
    "# Outer for loop.\n",
    "for x in range(65, 70):\n",
    "    for y in range(65, x + 1): # Inner for loop.\n",
    "        print(chr(y),' ',end='')\n",
    "    print()\n",
    "print('Loops end here...')"
   ]
  },
  {
   "cell_type": "code",
   "execution_count": 13,
   "id": "d5da3928-f6b8-4197-8d44-00fe039a23f0",
   "metadata": {},
   "outputs": [
    {
     "name": "stdout",
     "output_type": "stream",
     "text": [
      "Displaying a reverse right triangle of characters \n",
      "A  B  C  D  E  \n",
      "A  B  C  D  \n",
      "A  B  C  \n",
      "A  B  \n",
      "A  \n",
      "Loops end here...\n"
     ]
    }
   ],
   "source": [
    "print(\"Displaying a reverse right triangle of characters \")\n",
    "# Outer for loop.\n",
    "for x in range(70, 65, -1):\n",
    "    for y in range(65, x): # Inner for loop.\n",
    "        print(chr(y),' ',end='')\n",
    "    print()\n",
    "print('Loops end here...')"
   ]
  },
  {
   "cell_type": "code",
   "execution_count": 14,
   "id": "47c7f678-c723-46dd-81ec-975c683267a3",
   "metadata": {},
   "outputs": [
    {
     "name": "stdin",
     "output_type": "stream",
     "text": [
      "Enter the value of x:  5\n",
      "Enter the value of n:  6\n"
     ]
    },
    {
     "name": "stdout",
     "output_type": "stream",
     "text": [
      "Sum of the series = 3450.58\n"
     ]
    }
   ],
   "source": [
    "# Python program to find the sum of series.\n",
    "import math # Using this module, we will call pow() function.\n",
    "x = int(input('Enter the value of x: '))\n",
    "n = int(input('Enter the value of n: '))\n",
    "S = 1.0 + x\n",
    "term = 1\n",
    "count = 1\n",
    "while count <= n: # Outer while loop.\n",
    "    power = math.pow(x, count)\n",
    "    fact = 1\n",
    "    for i in range(1, count + 1): # Inner for loop.\n",
    "        fact = fact * 1\n",
    "    S = S + (power/count)\n",
    "    count = count + 1\n",
    "print('Sum of the series = %.2f'%S)"
   ]
  },
  {
   "cell_type": "code",
   "execution_count": null,
   "id": "d5f3881d-90c5-4c1c-acfa-402c8d85aec8",
   "metadata": {},
   "outputs": [],
   "source": []
  }
 ],
 "metadata": {
  "kernelspec": {
   "display_name": "Python 3 (ipykernel)",
   "language": "python",
   "name": "python3"
  },
  "language_info": {
   "codemirror_mode": {
    "name": "ipython",
    "version": 3
   },
   "file_extension": ".py",
   "mimetype": "text/x-python",
   "name": "python",
   "nbconvert_exporter": "python",
   "pygments_lexer": "ipython3",
   "version": "3.11.9"
  }
 },
 "nbformat": 4,
 "nbformat_minor": 5
}
