{
 "cells": [
  {
   "cell_type": "code",
   "execution_count": 1,
   "id": "3842b0ff-7b54-41ea-9158-ac8b6a9fe724",
   "metadata": {},
   "outputs": [],
   "source": [
    "#  created : 20250125"
   ]
  },
  {
   "cell_type": "code",
   "execution_count": 2,
   "id": "5ac1dcb0-7fab-492a-a40e-02b2a30983d2",
   "metadata": {},
   "outputs": [],
   "source": [
    "#  https://www.scientecheasy.com/2022/10/operator-precedence-in-python.html/"
   ]
  },
  {
   "cell_type": "code",
   "execution_count": 1,
   "id": "57dc1caa-46e6-4156-a37f-9c2d2ef3ee3d",
   "metadata": {},
   "outputs": [],
   "source": [
    "# Python Precedence Operator\n"
   ]
  },
  {
   "cell_type": "code",
   "execution_count": 2,
   "id": "d453a56f-1e9f-44ff-bcf0-416f8ebcfbb3",
   "metadata": {},
   "outputs": [],
   "source": [
    "# #  meaning of precedence operator:\n",
    "# ------------------------------------\n",
    "# Operator precedence in Python means the order in which the Python interpreter executes operators. \n",
    "# It tells the Python interpreter which operator should be evaluated first if a single statement contains more than one operator."
   ]
  },
  {
   "cell_type": "code",
   "execution_count": 5,
   "id": "6d84fa87-05fe-4dbd-9399-489685a425db",
   "metadata": {},
   "outputs": [],
   "source": [
    "def exp():\n",
    "    result = exp = 3 + 5 * 4 # --> 5*4 will work first anad then will add 3\n",
    "    return result"
   ]
  },
  {
   "cell_type": "code",
   "execution_count": 6,
   "id": "63dee583-8643-4f92-8bf6-e9fef97279d1",
   "metadata": {},
   "outputs": [
    {
     "data": {
      "text/plain": [
       "23"
      ]
     },
     "execution_count": 6,
     "metadata": {},
     "output_type": "execute_result"
    }
   ],
   "source": [
    "exp()"
   ]
  },
  {
   "cell_type": "code",
   "execution_count": 7,
   "id": "17c11bdd-7089-4d19-b8ae-d0678dd603cb",
   "metadata": {},
   "outputs": [],
   "source": [
    "# incorrect format of precedence "
   ]
  },
  {
   "cell_type": "code",
   "execution_count": 8,
   "id": "81a9b33a-a24e-4d80-b272-f5225db6f772",
   "metadata": {},
   "outputs": [],
   "source": [
    "Avg = 5 + 10 + 20 / 3\n"
   ]
  },
  {
   "cell_type": "code",
   "execution_count": 9,
   "id": "894438da-ab9d-4475-aa2b-0c26239f6d4a",
   "metadata": {},
   "outputs": [
    {
     "data": {
      "text/plain": [
       "21.666666666666668"
      ]
     },
     "execution_count": 9,
     "metadata": {},
     "output_type": "execute_result"
    }
   ],
   "source": [
    "Avg"
   ]
  },
  {
   "cell_type": "code",
   "execution_count": 12,
   "id": "11b2150f-e648-4553-8fe0-09bab4d21b55",
   "metadata": {},
   "outputs": [],
   "source": [
    "# difference "
   ]
  },
  {
   "cell_type": "code",
   "execution_count": 10,
   "id": "84728933-c34b-456a-809c-5bc5cc7603a5",
   "metadata": {},
   "outputs": [],
   "source": [
    "Avg = (5 + 10 + 20) / 3\n"
   ]
  },
  {
   "cell_type": "code",
   "execution_count": 11,
   "id": "e870e600-748f-4d62-af97-0081fac83fe5",
   "metadata": {},
   "outputs": [
    {
     "data": {
      "text/plain": [
       "11.666666666666666"
      ]
     },
     "execution_count": 11,
     "metadata": {},
     "output_type": "execute_result"
    }
   ],
   "source": [
    "Avg"
   ]
  },
  {
   "cell_type": "code",
   "execution_count": 13,
   "id": "a80ade06-d861-4989-a539-8056d12505a0",
   "metadata": {},
   "outputs": [],
   "source": [
    "def division():\n",
    "    result=(10 / 5 * 5)\n",
    "    return result"
   ]
  },
  {
   "cell_type": "code",
   "execution_count": 14,
   "id": "59059c4b-3af2-4152-86d3-b1387a537a62",
   "metadata": {},
   "outputs": [
    {
     "data": {
      "text/plain": [
       "10.0"
      ]
     },
     "execution_count": 14,
     "metadata": {},
     "output_type": "execute_result"
    }
   ],
   "source": [
    "division()"
   ]
  },
  {
   "cell_type": "code",
   "execution_count": 15,
   "id": "ede84205-9f86-4fb9-bde6-b1f73825fb97",
   "metadata": {},
   "outputs": [],
   "source": [
    "def division2():\n",
    "    result = (10 - 10 + 10 / 10 * 10)\n",
    "    return result"
   ]
  },
  {
   "cell_type": "code",
   "execution_count": 16,
   "id": "becd4e96-dacc-4053-9254-278d1491eed6",
   "metadata": {},
   "outputs": [
    {
     "data": {
      "text/plain": [
       "10.0"
      ]
     },
     "execution_count": 16,
     "metadata": {},
     "output_type": "execute_result"
    }
   ],
   "source": [
    "division()"
   ]
  },
  {
   "cell_type": "code",
   "execution_count": 17,
   "id": "ccf0dfa1-5b94-42da-bbd1-efd44d4092ce",
   "metadata": {},
   "outputs": [],
   "source": [
    "def division3():\n",
    "    result=(((6 - 3) + 2 * 4) * 8 / 4)\n",
    "    return result"
   ]
  },
  {
   "cell_type": "code",
   "execution_count": 18,
   "id": "ec321aae-d0db-4164-8e48-446b68726bde",
   "metadata": {},
   "outputs": [
    {
     "data": {
      "text/plain": [
       "22.0"
      ]
     },
     "execution_count": 18,
     "metadata": {},
     "output_type": "execute_result"
    }
   ],
   "source": [
    "division3()"
   ]
  },
  {
   "cell_type": "code",
   "execution_count": 19,
   "id": "575f375f-f460-4468-af03-6611955db82b",
   "metadata": {},
   "outputs": [],
   "source": [
    "# this is how the division3 fun will work :\n",
    "\n",
    "# (6 – 3) = 3\n",
    "# 2 * 4 = 8\n",
    "# 3 + 8 = 11\n",
    "# 8 /4 = 2\n",
    "# 11 * 2 = 22.0"
   ]
  },
  {
   "cell_type": "code",
   "execution_count": 21,
   "id": "359dbbef-0ce6-414f-ac7b-4e12db41309b",
   "metadata": {},
   "outputs": [],
   "source": [
    "def division4():\n",
    "    p = 1\n",
    "    q = 2\n",
    "    if(p > 0 and q > 0):\n",
    "        return ('p and q are positive integer numbers.')"
   ]
  },
  {
   "cell_type": "code",
   "execution_count": 22,
   "id": "09051161-cebb-4a1a-8ca9-47eedf491441",
   "metadata": {},
   "outputs": [
    {
     "data": {
      "text/plain": [
       "'p and q are positive integer numbers.'"
      ]
     },
     "execution_count": 22,
     "metadata": {},
     "output_type": "execute_result"
    }
   ],
   "source": [
    "division4()"
   ]
  },
  {
   "cell_type": "code",
   "execution_count": 24,
   "id": "e1cf7272-01e0-4f03-81a5-987d6caec3f8",
   "metadata": {},
   "outputs": [],
   "source": [
    "# Associativity in Python\n",
    "\n",
    "# Associativity in Python is the order in which the Python interpreter \n",
    "# evaluates the expression that contains more than one operator of the same precedence."
   ]
  },
  {
   "cell_type": "code",
   "execution_count": 27,
   "id": "96915a2f-2e72-4f18-a44f-7839d85a86d9",
   "metadata": {},
   "outputs": [],
   "source": [
    "def division5():\n",
    "    result1 = 10 * 20 / 10\n",
    "    result2 = 20 / 10 * 10\n",
    "    print(result1)\n",
    "    print(result2)"
   ]
  },
  {
   "cell_type": "code",
   "execution_count": 28,
   "id": "b22ee77a-d86c-4348-8b8e-b6fb96bf2383",
   "metadata": {},
   "outputs": [
    {
     "name": "stdout",
     "output_type": "stream",
     "text": [
      "20.0\n",
      "20.0\n"
     ]
    }
   ],
   "source": [
    "division5()"
   ]
  },
  {
   "cell_type": "code",
   "execution_count": 29,
   "id": "068bc237-d173-49d1-88d7-028da8e38dc5",
   "metadata": {},
   "outputs": [],
   "source": [
    "def division6():\n",
    "    result1 = (2 ** 2 ** 3) #-->  it first evaluates (2 ** 3) op 8 and then  2 ** 8 op 256\n",
    "    result2 = (2 ** 2) ** 3 #-->  it first evaluates (2 ** 2) op 4 and then 4 ** 3 op 64\n",
    "    print(result1)\n",
    "    print(result2)"
   ]
  },
  {
   "cell_type": "code",
   "execution_count": 30,
   "id": "699ca111-0f39-44e6-924b-8547ddbe29c8",
   "metadata": {},
   "outputs": [
    {
     "name": "stdout",
     "output_type": "stream",
     "text": [
      "256\n",
      "64\n"
     ]
    }
   ],
   "source": [
    "division6()"
   ]
  },
  {
   "cell_type": "code",
   "execution_count": null,
   "id": "abb5957d-c21e-45d6-821b-91833aaf1ae7",
   "metadata": {},
   "outputs": [],
   "source": []
  }
 ],
 "metadata": {
  "kernelspec": {
   "display_name": "Python 3 (ipykernel)",
   "language": "python",
   "name": "python3"
  },
  "language_info": {
   "codemirror_mode": {
    "name": "ipython",
    "version": 3
   },
   "file_extension": ".py",
   "mimetype": "text/x-python",
   "name": "python",
   "nbconvert_exporter": "python",
   "pygments_lexer": "ipython3",
   "version": "3.11.9"
  }
 },
 "nbformat": 4,
 "nbformat_minor": 5
}
