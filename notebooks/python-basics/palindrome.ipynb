{
 "cells": [
  {
   "cell_type": "code",
   "execution_count": 8,
   "id": "2339c8ae-bdab-4243-abe2-45360aaa5a70",
   "metadata": {},
   "outputs": [
    {
     "name": "stdout",
     "output_type": "stream",
     "text": [
      "Able was I ere I saw Elba is a palindrome\n"
     ]
    }
   ],
   "source": [
    "def check_palindrome(input_string):\n",
    "    # Check if the string is a palindrome (ignoring case)\n",
    "    is_palindrome = input_string.lower() == input_string[::-1].lower()\n",
    "    \n",
    "    if is_palindrome:\n",
    "        return f\"{input_string} is a palindrome\"\n",
    "    else:\n",
    "        return f\"{input_string} is not a palindrome\"\n",
    "\n",
    "# Test the function\n",
    "input_string = \"Able was I ere I saw Elba\"\n",
    "print(check_palindrome(input_string))\n"
   ]
  },
  {
   "cell_type": "code",
   "execution_count": null,
   "id": "a49473a9-c7f6-4b42-b08a-c7690f20354e",
   "metadata": {},
   "outputs": [],
   "source": []
  }
 ],
 "metadata": {
  "kernelspec": {
   "display_name": "Python 3 (ipykernel)",
   "language": "python",
   "name": "python3"
  },
  "language_info": {
   "codemirror_mode": {
    "name": "ipython",
    "version": 3
   },
   "file_extension": ".py",
   "mimetype": "text/x-python",
   "name": "python",
   "nbconvert_exporter": "python",
   "pygments_lexer": "ipython3",
   "version": "3.11.9"
  }
 },
 "nbformat": 4,
 "nbformat_minor": 5
}
