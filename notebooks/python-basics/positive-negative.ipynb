{
 "cells": [
  {
   "cell_type": "code",
   "execution_count": 1,
   "id": "2339c8ae-bdab-4243-abe2-45360aaa5a70",
   "metadata": {},
   "outputs": [
    {
     "name": "stdout",
     "output_type": "stream",
     "text": [
      "Positive: 2, Negative: 2, Zero: 2\n"
     ]
    }
   ],
   "source": [
    "def count_numbers(lst):\n",
    "    positives = 0\n",
    "    negatives = 0\n",
    "    zeros = 0\n",
    "    for num in lst:\n",
    "        if num > 0:\n",
    "            positives += 1\n",
    "        elif num < 0:\n",
    "            negatives += 1\n",
    "        else:\n",
    "            zeros += 1\n",
    "    print(f\"Positive: {positives}, Negative: {negatives}, Zero: {zeros}\")\n",
    "\n",
    "# Example usage\n",
    "count_numbers([1, -2, 0, 4, -5, 0])"
   ]
  },
  {
   "cell_type": "code",
   "execution_count": null,
   "id": "ab28d0af-456b-45d5-bdd5-59deb502e78f",
   "metadata": {},
   "outputs": [],
   "source": []
  }
 ],
 "metadata": {
  "kernelspec": {
   "display_name": "Python 3 (ipykernel)",
   "language": "python",
   "name": "python3"
  },
  "language_info": {
   "codemirror_mode": {
    "name": "ipython",
    "version": 3
   },
   "file_extension": ".py",
   "mimetype": "text/x-python",
   "name": "python",
   "nbconvert_exporter": "python",
   "pygments_lexer": "ipython3",
   "version": "3.11.9"
  }
 },
 "nbformat": 4,
 "nbformat_minor": 5
}
