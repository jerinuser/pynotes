{
 "cells": [
  {
   "cell_type": "code",
   "execution_count": 1,
   "id": "3842b0ff-7b54-41ea-9158-ac8b6a9fe724",
   "metadata": {},
   "outputs": [],
   "source": [
    "#  created : 20250113"
   ]
  },
  {
   "cell_type": "code",
   "execution_count": 2,
   "id": "5ac1dcb0-7fab-492a-a40e-02b2a30983d2",
   "metadata": {},
   "outputs": [],
   "source": [
    "#  https://www.scientecheasy.com/2022/09/data-types-in-python.html/"
   ]
  },
  {
   "cell_type": "code",
   "execution_count": 6,
   "id": "57dc1caa-46e6-4156-a37f-9c2d2ef3ee3d",
   "metadata": {},
   "outputs": [],
   "source": [
    "#  Dynamic data\n",
    "\n",
    "#  which means we dont want to specify a data type when assigning to a variable\n",
    "#  the change in the value leads to a change in data type"
   ]
  },
  {
   "cell_type": "code",
   "execution_count": 7,
   "id": "461dbfde-bd5c-48e8-972d-0565f40e0a39",
   "metadata": {},
   "outputs": [],
   "source": [
    "my_var = \"Hi Friends!\" # holding string.\n",
    "my_var = 25 # same variable holding numeric value.\n",
    "my_var = True #holding a boolean "
   ]
  },
  {
   "cell_type": "code",
   "execution_count": 9,
   "id": "7d83dd76-3395-4448-9134-ef3b12d4b1af",
   "metadata": {},
   "outputs": [],
   "source": [
    "# print(my_var)"
   ]
  },
  {
   "cell_type": "code",
   "execution_count": 12,
   "id": "52f8fd32-9437-4542-a2ad-b0ef2c92aa89",
   "metadata": {},
   "outputs": [],
   "source": [
    "num1 = 10 #--> string value \n",
    "percentage = 80.50 # --> floating value"
   ]
  },
  {
   "cell_type": "code",
   "execution_count": 13,
   "id": "16439c47-244c-4f1e-8eb5-671db87772b2",
   "metadata": {},
   "outputs": [
    {
     "name": "stdout",
     "output_type": "stream",
     "text": [
      "10\n",
      "80.5\n"
     ]
    }
   ],
   "source": [
    "print(num1)\n",
    "print(percentage)"
   ]
  },
  {
   "cell_type": "code",
   "execution_count": 14,
   "id": "2b52f1a2-f571-45ba-95e0-6389358d9e79",
   "metadata": {},
   "outputs": [],
   "source": [
    "#  Int Data type"
   ]
  },
  {
   "cell_type": "code",
   "execution_count": 15,
   "id": "f709ad79-1f11-44bd-809f-a5e1aec004d8",
   "metadata": {},
   "outputs": [],
   "source": [
    "num1 = 10\n",
    "num2 = 20\n",
    "num3 = 30"
   ]
  },
  {
   "cell_type": "code",
   "execution_count": 16,
   "id": "6918adc9-617e-4301-bb1e-c5e960a26c9b",
   "metadata": {},
   "outputs": [
    {
     "name": "stdout",
     "output_type": "stream",
     "text": [
      "10\n",
      "20\n",
      "30\n"
     ]
    }
   ],
   "source": [
    "print(num1)\n",
    "print(num2)\n",
    "print(num3)"
   ]
  },
  {
   "cell_type": "code",
   "execution_count": 17,
   "id": "0787b7f3-9b5e-4731-8b69-4bc3f78a1f68",
   "metadata": {},
   "outputs": [],
   "source": [
    "#  Floating data type"
   ]
  },
  {
   "cell_type": "code",
   "execution_count": 18,
   "id": "38ed1c5e-a596-42bf-8cbc-7c812f1ca6e6",
   "metadata": {},
   "outputs": [],
   "source": [
    "num1 = 10.555\n",
    "num2 = 20.99\n",
    "result = num1 + num2"
   ]
  },
  {
   "cell_type": "code",
   "execution_count": 19,
   "id": "3bfe8f31-7809-4b00-a03b-42995702f33e",
   "metadata": {},
   "outputs": [
    {
     "name": "stdout",
     "output_type": "stream",
     "text": [
      "31.544999999999998\n"
     ]
    }
   ],
   "source": [
    "print(result)"
   ]
  },
  {
   "cell_type": "code",
   "execution_count": 20,
   "id": "f59a277d-ca01-4b69-a35e-9eb98bdce963",
   "metadata": {},
   "outputs": [],
   "source": [
    "#  Complex Data type"
   ]
  },
  {
   "cell_type": "code",
   "execution_count": 21,
   "id": "d5b70f0e-2072-4209-80a5-f63e48647411",
   "metadata": {},
   "outputs": [],
   "source": [
    "num1 = 2 + 5j\n",
    "num2 = 3.5 + 7.5j\n",
    "result = num1 + num2"
   ]
  },
  {
   "cell_type": "code",
   "execution_count": 22,
   "id": "057e998c-dffa-4cd2-b15e-f71e5e21e39c",
   "metadata": {},
   "outputs": [
    {
     "name": "stdout",
     "output_type": "stream",
     "text": [
      "(5.5+12.5j)\n"
     ]
    }
   ],
   "source": [
    "print(result)"
   ]
  },
  {
   "cell_type": "code",
   "execution_count": 23,
   "id": "63defe67-b040-4375-8d7d-62ff55e0df1c",
   "metadata": {},
   "outputs": [],
   "source": [
    "#  determine the type of variable"
   ]
  },
  {
   "cell_type": "code",
   "execution_count": 24,
   "id": "3b661eb8-92fc-4b62-8db1-b63401afff98",
   "metadata": {},
   "outputs": [],
   "source": [
    "num1 = 50\n",
    "num2 = 20.50\n",
    "num3 = 3.5 + 7.5j"
   ]
  },
  {
   "cell_type": "code",
   "execution_count": 25,
   "id": "93193221-7b30-4faa-b97c-bc33d4a183b9",
   "metadata": {},
   "outputs": [
    {
     "name": "stdout",
     "output_type": "stream",
     "text": [
      "<class 'int'>\n",
      "<class 'float'>\n",
      "<class 'complex'>\n"
     ]
    }
   ],
   "source": [
    "print(type(num1))\n",
    "print(type(num2))\n",
    "print(type(num3))\n"
   ]
  },
  {
   "cell_type": "code",
   "execution_count": 2,
   "id": "d5bf0e40-b784-4403-9e7a-c2a43a269a61",
   "metadata": {},
   "outputs": [],
   "source": [
    "num1 = 20\n",
    "num2 = 50\n"
   ]
  },
  {
   "cell_type": "code",
   "execution_count": 3,
   "id": "d4a7e098-c3f2-4dda-8208-040f898c71c8",
   "metadata": {},
   "outputs": [
    {
     "ename": "NameError",
     "evalue": "name 'num1' is not defined",
     "output_type": "error",
     "traceback": [
      "\u001b[0;31m---------------------------------------------------------------------------\u001b[0m",
      "\u001b[0;31mNameError\u001b[0m                                 Traceback (most recent call last)",
      "Cell \u001b[0;32mIn[3], line 2\u001b[0m\n\u001b[1;32m      1\u001b[0m \u001b[38;5;28;01mdel\u001b[39;00m num1\n\u001b[0;32m----> 2\u001b[0m \u001b[38;5;28mprint\u001b[39m(\u001b[43mnum1\u001b[49m)\n",
      "\u001b[0;31mNameError\u001b[0m: name 'num1' is not defined"
     ]
    }
   ],
   "source": [
    "del num1\n",
    "print(num1) # --> iwll raise error because num1 deleted "
   ]
  },
  {
   "cell_type": "code",
   "execution_count": 4,
   "id": "5e9d1fdb-447a-4a91-b698-fc46354784a3",
   "metadata": {},
   "outputs": [],
   "source": [
    "# Boolean Data type\n"
   ]
  },
  {
   "cell_type": "code",
   "execution_count": 6,
   "id": "12f38f19-8513-492e-9c0f-2ebe0ddfa67a",
   "metadata": {},
   "outputs": [],
   "source": [
    "a = (10 >= 4)\n",
    "b = (25 == 5 * 5)\n",
    "c = (18 != 2 * 9)"
   ]
  },
  {
   "cell_type": "code",
   "execution_count": 7,
   "id": "bbc2310c-a369-417e-b14c-bc41efe4c9bb",
   "metadata": {},
   "outputs": [
    {
     "name": "stdout",
     "output_type": "stream",
     "text": [
      "True True False\n"
     ]
    }
   ],
   "source": [
    "print(a, b, c)"
   ]
  },
  {
   "cell_type": "code",
   "execution_count": 8,
   "id": "3386065d-9618-4c17-9da6-7927e1b76e1b",
   "metadata": {},
   "outputs": [],
   "source": [
    "# None Data type"
   ]
  },
  {
   "cell_type": "code",
   "execution_count": 9,
   "id": "8432232f-ee20-4ede-9989-b6405c4efb9c",
   "metadata": {},
   "outputs": [
    {
     "name": "stdout",
     "output_type": "stream",
     "text": [
      "None\n",
      "<class 'NoneType'>\n"
     ]
    }
   ],
   "source": [
    "a = None\n",
    "print(a)\n",
    "print(type(a))"
   ]
  },
  {
   "cell_type": "code",
   "execution_count": 10,
   "id": "44e06aad-591a-4f9d-a417-8c61ac25fa90",
   "metadata": {},
   "outputs": [],
   "source": [
    "#  String Data type"
   ]
  },
  {
   "cell_type": "code",
   "execution_count": 12,
   "id": "374ddb0e-b5c5-436c-a415-011d777289ed",
   "metadata": {},
   "outputs": [],
   "source": [
    "str1 = \"Hello Jerin\"\n",
    "str2 = 'How are you ?'"
   ]
  },
  {
   "cell_type": "code",
   "execution_count": 13,
   "id": "391eaa27-04dc-4f72-92f8-5a5b75a49be7",
   "metadata": {},
   "outputs": [
    {
     "name": "stdout",
     "output_type": "stream",
     "text": [
      "Hello Jerin\n",
      "How are you ?\n",
      "<class 'str'>\n"
     ]
    }
   ],
   "source": [
    "print(str1)\n",
    "print(str2)\n",
    "print(type(str1))"
   ]
  },
  {
   "cell_type": "code",
   "execution_count": null,
   "id": "7fdb1783-e987-4250-a062-c2ccaa951a8b",
   "metadata": {},
   "outputs": [],
   "source": [
    "#  List Data type"
   ]
  },
  {
   "cell_type": "code",
   "execution_count": 14,
   "id": "70cf8172-df48-498a-8fab-f290020e1dd4",
   "metadata": {},
   "outputs": [],
   "source": [
    "list = [10, 20.50, \"Python\", True]"
   ]
  },
  {
   "cell_type": "code",
   "execution_count": 15,
   "id": "2fc47504-5ced-4a80-a9ce-e86110aff112",
   "metadata": {},
   "outputs": [
    {
     "name": "stdout",
     "output_type": "stream",
     "text": [
      "[10, 20.5, 'Python', True]\n",
      "<class 'list'>\n"
     ]
    }
   ],
   "source": [
    "print(list)\n",
    "print(type(list))"
   ]
  },
  {
   "cell_type": "code",
   "execution_count": 17,
   "id": "f741cf0b-133d-468f-9d60-94ecbde42267",
   "metadata": {},
   "outputs": [
    {
     "name": "stdout",
     "output_type": "stream",
     "text": [
      "[10, 20, 30, 40]\n"
     ]
    }
   ],
   "source": [
    "num_list = [10, 20, 30, 40]\n",
    "print(num_list)\n"
   ]
  },
  {
   "cell_type": "code",
   "execution_count": 18,
   "id": "56ac71a8-2a83-4418-be7f-56fae07207ce",
   "metadata": {},
   "outputs": [
    {
     "name": "stdout",
     "output_type": "stream",
     "text": [
      "[10, 20, 50, 40]\n"
     ]
    }
   ],
   "source": [
    "num_list[2] = 50 \n",
    "print(num_list)"
   ]
  },
  {
   "cell_type": "code",
   "execution_count": 19,
   "id": "b74b0e65-494e-4666-81ec-5972831986e8",
   "metadata": {},
   "outputs": [],
   "source": [
    "# Tuple Data type\n",
    "#"
   ]
  },
  {
   "cell_type": "code",
   "execution_count": 20,
   "id": "94219d2a-2105-45a8-bb6f-1bbf665228bb",
   "metadata": {},
   "outputs": [
    {
     "name": "stdout",
     "output_type": "stream",
     "text": [
      "(10, 20, 'Python', (2+10j))\n",
      "<class 'tuple'>\n"
     ]
    }
   ],
   "source": [
    "t = (10, 20, \"Python\", 2 + 10j)\n",
    "print(t)\n",
    "print(type(t))"
   ]
  },
  {
   "cell_type": "code",
   "execution_count": 21,
   "id": "000c60e0-3ba2-421c-9c36-9a2d0401b072",
   "metadata": {},
   "outputs": [],
   "source": [
    "# Set Data type"
   ]
  },
  {
   "cell_type": "code",
   "execution_count": 22,
   "id": "2a04e6d1-3cb6-4283-85f2-9ca753b9928e",
   "metadata": {},
   "outputs": [
    {
     "name": "stdout",
     "output_type": "stream",
     "text": [
      "{1, 'Hello', 2, (4+50j)}\n",
      "<class 'set'>\n"
     ]
    }
   ],
   "source": [
    "s = {1, 2, 'Hello', 4 + 50j}\n",
    "print(s)\n",
    "print(type(s))"
   ]
  },
  {
   "cell_type": "code",
   "execution_count": 23,
   "id": "bd0e0c39-b8e1-4bee-9b3f-83ef20f15c86",
   "metadata": {},
   "outputs": [],
   "source": [
    "# Dictionary Data type\n"
   ]
  },
  {
   "cell_type": "code",
   "execution_count": 24,
   "id": "9a60af89-ff41-42b2-bc5d-ce8a4cc84787",
   "metadata": {},
   "outputs": [],
   "source": [
    "dict = {1 : 'Orange',\n",
    "        2 : 'Apple',\n",
    "        3 : 'Banana'}"
   ]
  },
  {
   "cell_type": "code",
   "execution_count": 25,
   "id": "9cd07785-6522-43d4-9f76-19dda8df313d",
   "metadata": {},
   "outputs": [
    {
     "name": "stdout",
     "output_type": "stream",
     "text": [
      "{1: 'Orange', 2: 'Apple', 3: 'Banana'}\n",
      "<class 'dict'>\n"
     ]
    }
   ],
   "source": [
    "print(dict)\n",
    "print(type(dict))"
   ]
  },
  {
   "cell_type": "code",
   "execution_count": null,
   "id": "28cd588b-51e7-4abe-b51b-707552a7968e",
   "metadata": {},
   "outputs": [],
   "source": []
  }
 ],
 "metadata": {
  "kernelspec": {
   "display_name": "Python 3 (ipykernel)",
   "language": "python",
   "name": "python3"
  },
  "language_info": {
   "codemirror_mode": {
    "name": "ipython",
    "version": 3
   },
   "file_extension": ".py",
   "mimetype": "text/x-python",
   "name": "python",
   "nbconvert_exporter": "python",
   "pygments_lexer": "ipython3",
   "version": "3.11.9"
  }
 },
 "nbformat": 4,
 "nbformat_minor": 5
}
