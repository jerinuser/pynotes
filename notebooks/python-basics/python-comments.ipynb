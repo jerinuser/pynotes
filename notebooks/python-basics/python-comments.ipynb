{
 "cells": [
  {
   "cell_type": "code",
   "execution_count": 1,
   "id": "3842b0ff-7b54-41ea-9158-ac8b6a9fe724",
   "metadata": {},
   "outputs": [],
   "source": [
    "#  created : 20250112"
   ]
  },
  {
   "cell_type": "code",
   "execution_count": 1,
   "id": "5ac1dcb0-7fab-492a-a40e-02b2a30983d2",
   "metadata": {},
   "outputs": [],
   "source": [
    "#  https://www.scientecheasy.com/2022/09/comments-in-python.html/"
   ]
  },
  {
   "cell_type": "code",
   "execution_count": 2,
   "id": "57dc1caa-46e6-4156-a37f-9c2d2ef3ee3d",
   "metadata": {},
   "outputs": [],
   "source": [
    "#  in python comments are written in (#) symbol"
   ]
  },
  {
   "cell_type": "code",
   "execution_count": 3,
   "id": "655d2851-8ce3-48a8-a6bc-47b8c621ec6e",
   "metadata": {},
   "outputs": [
    {
     "name": "stdout",
     "output_type": "stream",
     "text": [
      "Hello mate!!\n"
     ]
    }
   ],
   "source": [
    "print('Hello mate!!')  # this will not get print in the output"
   ]
  },
  {
   "cell_type": "code",
   "execution_count": 4,
   "id": "e624592d-94a0-4dbf-850b-76e0bbbfc86d",
   "metadata": {},
   "outputs": [],
   "source": [
    "name = \"Jerin\" # Variable declaration and initialization.\n"
   ]
  },
  {
   "cell_type": "code",
   "execution_count": 5,
   "id": "31f69659-3fbd-4cd4-a770-cb924fa6e948",
   "metadata": {},
   "outputs": [
    {
     "name": "stdout",
     "output_type": "stream",
     "text": [
      "Jerin\n"
     ]
    }
   ],
   "source": [
    "print(name)"
   ]
  },
  {
   "cell_type": "code",
   "execution_count": 6,
   "id": "f38f3e42-a980-4393-8140-d2ceaf9b3771",
   "metadata": {},
   "outputs": [],
   "source": [
    "#  multi line comments used like this "
   ]
  },
  {
   "cell_type": "code",
   "execution_count": 7,
   "id": "7f2d5f6b-9631-4da2-9ef2-a71eeca90f02",
   "metadata": {},
   "outputs": [
    {
     "data": {
      "text/plain": [
       "'\\nI \\nam\\nmultiline \\ncomments\\n'"
      ]
     },
     "execution_count": 7,
     "metadata": {},
     "output_type": "execute_result"
    }
   ],
   "source": [
    "'''\n",
    "I \n",
    "am\n",
    "multiline \n",
    "comments\n",
    "'''"
   ]
  },
  {
   "cell_type": "code",
   "execution_count": 11,
   "id": "85d870c9-03b2-47bb-9c16-eab0aa32142e",
   "metadata": {},
   "outputs": [
    {
     "name": "stdout",
     "output_type": "stream",
     "text": [
      "Sum of three numbers =  60\n"
     ]
    }
   ],
   "source": [
    "\"\"\"Python\n",
    "program\n",
    "to calculate\n",
    "the sum of\n",
    "three\n",
    "numbers.\n",
    "\"\"\"\n",
    "def sum(x, y, z):\n",
    "    s = x + y + z\n",
    "    print(\"Sum of three numbers = \", s)\n",
    "sum(10, 20, 30)"
   ]
  },
  {
   "cell_type": "code",
   "execution_count": 12,
   "id": "fa0d88dd-fd5a-4b57-a11a-bb120bdf06da",
   "metadata": {},
   "outputs": [],
   "source": [
    "# so in the comments section we actually define our code functionality and some clear explane=tion about our code "
   ]
  },
  {
   "cell_type": "code",
   "execution_count": 13,
   "id": "aad6c99d-62ce-4529-aa13-20d5c9ce3898",
   "metadata": {},
   "outputs": [],
   "source": [
    "emp_code = \"IT-35264\"\n",
    "name = \"Jerin\"\n",
    "desig = \"Jr. Python Developer\"\n",
    "comp = \"tact\"\n",
    "salary = \"USD 40000\""
   ]
  },
  {
   "cell_type": "code",
   "execution_count": 15,
   "id": "72717580-5fb9-40ad-9f31-6499a73eae96",
   "metadata": {},
   "outputs": [
    {
     "name": "stdout",
     "output_type": "stream",
     "text": [
      "Employee code:  IT-35264 \n",
      "Name:  Jerin\n",
      "Designation:  Jr. Python Developer \tCompany:  tact\n",
      "Annual Salary:  USD 40000\n"
     ]
    }
   ],
   "source": [
    "\"\"\"python program\n",
    "that we used a \n",
    "sequence escape  \n",
    "method\n",
    "\"\"\"\n",
    "print(\"Employee code: \", emp_code, \"\\nName: \", name)\n",
    "print(\"Designation: \",desig, \"\\tCompany: \", comp)\n",
    "print(\"Annual Salary: \", salary)"
   ]
  },
  {
   "cell_type": "code",
   "execution_count": null,
   "id": "cd0fd103-e78b-45c3-97e5-c4dec6e9de89",
   "metadata": {},
   "outputs": [],
   "source": []
  }
 ],
 "metadata": {
  "kernelspec": {
   "display_name": "Python 3 (ipykernel)",
   "language": "python",
   "name": "python3"
  },
  "language_info": {
   "codemirror_mode": {
    "name": "ipython",
    "version": 3
   },
   "file_extension": ".py",
   "mimetype": "text/x-python",
   "name": "python",
   "nbconvert_exporter": "python",
   "pygments_lexer": "ipython3",
   "version": "3.11.9"
  }
 },
 "nbformat": 4,
 "nbformat_minor": 5
}
