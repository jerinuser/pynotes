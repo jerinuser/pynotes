{
 "cells": [
  {
   "cell_type": "code",
   "execution_count": 1,
   "id": "3842b0ff-7b54-41ea-9158-ac8b6a9fe724",
   "metadata": {},
   "outputs": [],
   "source": [
    "#  created : 20250111"
   ]
  },
  {
   "cell_type": "code",
   "execution_count": 2,
   "id": "5ac1dcb0-7fab-492a-a40e-02b2a30983d2",
   "metadata": {},
   "outputs": [],
   "source": [
    "#  https://www.scientecheasy.com/2022/09/reserved-keywords-in-python.html/"
   ]
  },
  {
   "cell_type": "code",
   "execution_count": 3,
   "id": "57dc1caa-46e6-4156-a37f-9c2d2ef3ee3d",
   "metadata": {},
   "outputs": [],
   "source": [
    "#  list of delimeters \n"
   ]
  },
  {
   "cell_type": "code",
   "execution_count": 8,
   "id": "568a9f2b-abc0-4505-bad5-12630b80a1c4",
   "metadata": {},
   "outputs": [],
   "source": [
    "msg = 'hi jerin how are you'  # --> single quote delimeter"
   ]
  },
  {
   "cell_type": "code",
   "execution_count": 9,
   "id": "4e7dcade-4df0-4289-a338-ea6c28398d8d",
   "metadata": {},
   "outputs": [
    {
     "name": "stdout",
     "output_type": "stream",
     "text": [
      "hi jerin how are you\n"
     ]
    }
   ],
   "source": [
    "print(f'{msg}')"
   ]
  },
  {
   "cell_type": "code",
   "execution_count": 10,
   "id": "8b5a2b65-13c7-44c9-9214-1ba08591db84",
   "metadata": {},
   "outputs": [],
   "source": [
    "num = [1, 2, 3, 4, 5, 6, 7, 8, 9, 10] # --> square braces delimiter"
   ]
  },
  {
   "cell_type": "code",
   "execution_count": 11,
   "id": "2f50089f-224e-4b0c-8c4e-55af8bac8973",
   "metadata": {},
   "outputs": [
    {
     "name": "stdout",
     "output_type": "stream",
     "text": [
      "[1, 2, 3, 4, 5, 6, 7, 8, 9, 10]\n"
     ]
    }
   ],
   "source": [
    "print(num)"
   ]
  },
  {
   "cell_type": "code",
   "execution_count": 12,
   "id": "8d2a3ae4-ccad-4dc3-8132-37121be1a029",
   "metadata": {},
   "outputs": [],
   "source": [
    "fruits = ('Banana', 'Orange', 'Mango', 'Apple') # --> parenthesis delimiter\n"
   ]
  },
  {
   "cell_type": "code",
   "execution_count": 13,
   "id": "f66bb92e-0842-4565-95e9-6362b60d55ed",
   "metadata": {},
   "outputs": [
    {
     "name": "stdout",
     "output_type": "stream",
     "text": [
      "('Banana', 'Orange', 'Mango', 'Apple')\n"
     ]
    }
   ],
   "source": [
    "print(fruits)"
   ]
  },
  {
   "cell_type": "code",
   "execution_count": 16,
   "id": "4aa48903-62aa-4fcb-9829-39864349b853",
   "metadata": {},
   "outputs": [],
   "source": [
    "emp_profile = {\n",
    "    \"Name\" : \"John\",\n",
    "    \"Age\" : 25,           # --> curly braces delimiter\n",
    "    \"Salary\" : 50000\n",
    "} "
   ]
  },
  {
   "cell_type": "code",
   "execution_count": 17,
   "id": "5ae9b278-6100-4459-a7b6-d09dd43d15c2",
   "metadata": {},
   "outputs": [
    {
     "name": "stdout",
     "output_type": "stream",
     "text": [
      "{'Name': 'John', 'Age': 25, 'Salary': 50000}\n"
     ]
    }
   ],
   "source": [
    "print(emp_profile)"
   ]
  },
  {
   "cell_type": "code",
   "execution_count": null,
   "id": "4d031c4e-f2e3-4fa5-b5a1-da823c4cb23f",
   "metadata": {},
   "outputs": [],
   "source": []
  }
 ],
 "metadata": {
  "kernelspec": {
   "display_name": "Python 3 (ipykernel)",
   "language": "python",
   "name": "python3"
  },
  "language_info": {
   "codemirror_mode": {
    "name": "ipython",
    "version": 3
   },
   "file_extension": ".py",
   "mimetype": "text/x-python",
   "name": "python",
   "nbconvert_exporter": "python",
   "pygments_lexer": "ipython3",
   "version": "3.11.9"
  }
 },
 "nbformat": 4,
 "nbformat_minor": 5
}
