{
 "cells": [
  {
   "cell_type": "code",
   "execution_count": 1,
   "id": "3842b0ff-7b54-41ea-9158-ac8b6a9fe724",
   "metadata": {},
   "outputs": [],
   "source": [
    "#  created : 20250113"
   ]
  },
  {
   "cell_type": "code",
   "execution_count": 1,
   "id": "5ac1dcb0-7fab-492a-a40e-02b2a30983d2",
   "metadata": {},
   "outputs": [],
   "source": [
    "#  https://www.scientecheasy.com/2022/09/docstring-in-python.html/"
   ]
  },
  {
   "cell_type": "code",
   "execution_count": 2,
   "id": "57dc1caa-46e6-4156-a37f-9c2d2ef3ee3d",
   "metadata": {},
   "outputs": [],
   "source": [
    "#  docstring in python "
   ]
  },
  {
   "cell_type": "code",
   "execution_count": 4,
   "id": "91580834-b50c-4be6-9a9a-cae6b74247ac",
   "metadata": {},
   "outputs": [
    {
     "name": "stdout",
     "output_type": "stream",
     "text": [
      "Sum =  60\n",
      "This is a docstring\n",
      "\n",
      "    This method takes two argument values and returns the summation of it.\n"
     ]
    }
   ],
   "source": [
    "# Function with a Docstring.\n",
    "def getSum(x, y):\n",
    "    \"\"\"This is a docstring\n",
    "\n",
    "    This method takes two argument values and returns the summation of it.\"\"\"\n",
    "    print(\"Sum = \", (x + y))\n",
    "getSum(20, 40) # Calling function.\n",
    "print(getSum.__doc__) # Calling __doc__ method to print docstring."
   ]
  },
  {
   "cell_type": "code",
   "execution_count": null,
   "id": "dfb6a687-5fd4-4cf4-b0c2-c7224d6288cf",
   "metadata": {},
   "outputs": [],
   "source": []
  },
  {
   "cell_type": "code",
   "execution_count": 23,
   "id": "667dabc8-8b16-4a23-92cd-c56da9ee9418",
   "metadata": {},
   "outputs": [
    {
     "name": "stdout",
     "output_type": "stream",
     "text": [
      "details =  ('jerin', 23)\n"
     ]
    }
   ],
   "source": [
    "def info(name:str,age:int):\n",
    "    \"\"\" this funtion will get the name and age of the user\n",
    "    if the age is not a integer it will raise a error\n",
    "    \"\"\"\n",
    "    if not isinstance(age,int):\n",
    "        raise ValueError(\"age must be a integer\")\n",
    "    print(\"details = \",(name,age))\n",
    "\n",
    "info(\"jerin\",23)"
   ]
  },
  {
   "cell_type": "code",
   "execution_count": 25,
   "id": "6480d7e9-bb49-42a6-a360-32e6a59fcbf0",
   "metadata": {},
   "outputs": [
    {
     "name": "stdout",
     "output_type": "stream",
     "text": [
      " this funtion will get the name and age of the user\n",
      "    if the age is not a integer it will raise a error\n",
      "    \n"
     ]
    }
   ],
   "source": [
    "print(info.__doc__) # --> this will print only the docstring"
   ]
  },
  {
   "cell_type": "code",
   "execution_count": 26,
   "id": "b2202389-3d5f-4fc9-939a-602d6158f60f",
   "metadata": {},
   "outputs": [],
   "source": [
    "def getSum(x, y):\n",
    "    \"\"\"This is a docstring\n",
    "This method takes two argument values and returns the summation of it.\"\"\"\n",
    "    print(\"Sum = \", (x + y))"
   ]
  },
  {
   "cell_type": "code",
   "execution_count": 27,
   "id": "f159a045-e8e9-4963-b143-00485bd687fe",
   "metadata": {},
   "outputs": [
    {
     "name": "stdout",
     "output_type": "stream",
     "text": [
      "Sum =  60\n",
      "This is a docstring\n",
      "This method takes two argument values and returns the summation of it.\n"
     ]
    }
   ],
   "source": [
    "getSum(20, 40)\n",
    "print(getSum.__doc__)"
   ]
  },
  {
   "cell_type": "code",
   "execution_count": 28,
   "id": "4bac5a0f-b46c-45d3-827e-8504900b6848",
   "metadata": {},
   "outputs": [],
   "source": [
    "def getSquare(num):\n",
    "    '''This method takes a number num and returns the square of its value.'''\n",
    "    return num * num"
   ]
  },
  {
   "cell_type": "code",
   "execution_count": 29,
   "id": "90c39490-2eb0-45e2-b20c-e9923d732d19",
   "metadata": {},
   "outputs": [
    {
     "name": "stdout",
     "output_type": "stream",
     "text": [
      "This method takes a number num and returns the square of its value.\n",
      "400\n"
     ]
    }
   ],
   "source": [
    "print(getSquare.__doc__) \n",
    "sq_value = getSquare(20) \n",
    "print(sq_value)"
   ]
  },
  {
   "cell_type": "code",
   "execution_count": null,
   "id": "f7fe3afa-8a24-4ed7-bd8d-3db69bd7961b",
   "metadata": {},
   "outputs": [],
   "source": []
  }
 ],
 "metadata": {
  "kernelspec": {
   "display_name": "Python 3 (ipykernel)",
   "language": "python",
   "name": "python3"
  },
  "language_info": {
   "codemirror_mode": {
    "name": "ipython",
    "version": 3
   },
   "file_extension": ".py",
   "mimetype": "text/x-python",
   "name": "python",
   "nbconvert_exporter": "python",
   "pygments_lexer": "ipython3",
   "version": "3.11.9"
  }
 },
 "nbformat": 4,
 "nbformat_minor": 5
}
