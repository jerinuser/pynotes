{
 "cells": [
  {
   "cell_type": "code",
   "execution_count": 1,
   "id": "3842b0ff-7b54-41ea-9158-ac8b6a9fe724",
   "metadata": {},
   "outputs": [],
   "source": [
    "#  created : 20250112"
   ]
  },
  {
   "cell_type": "code",
   "execution_count": 1,
   "id": "5ac1dcb0-7fab-492a-a40e-02b2a30983d2",
   "metadata": {},
   "outputs": [],
   "source": [
    "#  https://www.scientecheasy.com/2022/09/indentation-in-python.html/"
   ]
  },
  {
   "cell_type": "code",
   "execution_count": 2,
   "id": "57dc1caa-46e6-4156-a37f-9c2d2ef3ee3d",
   "metadata": {},
   "outputs": [],
   "source": [
    "#  Python indentations\n",
    "\n",
    "#  in python indendation means the whitespace "
   ]
  },
  {
   "cell_type": "code",
   "execution_count": 16,
   "id": "d01e2c51-a416-4389-bbc7-890dd9a4c2cf",
   "metadata": {},
   "outputs": [],
   "source": [
    "#  after function definition we have to give four indendation"
   ]
  },
  {
   "cell_type": "code",
   "execution_count": 17,
   "id": "3388ca2d-57e3-4196-9c8e-7371fd6a4ba3",
   "metadata": {},
   "outputs": [],
   "source": [
    "def display():\n",
    "  var = \"Scientech Easy\" \n",
    "  print(var)\n"
   ]
  },
  {
   "cell_type": "code",
   "execution_count": 18,
   "id": "27243433-1d46-47b0-a065-62c9216d1899",
   "metadata": {},
   "outputs": [
    {
     "name": "stdout",
     "output_type": "stream",
     "text": [
      "Scientech Easy\n"
     ]
    }
   ],
   "source": [
    "display()"
   ]
  },
  {
   "cell_type": "code",
   "execution_count": 19,
   "id": "00ca2c2c-9448-497a-87ef-2c330cc20721",
   "metadata": {},
   "outputs": [],
   "source": [
    "def display(parameter):\n",
    "    var = \"Hello\" \n",
    "    print(var) \n",
    "    print(var, parameter)\n"
   ]
  },
  {
   "cell_type": "code",
   "execution_count": 20,
   "id": "5d9032a1-9a0d-4779-a1b6-15b2595543af",
   "metadata": {},
   "outputs": [
    {
     "name": "stdout",
     "output_type": "stream",
     "text": [
      "Hello\n",
      "Hello Python\n"
     ]
    }
   ],
   "source": [
    "display(\"Python\")"
   ]
  },
  {
   "cell_type": "code",
   "execution_count": 21,
   "id": "819920e0-b99a-44a6-9b40-180ba66a85a8",
   "metadata": {},
   "outputs": [
    {
     "name": "stdout",
     "output_type": "stream",
     "text": [
      "WelCome Ivaan..\n",
      "How are you, today?\n"
     ]
    }
   ],
   "source": [
    "name = 'Ivaan'\n",
    "if name == 'Ivaan':\n",
    "    print('WelCome Ivaan..') \n",
    "    print('How are you, today?') \n",
    "else:\n",
    "    print('Dude! whoever are you ') \n",
    "    print('Why are you here?') "
   ]
  },
  {
   "cell_type": "code",
   "execution_count": 22,
   "id": "b16647b1-1bf8-417a-b537-bb81ca7acd2f",
   "metadata": {},
   "outputs": [
    {
     "name": "stdout",
     "output_type": "stream",
     "text": [
      "I am fine, thank you!\n",
      "Have a nice day!\n"
     ]
    }
   ],
   "source": [
    "print('I am fine, thank you!')\n",
    "print('Have a nice day!')"
   ]
  },
  {
   "cell_type": "code",
   "execution_count": null,
   "id": "a92cc7ad-9a0b-4999-a93d-658e5432030d",
   "metadata": {},
   "outputs": [],
   "source": []
  },
  {
   "cell_type": "code",
   "execution_count": 26,
   "id": "8aaabc2a-4d6c-44bc-b2c8-34ec9c81608e",
   "metadata": {},
   "outputs": [],
   "source": [
    "def school(parameter):\n",
    "  print(parameter) \n",
    "\n",
    "def city(parameter):\n",
    "    print(parameter) "
   ]
  },
  {
   "cell_type": "code",
   "execution_count": 27,
   "id": "27f16ab8-2130-406a-a593-32da95091247",
   "metadata": {},
   "outputs": [
    {
     "name": "stdout",
     "output_type": "stream",
     "text": [
      "carmel school\n"
     ]
    }
   ],
   "source": [
    "school(\"carmel school\")"
   ]
  },
  {
   "cell_type": "code",
   "execution_count": 28,
   "id": "15ecb799-fb52-46ea-9c4c-f4f58d9b6832",
   "metadata": {},
   "outputs": [
    {
     "name": "stdout",
     "output_type": "stream",
     "text": [
      "chennai\n"
     ]
    }
   ],
   "source": [
    "city(\"chennai\")"
   ]
  },
  {
   "cell_type": "code",
   "execution_count": null,
   "id": "c7d89f5b-31b5-4334-83aa-fd190dac6817",
   "metadata": {},
   "outputs": [],
   "source": [
    "#  error code for indentation"
   ]
  },
  {
   "cell_type": "code",
   "execution_count": 29,
   "id": "168b8578-3506-494e-a309-8a8737849968",
   "metadata": {},
   "outputs": [
    {
     "ename": "IndentationError",
     "evalue": "expected an indented block after 'if' statement on line 1 (3641024467.py, line 2)",
     "output_type": "error",
     "traceback": [
      "\u001b[0;36m  Cell \u001b[0;32mIn[29], line 2\u001b[0;36m\u001b[0m\n\u001b[0;31m    print(\"6 is greater than 3\")\u001b[0m\n\u001b[0m    ^\u001b[0m\n\u001b[0;31mIndentationError\u001b[0m\u001b[0;31m:\u001b[0m expected an indented block after 'if' statement on line 1\n"
     ]
    }
   ],
   "source": [
    "if(6 > 3):\n",
    "print(\"6 is greater than 3\")"
   ]
  },
  {
   "cell_type": "code",
   "execution_count": 31,
   "id": "bfff1876-f6f6-4500-85bb-f05ea4631a19",
   "metadata": {},
   "outputs": [
    {
     "name": "stdout",
     "output_type": "stream",
     "text": [
      "6 is greater than 3\n"
     ]
    }
   ],
   "source": [
    "if(6 > 3):\n",
    "    print(\"6 is greater than 3\") # --> corrected code "
   ]
  },
  {
   "cell_type": "code",
   "execution_count": 32,
   "id": "1cb99d1d-60a5-4d4a-a50e-70ecb53f5d84",
   "metadata": {},
   "outputs": [
    {
     "name": "stdout",
     "output_type": "stream",
     "text": [
      "6 is greater than 3\n"
     ]
    }
   ],
   "source": [
    "if(6 > 3):\n",
    "          print(\"6 is greater than 3\")"
   ]
  },
  {
   "cell_type": "code",
   "execution_count": 1,
   "id": "3e71087c-b582-4ca8-8836-9f8aefedf685",
   "metadata": {},
   "outputs": [
    {
     "ename": "IndentationError",
     "evalue": "unexpected indent (3525287416.py, line 6)",
     "output_type": "error",
     "traceback": [
      "\u001b[0;36m  Cell \u001b[0;32mIn[1], line 6\u001b[0;36m\u001b[0m\n\u001b[0;31m    print(\"b is greater than a but less than c\")\u001b[0m\n\u001b[0m    ^\u001b[0m\n\u001b[0;31mIndentationError\u001b[0m\u001b[0;31m:\u001b[0m unexpected indent\n"
     ]
    }
   ],
   "source": [
    "a = 10\n",
    "b = 20\n",
    "c = 30\n",
    "if(b > a):\n",
    "  print(\"b is greater than a\")\n",
    "    print(\"b is greater than a but less than c\") # --> mismatch indentation"
   ]
  },
  {
   "cell_type": "code",
   "execution_count": 2,
   "id": "d6598330-76c4-4b0e-927b-d627aa27a591",
   "metadata": {},
   "outputs": [
    {
     "name": "stdout",
     "output_type": "stream",
     "text": [
      "b is greater than a\n",
      "b is greater than a but less than c\n"
     ]
    }
   ],
   "source": [
    "a = 10\n",
    "b = 20\n",
    "c = 30\n",
    "if(b > a):\n",
    "    print(\"b is greater than a\")\n",
    "    print(\"b is greater than a but less than c\")"
   ]
  },
  {
   "cell_type": "code",
   "execution_count": 9,
   "id": "e35eedaf-3785-4e65-9f16-40c962c6c9bc",
   "metadata": {},
   "outputs": [
    {
     "ename": "IndentationError",
     "evalue": "unindent does not match any outer indentation level (<tokenize>, line 3)",
     "output_type": "error",
     "traceback": [
      "\u001b[0;36m  File \u001b[0;32m<tokenize>:3\u001b[0;36m\u001b[0m\n\u001b[0;31m    print(institute) # mismatch indentation\u001b[0m\n\u001b[0m    ^\u001b[0m\n\u001b[0;31mIndentationError\u001b[0m\u001b[0;31m:\u001b[0m unindent does not match any outer indentation level\n"
     ]
    }
   ],
   "source": [
    "def display(parameter):\n",
    "    institute = \"Scientech Easy\"\n",
    "  print(institute) # mismatch indentation\n",
    "    print(parameter)\n",
    "display('Dhanbad')"
   ]
  },
  {
   "cell_type": "code",
   "execution_count": 10,
   "id": "fa0898e0-4d0f-4b59-9b6d-70bb6e57b49d",
   "metadata": {},
   "outputs": [],
   "source": [
    "def display(parameter):\n",
    "    institute = \"Scientech Easy\"\n",
    "    print(institute)\n",
    "    print(parameter)\n"
   ]
  },
  {
   "cell_type": "code",
   "execution_count": 11,
   "id": "bed1bc12-ea55-4078-8f16-35ab7d6da2b7",
   "metadata": {},
   "outputs": [
    {
     "name": "stdout",
     "output_type": "stream",
     "text": [
      "Scientech Easy\n",
      "Dhanbad\n"
     ]
    }
   ],
   "source": [
    "display('Dhanbad')"
   ]
  },
  {
   "cell_type": "code",
   "execution_count": null,
   "id": "6c5eb2d3-70d0-47f3-b8ae-facdeb2ffea0",
   "metadata": {},
   "outputs": [],
   "source": []
  },
  {
   "cell_type": "code",
   "execution_count": null,
   "id": "b70ee12f-0429-47f9-98dc-75c12049fad7",
   "metadata": {},
   "outputs": [],
   "source": []
  }
 ],
 "metadata": {
  "kernelspec": {
   "display_name": "Python 3 (ipykernel)",
   "language": "python",
   "name": "python3"
  },
  "language_info": {
   "codemirror_mode": {
    "name": "ipython",
    "version": 3
   },
   "file_extension": ".py",
   "mimetype": "text/x-python",
   "name": "python",
   "nbconvert_exporter": "python",
   "pygments_lexer": "ipython3",
   "version": "3.11.9"
  }
 },
 "nbformat": 4,
 "nbformat_minor": 5
}
