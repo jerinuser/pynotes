{
 "cells": [
  {
   "cell_type": "code",
   "execution_count": 1,
   "id": "3842b0ff-7b54-41ea-9158-ac8b6a9fe724",
   "metadata": {},
   "outputs": [],
   "source": [
    "#  created : 20250112"
   ]
  },
  {
   "cell_type": "code",
   "execution_count": 2,
   "id": "5ac1dcb0-7fab-492a-a40e-02b2a30983d2",
   "metadata": {},
   "outputs": [],
   "source": [
    "#  https://www.scientecheasy.com/2022/09/reserved-keywords-in-python.html/"
   ]
  },
  {
   "cell_type": "code",
   "execution_count": 3,
   "id": "57dc1caa-46e6-4156-a37f-9c2d2ef3ee3d",
   "metadata": {},
   "outputs": [],
   "source": [
    "#  python literals\n"
   ]
  },
  {
   "cell_type": "code",
   "execution_count": 4,
   "id": "cd250e63-ad0f-4a50-b930-017756a9ca82",
   "metadata": {},
   "outputs": [],
   "source": [
    "# Types of literals\n",
    "\n",
    "# String literals\n",
    "# Numeric literals\n",
    "# Boolean literalsb\n",
    "# Literal Collections"
   ]
  },
  {
   "cell_type": "code",
   "execution_count": null,
   "id": "76a74537-b52f-4ff5-b30b-8b03f9c0f709",
   "metadata": {},
   "outputs": [],
   "source": [
    "#  single line string"
   ]
  },
  {
   "cell_type": "code",
   "execution_count": 10,
   "id": "4fa406f5-b37f-441c-be74-8325d38a3f5c",
   "metadata": {},
   "outputs": [],
   "source": [
    "sigle_line_string = 'Welcome \\\n",
    "to \\\n",
    "Scientech Easy'\n"
   ]
  },
  {
   "cell_type": "code",
   "execution_count": 11,
   "id": "7f23e1f5-2e60-411c-84f4-2c6efbb1dd98",
   "metadata": {},
   "outputs": [
    {
     "name": "stdout",
     "output_type": "stream",
     "text": [
      "Welcome to Scientech Easy\n"
     ]
    }
   ],
   "source": [
    "print(sigle_line_string)"
   ]
  },
  {
   "cell_type": "code",
   "execution_count": 12,
   "id": "7324df96-de34-4c30-a8b2-61f172880fa2",
   "metadata": {},
   "outputs": [],
   "source": [
    "multi_line_string = '''Welcome \\\n",
    "to \\\n",
    "Scientech Easy, \\\n",
    "Dhanbad'''\n"
   ]
  },
  {
   "cell_type": "code",
   "execution_count": 13,
   "id": "1d928928-12e6-4130-9d89-d05909e6e540",
   "metadata": {},
   "outputs": [
    {
     "name": "stdout",
     "output_type": "stream",
     "text": [
      "Welcome to Scientech Easy, Dhanbad\n"
     ]
    }
   ],
   "source": [
    "print(multi_line_string)"
   ]
  },
  {
   "cell_type": "code",
   "execution_count": 14,
   "id": "4618f967-3dd4-4e13-accf-1c1cd6839667",
   "metadata": {},
   "outputs": [],
   "source": [
    "#  Numeric literals"
   ]
  },
  {
   "cell_type": "code",
   "execution_count": 18,
   "id": "c7e895a8-eb20-47e3-90e2-3dffa487a9e3",
   "metadata": {},
   "outputs": [],
   "source": [
    "decimal_int = 100        \n",
    "negative_int = -45"
   ]
  },
  {
   "cell_type": "code",
   "execution_count": 17,
   "id": "726b9285-c3f3-427d-a827-de455f5621ae",
   "metadata": {},
   "outputs": [
    {
     "name": "stdout",
     "output_type": "stream",
     "text": [
      "decimal literals :100\n",
      "negative literals :-45\n"
     ]
    }
   ],
   "source": [
    "print(f'decimal literals :{decimal_int}')\n",
    "print(f'negative literals :{negative_int}')"
   ]
  },
  {
   "cell_type": "code",
   "execution_count": 19,
   "id": "6d2f5ee1-c97e-4d61-aff5-980506386164",
   "metadata": {},
   "outputs": [],
   "source": [
    "positive_float = 3.14   \n",
    "negative_float = -0.001"
   ]
  },
  {
   "cell_type": "code",
   "execution_count": 20,
   "id": "6dbc6a1c-c5a7-4ae8-a205-e219af064a21",
   "metadata": {},
   "outputs": [
    {
     "name": "stdout",
     "output_type": "stream",
     "text": [
      "positive floating literals :3.14\n"
     ]
    }
   ],
   "source": [
    "print(f'positive floating literals :{positive_float}')"
   ]
  },
  {
   "cell_type": "code",
   "execution_count": 21,
   "id": "fa9799d0-1d44-4a66-af37-212ce554a5b5",
   "metadata": {},
   "outputs": [
    {
     "name": "stdout",
     "output_type": "stream",
     "text": [
      "positive negativ literals :-0.001\n"
     ]
    }
   ],
   "source": [
    "print(f'positive negativ literals :{negative_float}')"
   ]
  },
  {
   "cell_type": "code",
   "execution_count": 22,
   "id": "16cc4857-c347-444e-b1af-4c4e228ab584",
   "metadata": {},
   "outputs": [],
   "source": [
    "#  Boolean literals\n"
   ]
  },
  {
   "cell_type": "code",
   "execution_count": 23,
   "id": "65d7e3e5-7ecd-4eb8-952e-c268c81b9291",
   "metadata": {},
   "outputs": [],
   "source": [
    "greater_than = 10 > 5    \n",
    "less_than = 3 < 1        \n",
    "equal_to = 4 == 4        \n",
    "not_equal_to = 7 != 7 "
   ]
  },
  {
   "cell_type": "code",
   "execution_count": 24,
   "id": "b9e1fc82-7b8b-45f7-9605-920c902fe742",
   "metadata": {},
   "outputs": [
    {
     "name": "stdout",
     "output_type": "stream",
     "text": [
      "True\n",
      "False\n",
      "True\n",
      "False\n"
     ]
    }
   ],
   "source": [
    "print(greater_than)\n",
    "print(less_than)\n",
    "print(equal_to)\n",
    "print(not_equal_to)"
   ]
  },
  {
   "cell_type": "code",
   "execution_count": null,
   "id": "1b9a9d20-a31e-4c0d-8d22-54be195dec6e",
   "metadata": {},
   "outputs": [],
   "source": []
  }
 ],
 "metadata": {
  "kernelspec": {
   "display_name": "Python 3 (ipykernel)",
   "language": "python",
   "name": "python3"
  },
  "language_info": {
   "codemirror_mode": {
    "name": "ipython",
    "version": 3
   },
   "file_extension": ".py",
   "mimetype": "text/x-python",
   "name": "python",
   "nbconvert_exporter": "python",
   "pygments_lexer": "ipython3",
   "version": "3.11.9"
  }
 },
 "nbformat": 4,
 "nbformat_minor": 5
}
