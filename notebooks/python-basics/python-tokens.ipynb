{
 "cells": [
  {
   "cell_type": "code",
   "execution_count": 1,
   "id": "3842b0ff-7b54-41ea-9158-ac8b6a9fe724",
   "metadata": {},
   "outputs": [],
   "source": [
    "#  created : 20250113"
   ]
  },
  {
   "cell_type": "code",
   "execution_count": 2,
   "id": "5ac1dcb0-7fab-492a-a40e-02b2a30983d2",
   "metadata": {},
   "outputs": [],
   "source": [
    "#  https://www.scientecheasy.com/2022/09/python-tokens.html/"
   ]
  },
  {
   "cell_type": "code",
   "execution_count": 1,
   "id": "df1dad85-59d8-4091-8515-d0d963043431",
   "metadata": {},
   "outputs": [],
   "source": [
    "#  python tokens"
   ]
  },
  {
   "cell_type": "code",
   "execution_count": 2,
   "id": "57dc1caa-46e6-4156-a37f-9c2d2ef3ee3d",
   "metadata": {},
   "outputs": [],
   "source": [
    "# Keywords (Reserved words) : True, False, None, class, continue, break, if, elif, else, from, or, def, del, import, etc.\n",
    "# Identifier : User-defined names\n",
    "# Literals : String, Numeric, Boolean, Collection,\n",
    "# Delimeters : ( ), { }, [ ], :, ., =, ;, +=, -=, *=, /=, %=, etc.\n",
    "# Operators : +, -, *, **, /, %, <<, >>, etc."
   ]
  },
  {
   "cell_type": "code",
   "execution_count": 14,
   "id": "47a7c0be-86db-4950-b143-52698691709f",
   "metadata": {},
   "outputs": [
    {
     "name": "stdin",
     "output_type": "stream",
     "text": [
      "Enter your first number =  2\n",
      "Enter your second number =  3\n"
     ]
    },
    {
     "name": "stdout",
     "output_type": "stream",
     "text": [
      "-1\n"
     ]
    }
   ],
   "source": [
    "x = int(input(\"Enter your first number = \")) # --> in this line every single word and parentheses are called as tokens\n",
    "y = int(input(\"Enter your second number = \"))\n",
    "sub = x - y\n",
    "print(sub)"
   ]
  },
  {
   "cell_type": "code",
   "execution_count": 8,
   "id": "8c1e06c3-e134-47de-83ea-18c119349cb1",
   "metadata": {},
   "outputs": [],
   "source": [
    " # there is a specific library to find a tocken in python \n",
    "#  that is nltk\n",
    "#  to install pip install nltk"
   ]
  },
  {
   "cell_type": "code",
   "execution_count": 9,
   "id": "9cde14fc-1819-42e2-89f5-d4c9a72c6e7e",
   "metadata": {},
   "outputs": [
    {
     "name": "stdout",
     "output_type": "stream",
     "text": [
      "Requirement already satisfied: nltk in /home/jerin/miniconda3/envs/py311/lib/python3.11/site-packages (3.9.1)\n",
      "Requirement already satisfied: click in /home/jerin/miniconda3/envs/py311/lib/python3.11/site-packages (from nltk) (8.1.8)\n",
      "Requirement already satisfied: joblib in /home/jerin/miniconda3/envs/py311/lib/python3.11/site-packages (from nltk) (1.4.2)\n",
      "Requirement already satisfied: regex>=2021.8.3 in /home/jerin/miniconda3/envs/py311/lib/python3.11/site-packages (from nltk) (2024.11.6)\n",
      "Requirement already satisfied: tqdm in /home/jerin/miniconda3/envs/py311/lib/python3.11/site-packages (from nltk) (4.67.1)\n"
     ]
    }
   ],
   "source": [
    "!pip install nltk\n"
   ]
  },
  {
   "cell_type": "code",
   "execution_count": 10,
   "id": "de2889e6-04f6-4151-ae95-fdc136a9c095",
   "metadata": {},
   "outputs": [],
   "source": [
    "from nltk.tokenize import word_tokenize\n"
   ]
  },
  {
   "cell_type": "code",
   "execution_count": 15,
   "id": "07242b79-197c-4a8a-9d07-c5c706e194f9",
   "metadata": {},
   "outputs": [
    {
     "name": "stdout",
     "output_type": "stream",
     "text": [
      "['hi', 'my', 'name', 'is', 'jerin', 'and', 'my', 'age', 'is', '23']\n"
     ]
    }
   ],
   "source": [
    "text= \"hi my name is jerin and my age is 23\"\n",
    "tokens = word_tokenize(text)\n",
    "print(tokens)"
   ]
  },
  {
   "cell_type": "code",
   "execution_count": null,
   "id": "e78f814c-b5f3-4f87-8edd-6aeaccd4dcec",
   "metadata": {},
   "outputs": [],
   "source": []
  }
 ],
 "metadata": {
  "kernelspec": {
   "display_name": "Python 3 (ipykernel)",
   "language": "python",
   "name": "python3"
  },
  "language_info": {
   "codemirror_mode": {
    "name": "ipython",
    "version": 3
   },
   "file_extension": ".py",
   "mimetype": "text/x-python",
   "name": "python",
   "nbconvert_exporter": "python",
   "pygments_lexer": "ipython3",
   "version": "3.11.9"
  }
 },
 "nbformat": 4,
 "nbformat_minor": 5
}
