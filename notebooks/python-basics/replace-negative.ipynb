{
 "cells": [
  {
   "cell_type": "code",
   "execution_count": null,
   "id": "2339c8ae-bdab-4243-abe2-45360aaa5a70",
   "metadata": {},
   "outputs": [],
   "source": [
    "\n"
   ]
  },
  {
   "cell_type": "code",
   "execution_count": 1,
   "id": "6c32a85a-9812-49b1-b112-c307d85dc057",
   "metadata": {},
   "outputs": [
    {
     "name": "stdout",
     "output_type": "stream",
     "text": [
      "List after Replacing Negatives: [0, 2, 0, 4, 0]\n"
     ]
    }
   ],
   "source": [
    "def replace_negatives(lst):\n",
    "    replaced = [x if x >= 0 else 0 for x in lst]\n",
    "    print(\"List after Replacing Negatives:\", replaced)\n",
    "\n",
    "# Example usage\n",
    "replace_negatives([-1, 2, -3, 4, -5])"
   ]
  },
  {
   "cell_type": "code",
   "execution_count": 2,
   "id": "641c04a6-0e57-4226-a40f-0fc4914c3dc5",
   "metadata": {},
   "outputs": [],
   "source": [
    "# intersection of a list "
   ]
  },
  {
   "cell_type": "code",
   "execution_count": 3,
   "id": "a222f219-3c43-4fa6-a459-e2892a78bb51",
   "metadata": {},
   "outputs": [
    {
     "name": "stdout",
     "output_type": "stream",
     "text": [
      "Intersection: [3, 4]\n"
     ]
    }
   ],
   "source": [
    "def list_intersection(lst1, lst2):\n",
    "    intersection = [x for x in lst1 if x in lst2]\n",
    "    print(\"Intersection:\", intersection)\n",
    "\n",
    "# Example usage\n",
    "list_intersection([1, 2, 3, 4], [3, 4, 5, 6])"
   ]
  },
  {
   "cell_type": "code",
   "execution_count": null,
   "id": "ec17efde-9070-4fa9-ac63-265819c78176",
   "metadata": {},
   "outputs": [],
   "source": []
  }
 ],
 "metadata": {
  "kernelspec": {
   "display_name": "Python 3 (ipykernel)",
   "language": "python",
   "name": "python3"
  },
  "language_info": {
   "codemirror_mode": {
    "name": "ipython",
    "version": 3
   },
   "file_extension": ".py",
   "mimetype": "text/x-python",
   "name": "python",
   "nbconvert_exporter": "python",
   "pygments_lexer": "ipython3",
   "version": "3.11.9"
  }
 },
 "nbformat": 4,
 "nbformat_minor": 5
}
