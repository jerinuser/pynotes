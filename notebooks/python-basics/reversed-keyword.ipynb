{
 "cells": [
  {
   "cell_type": "code",
   "execution_count": 1,
   "id": "3842b0ff-7b54-41ea-9158-ac8b6a9fe724",
   "metadata": {},
   "outputs": [],
   "source": [
    "#  created : 20250111"
   ]
  },
  {
   "cell_type": "code",
   "execution_count": 2,
   "id": "5ac1dcb0-7fab-492a-a40e-02b2a30983d2",
   "metadata": {},
   "outputs": [],
   "source": [
    "#  https://www.scientecheasy.com/2022/09/reserved-keywords-in-python.html/"
   ]
  },
  {
   "cell_type": "code",
   "execution_count": 2,
   "id": "57dc1caa-46e6-4156-a37f-9c2d2ef3ee3d",
   "metadata": {},
   "outputs": [],
   "source": [
    "import keyword\n"
   ]
  },
  {
   "cell_type": "code",
   "execution_count": 3,
   "id": "875a940d-f986-4896-94e6-1bd407392d11",
   "metadata": {},
   "outputs": [
    {
     "name": "stdout",
     "output_type": "stream",
     "text": [
      "['False', 'None', 'True', 'and', 'as', 'assert', 'async', 'await', 'break', 'class', 'continue', 'def', 'del', 'elif', 'else', 'except', 'finally', 'for', 'from', 'global', 'if', 'import', 'in', 'is', 'lambda', 'nonlocal', 'not', 'or', 'pass', 'raise', 'return', 'try', 'while', 'with', 'yield']\n"
     ]
    }
   ],
   "source": [
    "print(keyword.kwlist)"
   ]
  },
  {
   "cell_type": "code",
   "execution_count": 5,
   "id": "e528138e-f6b3-4e0b-b42d-a35e5f9d827e",
   "metadata": {},
   "outputs": [],
   "source": [
    "#  Description of Keywords in Python with Examples\n"
   ]
  },
  {
   "cell_type": "code",
   "execution_count": 6,
   "id": "e3e8d077-a3db-43b5-86ae-8b48792ffe41",
   "metadata": {},
   "outputs": [
    {
     "name": "stdout",
     "output_type": "stream",
     "text": [
      "True\n",
      "True\n",
      "True\n",
      "True\n"
     ]
    }
   ],
   "source": [
    "print( 5 == 5 )\n",
    "print( 10 > 9 )\n",
    "print( True or False )\n",
    "print( 9 <= 28 )"
   ]
  },
  {
   "cell_type": "code",
   "execution_count": 7,
   "id": "f935cae8-5ed1-4a71-8f2f-99740e69856f",
   "metadata": {},
   "outputs": [
    {
     "name": "stdout",
     "output_type": "stream",
     "text": [
      "True\n",
      "3\n"
     ]
    }
   ],
   "source": [
    "print( True == 1 )\n",
    "print( True + True + True)"
   ]
  },
  {
   "cell_type": "code",
   "execution_count": 8,
   "id": "46ee33ed-57cc-4eb2-aa6c-b6ecb5a06fb9",
   "metadata": {},
   "outputs": [
    {
     "name": "stdout",
     "output_type": "stream",
     "text": [
      "False\n",
      "False\n",
      "False\n",
      "True\n",
      "1\n"
     ]
    }
   ],
   "source": [
    "print(10 > 20)\n",
    "print(50 <= 30)\n",
    "print(False == 1)\n",
    "print(False == 0)\n",
    "print(False + False + 1) "
   ]
  },
  {
   "cell_type": "code",
   "execution_count": 9,
   "id": "7b852475-c570-47ee-a2c0-58d34c820b4c",
   "metadata": {},
   "outputs": [
    {
     "name": "stdout",
     "output_type": "stream",
     "text": [
      "False\n",
      "False\n",
      "False\n"
     ]
    }
   ],
   "source": [
    "print(None == False)\n",
    "print( None == 0 )\n",
    "print( None == \" \" )"
   ]
  },
  {
   "cell_type": "code",
   "execution_count": 10,
   "id": "f8f790c7-7cc0-4c85-ad7d-ae41a974e440",
   "metadata": {},
   "outputs": [],
   "source": [
    "A = None\n",
    "B = None\n",
    "C = None"
   ]
  },
  {
   "cell_type": "code",
   "execution_count": 11,
   "id": "93fd7ed0-cfd9-4d46-90f9-d19831f8cf68",
   "metadata": {},
   "outputs": [
    {
     "name": "stdout",
     "output_type": "stream",
     "text": [
      "True\n",
      "True\n",
      "True\n"
     ]
    }
   ],
   "source": [
    "print( A == B )\n",
    "print( B == C )\n",
    "print( A == C )"
   ]
  },
  {
   "cell_type": "code",
   "execution_count": 12,
   "id": "46ab8a88-d389-446a-8cea-42fd0474db10",
   "metadata": {},
   "outputs": [
    {
     "name": "stdout",
     "output_type": "stream",
     "text": [
      "True\n",
      "False\n",
      "1\n"
     ]
    }
   ],
   "source": [
    "print(True and True)\n",
    "print(True and False and True)\n",
    "print(True and 1)"
   ]
  },
  {
   "cell_type": "code",
   "execution_count": 13,
   "id": "b4ee05f1-d073-4bf8-bda3-e9882ccb2268",
   "metadata": {},
   "outputs": [
    {
     "name": "stdout",
     "output_type": "stream",
     "text": [
      "True\n",
      "True\n",
      "True\n",
      "True\n"
     ]
    }
   ],
   "source": [
    "print(True or True)\n",
    "print(False or False or True)\n",
    "print(True or False)\n",
    "print(True or 1)"
   ]
  },
  {
   "cell_type": "code",
   "execution_count": 14,
   "id": "acab2eb3-5c34-4388-88a6-5a5a244544e5",
   "metadata": {},
   "outputs": [
    {
     "name": "stdout",
     "output_type": "stream",
     "text": [
      "False\n",
      "True\n"
     ]
    }
   ],
   "source": [
    "print(not True)\n",
    "print(not False)"
   ]
  },
  {
   "cell_type": "code",
   "execution_count": 15,
   "id": "8cfddd2d-ba95-436b-85d1-d497b8c9633f",
   "metadata": {},
   "outputs": [],
   "source": [
    "num = [10, 20, 30, 40, 50]"
   ]
  },
  {
   "cell_type": "code",
   "execution_count": 20,
   "id": "16292ea7-d3c5-4e89-bf92-c17482f3085b",
   "metadata": {},
   "outputs": [
    {
     "name": "stdout",
     "output_type": "stream",
     "text": [
      "True\n"
     ]
    }
   ],
   "source": [
    "print(15 not in num)"
   ]
  },
  {
   "cell_type": "code",
   "execution_count": 17,
   "id": "af0c7f8c-561d-4b67-92bd-b0966f91348e",
   "metadata": {},
   "outputs": [
    {
     "name": "stdout",
     "output_type": "stream",
     "text": [
      "True\n"
     ]
    }
   ],
   "source": [
    "print(50 in num)"
   ]
  },
  {
   "cell_type": "code",
   "execution_count": 21,
   "id": "085a82c6-8c85-40b7-a923-bef284aa9ae0",
   "metadata": {},
   "outputs": [
    {
     "name": "stdout",
     "output_type": "stream",
     "text": [
      "k\n",
      "e\n",
      "y\n",
      "w\n",
      "o\n",
      "r\n",
      "d\n"
     ]
    }
   ],
   "source": [
    "for i in 'keyword':\n",
    "     print(i)"
   ]
  },
  {
   "cell_type": "code",
   "execution_count": 24,
   "id": "1420e40d-6872-436b-891c-d21a3bc61285",
   "metadata": {},
   "outputs": [
    {
     "name": "stdout",
     "output_type": "stream",
     "text": [
      "True\n",
      "False\n",
      "True\n",
      "True\n"
     ]
    },
    {
     "name": "stderr",
     "output_type": "stream",
     "text": [
      "<>:4: SyntaxWarning: \"is\" with a literal. Did you mean \"==\"?\n",
      "<>:4: SyntaxWarning: \"is\" with a literal. Did you mean \"==\"?\n",
      "/tmp/ipykernel_17126/3779890185.py:4: SyntaxWarning: \"is\" with a literal. Did you mean \"==\"?\n",
      "  print((2 + 4) is (3 * 2))\n"
     ]
    }
   ],
   "source": [
    "print( True is True )\n",
    "print( False is True )\n",
    "print( None is None )\n",
    "print((2 + 4) is (3 * 2))"
   ]
  },
  {
   "cell_type": "code",
   "execution_count": 25,
   "id": "9afb1156-1f8c-4e4a-b6d9-0fe438ee42b7",
   "metadata": {},
   "outputs": [
    {
     "name": "stdout",
     "output_type": "stream",
     "text": [
      "True\n",
      "False\n",
      "True\n",
      "False\n"
     ]
    }
   ],
   "source": [
    "print( [ ] == [ ] )\n",
    "print( [ ] is [ ] )  \n",
    "print( { } == { } )\n",
    "print( { } is { } )"
   ]
  },
  {
   "cell_type": "code",
   "execution_count": 26,
   "id": "aa3daefe-1e84-48bb-88b6-d75cbc16c0cd",
   "metadata": {},
   "outputs": [
    {
     "name": "stdout",
     "output_type": "stream",
     "text": [
      "True\n",
      "True\n",
      "True\n",
      "True\n"
     ]
    },
    {
     "name": "stderr",
     "output_type": "stream",
     "text": [
      "<>:2: SyntaxWarning: \"is\" with a literal. Did you mean \"==\"?\n",
      "<>:4: SyntaxWarning: \"is\" with a literal. Did you mean \"==\"?\n",
      "<>:2: SyntaxWarning: \"is\" with a literal. Did you mean \"==\"?\n",
      "<>:4: SyntaxWarning: \"is\" with a literal. Did you mean \"==\"?\n",
      "/tmp/ipykernel_17126/3115633758.py:2: SyntaxWarning: \"is\" with a literal. Did you mean \"==\"?\n",
      "  print( ' ' is ' ' )\n",
      "/tmp/ipykernel_17126/3115633758.py:4: SyntaxWarning: \"is\" with a literal. Did you mean \"==\"?\n",
      "  print( () is () )\n"
     ]
    }
   ],
   "source": [
    "print( ' ' == ' ' )\n",
    "print( ' ' is ' ' )\n",
    "print( () == () )\n",
    "print( () is () )"
   ]
  },
  {
   "cell_type": "code",
   "execution_count": null,
   "id": "c98670ee-d14e-4a2d-bfb9-fa8b77c16591",
   "metadata": {},
   "outputs": [],
   "source": []
  }
 ],
 "metadata": {
  "kernelspec": {
   "display_name": "Python 3 (ipykernel)",
   "language": "python",
   "name": "python3"
  },
  "language_info": {
   "codemirror_mode": {
    "name": "ipython",
    "version": 3
   },
   "file_extension": ".py",
   "mimetype": "text/x-python",
   "name": "python",
   "nbconvert_exporter": "python",
   "pygments_lexer": "ipython3",
   "version": "3.11.9"
  }
 },
 "nbformat": 4,
 "nbformat_minor": 5
}
