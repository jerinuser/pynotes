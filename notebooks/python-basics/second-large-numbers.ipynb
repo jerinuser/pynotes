{
 "cells": [
  {
   "cell_type": "code",
   "execution_count": 9,
   "id": "2339c8ae-bdab-4243-abe2-45360aaa5a70",
   "metadata": {},
   "outputs": [],
   "source": []
  },
  {
   "cell_type": "code",
   "execution_count": null,
   "id": "6c32a85a-9812-49b1-b112-c307d85dc057",
   "metadata": {},
   "outputs": [],
   "source": [
    "def second_largest(numbers):\n",
    "    if len(numbers) < 2:\n",
    "        return \"Error: List must have at least two distinct numbers.\"\n",
    "\n",
    "    # Remove duplicates\n",
    "    unique_numbers = list(set(numbers))\n",
    "\n",
    "    if len(unique_numbers) < 2:\n",
    "        return \"Error: Not enough distinct numbers to determine the second largest.\"\n",
    "\n",
    "    # Sort the unique numbers in descending order\n",
    "    unique_numbers.sort(reverse=True)\n",
    "    \n",
    "    # Return the second largest number\n",
    "    return unique_numbers[1]\n",
    "\n",
    "# Example usage\n",
    "print(second_largest([5, 3, 9, 1, 3, 9]))  # Output: 5\n",
    "print(second_largest([7, 7, 7]))           # Output: Error: Not enough distinct numbers to determine the second largest.\n",
    "print(second_largest([10]))               # Output: Error: List must have at least two distinct numbers.\n"
   ]
  },
  {
   "cell_type": "code",
   "execution_count": null,
   "id": "bf7d806c-330c-41c9-8d06-4503445bc6f8",
   "metadata": {},
   "outputs": [],
   "source": []
  },
  {
   "cell_type": "code",
   "execution_count": null,
   "id": "af716a95-f3ac-4b15-83c3-e5a5d596f03f",
   "metadata": {},
   "outputs": [],
   "source": []
  }
 ],
 "metadata": {
  "kernelspec": {
   "display_name": "Python 3 (ipykernel)",
   "language": "python",
   "name": "python3"
  },
  "language_info": {
   "codemirror_mode": {
    "name": "ipython",
    "version": 3
   },
   "file_extension": ".py",
   "mimetype": "text/x-python",
   "name": "python",
   "nbconvert_exporter": "python",
   "pygments_lexer": "ipython3",
   "version": "3.11.9"
  }
 },
 "nbformat": 4,
 "nbformat_minor": 5
}
