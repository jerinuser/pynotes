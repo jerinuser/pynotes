{
 "cells": [
  {
   "cell_type": "code",
   "execution_count": 5,
   "id": "2339c8ae-bdab-4243-abe2-45360aaa5a70",
   "metadata": {},
   "outputs": [
    {
     "name": "stdout",
     "output_type": "stream",
     "text": [
      "[{'name': 'bob', 'age': 24, 'id': 52353}, {'name': 'jerin', 'age': 22, 'id': 92345}, {'name': 'tom', 'age': 23, 'id': 62257}]\n",
      "[{'name': 'bob', 'age': 24, 'id': 52353}, {'name': 'tom', 'age': 23, 'id': 62257}, {'name': 'jerin', 'age': 22, 'id': 92345}]\n"
     ]
    }
   ],
   "source": [
    "person = [\n",
    "  {\n",
    "    'name' : 'jerin',\n",
    "    'age' : 22,\n",
    "    'id' : 92345\n",
    "  },\n",
    "  {\n",
    "    'name' : 'bob',\n",
    "    'age' : 24,\n",
    "    'id' : 52353\n",
    "  },\n",
    "  {\n",
    "    'name' : 'tom',\n",
    "    'age' : 23,\n",
    "    'id' : 62257\n",
    "  }\n",
    "]\n",
    "\n",
    "# Method 1\n",
    "person.sort(key=lambda item: item.get(\"name\")) # --> sorted by using name \n",
    "print(person)\n",
    "\n",
    "# Method 2\n",
    "person = sorted(person, key=lambda item: item.get(\"id\")) # --> sorted by using ID\n",
    "print(person)"
   ]
  },
  {
   "cell_type": "code",
   "execution_count": null,
   "id": "ab28d0af-456b-45d5-bdd5-59deb502e78f",
   "metadata": {},
   "outputs": [],
   "source": []
  }
 ],
 "metadata": {
  "kernelspec": {
   "display_name": "Python 3 (ipykernel)",
   "language": "python",
   "name": "python3"
  },
  "language_info": {
   "codemirror_mode": {
    "name": "ipython",
    "version": 3
   },
   "file_extension": ".py",
   "mimetype": "text/x-python",
   "name": "python",
   "nbconvert_exporter": "python",
   "pygments_lexer": "ipython3",
   "version": "3.11.9"
  }
 },
 "nbformat": 4,
 "nbformat_minor": 5
}
