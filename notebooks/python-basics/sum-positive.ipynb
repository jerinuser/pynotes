{
 "cells": [
  {
   "cell_type": "code",
   "execution_count": 1,
   "id": "2339c8ae-bdab-4243-abe2-45360aaa5a70",
   "metadata": {},
   "outputs": [
    {
     "name": "stdout",
     "output_type": "stream",
     "text": [
      "Sum of Positive Numbers: 10\n"
     ]
    }
   ],
   "source": [
    "def sum_positives(lst):\n",
    "    positive_sum = sum(x for x in lst if x > 0)\n",
    "    print(\"Sum of Positive Numbers:\", positive_sum)\n",
    "\n",
    "# Example usage\n",
    "sum_positives([-1, 2, 3, -4, 5])"
   ]
  },
  {
   "cell_type": "code",
   "execution_count": 2,
   "id": "ab28d0af-456b-45d5-bdd5-59deb502e78f",
   "metadata": {},
   "outputs": [
    {
     "name": "stdout",
     "output_type": "stream",
     "text": [
      "Shifted List: [4, 5, 1, 2, 3]\n",
      "Shifted List: [4, 5, 1, 2, 3]\n"
     ]
    }
   ],
   "source": [
    "def shift_list(lst, k):\n",
    "    k = k % len(lst)  # Handle shifts larger than list length\n",
    "    shifted = lst[-k:] + lst[:-k]\n",
    "    print(\"Shifted List:\", shifted)\n",
    "\n",
    "# Example usage\n",
    "shift_list([1, 2, 3, 4, 5], 2)\n",
    "shift_list([1, 2, 3, 4, 5], 7)\n"
   ]
  },
  {
   "cell_type": "code",
   "execution_count": null,
   "id": "ad731382-29c9-417c-8e78-af197f9cfc36",
   "metadata": {},
   "outputs": [],
   "source": []
  }
 ],
 "metadata": {
  "kernelspec": {
   "display_name": "Python 3 (ipykernel)",
   "language": "python",
   "name": "python3"
  },
  "language_info": {
   "codemirror_mode": {
    "name": "ipython",
    "version": 3
   },
   "file_extension": ".py",
   "mimetype": "text/x-python",
   "name": "python",
   "nbconvert_exporter": "python",
   "pygments_lexer": "ipython3",
   "version": "3.11.9"
  }
 },
 "nbformat": 4,
 "nbformat_minor": 5
}
