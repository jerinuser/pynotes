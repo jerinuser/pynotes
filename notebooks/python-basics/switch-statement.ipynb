{
 "cells": [
  {
   "cell_type": "code",
   "execution_count": 1,
   "id": "3842b0ff-7b54-41ea-9158-ac8b6a9fe724",
   "metadata": {},
   "outputs": [],
   "source": [
    "#  created : 20250321"
   ]
  },
  {
   "cell_type": "code",
   "execution_count": 1,
   "id": "ce820b5d-13b6-4323-b853-0eea1dbe00b0",
   "metadata": {},
   "outputs": [],
   "source": [
    "#  https://www.scientecheasy.com/2022/11/switch-statement-in-python.html/"
   ]
  },
  {
   "cell_type": "code",
   "execution_count": 2,
   "id": "5ac1dcb0-7fab-492a-a40e-02b2a30983d2",
   "metadata": {},
   "outputs": [],
   "source": [
    "#  Implementing Switch Statement in Python using If-Elif-Else"
   ]
  },
  {
   "cell_type": "code",
   "execution_count": 3,
   "id": "57dc1caa-46e6-4156-a37f-9c2d2ef3ee3d",
   "metadata": {},
   "outputs": [
    {
     "name": "stdout",
     "output_type": "stream",
     "text": [
      "Dhanbad\n"
     ]
    }
   ],
   "source": [
    "city = 'd' # Initialize the variable.\n",
    "if city == 'm':\n",
    "    print('Mumbai')\n",
    "elif city == 'd':\n",
    "    print('Dhanbad')\n",
    "elif city == 'c':\n",
    "    print('Chennai')\n",
    "elif city == 'r':\n",
    "    print('Ranchi')\n",
    "else:\n",
    "    print('No city')"
   ]
  },
  {
   "cell_type": "code",
   "execution_count": 4,
   "id": "1256efde-9235-4810-8440-317f58cae5e0",
   "metadata": {},
   "outputs": [],
   "source": [
    "# Implementing Switch Statement in Python using Dictionary"
   ]
  },
  {
   "cell_type": "code",
   "execution_count": 5,
   "id": "996f6e2a-570e-477a-a376-6b8ee7db0cf3",
   "metadata": {},
   "outputs": [],
   "source": [
    "# Implementing switch case statement in Python using Dictionary.\n",
    "def m():\n",
    "    return \"Mumbai\"\n",
    "def d():\n",
    "    return \"Dhanbad\"\n",
    "def c():\n",
    "    return \"Chennai\"\n",
    "def r():\n",
    "    return \"Ranchi\"\n",
    "def default():\n",
    "    return \"No city\""
   ]
  },
  {
   "cell_type": "code",
   "execution_count": 6,
   "id": "66be51ae-0c0f-437a-8c0c-3d8f6ea4b443",
   "metadata": {},
   "outputs": [],
   "source": [
    "# Creating a dictionary and put these in it.\n",
    "switcher = {\n",
    "    1: m,\n",
    "    2: d,\n",
    "    3: c,\n",
    "    4: r,\n",
    "    }"
   ]
  },
  {
   "cell_type": "code",
   "execution_count": 8,
   "id": "d1b4d6d9-edc2-4b56-a87d-1ae2e7ed105e",
   "metadata": {},
   "outputs": [
    {
     "name": "stdout",
     "output_type": "stream",
     "text": [
      "Mumbai\n",
      "Dhanbad\n"
     ]
    }
   ],
   "source": [
    "# Creating a function named switch with a parameter.\n",
    "def switch(city):\n",
    "    return switcher.get(city, default)()\n",
    "print(switch(1)) # Calling function.\n",
    "print(switch(2)) # Calling function."
   ]
  },
  {
   "cell_type": "code",
   "execution_count": 10,
   "id": "9c81c03a-61ad-4fcc-8b80-acdfa60461f1",
   "metadata": {},
   "outputs": [
    {
     "name": "stdin",
     "output_type": "stream",
     "text": [
      "Enter your first number:  10\n",
      "Enter your second number:  20\n",
      "Enter your choice 1: addition 2: subtraction 3: Multiplication and 4: division:  3\n"
     ]
    },
    {
     "name": "stdout",
     "output_type": "stream",
     "text": [
      "200\n"
     ]
    }
   ],
   "source": [
    "# Program to create a simple calculator by implementing switch case statement in Python using Dictionary.\n",
    "x = int(input('Enter your first number: '))\n",
    "y = int(input('Enter your second number: '))\n",
    "choice = int(input('Enter your choice 1: addition 2: subtraction 3: Multiplication and 4: division: '))\n",
    "def addition():\n",
    "    sum = x + y\n",
    "    return sum\n",
    "def subtraction():\n",
    "    sub = x - y\n",
    "    return sub\n",
    "def multiplication():\n",
    "    multiply = x * y\n",
    "    return multiply\n",
    "def division():\n",
    "    div = x / y\n",
    "    return div\n",
    "def default():\n",
    "    return \"You are not entered the valid choice.\"\n",
    "\n",
    "# Putting these in the dictionary.\n",
    "switcher = {\n",
    "    1: addition,\n",
    "    2: subtraction,\n",
    "    3: multiplication,\n",
    "    4: division,\n",
    "    }\n",
    "def switch(number):\n",
    "    return switcher.get(number, default)()\n",
    "print(switch(choice))"
   ]
  },
  {
   "cell_type": "code",
   "execution_count": 11,
   "id": "cc664bd3-a780-4200-807c-bf46aaef175b",
   "metadata": {},
   "outputs": [],
   "source": [
    "# Implementing Switch Statement using Python Class"
   ]
  },
  {
   "cell_type": "code",
   "execution_count": 15,
   "id": "ac3b137b-4768-4a08-be7f-fdff052c5978",
   "metadata": {},
   "outputs": [],
   "source": [
    "# Creating a class.\n",
    "class PythonSwitch():\n",
    "    def main_function(self, name_of_day):\n",
    "        default = \"Incorrect name of day\"\n",
    "        method_name = 'day_' + str(name_of_day)\n",
    "        method = getattr(self, method_name, lambda: default())\n",
    "        return method()\n",
    "\n",
    "    def day_1(self):\n",
    "        return \"Sunday\"\n",
    "    def day_2(self):\n",
    "        return \"Monday\"\n",
    "    def day_3(self):\n",
    "        return \"Tuesday\"\n",
    "\n",
    "    def day_4(self):\n",
    "        return \"Wednesday\"\n",
    "    def day_5(self):\n",
    "        return \"Thursday\"\n",
    "    def day_6(self):\n",
    "        return \"Friday\"\n",
    "    def day_7(self):\n",
    "        return \"Saturday\"\n"
   ]
  },
  {
   "cell_type": "code",
   "execution_count": 16,
   "id": "25574c73-5419-44d1-af2e-3df0d43a8d29",
   "metadata": {},
   "outputs": [
    {
     "name": "stdout",
     "output_type": "stream",
     "text": [
      "Sunday\n",
      "Tuesday\n"
     ]
    }
   ],
   "source": [
    "# Creating an object of class.\n",
    "my_switch = PythonSwitch()\n",
    "print(my_switch.main_function(1)) # Calling function with passing argument value.\n",
    "print(my_switch.main_function(3)) # Calling function."
   ]
  },
  {
   "cell_type": "code",
   "execution_count": 14,
   "id": "4c455528-10cd-42b8-b026-ce43eb8a76e1",
   "metadata": {},
   "outputs": [],
   "source": [
    "# Implementing Switch Case using Functions and Lambdas"
   ]
  },
  {
   "cell_type": "code",
   "execution_count": 17,
   "id": "846d3feb-cd8b-4aae-86a6-f683ac2cffd2",
   "metadata": {},
   "outputs": [],
   "source": [
    "def a():\n",
    "    return 'Apple'\n",
    "def m():\n",
    "    return 'Mango'\n",
    "def o():\n",
    "    return 'Orange'"
   ]
  },
  {
   "cell_type": "code",
   "execution_count": 18,
   "id": "45913218-6a71-4d35-a338-5e922601d509",
   "metadata": {},
   "outputs": [],
   "source": [
    "def fruits(i):\n",
    "    switcher = {\n",
    "        1: a,\n",
    "        2: m,\n",
    "        3: o,\n",
    "        4: lambda: 'Banana'\n",
    "    }\n",
    "    funct = switcher.get(i, lambda: 'Invalid')\n",
    "    return funct()"
   ]
  },
  {
   "cell_type": "code",
   "execution_count": 19,
   "id": "02ce018d-b837-434b-bdd5-eb28a179063b",
   "metadata": {},
   "outputs": [
    {
     "name": "stdout",
     "output_type": "stream",
     "text": [
      "Orange\n",
      "Invalid\n"
     ]
    }
   ],
   "source": [
    "print(fruits(3)) # Calling function.\n",
    "print(fruits(0)) # Calling function."
   ]
  },
  {
   "cell_type": "code",
   "execution_count": 20,
   "id": "e1bd6581-3278-4a19-a308-3f200326a334",
   "metadata": {},
   "outputs": [],
   "source": [
    "# Implement Switch Statement with match and case in Python 3.10\n"
   ]
  },
  {
   "cell_type": "code",
   "execution_count": 23,
   "id": "f23b8ea9-a32d-4228-9f6f-6d93495831cf",
   "metadata": {},
   "outputs": [
    {
     "name": "stdin",
     "output_type": "stream",
     "text": [
      "Which programming language do you want to learn?  Python\n"
     ]
    },
    {
     "name": "stdout",
     "output_type": "stream",
     "text": [
      "You will be a Data Scientist after learning Python.\n"
     ]
    }
   ],
   "source": [
    "# This program code will execute only in python 3.10 or above versions\n",
    "lang = input('Which programming language do you want to learn? ')\n",
    "\n",
    "match lang:\n",
    "    case \"JavaScript\":\n",
    "        print('You will be a web developer after learning JavaScript.')\n",
    "\n",
    "    case \"Python\":\n",
    "        print(\"You will be a Data Scientist after learning Python.\")\n",
    "\n",
    "    case \"PHP\":\n",
    "        print(\"You will be a backend developer after learning PHP.\")\n",
    "\n",
    "    case \"Solidity\":\n",
    "        print(\"You will be a Blockchain developer after learning Solidity.\")\n",
    "\n",
    "    case \"Java\":\n",
    "        print(\"You will be a software developer after learning Java\")\n",
    "    case _:\n",
    "        print(\"Language does not matter.\")\n"
   ]
  },
  {
   "cell_type": "code",
   "execution_count": 24,
   "id": "d52bb206-7fc9-48de-9d82-501dc751db17",
   "metadata": {},
   "outputs": [
    {
     "name": "stdout",
     "output_type": "stream",
     "text": [
      "You chose 2\n"
     ]
    }
   ],
   "source": [
    "choice = int(2)\n",
    "match choice:\n",
    "    case 1:\n",
    "        print('You chose 1')\n",
    "    case 2:\n",
    "        print('You chose 2')\n",
    "    case 3:\n",
    "        print('You chose 3')\n",
    "    case _:\n",
    "        print('Default option')"
   ]
  },
  {
   "cell_type": "code",
   "execution_count": null,
   "id": "81d45359-13b4-4d0f-b189-f33888e8433c",
   "metadata": {},
   "outputs": [],
   "source": []
  }
 ],
 "metadata": {
  "kernelspec": {
   "display_name": "Python 3 (ipykernel)",
   "language": "python",
   "name": "python3"
  },
  "language_info": {
   "codemirror_mode": {
    "name": "ipython",
    "version": 3
   },
   "file_extension": ".py",
   "mimetype": "text/x-python",
   "name": "python",
   "nbconvert_exporter": "python",
   "pygments_lexer": "ipython3",
   "version": "3.11.9"
  }
 },
 "nbformat": 4,
 "nbformat_minor": 5
}
