{
 "cells": [
  {
   "cell_type": "code",
   "execution_count": 1,
   "id": "3842b0ff-7b54-41ea-9158-ac8b6a9fe724",
   "metadata": {},
   "outputs": [],
   "source": [
    "#  created : 20250113"
   ]
  },
  {
   "cell_type": "code",
   "execution_count": 1,
   "id": "5ac1dcb0-7fab-492a-a40e-02b2a30983d2",
   "metadata": {},
   "outputs": [],
   "source": [
    "#  https://www.scientecheasy.com/2022/10/ternary-operator-in-python.html/"
   ]
  },
  {
   "cell_type": "code",
   "execution_count": 2,
   "id": "57dc1caa-46e6-4156-a37f-9c2d2ef3ee3d",
   "metadata": {},
   "outputs": [],
   "source": [
    "#  Ternary Operator in Python"
   ]
  },
  {
   "cell_type": "code",
   "execution_count": 4,
   "id": "a372ae8d-e52f-41c4-9832-ff71a2590d45",
   "metadata": {},
   "outputs": [],
   "source": [
    "x =  10 \n",
    "y = 20 \n",
    "\n",
    "\n",
    "if(x > y):\n",
    "    msg = 'Hello'\n",
    "else:\n",
    "    msg = 'Goodbye'"
   ]
  },
  {
   "cell_type": "code",
   "execution_count": 5,
   "id": "6e83f6d2-af58-47ae-b185-ff59163d8630",
   "metadata": {},
   "outputs": [
    {
     "name": "stdout",
     "output_type": "stream",
     "text": [
      "Hello\n",
      "Goodbye\n"
     ]
    }
   ],
   "source": [
    "print('Hello' if True else 'Goodbye') \n",
    "print('Hello' if False else 'Goodbye') "
   ]
  },
  {
   "cell_type": "code",
   "execution_count": 7,
   "id": "54e0382f-977a-414e-9f09-066ade0fe610",
   "metadata": {},
   "outputs": [
    {
     "name": "stdout",
     "output_type": "stream",
     "text": [
      "Greatest number:  40\n"
     ]
    }
   ],
   "source": [
    "x, y = 20, 40\n",
    "z = 20 if (x > y) else 40\n",
    "print(\"Greatest number: \", z)"
   ]
  },
  {
   "cell_type": "code",
   "execution_count": 8,
   "id": "26ff7fdd-2cfd-4cdc-a999-8689bbf0428f",
   "metadata": {},
   "outputs": [
    {
     "name": "stdin",
     "output_type": "stream",
     "text": [
      "Enter the first number:  20\n",
      "Enter the second number:  30\n",
      "Enter the third number:  40\n"
     ]
    },
    {
     "name": "stdout",
     "output_type": "stream",
     "text": [
      "The greatest number among three numbers:  40\n"
     ]
    }
   ],
   "source": [
    "num1 = int(input(\"Enter the first number: \"))\n",
    "num2 = int(input(\"Enter the second number: \"))\n",
    "num3 = int(input(\"Enter the third number: \"))\n",
    "greatest_num = (num1 if (num1 > num3) else num3) if (num1 > num2) else (num2 if (num2 > num3) else num3)\n",
    "print('The greatest number among three numbers: ', str(greatest_num))"
   ]
  },
  {
   "cell_type": "code",
   "execution_count": 9,
   "id": "71e08a1e-b375-4375-b66f-c816e831f601",
   "metadata": {},
   "outputs": [
    {
     "name": "stdin",
     "output_type": "stream",
     "text": [
      "How old are you? 23\n"
     ]
    },
    {
     "name": "stdout",
     "output_type": "stream",
     "text": [
      "You are eligible to vote.\n"
     ]
    }
   ],
   "source": [
    "age = int(input(\"How old are you?\"))\n",
    "eligible = \"You are eligible to vote.\" if (age >= 18) else \"You are not eligible to vote.\"\n",
    "print(eligible)"
   ]
  },
  {
   "cell_type": "code",
   "execution_count": 12,
   "id": "30b222fb-0d7f-4c1c-9d57-79cfc232780f",
   "metadata": {},
   "outputs": [
    {
     "name": "stdin",
     "output_type": "stream",
     "text": [
      "Enter a year:  24\n"
     ]
    },
    {
     "name": "stdout",
     "output_type": "stream",
     "text": [
      "Leap year\n"
     ]
    }
   ],
   "source": [
    "total = 0;\n",
    "yearCheck = int(input(\"Enter a year: \"))\n",
    "\n",
    "check4 = 1 if (yearCheck % 4 == 0) else 0\n",
    "check100 = -1 if (yearCheck % 100 == 0) else 0\n",
    "check400 = 1 if (yearCheck % 400 == 0) else 0\n",
    "\n",
    "total = check4 + check100 + check400\n",
    "\n",
    "print(\"Leap year\" if(total == 1) else \"Not leap year\")"
   ]
  },
  {
   "cell_type": "code",
   "execution_count": 14,
   "id": "07101424-8593-4fd9-9b40-8a8b66b9e417",
   "metadata": {},
   "outputs": [
    {
     "name": "stdin",
     "output_type": "stream",
     "text": [
      "Enter your first number:  22\n",
      "Enter your second number:  11\n"
     ]
    },
    {
     "name": "stdout",
     "output_type": "stream",
     "text": [
      "22 is greater number\n"
     ]
    }
   ],
   "source": [
    "num1 = int(input('Enter your first number: '))\n",
    "num2 = int(input('Enter your second number: '))\n",
    "print(num1, \"is greater number\") if (num1 > num2) else print(num2, \"is greater number\")"
   ]
  },
  {
   "cell_type": "code",
   "execution_count": 15,
   "id": "a3f280ad-b5be-48db-8586-4843e434db37",
   "metadata": {},
   "outputs": [],
   "source": [
    "# Nested Ternary Operator"
   ]
  },
  {
   "cell_type": "code",
   "execution_count": 16,
   "id": "b734d8af-ae7b-4277-a24e-621306f36b5a",
   "metadata": {},
   "outputs": [
    {
     "name": "stdout",
     "output_type": "stream",
     "text": [
      "num2 > num1\n"
     ]
    }
   ],
   "source": [
    "num1, num2 = 10, 20\n",
    "# Nested ternary operator.\n",
    "num = \"num1 = num2\" if(num1 == num2) else \"num1 > num2\" if(num1 > num2) else \"num2 > num1\"\n",
    "print(num)"
   ]
  },
  {
   "cell_type": "code",
   "execution_count": 17,
   "id": "972e3651-c656-4b38-a74e-246ad87e9177",
   "metadata": {},
   "outputs": [
    {
     "name": "stdout",
     "output_type": "stream",
     "text": [
      "num2 > num1\n"
     ]
    }
   ],
   "source": [
    "num1, num2 = 10, 20\n",
    "# Nested if-else statement.\n",
    "if num1 != num2:\n",
    "    if num1 > num2:\n",
    "        print(\"num1 > num2\")\n",
    "    else:\n",
    "        print(\"num2 > num1\")\n",
    "else:\n",
    "    print(\"num1 = num2\")"
   ]
  },
  {
   "cell_type": "code",
   "execution_count": null,
   "id": "ccfb369b-71af-43e2-9d88-2a49c75e513d",
   "metadata": {},
   "outputs": [],
   "source": []
  }
 ],
 "metadata": {
  "kernelspec": {
   "display_name": "Python 3 (ipykernel)",
   "language": "python",
   "name": "python3"
  },
  "language_info": {
   "codemirror_mode": {
    "name": "ipython",
    "version": 3
   },
   "file_extension": ".py",
   "mimetype": "text/x-python",
   "name": "python",
   "nbconvert_exporter": "python",
   "pygments_lexer": "ipython3",
   "version": "3.11.9"
  }
 },
 "nbformat": 4,
 "nbformat_minor": 5
}
