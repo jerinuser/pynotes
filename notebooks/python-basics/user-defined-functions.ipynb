{
 "cells": [
  {
   "cell_type": "code",
   "execution_count": 1,
   "id": "3842b0ff-7b54-41ea-9158-ac8b6a9fe724",
   "metadata": {},
   "outputs": [],
   "source": [
    "#  created : 20250321"
   ]
  },
  {
   "cell_type": "code",
   "execution_count": 1,
   "id": "5ac1dcb0-7fab-492a-a40e-02b2a30983d2",
   "metadata": {},
   "outputs": [],
   "source": [
    "#  https://www.scientecheasy.com/2022/12/user-defined-functions-in-python.html/"
   ]
  },
  {
   "cell_type": "code",
   "execution_count": 2,
   "id": "57dc1caa-46e6-4156-a37f-9c2d2ef3ee3d",
   "metadata": {},
   "outputs": [],
   "source": [
    "# Syntax of User defined Function"
   ]
  },
  {
   "cell_type": "code",
   "execution_count": 3,
   "id": "8f2cf8dc-aa19-4e98-a43c-19856d14e01e",
   "metadata": {},
   "outputs": [],
   "source": [
    "# def function_name(parameter_list): # function header\n",
    "#     . . . . . .\n",
    "#     body_of_the_function\n",
    "#     . . . . . .\n",
    "#     return <value(s)>\n"
   ]
  },
  {
   "cell_type": "code",
   "execution_count": 4,
   "id": "15bb153a-30f5-407c-b706-9fcaa893f272",
   "metadata": {},
   "outputs": [
    {
     "name": "stdout",
     "output_type": "stream",
     "text": [
      "Hello world!\n",
      "Welcome to the world of the programming!\n"
     ]
    }
   ],
   "source": [
    "# user defined function definition\n",
    "def greeting():\n",
    "    print('Hello world!')\n",
    "    print('Welcome to the world of the programming!')\n",
    "# Function calling.\n",
    "greeting()\n"
   ]
  },
  {
   "cell_type": "code",
   "execution_count": 6,
   "id": "063c8a2d-d75c-4b6a-8740-585db3a83d6b",
   "metadata": {},
   "outputs": [
    {
     "name": "stdout",
     "output_type": "stream",
     "text": [
      "Number 20 is even\n",
      "Number 25 is odd\n"
     ]
    }
   ],
   "source": [
    "# Simple Python function to check even and odd.\n",
    "def evenOdd(x): # function header. x is a local variable.\n",
    "    if x % 2 == 0:\n",
    "        print('Number',x,'is even')\n",
    "    else:\n",
    "        print('Number',x,'is odd')\n",
    "# Calling functions by passing two argument values.\n",
    "evenOdd(20)\n",
    "evenOdd(25)\n"
   ]
  },
  {
   "cell_type": "code",
   "execution_count": 7,
   "id": "ab0852a5-c3f3-4024-a765-0da2e6d84c8d",
   "metadata": {},
   "outputs": [
    {
     "name": "stdout",
     "output_type": "stream",
     "text": [
      "John\n",
      "24\n"
     ]
    }
   ],
   "source": [
    "# Function definition having two parameters, such as name and age.\n",
    "def person(name, age): # Here, name and age are local variables.\n",
    "    print(name)\n",
    "    print(age)\n",
    "person('John', 24)\n"
   ]
  },
  {
   "cell_type": "code",
   "execution_count": 8,
   "id": "e35d1290-5fe5-4dd6-98fe-3e4b1a4984bf",
   "metadata": {},
   "outputs": [
    {
     "name": "stdout",
     "output_type": "stream",
     "text": [
      "Sum of three numbers =  90\n"
     ]
    }
   ],
   "source": [
    "# Function to find the sum of three numbers.\n",
    "def sum_three_numbers(n1, n2, n3): # Here, n1, n2, n3 are local variables.\n",
    "    sum = n1 + n2 + n3  # Here, sum is a local variable.\n",
    "    return sum\n",
    "\n",
    "# Calling a function by passing three argument values.\n",
    "# We will store the returned value into a variable named s.\n",
    "s = sum_three_numbers(20, 30, 40) # Here, s is a global variable.\n",
    "\n",
    "# Displaying the value of s in the console.\n",
    "print('Sum of three numbers = ',s)\n"
   ]
  },
  {
   "cell_type": "code",
   "execution_count": null,
   "id": "2455678f-aa92-4abb-89b7-0513b1e3206e",
   "metadata": {},
   "outputs": [],
   "source": []
  }
 ],
 "metadata": {
  "kernelspec": {
   "display_name": "Python 3 (ipykernel)",
   "language": "python",
   "name": "python3"
  },
  "language_info": {
   "codemirror_mode": {
    "name": "ipython",
    "version": 3
   },
   "file_extension": ".py",
   "mimetype": "text/x-python",
   "name": "python",
   "nbconvert_exporter": "python",
   "pygments_lexer": "ipython3",
   "version": "3.11.9"
  }
 },
 "nbformat": 4,
 "nbformat_minor": 5
}
