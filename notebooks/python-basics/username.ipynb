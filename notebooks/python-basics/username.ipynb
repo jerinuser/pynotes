{
 "cells": [
  {
   "cell_type": "code",
   "execution_count": 9,
   "id": "2339c8ae-bdab-4243-abe2-45360aaa5a70",
   "metadata": {},
   "outputs": [],
   "source": [
    "import re\n"
   ]
  },
  {
   "cell_type": "code",
   "execution_count": 12,
   "id": "6c32a85a-9812-49b1-b112-c307d85dc057",
   "metadata": {},
   "outputs": [
    {
     "name": "stdin",
     "output_type": "stream",
     "text": [
      "Enter usernames separated by commas:  jerin,dass\n"
     ]
    },
    {
     "name": "stdout",
     "output_type": "stream",
     "text": [
      "Username: jerin -> Valid\n",
      "Username: dass -> Valid\n"
     ]
    }
   ],
   "source": [
    "def valid_username(username):\n",
    "    if username[0].isdigit():\n",
    "        return False\n",
    "    if len(username) > 15:\n",
    "        return False\n",
    "    return True\n",
    "\n",
    "usernames_input = input(\"Enter usernames separated by commas: \")\n",
    "\n",
    "usernames = usernames_input.split(',')\n",
    "\n",
    "for username in usernames:\n",
    "    username = username.strip()  \n",
    "    print(f\"Username: {username} -> Valid\")\n"
   ]
  },
  {
   "cell_type": "code",
   "execution_count": null,
   "id": "641c04a6-0e57-4226-a40f-0fc4914c3dc5",
   "metadata": {},
   "outputs": [],
   "source": []
  }
 ],
 "metadata": {
  "kernelspec": {
   "display_name": "Python 3 (ipykernel)",
   "language": "python",
   "name": "python3"
  },
  "language_info": {
   "codemirror_mode": {
    "name": "ipython",
    "version": 3
   },
   "file_extension": ".py",
   "mimetype": "text/x-python",
   "name": "python",
   "nbconvert_exporter": "python",
   "pygments_lexer": "ipython3",
   "version": "3.11.9"
  }
 },
 "nbformat": 4,
 "nbformat_minor": 5
}
