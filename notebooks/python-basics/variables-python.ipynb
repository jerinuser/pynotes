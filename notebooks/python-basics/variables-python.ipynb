{
 "cells": [
  {
   "cell_type": "code",
   "execution_count": 1,
   "id": "3842b0ff-7b54-41ea-9158-ac8b6a9fe724",
   "metadata": {},
   "outputs": [],
   "source": [
    "#  created : 20250112"
   ]
  },
  {
   "cell_type": "code",
   "execution_count": 1,
   "id": "5ac1dcb0-7fab-492a-a40e-02b2a30983d2",
   "metadata": {},
   "outputs": [],
   "source": [
    "#  https://www.scientecheasy.com/2022/09/variables-in-python.html/"
   ]
  },
  {
   "cell_type": "code",
   "execution_count": 2,
   "id": "57dc1caa-46e6-4156-a37f-9c2d2ef3ee3d",
   "metadata": {},
   "outputs": [],
   "source": [
    "#  variables in pyhton \n"
   ]
  },
  {
   "cell_type": "code",
   "execution_count": 3,
   "id": "830f239a-d94f-4f6e-8677-bd2af96aed27",
   "metadata": {},
   "outputs": [
    {
     "name": "stdout",
     "output_type": "stream",
     "text": [
      "8910408\n"
     ]
    }
   ],
   "source": [
    "num = 20\n",
    "print(id(num))"
   ]
  },
  {
   "cell_type": "code",
   "execution_count": 13,
   "id": "e817bdb8-e405-40d7-9050-b3634b040cc7",
   "metadata": {},
   "outputs": [],
   "source": [
    "x = 20 \n",
    "y = 50\n",
    "z = 100"
   ]
  },
  {
   "cell_type": "code",
   "execution_count": 14,
   "id": "e0838f32-e594-4f13-8851-867ff6a7a3a8",
   "metadata": {},
   "outputs": [
    {
     "name": "stdout",
     "output_type": "stream",
     "text": [
      "20\n",
      "50\n",
      "100\n"
     ]
    }
   ],
   "source": [
    "print(x);print(y);print(z)"
   ]
  },
  {
   "cell_type": "code",
   "execution_count": 15,
   "id": "14ebb493-b5e8-4072-b1b1-ecdb9f8cc5d0",
   "metadata": {},
   "outputs": [],
   "source": [
    "phy = 89\n",
    "chem = 86\n",
    "maths = 90\n",
    "\n",
    "marks_obtained = phy + chem + maths\n",
    "\n",
    "mark = (marks_obtained * 100) / 300"
   ]
  },
  {
   "cell_type": "code",
   "execution_count": 16,
   "id": "2d12e265-c59f-487b-86c0-4a2b06365e1c",
   "metadata": {},
   "outputs": [
    {
     "name": "stdout",
     "output_type": "stream",
     "text": [
      "88.33333333333333\n"
     ]
    }
   ],
   "source": [
    "print(mark)"
   ]
  },
  {
   "cell_type": "code",
   "execution_count": 17,
   "id": "7799a542-bca5-4b42-80e3-450f15ff15f1",
   "metadata": {},
   "outputs": [],
   "source": [
    "x = 80 \n",
    "y = 99.99\n",
    "name = 'Radhika'\n"
   ]
  },
  {
   "cell_type": "code",
   "execution_count": 18,
   "id": "eb271b44-af91-41bc-8ef8-aee19562784c",
   "metadata": {},
   "outputs": [
    {
     "name": "stdout",
     "output_type": "stream",
     "text": [
      "80\n",
      "99.99\n",
      "Radhika\n"
     ]
    }
   ],
   "source": [
    "print(x); print(y); print(name);"
   ]
  },
  {
   "cell_type": "code",
   "execution_count": 19,
   "id": "dfbeeded-82dc-43e5-be7a-9bb7654fa26c",
   "metadata": {},
   "outputs": [],
   "source": [
    "radius = 5\n",
    "pi = 3.14\n",
    "perimeter = 2 * pi * radius\n",
    "area = 3.14 * radius * radius"
   ]
  },
  {
   "cell_type": "code",
   "execution_count": 20,
   "id": "b1eb5be5-c727-4ec7-a693-fe56d0609d9c",
   "metadata": {},
   "outputs": [
    {
     "name": "stdout",
     "output_type": "stream",
     "text": [
      "Perimeter of the circle =  31.400000000000002\n",
      "Area of the circle =  78.5\n"
     ]
    }
   ],
   "source": [
    "print(\"Perimeter of the circle = \", perimeter)\n",
    "print(\"Area of the circle = \", area)"
   ]
  },
  {
   "cell_type": "code",
   "execution_count": 21,
   "id": "9d9832b7-bc0e-41c8-8887-c2bf750b8952",
   "metadata": {},
   "outputs": [],
   "source": [
    "#  Multiple Assignment"
   ]
  },
  {
   "cell_type": "code",
   "execution_count": 22,
   "id": "74d506ab-8563-4a03-a971-c007efc3dcdc",
   "metadata": {},
   "outputs": [],
   "source": [
    "x = y = z = 20"
   ]
  },
  {
   "cell_type": "code",
   "execution_count": 23,
   "id": "68866374-b93e-4c38-8a89-ff195066be72",
   "metadata": {},
   "outputs": [
    {
     "name": "stdout",
     "output_type": "stream",
     "text": [
      "8910408\n",
      "8910408\n",
      "8910408\n"
     ]
    }
   ],
   "source": [
    "print(id(x));print(id(y));print(id(z))"
   ]
  },
  {
   "cell_type": "code",
   "execution_count": 24,
   "id": "d2355123-c775-4be9-93a6-5968801c4606",
   "metadata": {},
   "outputs": [],
   "source": [
    "x = 20\n",
    "y = x\n",
    "z = y"
   ]
  },
  {
   "cell_type": "code",
   "execution_count": 25,
   "id": "0a249d2b-8b6d-48dd-96bb-dc1dbc9cdf15",
   "metadata": {},
   "outputs": [
    {
     "name": "stdout",
     "output_type": "stream",
     "text": [
      "8910408\n",
      "8910408\n",
      "8910408\n"
     ]
    }
   ],
   "source": [
    "print(id(x));print(id(y));print(id(z))"
   ]
  },
  {
   "cell_type": "code",
   "execution_count": 26,
   "id": "5c61f413-a6b5-4ddb-98db-2bc866f67802",
   "metadata": {},
   "outputs": [],
   "source": [
    " # Assigning multiple values to multiple variables:\n",
    "\n"
   ]
  },
  {
   "cell_type": "code",
   "execution_count": 27,
   "id": "4b1a1c0c-4a13-49d9-a972-6af674bee8f8",
   "metadata": {},
   "outputs": [],
   "source": [
    "x, y, z = 20, 25.50, 'text'"
   ]
  },
  {
   "cell_type": "code",
   "execution_count": 28,
   "id": "97c16aba-29f3-4748-942f-bdccd127d46e",
   "metadata": {},
   "outputs": [
    {
     "name": "stdout",
     "output_type": "stream",
     "text": [
      "8910408\n",
      "123760071817712\n",
      "8949624\n"
     ]
    }
   ],
   "source": [
    "print(id(x));print(id(y));print(id(z))"
   ]
  },
  {
   "cell_type": "code",
   "execution_count": 29,
   "id": "cfe847ef-dcd1-4eb9-8b57-6d8d3996a012",
   "metadata": {},
   "outputs": [],
   "source": [
    "fruit1, fruit2, fruit3 = \"Banana\", \"Orange\", \"Mango\""
   ]
  },
  {
   "cell_type": "code",
   "execution_count": 32,
   "id": "d9ae7dc2-8c55-485b-bf21-d5dd504a15d8",
   "metadata": {},
   "outputs": [
    {
     "name": "stdout",
     "output_type": "stream",
     "text": [
      "123760050301936\n",
      "123760113181616\n",
      "Mango\n"
     ]
    }
   ],
   "source": [
    "print(id(fruit1));print(id(fruit2));print(fruit3)"
   ]
  },
  {
   "cell_type": "code",
   "execution_count": 33,
   "id": "ce767677-c9b3-4c6f-9ffb-40ef5988d15f",
   "metadata": {},
   "outputs": [
    {
     "name": "stdout",
     "output_type": "stream",
     "text": [
      "<class 'str'>\n"
     ]
    }
   ],
   "source": [
    "print(type(fruit1))"
   ]
  },
  {
   "cell_type": "code",
   "execution_count": null,
   "id": "db0edfa5-ead3-4913-8b20-66a8d0bdc792",
   "metadata": {},
   "outputs": [],
   "source": []
  }
 ],
 "metadata": {
  "kernelspec": {
   "display_name": "Python 3 (ipykernel)",
   "language": "python",
   "name": "python3"
  },
  "language_info": {
   "codemirror_mode": {
    "name": "ipython",
    "version": 3
   },
   "file_extension": ".py",
   "mimetype": "text/x-python",
   "name": "python",
   "nbconvert_exporter": "python",
   "pygments_lexer": "ipython3",
   "version": "3.11.9"
  }
 },
 "nbformat": 4,
 "nbformat_minor": 5
}
