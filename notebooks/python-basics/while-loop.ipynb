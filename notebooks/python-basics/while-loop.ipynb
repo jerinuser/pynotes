{
 "cells": [
  {
   "cell_type": "code",
   "execution_count": 1,
   "id": "3842b0ff-7b54-41ea-9158-ac8b6a9fe724",
   "metadata": {},
   "outputs": [],
   "source": [
    "#  created : 20250125"
   ]
  },
  {
   "cell_type": "code",
   "execution_count": 1,
   "id": "5ac1dcb0-7fab-492a-a40e-02b2a30983d2",
   "metadata": {},
   "outputs": [],
   "source": [
    "#  https://www.scientecheasy.com/2022/10/while-loop-in-python.html/"
   ]
  },
  {
   "cell_type": "code",
   "execution_count": 2,
   "id": "57dc1caa-46e6-4156-a37f-9c2d2ef3ee3d",
   "metadata": {},
   "outputs": [
    {
     "name": "stdout",
     "output_type": "stream",
     "text": [
      "Hello Python\n",
      "Hello Python\n",
      "Hello Python\n",
      "Hello Python\n",
      "Hello Python\n",
      "Loop finished.\n"
     ]
    }
   ],
   "source": [
    "count = 0\n",
    "# Declare the while loop statement.\n",
    "# Loop continuation condition expression that must ends with a colon (:).\n",
    "while count < 5:\n",
    "# Body of the loop.\n",
    "    print('Hello Python') # This statement will execute as long as the condition is true.\n",
    "    count += 1 # It counts the number of executions, and increments count by 1.\n",
    "print('Loop finished.')"
   ]
  },
  {
   "cell_type": "code",
   "execution_count": 3,
   "id": "18180f71-d37e-48fe-bc91-d36ea1ed3841",
   "metadata": {},
   "outputs": [
    {
     "name": "stdout",
     "output_type": "stream",
     "text": [
      "Current value of i is  1\n",
      "Current value of i is  2\n",
      "Current value of i is  3\n",
      "Current value of i is  4\n",
      "Current value of i is  5\n"
     ]
    }
   ],
   "source": [
    "i = 1 # Initialization.\n",
    "while i <= 5:\n",
    "    print('Current value of i is ',i)\n",
    "    i = i + 1"
   ]
  },
  {
   "cell_type": "code",
   "execution_count": 4,
   "id": "456dd40a-4970-4df8-aa71-b02416159feb",
   "metadata": {},
   "outputs": [
    {
     "name": "stdin",
     "output_type": "stream",
     "text": [
      "Enter your name:  2\n"
     ]
    },
    {
     "name": "stdout",
     "output_type": "stream",
     "text": [
      "2\n",
      "2\n",
      "2\n",
      "2\n",
      "2\n"
     ]
    }
   ],
   "source": [
    "i = 0 # Initialization.\n",
    "name = input('Enter your name: ')\n",
    "while i < 5:\n",
    "    print(name)\n",
    "    i = i + 1"
   ]
  },
  {
   "cell_type": "code",
   "execution_count": 5,
   "id": "9d87b209-35fc-4479-ade6-d1c60a1666c9",
   "metadata": {},
   "outputs": [
    {
     "name": "stdout",
     "output_type": "stream",
     "text": [
      "5\n",
      "4\n",
      "3\n",
      "2\n",
      "1\n",
      "Loop finished\n"
     ]
    }
   ],
   "source": [
    "i = 5 # Initialization.\n",
    "while i >= 1:\n",
    "    print(i)\n",
    "    i = i - 1 \n",
    "print('Loop finished')"
   ]
  },
  {
   "cell_type": "code",
   "execution_count": 6,
   "id": "0b7815f6-f2e9-43e9-b635-fa02ba829ece",
   "metadata": {},
   "outputs": [
    {
     "name": "stdin",
     "output_type": "stream",
     "text": [
      "Enter a number up to which you want to calculate average:  30\n"
     ]
    },
    {
     "name": "stdout",
     "output_type": "stream",
     "text": [
      "Average of 30 natural numbers =  15.5\n"
     ]
    }
   ],
   "source": [
    "num = int(input('Enter a number up to which you want to calculate average: '))\n",
    "i = 0\n",
    "sum = 0\n",
    "count = 0 # Initialization.\n",
    "while i < num:\n",
    "    i = i + 1 # Increment by 1.\n",
    "    sum = sum + i\n",
    "    count = count + 1\n",
    "average = sum / count\n",
    "print('Average of', num,'natural numbers = ', average)"
   ]
  },
  {
   "cell_type": "code",
   "execution_count": 7,
   "id": "af55a2bf-9389-411c-a2d1-662f6de183da",
   "metadata": {},
   "outputs": [
    {
     "name": "stdout",
     "output_type": "stream",
     "text": [
      "Sum of 10 natural numbers =  55\n"
     ]
    }
   ],
   "source": [
    "sum = 0\n",
    "count = 0 # Initialization.\n",
    "while count <= 10:\n",
    "    sum = sum + count\n",
    "    count = count + 1\n",
    "print('Sum of 10 natural numbers = ', sum)"
   ]
  },
  {
   "cell_type": "code",
   "execution_count": null,
   "id": "b1a5e702-32d1-4ffd-9aca-849e12a216e6",
   "metadata": {},
   "outputs": [],
   "source": []
  }
 ],
 "metadata": {
  "kernelspec": {
   "display_name": "Python 3 (ipykernel)",
   "language": "python",
   "name": "python3"
  },
  "language_info": {
   "codemirror_mode": {
    "name": "ipython",
    "version": 3
   },
   "file_extension": ".py",
   "mimetype": "text/x-python",
   "name": "python",
   "nbconvert_exporter": "python",
   "pygments_lexer": "ipython3",
   "version": "3.11.9"
  }
 },
 "nbformat": 4,
 "nbformat_minor": 5
}
